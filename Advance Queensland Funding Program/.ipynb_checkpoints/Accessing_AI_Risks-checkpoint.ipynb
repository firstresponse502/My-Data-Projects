{
 "cells": [
  {
   "cell_type": "code",
   "execution_count": 2,
   "id": "4fd8a57f-7745-4d19-b548-71ec392bdf72",
   "metadata": {},
   "outputs": [],
   "source": [
    "#import required libraries\n",
    "import requests\n",
    "import json\n",
    "import re\n",
    "import time"
   ]
  },
  {
   "cell_type": "code",
   "execution_count": 3,
   "id": "cff57371-a381-443c-bcf0-a86ed1eeb777",
   "metadata": {},
   "outputs": [
    {
     "data": {
      "text/plain": [
       "36"
      ]
     },
     "execution_count": 3,
     "metadata": {},
     "output_type": "execute_result"
    }
   ],
   "source": [
    "#load your personal API key\n",
    "with open('private_key/guardian_key.txt', 'r') as file:\n",
    "    key = file.read().strip()\n",
    "len(key)"
   ]
  },
  {
   "cell_type": "code",
   "execution_count": 4,
   "id": "546eedae-6a7a-45df-8c55-e5ea5ad28640",
   "metadata": {},
   "outputs": [
    {
     "name": "stdout",
     "output_type": "stream",
     "text": [
      "https://content.guardianapis.com/search?q=(ChatGPT OR AI) AND Risks AND Society&from-date=2023-12-01&show-fields=body&ap\n"
     ]
    }
   ],
   "source": [
    " #build a search URL\n",
    "base_url = 'https://content.guardianapis.com/'\n",
    "search_string = \"(ChatGPT OR AI) AND Risks AND Society\"\n",
    "#production_office = \"aus\"\n",
    "from_date = \"2023-12-01\"\n",
    "#to_date = \"2023-12-31\"\n",
    "#full_url = base_url+f\"search?q={search_string}&from-date={from_date}&to-date={to_date}&show-fields=body&api-key={key}\"\n",
    "full_url = base_url+f\"search?q={search_string}&from-date={from_date}&show-fields=body&api-key={key}\"\n",
    "#url = baseUrl+'\"'+searchString+'\"'+'&production-office='+production_office+'&from-date='+fromDate+'&api-key='+key\n",
    "print(full_url[:120])"
   ]
  },
  {
   "cell_type": "code",
   "execution_count": 5,
   "id": "ae481761-ac7a-40e4-a09f-6a18b4b5700e",
   "metadata": {},
   "outputs": [
    {
     "name": "stdout",
     "output_type": "stream",
     "text": [
      "SUCCESS!\n",
      "49 results found available in 5 pages\n",
      "10 results per page\n"
     ]
    }
   ],
   "source": [
    "# get data from server\n",
    "server_response = requests.get(full_url)\n",
    "server_data = server_response.json()\n",
    "resp_data = server_data.get('response','')\n",
    "if resp_data == '':\n",
    "    print(\"ERROR obtaining results:\",server_data)\n",
    "else:\n",
    "    print(\"SUCCESS!\")\n",
    "    print(f\"{resp_data['total']} results found available in {resp_data['pages']} pages\")\n",
    "    print(f\"{resp_data['pageSize']} results per page\")\n",
    "    results = resp_data.get('results',[])"
   ]
  },
  {
   "cell_type": "code",
   "execution_count": 6,
   "id": "eb5957f4-92e4-413b-8df9-458bbc4cf20e",
   "metadata": {},
   "outputs": [
    {
     "data": {
      "text/plain": [
       "{'id': 'technology/2024/apr/11/uk-has-real-concerns-about-ai-risks-says-competition-regulator',\n",
       " 'type': 'article',\n",
       " 'sectionId': 'technology',\n",
       " 'sectionName': 'Technology',\n",
       " 'webPublicationDate': '2024-04-11T14:57:28Z',\n",
       " 'webTitle': 'UK has real concerns about AI risks, says competition regulator',\n",
       " 'webUrl': 'https://www.theguardian.com/technology/2024/apr/11/uk-has-real-concerns-about-ai-risks-says-competition-regulator',\n",
       " 'apiUrl': 'https://content.guardianapis.com/technology/2024/apr/11/uk-has-real-concerns-about-ai-risks-says-competition-regulator',\n",
       " 'fields': {'body': '<p>Just six major technology companies are at the heart of the AI sector through an “interconnected web” of more than 90 investments and partnerships links, the UK’s competition regulator has warned, sparking increased concern about the anti-competitive nature of the technology.</p> <p>Sarah Cardell, the chief executive of the Competition and Markets Authority, said AI foundation models – general-purpose AI systems such as OpenAI’s GPT-4 and Google’s Gemini, on which consumer and business products are frequently built – were a potential “paradigm shift” for society.</p> <p>Speaking in Washington, she added that the immense concentration of power they represented would give a small number of companies “the ability and incentives to shape these markets in their own interests”.</p> <p>“When we started this work, we were curious. Now, with a deeper understanding and having watched developments very closely, we have real concerns,” Cardell said.</p> <p>“The essential challenge we face is how to harness this immensely exciting technology for the benefit of all, while safeguarding against potential exploitation of market power and unintended consequences. We’re committed to applying the principles we have developed, and to using all legal powers at our disposal, now and in the future, to ensure that this transformational and structurally critical technology delivers on its promise.”</p> <p>The six identified by the CMA are Google, Microsoft, Meta, Amazon, Apple and Nvidia, the leading supplier of chips for training and using AI. Their involvement in more than 90 partnerships and investments, the CMA said, could limit diversity and choice in the market.</p> <p>The “winner takes all” dynamics of digital markets led to the dominance of a few powerful platforms, Cardell said, and she was “determined to apply the lessons of history” to prevent the same thing from happening again.</p> <p>Highlighting three “interlinked” risks, Cardell said that competition in the AI sector could be harmed by companies that control critical inputs, from data to chips, restricting access to shield themselves from competition; companies using their market power to distort choice in AI services; and partnerships between key players exacerbating concentrations of market power.</p> <p>The CMA first announced its plans to investigate the market in AI foundation models <a href=\"https://www.theguardian.com/technology/2023/may/04/uk-and-us-intervene-amid-ai-industrys-rapid-advances\">in May 2023</a>. The initial review, <a href=\"https://www.theguardian.com/technology/2023/sep/18/ai-uk-competition-watchdog-cma\">published in September</a>, found that people should not expect the technology to have a positive outcome in the world at large.</p> <p>“We can’t take a positive future for granted,” Cardell said at the time. “There remains a real risk that the use of AI develops in a way that undermines consumer trust or is dominated by a few players who exert market power that prevents the full benefits being felt across the economy.”</p> <p>The news came as AI regulators around the world prepare for a mini-summit in Korea, to build on the AI safety summit held in the UK in November 2023 and prepare for the full second session in Paris, expected later this year.</p>'},\n",
       " 'isHosted': False,\n",
       " 'pillarId': 'pillar/news',\n",
       " 'pillarName': 'News'}"
      ]
     },
     "execution_count": 6,
     "metadata": {},
     "output_type": "execute_result"
    }
   ],
   "source": [
    "results[0]"
   ]
  },
  {
   "cell_type": "code",
   "execution_count": 7,
   "id": "da2b4a7d-38d1-4c9d-8951-e754372e45d3",
   "metadata": {},
   "outputs": [
    {
     "data": {
      "text/plain": [
       "5"
      ]
     },
     "execution_count": 7,
     "metadata": {},
     "output_type": "execute_result"
    }
   ],
   "source": [
    "num_pages = resp_data['pages']\n",
    "num_pages"
   ]
  },
  {
   "cell_type": "code",
   "execution_count": 8,
   "id": "b39e5b82-1b78-4fb7-b34a-ca10433b0662",
   "metadata": {},
   "outputs": [],
   "source": [
    "def articles_from_page_results(page_results):\n",
    "    articles = {}\n",
    "    for result in page_results:\n",
    "        article_date = result['webPublicationDate']\n",
    "        article_title = result['webTitle']+f\" [{article_date}]\"\n",
    "        article_html = result['fields']['body']\n",
    "        article_text = re.sub(r'<.*?>','',article_html)\n",
    "        articles[article_title] = article_text\n",
    "    return articles"
   ]
  },
  {
   "cell_type": "code",
   "execution_count": 9,
   "id": "fd71e445-ead1-456f-91f2-742881177b27",
   "metadata": {},
   "outputs": [],
   "source": [
    "def get_all_articles_for_response(response_json,full_url):\n",
    "    total_pages = response_json['pages']\n",
    "    total_articles = response_json['total']\n",
    "    print(f\"Fetching {total_articles} articles from {total_pages} pages...\")\n",
    "    all_articles = {}\n",
    "    page1_articles = articles_from_page_results(response_json['results'])\n",
    "    all_articles.update(page1_articles)\n",
    "    print(\"Added articles for page: 1\")\n",
    "    \n",
    "    for page in range(2,total_pages+1):\n",
    "        print(\"Getting articles from API for page:\",page)\n",
    "        page_response = requests.get(full_url+f\"&page={page}\")\n",
    "        page_data = page_response.json()['response']\n",
    "        print(\"Processing results for page:\",page_data['currentPage'])\n",
    "        page_articles = articles_from_page_results(page_data['results'])\n",
    "        print(f\"Fetched {len(page_articles)} articles.\")\n",
    "        all_articles.update(page_articles)\n",
    "        print(\"Added articles for page:\",page)\n",
    "        print(f\"Status: {len(all_articles)} articles.\")\n",
    "        time.sleep(1) # make sure we're not hitting the API to hard\n",
    "    \n",
    "    print(f\"FINISHED: Fetched {len(all_articles)} articles.\")\n",
    "    return all_articles"
   ]
  },
  {
   "cell_type": "code",
   "execution_count": 10,
   "id": "c45e7c7c-7c5d-4df4-9f36-87fcc418bb6b",
   "metadata": {},
   "outputs": [
    {
     "name": "stdout",
     "output_type": "stream",
     "text": [
      "Fetching 49 articles from 5 pages...\n",
      "Added articles for page: 1\n",
      "Getting articles from API for page: 2\n",
      "Processing results for page: 2\n",
      "Fetched 10 articles.\n",
      "Added articles for page: 2\n",
      "Status: 20 articles.\n",
      "Getting articles from API for page: 3\n",
      "Processing results for page: 3\n",
      "Fetched 10 articles.\n",
      "Added articles for page: 3\n",
      "Status: 30 articles.\n",
      "Getting articles from API for page: 4\n",
      "Processing results for page: 4\n",
      "Fetched 10 articles.\n",
      "Added articles for page: 4\n",
      "Status: 40 articles.\n",
      "Getting articles from API for page: 5\n",
      "Processing results for page: 5\n",
      "Fetched 9 articles.\n",
      "Added articles for page: 5\n",
      "Status: 49 articles.\n",
      "FINISHED: Fetched 49 articles.\n"
     ]
    }
   ],
   "source": [
    "my_articles = get_all_articles_for_response(resp_data,full_url)"
   ]
  },
  {
   "cell_type": "code",
   "execution_count": 11,
   "id": "6d83c55b-ab77-4813-b1d3-0d05ebf3dc46",
   "metadata": {},
   "outputs": [
    {
     "name": "stdout",
     "output_type": "stream",
     "text": [
      "Total Articles: 49\n",
      "UK has real concerns about AI risks, says competition regulator [2024-04-11T14:57:28Z]\n",
      "Seoul summit showcases UK’s progress on trying to make advanced AI safe  [2024-05-22T22:49:10Z]\n",
      "Canada lawyer under fire for submitting fake cases created by AI chatbot [2024-02-29T20:10:03Z]\n",
      "Don’t wait for Post Office-style scandal before regulating AI, ministers told [2024-02-06T00:01:46Z]\n",
      "TechScape: Why is the UK so slow to regulate AI? [2024-02-06T11:53:22Z]\n",
      "Is AI lying to me? Scientists warn of growing capacity for deception [2024-05-10T15:00:21Z]\n",
      "AI-driven misinformation ‘biggest short-term threat to global economy’ [2024-01-10T09:52:18Z]\n",
      "AI could be an extraordinary force for good. So why do our politicians still not have a plan? | Gaby Hinsliff [2024-03-08T06:00:44Z]\n",
      "The Guardian view on the AI conundrum: what it means to be human is elusive | Editorial [2023-12-29T18:00:10Z]\n",
      "AI doctors and chatbot nurses? Labour must show the future of the NHS isn’t so dystopian | Jeni Tennison [2024-02-07T10:00:12Z]\n",
      "Europe has made a great leap forward in regulating AI. Now the rest of the world must step up | David Evan Harris [2023-12-13T12:28:33Z]\n",
      "Monday briefing: How the world is (or isn’t) trying to rein in the wild west of artificial intelligence [2024-03-11T06:48:24Z]\n",
      "EU agrees tough limits on police use of AI biometric surveillance [2023-12-11T20:09:00Z]\n",
      " The 10 biggest science stories of 2023 – chosen by scientists [2023-12-23T16:00:29Z]\n",
      "Learn this from the Rochdale debacle: society faces peril when smart people believe dumb things | Gaby Hinsliff [2024-02-16T06:00:37Z]\n",
      "‘Elevated’ risk of hackers targeting UK drinking water, says credit agency [2024-02-04T14:19:48Z]\n",
      "Joe Biden declares America’s economy ‘is the strongest in the world’ after jobs report smashes forecasts – as it happened [2024-02-02T16:56:09Z]\n",
      "We don’t want UK drivers in a permanent police lineup, but AI can stop serious crime | Asress Adimi Gikay [2023-12-24T07:00:47Z]\n",
      "EU calls on tech firms to outline plans to tackle deepfakes amid election fears [2024-03-14T14:46:51Z]\n",
      "Call for action on deepfakes as fears grow among MPs over election threat [2024-01-21T10:00:25Z]\n",
      "The Guardian view on online child protection: the web needs more health and safety | Editorial [2024-01-28T17:07:28Z]\n",
      "Brexit car tariffs to be suspended for three years as EU protects car exports – as it happened [2023-12-06T15:02:54Z]\n",
      "Davos day three: Hunt says West must talk to China over AI; Red Sea disruption hitting global trade growth, WTO warns – as it happened [2024-01-18T16:24:17Z]\n",
      "UK regulator examining Microsoft’s OpenAI ties; two-year mortgage rates lowest since June – as it happened [2023-12-08T15:02:07Z]\n",
      "PM says Dutton yet to detail ‘a single costed policy’ in three budget replies – as it happened [2024-05-20T07:57:58Z]\n",
      "Wall Street at record high after US inflation falls to 3.4%; takeover offer for Royal Mail raised – as it happened [2024-05-15T15:15:16Z]\n",
      "CBI chief warns against ‘large scale tax cuts driven by short-termism’; BoE’s Mann warns of ‘pernicious’ inflation – as it happened [2024-02-08T15:40:37Z]\n",
      "Westpac cops $9.8m penalty from Asic over ‘unconscionable conduct’ in Ausgrid trading case – as it happened [2024-01-31T06:51:42Z]\n",
      "Davos day two: Argentina’s Milei claims the western world is in danger from socialism – as it happened [2024-01-17T17:49:54Z]\n",
      "Documents linking associates to Jeffrey Epstein unsealed | First Thing [2024-01-04T11:05:46Z]\n",
      "PM stands by response to naval incident – as it happened [2024-01-17T07:11:45Z]\n",
      "Aged care report released – as it happened [2024-03-12T07:30:35Z]\n",
      "PM promises ‘Labor party budget through and through’ – as it happened [2024-05-13T07:49:04Z]\n",
      "Monday briefing: Why is Arts Council England clamping down on political statements? [2024-02-19T06:40:44Z]\n",
      "Stage set for national cabinet clash over GST – as it happened [2023-12-01T06:26:17Z]\n",
      "Jeremy Hunt ‘to cut national insurance and freeze fuel duty’ in budget; bitcoin hits record high over $69,000 – as it happened [2024-03-05T16:24:28Z]\n",
      "Further Israel-Hamas truce talks ‘reach dead end’ – as it happened [2023-12-03T03:29:16Z]\n",
      "Queensland introduces carbon target bill; Tasmanian premier calls election – as it happened [2024-02-14T05:45:08Z]\n",
      "Peyote is the darling of the psychedelics renaissance. Indigenous users say it co-opts ‘a sacred way of life’ [2023-12-19T22:52:10Z]\n",
      "UK house prices fall 1.8% in 2023, as FTSE 100 ends year up 3.8% – as it happened [2023-12-29T16:00:28Z]\n",
      "Hastie’s defence comments ‘unhinged and misleading’, Conroy says – as it happened [2024-02-20T07:18:38Z]\n",
      "China’s credit outlook cut to negative; Rupert Soames named CBI president; trading outages in London – as it happened [2023-12-05T16:01:24Z]\n",
      "Dutton delivers federal budget reply speech – as it happened [2024-05-16T10:54:54Z]\n",
      "Australia urges Israel and Iran to avoid ‘spiral of violence’; Dfat issues Middle East travel advice – as it happened [2024-04-19T08:04:59Z]\n",
      "Lawyers granted more time to consider appeal – as it happened [2024-05-01T07:51:25Z]\n",
      "Littleproud says planned renewables rollout ‘pure insanity’; RBA governor quizzed – as it happened  [2024-02-06T07:13:31Z]\n",
      "PM defends response to ICC arrest warrant request – as it happened [2024-05-23T08:26:49Z]\n",
      "Israeli airstrikes hit near Damascus, says Syria – as it happened [2023-12-02T05:16:58Z]\n",
      "Final question time of the year – as it happened [2023-12-07T07:35:49Z]\n"
     ]
    }
   ],
   "source": [
    "print(\"Total Articles:\",len(my_articles))\n",
    "for title,text in my_articles.items():\n",
    "    print(title)"
   ]
  },
  {
   "cell_type": "code",
   "execution_count": 12,
   "id": "d7a92031-3dc4-4eac-9a97-972e863374d5",
   "metadata": {},
   "outputs": [],
   "source": [
    "file_path = \"data/\"\n",
    "file_name = \"AI risks to society.json\"\n",
    "\n",
    "with open(f\"{file_path}{file_name}\",'w', encoding='utf-8') as fp:\n",
    "    fp.write(json.dumps(my_articles))"
   ]
  },
  {
   "cell_type": "code",
   "execution_count": null,
   "id": "5157670d-0ce0-432a-859a-38594eb09c72",
   "metadata": {},
   "outputs": [],
   "source": []
  }
 ],
 "metadata": {
  "kernelspec": {
   "display_name": "Python 3 (ipykernel)",
   "language": "python",
   "name": "python3"
  },
  "language_info": {
   "codemirror_mode": {
    "name": "ipython",
    "version": 3
   },
   "file_extension": ".py",
   "mimetype": "text/x-python",
   "name": "python",
   "nbconvert_exporter": "python",
   "pygments_lexer": "ipython3",
   "version": "3.10.13"
  }
 },
 "nbformat": 4,
 "nbformat_minor": 5
}
