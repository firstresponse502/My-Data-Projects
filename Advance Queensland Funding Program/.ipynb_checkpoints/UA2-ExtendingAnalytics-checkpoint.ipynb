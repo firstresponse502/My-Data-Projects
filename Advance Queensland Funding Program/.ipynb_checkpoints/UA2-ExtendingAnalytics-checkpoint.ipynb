{
 "cells": [
  {
   "attachments": {},
   "cell_type": "markdown",
   "id": "6ef62cbd-2ea0-442e-973e-e50ca1e97fa2",
   "metadata": {
    "cell_name": "header_cell"
   },
   "source": [
    "# <div style=\"background:#FFFFEE; color:#440404; padding:8px; border-radius: 4px; text-align: center; font-weight: 500;\">IFN619 - Data Analytics for Strategic Decision Makers (2024 Sem 1)</div>"
   ]
  },
  {
   "attachments": {},
   "cell_type": "markdown",
   "id": "ff597d6e-cdac-4d1a-b657-f6d756380ae3",
   "metadata": {
    "cell_name": "title_cell"
   },
   "source": [
    "# IFN619 :: UA2 - Extending Analytics (40%)\n",
    "\n",
    "**IMPORTANT:** Refer to the instructions in Canvas [UA2 - Assignment 2 - extending analytics](https://canvas.qut.edu.au/courses/17432/assignments/163774) *BEFORE* working on this assignment.\n",
    "\n",
    "#### REQUIREMENTS ####\n",
    "\n",
    "1. Complete and run the code cell below to display your name, student number, and assignment option\n",
    "2. Identify an appropriate question (or questions) to be addressed by your overall data analytics narrative\n",
    "3. Extend your analysis in assignment 1 with:\n",
    "    - the analysis of additional unstructured data using the Guardian API (See accessing the Guardian API notebook),\n",
    "    - the use of one machine learning technique (as used in the class materials), and\n",
    "    - identification of ethical considerations relevant to the analysis (by drawing on class materials).\n",
    "4. Ensure that you include documentation of your thinking and decision-making using markdown cells\n",
    "5. Ensure that you include appropriate visualisations, and that they support the overall narrative\n",
    "6. Ensure that your insights answer your question/s and are appropriate to your narrative. \n",
    "7. Ensure that your insights are consistent with the ethical considerations identified.\n",
    "\n",
    "**NOTE:** you should not repeat the analysis from assignment 1, but you may need to save dataframes from assignment 1 and reload for use in this assignment. You may also summarise your assignment 1 insights as part of the process of identifying questions for analysis.\n",
    "\n",
    "#### SUBMISSION ####\n",
    "\n",
    "1. Create an assignment 2 folder named in the form **UA2-surname-idnumber** and put your notebook and any data files inside this folder. Note, do not put large training data in this folder (reference any training data that you used but keep it outside this folder), only keep small data files and models in this folder with your notebook.\n",
    "2. When you have everything in the correct folder, reset all cells and restart the kernel, then run the notebook completely, checking that all cells have run without error. If you encounter errors, fix your notebook and re-run the process. It is important that your notebook runs without errors only requiring the files in the folder that you have created.\n",
    "3. When the notebook is error free, zip the entire folder (you can select download folder in Jupyter).\n",
    "4. Submit the zipped folder on Canvas [UA2 - Assignment 2 - extending analytics](https://canvas.qut.edu.au/courses/17432/assignments/163774)\n"
   ]
  },
  {
   "cell_type": "code",
   "execution_count": 51,
   "id": "763f6f63",
   "metadata": {},
   "outputs": [
    {
     "data": {
      "text/html": [
       "<h1>Adnan Chowdhry (11869828)</h1>"
      ],
      "text/plain": [
       "<IPython.core.display.HTML object>"
      ]
     },
     "execution_count": 51,
     "metadata": {},
     "output_type": "execute_result"
    }
   ],
   "source": [
    "# Complete the following cell with your details and run to produce your personalised header for this assignment\n",
    "\n",
    "from IPython.display import HTML\n",
    "\n",
    "# personal detail\n",
    "first_name = \"Adnan\"\n",
    "last_name = \"Chowdhry\"\n",
    "student_number = 11869828\n",
    "\n",
    "personal_header = f\"<h1>{first_name} {last_name} ({student_number})</h1>\"\n",
    "HTML(personal_header)"
   ]
  },
  {
   "attachments": {},
   "cell_type": "markdown",
   "id": "24fbcf4f",
   "metadata": {},
   "source": [
    "---\n"
   ]
  },
  {
   "cell_type": "markdown",
   "id": "6b31d63d-aa89-4329-9594-5cc3c28d172a",
   "metadata": {},
   "source": [
    "## CONTEXT\n",
    "In Assignment 1, I established that there is an imbalance in Advance Queensland funds distribution between SEQ and non-SEQ regions. However, this imbalance is not due to population differences or a bias towards SEQ recipients. Instead, it fulfills the clear objective of promoting science, technology, and innovation initiatives. It is merely a coincidence that the majority of significant amounts are awarded to SEQ clients. Additionally, I found that the overall committed amounts have declined from 2019 to 2023. One reason for this decline could be that, after funding notable and worthy clients throughout the state, proposals for less impactful projects are now being submitted. This indicates that Advance Queensland needs to take the lead and collaborate with public and private sector organizations to initiate projects that require urgent attention.\n",
    "\n",
    "\n",
    "## INTRODUCTION\n",
    "In 2020, the funding commitment of $5 million to AI Consortium Pty Ltd for the AI Hub seemed appropriate and future-oriented. However, from then until 2023, no further monetary investments have been made in the broad AI domain except some specific projects such as in health or mininng. This suggests an underestimation of AI's potential to transform the future of technology. The lack of funding to either support the positive aspects or mitigate the negatives of AI is particularly concerning given the arrival of Generative AI applications such as ChatGPT in 2023, which have sparked intense debates about the risks for users and regulators. The focus of my analysis is to give a glance how the world is reacting to this technology and what are the risks this AI technology poses to the society.\n",
    "\n"
   ]
  },
  {
   "cell_type": "markdown",
   "id": "fc619991-7e52-4efb-8fb2-dff1aefe3612",
   "metadata": {},
   "source": [
    "## QUESTION 1: \n",
    "What projects in the domain of AI has Advance Queensland funded, and which of them have the potential to address its broader challenges?"
   ]
  },
  {
   "cell_type": "code",
   "execution_count": 52,
   "id": "6ffbffb6-3f62-42a3-a767-5a12e9a3f8ac",
   "metadata": {},
   "outputs": [],
   "source": [
    "# Import the necessary libraries\n",
    "from sklearn.feature_extraction.text import TfidfVectorizer, CountVectorizer\n",
    "from sklearn.decomposition import LatentDirichletAllocation, NMF\n",
    "import pandas as pd\n",
    "import json\n",
    "import random\n",
    "import plotly.express as px\n",
    "from sklearn.cluster import KMeans\n",
    "import numpy as np"
   ]
  },
  {
   "cell_type": "markdown",
   "id": "3cee8965-233c-431b-a8fd-666f38840276",
   "metadata": {},
   "source": [
    "## ADVANCE QLD FUNDING RECIPIENTS DATA"
   ]
  },
  {
   "cell_type": "code",
   "execution_count": 53,
   "id": "28db30fd-f65c-419e-91f4-7df94d9fd70f",
   "metadata": {},
   "outputs": [],
   "source": [
    "# open a CSV file into a new dataframe from a url\n",
    "funding_recipients_data = \"https://www.data.qld.gov.au/dataset/db190f2d-f866-4811-9a6e-4b78744b551b/resource/0f97b985-f5c7-49d2-8b0a-bc5dfbe070b9/download/advance-queensland-funding-recipients.csv\"\n",
    "\n",
    "df = pd.read_csv(funding_recipients_data, encoding='latin 1')\n"
   ]
  },
  {
   "cell_type": "markdown",
   "id": "c22b1e04-4df7-431a-9822-8183bbd61d54",
   "metadata": {},
   "source": [
    "## Ethical Considerations in Data Access and Use:\n",
    "The Advance Queensland funding recipients data is freely available for sharing and adaptation without the need for anonymization."
   ]
  },
  {
   "cell_type": "markdown",
   "id": "e9e3227c-7cb3-4b48-b6b0-81e2433fa4dd",
   "metadata": {},
   "source": [
    "In this step, I will remove the inconsistencies from \"Actual Contractual Commitment\" column and convert it to data type float which would allow me to use it in my analysis."
   ]
  },
  {
   "cell_type": "code",
   "execution_count": 54,
   "id": "1e2f7736-4c59-47cf-849f-cb2437174ae2",
   "metadata": {},
   "outputs": [],
   "source": [
    "# Chat gpt helped me with the loop used in this code\n",
    "# to get the aggregate of the column 'Actual Contractual Commitment ($)' we need to remove the inconsistencies and convert it to float\n",
    "\n",
    "# Loop through each value in the 'amount' column\n",
    "for idx, value in enumerate(df['Actual Contractual Commitment ($)']):\n",
    "    # Check if value contains a comma\n",
    "    if ',' in value:\n",
    "        # Replace comma with empty string\n",
    "        df.loc[idx, 'Actual Contractual Commitment ($)'] = value.replace(',', '')\n",
    "\n",
    "# Convert column to float\n",
    "df['Actual Contractual Commitment ($)'] = df['Actual Contractual Commitment ($)'].astype(float)"
   ]
  },
  {
   "cell_type": "code",
   "execution_count": 55,
   "id": "803d35e4-20d4-4f54-b8c2-a4dea08b2eec",
   "metadata": {},
   "outputs": [
    {
     "data": {
      "text/html": [
       "<div>\n",
       "<style scoped>\n",
       "    .dataframe tbody tr th:only-of-type {\n",
       "        vertical-align: middle;\n",
       "    }\n",
       "\n",
       "    .dataframe tbody tr th {\n",
       "        vertical-align: top;\n",
       "    }\n",
       "\n",
       "    .dataframe thead th {\n",
       "        text-align: right;\n",
       "    }\n",
       "</style>\n",
       "<table border=\"1\" class=\"dataframe\">\n",
       "  <thead>\n",
       "    <tr style=\"text-align: right;\">\n",
       "      <th></th>\n",
       "      <th>Program</th>\n",
       "      <th>Round</th>\n",
       "      <th>Recipient Name</th>\n",
       "      <th>Physical Address of Recipient - Suburb/Location</th>\n",
       "      <th>Physical Address of Recipient - Post Code</th>\n",
       "      <th>University Collaborator (if applicable)</th>\n",
       "      <th>Other Partners; Collaborators (if applicable)</th>\n",
       "      <th>Investment/Project Title</th>\n",
       "      <th>Primary Location of Activity/Project - Suburb</th>\n",
       "      <th>Primary Location of Activity/Project - Post Code</th>\n",
       "      <th>Multiple Locations of Activity/Project (if applicable)</th>\n",
       "      <th>Approval date</th>\n",
       "      <th>Local Government /Council</th>\n",
       "      <th>RAP Region</th>\n",
       "      <th>State Electorate</th>\n",
       "      <th>Actual Contractual Commitment ($)</th>\n",
       "    </tr>\n",
       "  </thead>\n",
       "  <tbody>\n",
       "    <tr>\n",
       "      <th>0</th>\n",
       "      <td>Aboriginal and Torres Strait Islander PhD Scho...</td>\n",
       "      <td>AQ Aboriginal &amp; Torres Strait Islander PhD Sch...</td>\n",
       "      <td>Central Queensland University</td>\n",
       "      <td>Norman Gardens</td>\n",
       "      <td>4701.0</td>\n",
       "      <td>NaN</td>\n",
       "      <td>BHP Billiton</td>\n",
       "      <td>Decolonising the systematic barriers and enabl...</td>\n",
       "      <td>Brisbane City</td>\n",
       "      <td>4001.0</td>\n",
       "      <td>NaN</td>\n",
       "      <td>14/06/2019</td>\n",
       "      <td>Rockhampton (R)</td>\n",
       "      <td>Brisbane and Redlands</td>\n",
       "      <td>Keppel</td>\n",
       "      <td>107084.0</td>\n",
       "    </tr>\n",
       "    <tr>\n",
       "      <th>1</th>\n",
       "      <td>Aboriginal and Torres Strait Islander PhD Scho...</td>\n",
       "      <td>AQ Aboriginal &amp; Torres Strait Islander PhD Sch...</td>\n",
       "      <td>Griffith University</td>\n",
       "      <td>Nathan</td>\n",
       "      <td>4111.0</td>\n",
       "      <td>NaN</td>\n",
       "      <td>NaN</td>\n",
       "      <td>An indigenous journey through the 21st century...</td>\n",
       "      <td>Nathan</td>\n",
       "      <td>4111.0</td>\n",
       "      <td>NaN</td>\n",
       "      <td>28/01/2016</td>\n",
       "      <td>Brisbane (C)</td>\n",
       "      <td>Brisbane and Redlands</td>\n",
       "      <td>Toohey</td>\n",
       "      <td>117500.0</td>\n",
       "    </tr>\n",
       "    <tr>\n",
       "      <th>2</th>\n",
       "      <td>Aboriginal and Torres Strait Islander Research...</td>\n",
       "      <td>AQ Aboriginal &amp; Torres Strait Islander Researc...</td>\n",
       "      <td>Queensland University of Technology</td>\n",
       "      <td>Brisbane City</td>\n",
       "      <td>4000.0</td>\n",
       "      <td>NaN</td>\n",
       "      <td>Engineered Wood Products Association Australa...</td>\n",
       "      <td>An Innovative Framing System for Taller Timber...</td>\n",
       "      <td>Brisbane City</td>\n",
       "      <td>4000.0</td>\n",
       "      <td>NaN</td>\n",
       "      <td>21/08/2018</td>\n",
       "      <td>Brisbane (C)</td>\n",
       "      <td>Brisbane and Redlands</td>\n",
       "      <td>McConnel</td>\n",
       "      <td>240000.0</td>\n",
       "    </tr>\n",
       "    <tr>\n",
       "      <th>3</th>\n",
       "      <td>Aboriginal and Torres Strait Islander Research...</td>\n",
       "      <td>AQ Aboriginal &amp; Torres Strait Islander Researc...</td>\n",
       "      <td>CSIRO</td>\n",
       "      <td>Smithfield</td>\n",
       "      <td>4878.0</td>\n",
       "      <td>NaN</td>\n",
       "      <td>CSIRO</td>\n",
       "      <td>Transforming hidden data: An integrative infor...</td>\n",
       "      <td>Smithfield</td>\n",
       "      <td>4878.0</td>\n",
       "      <td>NaN</td>\n",
       "      <td>28/01/2016</td>\n",
       "      <td>Cairns (R)</td>\n",
       "      <td>Far North Queensland</td>\n",
       "      <td>Barron River</td>\n",
       "      <td>158032.0</td>\n",
       "    </tr>\n",
       "    <tr>\n",
       "      <th>4</th>\n",
       "      <td>Advancing Regional Innovation Program</td>\n",
       "      <td>AQ Advancing Regional Innovation Full 2016-17</td>\n",
       "      <td>Redland City Council</td>\n",
       "      <td>Cleveland</td>\n",
       "      <td>4163.0</td>\n",
       "      <td>NaN</td>\n",
       "      <td>Community Information Support Services Ltd \\n...</td>\n",
       "      <td>Growing innovation in the Redlands and Logan r...</td>\n",
       "      <td>Cleveland</td>\n",
       "      <td>4163.0</td>\n",
       "      <td>Meadowbrook, Alexandra Hills, Springwood</td>\n",
       "      <td>21/09/2017</td>\n",
       "      <td>Redland (C)</td>\n",
       "      <td>Brisbane and Redlands</td>\n",
       "      <td>Oodgeroo</td>\n",
       "      <td>500000.0</td>\n",
       "    </tr>\n",
       "  </tbody>\n",
       "</table>\n",
       "</div>"
      ],
      "text/plain": [
       "                                             Program  \\\n",
       "0  Aboriginal and Torres Strait Islander PhD Scho...   \n",
       "1  Aboriginal and Torres Strait Islander PhD Scho...   \n",
       "2  Aboriginal and Torres Strait Islander Research...   \n",
       "3  Aboriginal and Torres Strait Islander Research...   \n",
       "4              Advancing Regional Innovation Program   \n",
       "\n",
       "                                              Round   \\\n",
       "0  AQ Aboriginal & Torres Strait Islander PhD Sch...   \n",
       "1  AQ Aboriginal & Torres Strait Islander PhD Sch...   \n",
       "2  AQ Aboriginal & Torres Strait Islander Researc...   \n",
       "3  AQ Aboriginal & Torres Strait Islander Researc...   \n",
       "4      AQ Advancing Regional Innovation Full 2016-17   \n",
       "\n",
       "                        Recipient Name  \\\n",
       "0        Central Queensland University   \n",
       "1                  Griffith University   \n",
       "2  Queensland University of Technology   \n",
       "3                                CSIRO   \n",
       "4                 Redland City Council   \n",
       "\n",
       "  Physical Address of Recipient - Suburb/Location  \\\n",
       "0                                  Norman Gardens   \n",
       "1                                          Nathan   \n",
       "2                                   Brisbane City   \n",
       "3                                      Smithfield   \n",
       "4                                       Cleveland   \n",
       "\n",
       "   Physical Address of Recipient - Post Code  \\\n",
       "0                                     4701.0   \n",
       "1                                     4111.0   \n",
       "2                                     4000.0   \n",
       "3                                     4878.0   \n",
       "4                                     4163.0   \n",
       "\n",
       "  University Collaborator (if applicable)  \\\n",
       "0                                     NaN   \n",
       "1                                     NaN   \n",
       "2                                     NaN   \n",
       "3                                     NaN   \n",
       "4                                     NaN   \n",
       "\n",
       "       Other Partners; Collaborators (if applicable)  \\\n",
       "0                                       BHP Billiton   \n",
       "1                                                NaN   \n",
       "2   Engineered Wood Products Association Australa...   \n",
       "3                                              CSIRO   \n",
       "4   Community Information Support Services Ltd \\n...   \n",
       "\n",
       "                            Investment/Project Title  \\\n",
       "0  Decolonising the systematic barriers and enabl...   \n",
       "1  An indigenous journey through the 21st century...   \n",
       "2  An Innovative Framing System for Taller Timber...   \n",
       "3  Transforming hidden data: An integrative infor...   \n",
       "4  Growing innovation in the Redlands and Logan r...   \n",
       "\n",
       "  Primary Location of Activity/Project - Suburb  \\\n",
       "0                                 Brisbane City   \n",
       "1                                        Nathan   \n",
       "2                                 Brisbane City   \n",
       "3                                    Smithfield   \n",
       "4                                     Cleveland   \n",
       "\n",
       "   Primary Location of Activity/Project - Post Code  \\\n",
       "0                                            4001.0   \n",
       "1                                            4111.0   \n",
       "2                                            4000.0   \n",
       "3                                            4878.0   \n",
       "4                                            4163.0   \n",
       "\n",
       "  Multiple Locations of Activity/Project (if applicable) Approval date  \\\n",
       "0                                                NaN        14/06/2019   \n",
       "1                                                NaN        28/01/2016   \n",
       "2                                                NaN        21/08/2018   \n",
       "3                                                NaN        28/01/2016   \n",
       "4           Meadowbrook, Alexandra Hills, Springwood        21/09/2017   \n",
       "\n",
       "  Local Government /Council             RAP Region State Electorate  \\\n",
       "0           Rockhampton (R)  Brisbane and Redlands           Keppel   \n",
       "1              Brisbane (C)  Brisbane and Redlands           Toohey   \n",
       "2              Brisbane (C)  Brisbane and Redlands         McConnel   \n",
       "3                Cairns (R)   Far North Queensland     Barron River   \n",
       "4               Redland (C)  Brisbane and Redlands         Oodgeroo   \n",
       "\n",
       "   Actual Contractual Commitment ($)  \n",
       "0                           107084.0  \n",
       "1                           117500.0  \n",
       "2                           240000.0  \n",
       "3                           158032.0  \n",
       "4                           500000.0  "
      ]
     },
     "execution_count": 55,
     "metadata": {},
     "output_type": "execute_result"
    }
   ],
   "source": [
    "df.head(5)"
   ]
  },
  {
   "cell_type": "markdown",
   "id": "a7c64aeb-b6d2-4b50-9363-f6efce223b58",
   "metadata": {},
   "source": [
    "In this step, I would like to confirm whether the data type has changed."
   ]
  },
  {
   "cell_type": "code",
   "execution_count": 56,
   "id": "2b5e6230-6d66-4d8b-8217-f3f0bd76b85d",
   "metadata": {},
   "outputs": [
    {
     "name": "stdout",
     "output_type": "stream",
     "text": [
      "Program                                                    object\n",
      "Round                                                      object\n",
      "Recipient Name                                             object\n",
      "Physical Address of Recipient - Suburb/Location            object\n",
      "Physical Address of Recipient - Post Code                 float64\n",
      "University Collaborator (if applicable)                    object\n",
      "Other Partners; Collaborators (if applicable)              object\n",
      "Investment/Project Title                                   object\n",
      "Primary Location of Activity/Project - Suburb              object\n",
      "Primary Location of Activity/Project - Post Code          float64\n",
      "Multiple Locations of Activity/Project (if applicable)     object\n",
      "Approval date                                              object\n",
      "Local Government /Council                                  object\n",
      "RAP Region                                                 object\n",
      "State Electorate                                           object\n",
      "Actual Contractual Commitment ($)                         float64\n",
      "dtype: object\n"
     ]
    }
   ],
   "source": [
    "# listing data types of columns \n",
    "print(df.dtypes)"
   ]
  },
  {
   "cell_type": "markdown",
   "id": "32a05d33-6c98-4bd0-8636-9eb29b342bfc",
   "metadata": {},
   "source": [
    "In this step, I am converting the 'Approval date' column to datetime format, considering the possibility of using it for comparison and extraction of data ."
   ]
  },
  {
   "cell_type": "code",
   "execution_count": 57,
   "id": "2d4d844f-efe7-42d0-a9bd-35ee9f1fc04e",
   "metadata": {},
   "outputs": [
    {
     "name": "stdout",
     "output_type": "stream",
     "text": [
      "Program                                                           object\n",
      "Round                                                             object\n",
      "Recipient Name                                                    object\n",
      "Physical Address of Recipient - Suburb/Location                   object\n",
      "Physical Address of Recipient - Post Code                        float64\n",
      "University Collaborator (if applicable)                           object\n",
      "Other Partners; Collaborators (if applicable)                     object\n",
      "Investment/Project Title                                          object\n",
      "Primary Location of Activity/Project - Suburb                     object\n",
      "Primary Location of Activity/Project - Post Code                 float64\n",
      "Multiple Locations of Activity/Project (if applicable)            object\n",
      "Approval date                                             datetime64[ns]\n",
      "Local Government /Council                                         object\n",
      "RAP Region                                                        object\n",
      "State Electorate                                                  object\n",
      "Actual Contractual Commitment ($)                                float64\n",
      "dtype: object\n"
     ]
    }
   ],
   "source": [
    "# Convert 'date_column' from object to datetime\n",
    "df['Approval date'] = pd.to_datetime(df['Approval date'], format='%d/%m/%Y')\n",
    "\n",
    "# Check the data types after conversion\n",
    "print(df.dtypes)"
   ]
  },
  {
   "cell_type": "markdown",
   "id": "a98b6a8b-27e2-49b3-b4be-0efb650bffda",
   "metadata": {},
   "source": [
    "In this step, I would like to see the first and the last day of data to make sense of some of the dates I will consider in my analysis."
   ]
  },
  {
   "cell_type": "code",
   "execution_count": 58,
   "id": "bc4a69c6-1e88-4cd5-a11c-9c449b1dc20f",
   "metadata": {},
   "outputs": [
    {
     "name": "stdout",
     "output_type": "stream",
     "text": [
      "First date: 2015-09-25 00:00:00\n",
      "Last date: 2023-03-29 00:00:00 \n",
      "\n"
     ]
    }
   ],
   "source": [
    "# Get the first and last dates in the 'Approval date' column\n",
    "first_date = df['Approval date'].min()\n",
    "last_date = df['Approval date'].max()\n",
    "\n",
    "print(\"First date:\", first_date)\n",
    "print(\"Last date:\", last_date, '\\n')"
   ]
  },
  {
   "cell_type": "code",
   "execution_count": 59,
   "id": "56636b56-233e-436f-a0b0-b17f3976e21e",
   "metadata": {},
   "outputs": [],
   "source": [
    "# Sort DataFrame by date_column in descending order\n",
    "df_sorted = df.sort_values(by='Approval date', ascending=False)"
   ]
  },
  {
   "cell_type": "markdown",
   "id": "77665beb-ffd6-47fc-b0b3-c13fb038c12d",
   "metadata": {},
   "source": [
    "In this step, I am extracting the year part from the 'Approval date' to create a new column to use it in my analysis for grouping the data."
   ]
  },
  {
   "cell_type": "code",
   "execution_count": 60,
   "id": "cbc36a87-a6a5-4405-9f3f-de37dda696d0",
   "metadata": {},
   "outputs": [
    {
     "name": "stdout",
     "output_type": "stream",
     "text": [
      "List of column Names: \n",
      "\n",
      "Program\n",
      "Round \n",
      "Recipient Name\n",
      "Physical Address of Recipient - Suburb/Location\n",
      "Physical Address of Recipient - Post Code\n",
      "University Collaborator (if applicable)\n",
      "Other Partners; Collaborators (if applicable)\n",
      "Investment/Project Title\n",
      "Primary Location of Activity/Project - Suburb\n",
      "Primary Location of Activity/Project - Post Code\n",
      "Multiple Locations of Activity/Project (if applicable)\n",
      "Approval date\n",
      "Local Government /Council\n",
      "RAP Region\n",
      "State Electorate\n",
      "Actual Contractual Commitment ($)\n",
      "Year\n"
     ]
    }
   ],
   "source": [
    "# Extract year from 'Approval date' and create a new column\n",
    "df_sorted.loc[:, 'Year'] = df_sorted['Approval date'].dt.year\n",
    "\n",
    "# listing the column names\n",
    "column_names = df_sorted.columns\n",
    "print('List of column Names: \\n')\n",
    "for name in column_names:\n",
    "    print(name)"
   ]
  },
  {
   "cell_type": "markdown",
   "id": "b832e8eb-0fa9-4752-9150-ca1c8b4ec1cf",
   "metadata": {},
   "source": [
    "In this step, I am pulling all the rows in which the project titles contain the string \"artificial intelligence,\" regardless of case sensitivity."
   ]
  },
  {
   "cell_type": "code",
   "execution_count": 61,
   "id": "ca0ee060-6e06-4ff9-a5ac-907713a2206f",
   "metadata": {},
   "outputs": [
    {
     "data": {
      "text/plain": [
       "(10, 17)"
      ]
     },
     "execution_count": 61,
     "metadata": {},
     "output_type": "execute_result"
    }
   ],
   "source": [
    "# Filtering rows containing the string \"Artificial Intelligence\" in the 'Investment/Project Title' column (case insensitive)\n",
    "filtered_df = df_sorted[df_sorted['Investment/Project Title'].str.contains('artificial intelligence', case=False)]\n",
    "\n",
    "# Displaying the number of filtered DataFrame rows and columns\n",
    "filtered_df.shape"
   ]
  },
  {
   "cell_type": "markdown",
   "id": "be6074a9-c38a-4ae6-84e5-89dd04209987",
   "metadata": {},
   "source": [
    "In this step, I would like to display the project titles I have extracted above in a list to understand the objective and scope of the project."
   ]
  },
  {
   "cell_type": "code",
   "execution_count": 62,
   "id": "b9b90c30-6550-443c-9689-324ba082d957",
   "metadata": {},
   "outputs": [
    {
     "name": "stdout",
     "output_type": "stream",
     "text": [
      "Using artificial intelligence to increase gas supply - Ruizhi Zhong\n",
      "--------------------------------------------------------------------------------\n",
      "Artificial Intelligence Enabled Mine Site Rehabilitation - Kien Nguyen\n",
      "--------------------------------------------------------------------------------\n",
      "Using Artificial Intelligence to prioritise emergency calls for suicide prevention due to COVID-19 pandemic - Rajib Rana\n",
      "--------------------------------------------------------------------------------\n",
      "Automating Infectious Disease Surveillance with Artificial Intelligence - Brian Forde \n",
      "--------------------------------------------------------------------------------\n",
      "Artificial Intelligence Hub\n",
      "--------------------------------------------------------------------------------\n",
      "brAIn: Enabling Precision Treatment for Brain Cancers using Artificial Intelligence - Sriganesh Srihari\n",
      "--------------------------------------------------------------------------------\n",
      "Artificial Intelligence STEM Platform\n",
      "--------------------------------------------------------------------------------\n",
      "Applying Artificial Intelligence to Business Management Advice\n",
      "--------------------------------------------------------------------------------\n",
      "Effective embedding of Artificial Intelligence in melanoma screening\n",
      "--------------------------------------------------------------------------------\n",
      "Drug repurposing for neurodegeneration using Artificial Intelligence and machine learning - Richard Gordon\n",
      "--------------------------------------------------------------------------------\n"
     ]
    }
   ],
   "source": [
    "# Create a list to store formatted titles\n",
    "formatted_titles = []\n",
    "\n",
    "# Loop through the column and store formatted titles in the list\n",
    "for title in filtered_df['Investment/Project Title']:\n",
    "    #formatted_title = '\\n'.join(textwrap.wrap(title, width=80))\n",
    "    formatted_titles.append(title)\n",
    "\n",
    "# Print each formatted title from the list\n",
    "for title_list in formatted_titles:\n",
    "    print(title_list)\n",
    "    print('-' * 80)  # Separator line for better readability"
   ]
  },
  {
   "cell_type": "markdown",
   "id": "2d96825d-c397-4e38-95fd-93cc96d5b95b",
   "metadata": {},
   "source": [
    "## INSIGHT:\n",
    "As we can see, out of 10 projects, only 2 seem to have broader goals beyond solving a specific existing problem. The first is the Artificial Intelligence Hub, and the second is the Artificial Intelligence STEM Platform. The AI STEM Platform is focused on the education sector, whereas the AI Hub aims to connect, promote, and enhance AI capabilities. The AI Hub is a project that brings together businesses, government, and research institutes to address current and future challenges of AI with support and accountability\n",
    "(https://qldaihub.com/about-2/)."
   ]
  },
  {
   "cell_type": "markdown",
   "id": "5a37b67b-560e-471a-8917-b3995bbeb6b9",
   "metadata": {},
   "source": [
    "In this step, I would like to see the details of the funding to AI Consortium Pty Ltd to know the stakeholders and the amount in hand for spending."
   ]
  },
  {
   "cell_type": "code",
   "execution_count": 63,
   "id": "fa04c7de-c4f6-49cc-b706-97e97bf6bddc",
   "metadata": {},
   "outputs": [
    {
     "data": {
      "text/html": [
       "<div>\n",
       "<style scoped>\n",
       "    .dataframe tbody tr th:only-of-type {\n",
       "        vertical-align: middle;\n",
       "    }\n",
       "\n",
       "    .dataframe tbody tr th {\n",
       "        vertical-align: top;\n",
       "    }\n",
       "\n",
       "    .dataframe thead th {\n",
       "        text-align: right;\n",
       "    }\n",
       "</style>\n",
       "<table border=\"1\" class=\"dataframe\">\n",
       "  <thead>\n",
       "    <tr style=\"text-align: right;\">\n",
       "      <th></th>\n",
       "      <th>Year</th>\n",
       "      <th>Investment/Project Title</th>\n",
       "      <th>Recipient Name</th>\n",
       "      <th>University Collaborator (if applicable)</th>\n",
       "      <th>Other Partners; Collaborators (if applicable)</th>\n",
       "      <th>Actual Contractual Commitment ($)</th>\n",
       "    </tr>\n",
       "  </thead>\n",
       "  <tbody>\n",
       "    <tr>\n",
       "      <th>24</th>\n",
       "      <td>2020</td>\n",
       "      <td>Artificial Intelligence Hub</td>\n",
       "      <td>AI Consortium Pty Ltd</td>\n",
       "      <td>The University of Queensland, Queensland Unive...</td>\n",
       "      <td>KPMG</td>\n",
       "      <td>5000000.0</td>\n",
       "    </tr>\n",
       "  </tbody>\n",
       "</table>\n",
       "</div>"
      ],
      "text/plain": [
       "    Year     Investment/Project Title         Recipient Name  \\\n",
       "24  2020  Artificial Intelligence Hub  AI Consortium Pty Ltd   \n",
       "\n",
       "              University Collaborator (if applicable)  \\\n",
       "24  The University of Queensland, Queensland Unive...   \n",
       "\n",
       "   Other Partners; Collaborators (if applicable)  \\\n",
       "24                                          KPMG   \n",
       "\n",
       "    Actual Contractual Commitment ($)  \n",
       "24                          5000000.0  "
      ]
     },
     "execution_count": 63,
     "metadata": {},
     "output_type": "execute_result"
    }
   ],
   "source": [
    "# Filter out rows belonging to the program \"Artificial Intelligence Hub\"\n",
    "AIhub_df = filtered_df[filtered_df['Investment/Project Title'] == 'Artificial Intelligence Hub']\n",
    "AIhub_df = AIhub_df[['Year', 'Investment/Project Title', 'Recipient Name', 'University Collaborator (if applicable)','Other Partners; Collaborators (if applicable)', 'Actual Contractual Commitment ($)']]\n",
    "AIhub_df"
   ]
  },
  {
   "cell_type": "markdown",
   "id": "ed5a186a-7fd3-4ca1-be50-2c208a3c88cd",
   "metadata": {},
   "source": [
    "## INSIGHT:\n",
    "I would call this project a holistic endeavor where all the bases are covered: great purpose, partners, and financial resources. However, the objectives and funding should be revised to address future challenges, or new projects should be initiated. This has not happened, as the AI Hub remains the only project of its kind."
   ]
  },
  {
   "cell_type": "markdown",
   "id": "cfec4afd-ca74-4d89-ac3f-dcca4d782894",
   "metadata": {},
   "source": [
    "## QUESTION 2:\n",
    "At this point in my analysis, I want to highlight how power-hungry tech companies are reacting to the arrival of OpenAI's ChatGPT application. This reaction underscores the intense challenges that users, regulators, and lawmakers face in handling AI. These challenges are likely to become even more significant, requiring consistent effort to survive and thrive."
   ]
  },
  {
   "cell_type": "markdown",
   "id": "cbdc38c2-250d-4c29-9402-d70960ff2555",
   "metadata": {},
   "source": [
    "## UNSTRUCTURED DATA FROM GUARDIAN OPEN PLATFORM API"
   ]
  },
  {
   "cell_type": "code",
   "execution_count": 64,
   "id": "16994046-8952-481f-a940-bc64b7b62d42",
   "metadata": {},
   "outputs": [
    {
     "name": "stdout",
     "output_type": "stream",
     "text": [
      "Loaded 201 articles from microsoft_invest_articles.json\n"
     ]
    }
   ],
   "source": [
    "# Load the data - articles from The Guardian about the war in Ukraine\n",
    "file_path = \"\"\n",
    "file_name = \"microsoft_invest_articles.json\"\n",
    "\n",
    "with open(f\"{file_path}{file_name}\",'r', encoding='utf-8') as fp:\n",
    "    articles = json.load(fp)\n",
    "\n",
    "print(f\"Loaded {len(articles)} articles from {file_name}\")"
   ]
  },
  {
   "cell_type": "markdown",
   "id": "bfc74f96-eb62-4782-8228-a973d0bd4c12",
   "metadata": {},
   "source": [
    "## Ethical Considerations in Data Access and Use:\n",
    "The Guardian news data is available for free use in any non-profit project. Access to this data has been granted following registration and the acquisition of a developer key. All necessary guidelines and protocols provided by The Guardian for accessing and using the data have been followed."
   ]
  },
  {
   "cell_type": "markdown",
   "id": "1201f27a-3e83-47a6-ad1a-152ec1efc1ad",
   "metadata": {},
   "source": [
    "In this step, I would show article titles which contains ChatGPT and OpenAI keywords in the year 2023."
   ]
  },
  {
   "cell_type": "code",
   "execution_count": 65,
   "id": "870355c8-27d8-4b97-b30f-e7380e09cdbb",
   "metadata": {
    "scrolled": true
   },
   "outputs": [
    {
     "name": "stdout",
     "output_type": "stream",
     "text": [
      "Title 2: New York Times sues OpenAI and Microsoft for copyright infringement  [2023-12-28T00:52:19Z]\n",
      "Title 3: Microsoft confirms multibillion dollar investment in firm behind ChatGPT [2023-01-23T18:35:52Z]\n",
      "Title 4: UK watchdog to examine Microsoft’s partnership with OpenAI [2023-12-08T16:21:26Z]\n",
      "Title 6: Amazon to invest up to $4bn in OpenAI rival Anthropic [2023-09-25T12:38:46Z]\n",
      "Title 7: New York Times accuses ChatGPT maker OpenAI and Microsoft of copyright infringement – as it happened [2023-12-27T16:17:09Z]\n",
      "Title 12: Be glad UK’s watchdog has its eyes on what just happened at OpenAI | Nils Pratley [2023-12-08T17:25:47Z]\n",
      "Title 18: UK regulator examining Microsoft’s OpenAI ties; two-year mortgage rates lowest since June – as it happened [2023-12-08T15:02:07Z]\n",
      "Title 20: Sam Altman’s OpenAI exit leads to rollercoaster for sector [2023-11-20T14:55:30Z]\n",
      "Title 24: OpenAI staff threaten to quit unless Sam Altman returns; Abu Dhabi fund lined up to take control of Telegraph – as it happened [2023-11-20T17:25:31Z]\n",
      "Title 26: The frantic battle over OpenAI shows that money triumphs in the end | Robert Reich [2023-11-28T13:01:11Z]\n",
      "Title 28: OpenAI staff threaten to quit en masse unless Sam Altman is reinstated [2023-11-20T23:46:21Z]\n",
      "Title 31: The OpenAI meltdown will only accelerate the artificial intelligence race | Sarah Kreps [2023-11-22T10:12:04Z]\n",
      "Title 32: The Guardian view on OpenAI’s board shake-up: changes deliver more for shareholders than for humanity | Editorial [2023-11-26T17:00:23Z]\n",
      "Title 39: Sam Altman ‘was working on new venture’ before sacking from OpenAI [2023-11-18T23:41:04Z]\n",
      "Title 42: OpenAI’s directors have been anything but open. What the hell happened? [2023-11-23T18:12:09Z]\n",
      "Title 52: Sacking, revolt, return: how crisis at OpenAI over Sam Altman unfolded [2023-11-25T10:00:47Z]\n",
      "Title 54: Google trials its own AI chatbot Bard after success of ChatGPT [2023-02-06T19:47:48Z]\n",
      "Title 63: ChatGPT reaches 100 million users two months after launch [2023-02-02T20:46:11Z]\n",
      "Title 64: Thursday briefing: What the meltdown at OpenAI means for the future of artificial intelligence [2023-11-23T06:53:21Z]\n",
      "Title 67: Elon Musk reportedly planning to launch AI rival to ChatGPT maker [2023-04-15T11:16:11Z]\n",
      "Title 86: Google poised to release chatbot technology after ChatGPT success [2023-02-03T14:13:59Z]\n",
      "Title 106: AI apps such as ChatGPT could play a role in Whitehall, says science secretary [2023-03-04T22:53:17Z]\n"
     ]
    }
   ],
   "source": [
    "keywords = [\"chatgpt\", \"openai\"]\n",
    "\n",
    "for i, title in enumerate(articles.keys()):\n",
    "    if any(keyword.lower() in title.lower() for keyword in keywords):\n",
    "        print(f\"Title {i+1}: {title}\")"
   ]
  },
  {
   "cell_type": "markdown",
   "id": "55bed86a-d1ae-4692-b48a-cb103af4be9c",
   "metadata": {},
   "source": [
    "## INSIGHT:\n",
    "The above output shows that number of tech giants such as Microsoft in Title 3 and Amazon in Title 6 investing billions into AI which confirms the importance of AI technology and the potential to draw profits for these organizations. On the other hand, one can also understand the speed with which this technology will evolve because of the scale of investment. To conclude I would like to say that embracing this technology in our society would not only bring the ease but also challenge everone of us at different levels that is why there is a need to monitor and improvise with urgency to gain positive impact from it. \n",
    "\n",
    "## Ethical Consideration:\n",
    "Asserting that major tech companies high investments in AI-driven projects, such as ChatGPT, are driving a significant shift in technology is not necessarily baseless or negative publicity for these organizations. Rather, it reflects a trend observed in multiple articles included in this analysis, indicating that numerous knowledgeable individuals share the same perspective. For instance, titles such as \"Title 4:UK watchdog to examine Microsoft’s partnership with OpenAI\" and \"Title 31:The OpenAI meltdown will only accelerate the artificial intelligence race\" by Sarah Kreps highlight the growing attention and scrutiny surrounding AI advancements and collaborations.To justify the heavy investments in AI it is critical for stakeholders to balance the rapid advancement and integration of AI technology with the potential societal impacts. \n"
   ]
  },
  {
   "cell_type": "markdown",
   "id": "c74ab032-0c3e-4ac3-b5e7-a126f20e6032",
   "metadata": {},
   "source": [
    "## QUESTIONS 3:\n",
    "What are the risks from the use of AI technology such as ChatGPT if the users, regulators and the law makers do not take appropriate and timely actions to control the spread of this technology into the society?"
   ]
  },
  {
   "cell_type": "markdown",
   "id": "c2f1826a-7e2c-48ca-b810-1d35f61cf5ee",
   "metadata": {},
   "source": [
    "## UNSTRUCTURED DATA FROM GUARDIAN OPEN PLATFORM API\n",
    "To answer the above question, I have chosen to use the guardian open platform to see the news articles available regarding this issue and by the use of tfidf and nmf topic modelling technique I would extract latent topics on risks of AI within a corpus of documents."
   ]
  },
  {
   "cell_type": "code",
   "execution_count": 66,
   "id": "65f59f86-3cad-443d-a194-0dabfa2b3d7c",
   "metadata": {},
   "outputs": [
    {
     "name": "stdout",
     "output_type": "stream",
     "text": [
      "Loaded 49 documents from AI risks to society.json\n"
     ]
    }
   ],
   "source": [
    "# Load the data - articles from The Guardian about the war in Ukraine\n",
    "file_path = \"\"\n",
    "file_name = \"AI risks to society.json\"\n",
    "\n",
    "with open(f\"{file_path}{file_name}\",'r', encoding='utf-8') as fp:\n",
    "    documents = json.load(fp)\n",
    "\n",
    "print(f\"Loaded {len(documents)} documents from {file_name}\")"
   ]
  },
  {
   "cell_type": "markdown",
   "id": "020de9ea-3f8f-424e-b98f-438d05349774",
   "metadata": {},
   "source": [
    "In this step, I will convert a collection of documents which I extracted from guardian open platform and saved in Json file in to a matrix of tfidf features(terms). I used tfidf because tfidf provides an effective way to preprocess text data for nmf such as normalization and feature selection."
   ]
  },
  {
   "cell_type": "code",
   "execution_count": 67,
   "id": "42e5859f-bf71-447e-846d-88a2b1f24909",
   "metadata": {},
   "outputs": [],
   "source": [
    "# Only count terms that in maximum of 75% of documents, and a minimum of 2 documents. \n",
    "# Count a maximum of 10000 terms, and remove common english stop words\n",
    "tfidf_vectorizer = TfidfVectorizer(\n",
    "    max_df=0.75, min_df=2, max_features=10000, stop_words=\"english\"\n",
    "    \n",
    ")"
   ]
  },
  {
   "cell_type": "markdown",
   "id": "3424481a-bea3-49c8-8b3f-a4ec62220437",
   "metadata": {},
   "source": [
    "In this step, I will computes the tfidf representation of the documents, retrieves the feature names, and displays the tfidf vector for the first document in array format,"
   ]
  },
  {
   "cell_type": "code",
   "execution_count": 68,
   "id": "a6a19246-4dbe-4b79-a9e4-81753bd10ffa",
   "metadata": {},
   "outputs": [
    {
     "data": {
      "text/plain": [
       "array([0., 0., 0., ..., 0., 0., 0.])"
      ]
     },
     "execution_count": 68,
     "metadata": {},
     "output_type": "execute_result"
    }
   ],
   "source": [
    "# Get the document vectors\n",
    "tfidf_ft_matrix = tfidf_vectorizer.fit_transform(documents.values())\n",
    "\n",
    "# Get the feature names (terms)\n",
    "feature_names = tfidf_vectorizer.get_feature_names_out()\n",
    "\n",
    "# Display the vector for the first document\n",
    "tfidf_ft_matrix.toarray()[0]"
   ]
  },
  {
   "cell_type": "markdown",
   "id": "f1aac45c-0921-439b-b8ae-bd8af7a4eac0",
   "metadata": {},
   "source": [
    "In this step, I will initializes and fits an NMF model to the tfidf matrix, resulting in document-topic and topic-term matrices, These matrices allow you to analyze the distribution of topics across documents and the distribution of terms within topics, which are crucial for interpreting the results of topic modeling. I used nmf because it generates non-negative topic-term and document-topic matrices which means more interpretable topics."
   ]
  },
  {
   "cell_type": "code",
   "execution_count": 69,
   "id": "a9c1a639-0435-4c7d-9cdc-1cb734c0fb33",
   "metadata": {},
   "outputs": [],
   "source": [
    "# Set the number of topics\n",
    "num_topics = 15\n",
    "\n",
    "# Create the model\n",
    "nmf_model = NMF(n_components=num_topics,init='random',beta_loss='frobenius', max_iter=500, random_state=42)\n",
    "\n",
    "# Fit the model to the data and use it to transform the data\n",
    "doc_topic_nmf = nmf_model.fit_transform(tfidf_ft_matrix)\n",
    "\n",
    "topic_term_nmf = nmf_model.components_"
   ]
  },
  {
   "cell_type": "markdown",
   "id": "ad2db6a7-2333-4f6b-87ed-a868ebd1ce0f",
   "metadata": {},
   "source": [
    "In this step, I will store all the topics and their terms in the dictionary and print them."
   ]
  },
  {
   "cell_type": "code",
   "execution_count": 70,
   "id": "0801d981-4d55-4fa5-ad2a-07106cc5a756",
   "metadata": {},
   "outputs": [
    {
     "name": "stdout",
     "output_type": "stream",
     "text": [
      "topic_0\n",
      "{'gmt': 4.3005, 'updated': 1.7375, 'australia': 1.6105, 'minister': 0.884, 'australian': 0.8092, 'albanese': 0.7186, 'tax': 0.648, 'today': 0.5584, 'nsw': 0.5453, 'labor': 0.5205}\n",
      "\n",
      "topic_1\n",
      "{'arts': 0.444, 'american': 0.3298, 'says': 0.3262, 'indigenous': 0.3038, 'native': 0.2995, 'edwards': 0.2916, 'culture': 0.29, 'church': 0.2693, 'artists': 0.2435, 'app': 0.2226}\n",
      "\n",
      "topic_2\n",
      "{'court': 1.3665, 'epstein': 0.7711, 'cases': 0.7149, 'lawyers': 0.6788, 'lawyer': 0.609, 'documents': 0.5664, 'conduct': 0.5538, 'counsel': 0.537, 'gay': 0.5209, 'supreme': 0.5146}\n",
      "\n",
      "topic_3\n",
      "{'bst': 7.1546, 'updated': 1.9765, 'australia': 1.7766, 'nsw': 1.0148, 'australian': 0.9971, 'police': 0.9853, 'minister': 0.9321, 'violence': 0.8783, 'albanese': 0.7556, 'says': 0.7168}\n",
      "\n",
      "topic_4\n",
      "{'moody': 2.6347, 'water': 2.4575, 'cyber': 1.1391, 'hack': 0.8933, 'defences': 0.8908, 'systems': 0.7726, 'typically': 0.6868, 'ofwat': 0.6454, 'hackers': 0.6443, 'sewage': 0.6443}\n",
      "\n",
      "topic_5\n",
      "{'deception': 1.9086, 'systems': 1.8703, 'park': 1.8485, 'meta': 1.627, 'desirable': 1.4267, 'test': 1.1852, 'pretending': 1.0319, 'research': 1.0128, 'game': 0.9524, 'players': 0.8891}\n",
      "\n",
      "topic_6\n",
      "{'eu': 1.3364, 'facial': 1.1059, 'recognition': 0.7735, 'surveillance': 0.6881, 'police': 0.6615, 'biometric': 0.4859, 'systems': 0.4142, 'official': 0.3785, 'authority': 0.3572, 'campaigners': 0.3463}\n",
      "\n",
      "topic_7\n",
      "{'disinformation': 2.4841, 'misinformation': 2.2631, 'elections': 1.9818, 'wef': 1.7563, 'material': 1.6584, 'parties': 1.2865, 'fake': 1.1807, 'sunak': 1.1501, 'deepfakes': 1.0753, 'content': 1.0023}\n",
      "\n",
      "topic_8\n",
      "{'gmt': 2.2678, 'uk': 1.7635, 'inflation': 1.3772, 'mdash': 1.2487, 'rates': 1.1813, 'market': 1.1044, 'rate': 1.0214, 'growth': 0.9967, 'prices': 0.987, 'sales': 0.9548}\n",
      "\n",
      "topic_9\n",
      "{'copyright': 0.5166, 'safety': 0.5013, 'uk': 0.4906, 'regulators': 0.3873, 'scandal': 0.3448, 'institutes': 0.3234, 'binding': 0.321, 'technology': 0.3067, 'donelan': 0.3048, 'overseeing': 0.298}\n",
      "\n",
      "topic_10\n",
      "{'nbsp': 2.8295, 'meta': 1.4819, 'online': 1.2809, 'human': 1.0642, 'machines': 0.8415, 'children': 0.8194, 'harms': 0.7651, 'mr': 0.6578, 'whistleblowers': 0.6422, 'lawsuit': 0.6418}\n",
      "\n",
      "topic_11\n",
      "{'cma': 0.9779, 'market': 0.901, 'partnerships': 0.8412, 'competition': 0.7512, 'power': 0.6115, 'chips': 0.5943, 'technology': 0.5792, 'markets': 0.5499, 'investments': 0.4683, 'prepare': 0.4679}\n",
      "\n",
      "topic_12\n",
      "{'nhs': 1.7827, 'conspiracy': 0.9059, 'tech': 0.7664, 'labour': 0.7616, 'health': 0.6866, 'human': 0.5564, 'theories': 0.5435, 'tory': 0.4847, 'political': 0.4751, 'ali': 0.4531}\n",
      "\n",
      "topic_13\n",
      "{'davos': 1.8825, 'gmt': 1.6352, 'says': 1.1327, 'cameron': 0.9851, 'ukraine': 0.944, 'blinken': 0.7329, 'altman': 0.534, 'adds': 0.5102, 'herzog': 0.503, 'uk': 0.4556}\n",
      "\n",
      "topic_14\n",
      "{'gaza': 1.5528, 'israel': 1.2372, 'israeli': 1.1305, 'gmt': 0.8858, 'truce': 0.884, 'hamas': 0.8285, 'palestinian': 0.5748, 'strip': 0.5118, 'military': 0.4478, 'friday': 0.4302}\n",
      "\n"
     ]
    }
   ],
   "source": [
    "# Get the topics and their terms\n",
    "nmf_topic_dict = {}\n",
    "for index, topic in enumerate(topic_term_nmf):\n",
    "    zipped = zip(feature_names, topic)\n",
    "    top_terms=dict(sorted(zipped, key = lambda t: t[1], reverse=True)[:10])\n",
    "    #print(top_terms)\n",
    "    top_terms_list= {key : round(top_terms[key], 4) for key in top_terms.keys()}\n",
    "    nmf_topic_dict[f\"topic_{index}\"] = top_terms_list\n",
    "\n",
    "# Print the topics with their terms    \n",
    "for k,v in nmf_topic_dict.items():\n",
    "    print(k)\n",
    "    print(v)\n",
    "    print()"
   ]
  },
  {
   "cell_type": "markdown",
   "id": "86f6067f-14ca-4270-8b66-df2570f7fe82",
   "metadata": {},
   "source": [
    "\n",
    "\n",
    "In this step, I would like to label the topics produced above according to their terms and weights for better understanding and the identification of topics specific to AI risks."
   ]
  },
  {
   "cell_type": "code",
   "execution_count": 71,
   "id": "8e46b5f9-62b1-4e39-ab0a-5293ac1f06c1",
   "metadata": {},
   "outputs": [
    {
     "name": "stdout",
     "output_type": "stream",
     "text": [
      "Topic 0: Australian Politics\n",
      "Top terms: {'gmt': 4.3005, 'updated': 1.7375, 'australia': 1.6105, 'minister': 0.884, 'australian': 0.8092, 'albanese': 0.7186, 'tax': 0.648, 'today': 0.5584, 'nsw': 0.5453, 'labor': 0.5205}\n",
      "\n",
      "Topic 1: Indigenous America\n",
      "Top terms: {'arts': 0.444, 'american': 0.3298, 'says': 0.3262, 'indigenous': 0.3038, 'native': 0.2995, 'edwards': 0.2916, 'culture': 0.29, 'church': 0.2693, 'artists': 0.2435, 'app': 0.2226}\n",
      "\n",
      "Topic 2: Epstein Cases\n",
      "Top terms: {'court': 1.3665, 'epstein': 0.7711, 'cases': 0.7149, 'lawyers': 0.6788, 'lawyer': 0.609, 'documents': 0.5664, 'conduct': 0.5538, 'counsel': 0.537, 'gay': 0.5209, 'supreme': 0.5146}\n",
      "\n",
      "Topic 3: Australian News\n",
      "Top terms: {'bst': 7.1546, 'updated': 1.9765, 'australia': 1.7766, 'nsw': 1.0148, 'australian': 0.9971, 'police': 0.9853, 'minister': 0.9321, 'violence': 0.8783, 'albanese': 0.7556, 'says': 0.7168}\n",
      "\n",
      "Topic 4: Cybersecurity\n",
      "Top terms: {'moody': 2.6347, 'water': 2.4575, 'cyber': 1.1391, 'hack': 0.8933, 'defences': 0.8908, 'systems': 0.7726, 'typically': 0.6868, 'ofwat': 0.6454, 'hackers': 0.6443, 'sewage': 0.6443}\n",
      "\n",
      "Topic 5: Deception and Privacy(AI)\n",
      "Top terms: {'deception': 1.9086, 'systems': 1.8703, 'park': 1.8485, 'meta': 1.627, 'desirable': 1.4267, 'test': 1.1852, 'pretending': 1.0319, 'research': 1.0128, 'game': 0.9524, 'players': 0.8891}\n",
      "\n",
      "Topic 6: Identification and Surveillance(AI)\n",
      "Top terms: {'eu': 1.3364, 'facial': 1.1059, 'recognition': 0.7735, 'surveillance': 0.6881, 'police': 0.6615, 'biometric': 0.4859, 'systems': 0.4142, 'official': 0.3785, 'authority': 0.3572, 'campaigners': 0.3463}\n",
      "\n",
      "Topic 7: Disinformation(AI)\n",
      "Top terms: {'disinformation': 2.4841, 'misinformation': 2.2631, 'elections': 1.9818, 'wef': 1.7563, 'material': 1.6584, 'parties': 1.2865, 'fake': 1.1807, 'sunak': 1.1501, 'deepfakes': 1.0753, 'content': 1.0023}\n",
      "\n",
      "Topic 8: Market Indicators\n",
      "Top terms: {'gmt': 2.2678, 'uk': 1.7635, 'inflation': 1.3772, 'mdash': 1.2487, 'rates': 1.1813, 'market': 1.1044, 'rate': 1.0214, 'growth': 0.9967, 'prices': 0.987, 'sales': 0.9548}\n",
      "\n",
      "Topic 9: Safety and Regulations(AI)\n",
      "Top terms: {'copyright': 0.5166, 'safety': 0.5013, 'uk': 0.4906, 'regulators': 0.3873, 'scandal': 0.3448, 'institutes': 0.3234, 'binding': 0.321, 'technology': 0.3067, 'donelan': 0.3048, 'overseeing': 0.298}\n",
      "\n",
      "Topic 10: Online Harms and legal Issues\n",
      "Top terms: {'nbsp': 2.8295, 'meta': 1.4819, 'online': 1.2809, 'human': 1.0642, 'machines': 0.8415, 'children': 0.8194, 'harms': 0.7651, 'mr': 0.6578, 'whistleblowers': 0.6422, 'lawsuit': 0.6418}\n",
      "\n",
      "Topic 11: Market Competition\n",
      "Top terms: {'cma': 0.9779, 'market': 0.901, 'partnerships': 0.8412, 'competition': 0.7512, 'power': 0.6115, 'chips': 0.5943, 'technology': 0.5792, 'markets': 0.5499, 'investments': 0.4683, 'prepare': 0.4679}\n",
      "\n",
      "Topic 12: Political Conspiracies\n",
      "Top terms: {'nhs': 1.7827, 'conspiracy': 0.9059, 'tech': 0.7664, 'labour': 0.7616, 'health': 0.6866, 'human': 0.5564, 'theories': 0.5435, 'tory': 0.4847, 'political': 0.4751, 'ali': 0.4531}\n",
      "\n",
      "Topic 13: Global Economic Forum (Davos)\n",
      "Top terms: {'davos': 1.8825, 'gmt': 1.6352, 'says': 1.1327, 'cameron': 0.9851, 'ukraine': 0.944, 'blinken': 0.7329, 'altman': 0.534, 'adds': 0.5102, 'herzog': 0.503, 'uk': 0.4556}\n",
      "\n",
      "Topic 14: Gaza and Israel War\n",
      "Top terms: {'gaza': 1.5528, 'israel': 1.2372, 'israeli': 1.1305, 'gmt': 0.8858, 'truce': 0.884, 'hamas': 0.8285, 'palestinian': 0.5748, 'strip': 0.5118, 'military': 0.4478, 'friday': 0.4302}\n",
      "\n"
     ]
    }
   ],
   "source": [
    "# Inspect and label each topic\n",
    "topic_labels = {}\n",
    "\n",
    "# Example labels based on provided topics and their top terms\n",
    "topic_labels[0] = \"Australian Politics\"\n",
    "topic_labels[1] = \"Indigenous America\"  \n",
    "topic_labels[2] = \"Epstein Cases\" \n",
    "topic_labels[3] = \"Australian News\" \n",
    "topic_labels[4] = \"Cybersecurity\"\n",
    "topic_labels[5] = \"Deception and Privacy(AI)\" \n",
    "topic_labels[6] = \"Identification and Surveillance(AI)\"\n",
    "topic_labels[7] = \"Disinformation(AI)\" \n",
    "topic_labels[8] = \"Market Indicators\"\n",
    "topic_labels[9] = \"Safety and Regulations(AI)\"\n",
    "topic_labels[10] = \"Online Harms and legal Issues\"\n",
    "topic_labels[11] = \"Market Competition\"\n",
    "topic_labels[12] = \"Political Conspiracies\" \n",
    "topic_labels[13] = \"Global Economic Forum (Davos)\" \n",
    "topic_labels[14] = \"Gaza and Israel War\"\n",
    "\n",
    "# Verify the topic labels\n",
    "for index, label in topic_labels.items():\n",
    "    print(f\"Topic {index}: {label}\")\n",
    "    print(f\"Top terms: {nmf_topic_dict[f'topic_{index}']}\")\n",
    "    print()\n"
   ]
  },
  {
   "cell_type": "markdown",
   "id": "bbbbd9c8-1e64-425e-9333-91d8918c3719",
   "metadata": {},
   "source": [
    "## VISUALIZATION"
   ]
  },
  {
   "cell_type": "code",
   "execution_count": 72,
   "id": "3d53a15f-7a06-4147-82cf-bae720e9a5d6",
   "metadata": {},
   "outputs": [
    {
     "data": {
      "application/vnd.plotly.v1+json": {
       "config": {
        "plotlyServerURL": "https://plot.ly"
       },
       "data": [
        {
         "alignmentgroup": "True",
         "hovertemplate": "Topics=%{x}<br>Document Count=%{marker.color}<extra></extra>",
         "legendgroup": "",
         "marker": {
          "color": [
           1.0077791941964802,
           1.0948227939529391,
           0.4606773267567924,
           0.576681216795568,
           0.25025571768286,
           0.18572030117827035,
           0.6950929480049791,
           0.2302003784092329,
           0.7221926633584871,
           0.9514255011250927,
           0.2989962420921767,
           0.39415507886158435,
           0.4675132986406204,
           0.5339409081535802,
           0.6892078524082894
          ],
          "coloraxis": "coloraxis",
          "pattern": {
           "shape": ""
          }
         },
         "name": "",
         "offsetgroup": "",
         "orientation": "v",
         "showlegend": false,
         "textposition": "auto",
         "type": "bar",
         "x": [
          "Australian Politics",
          "Indigenous America",
          "Epstein Cases",
          "Australian News",
          "Cybersecurity",
          "Deception and Privacy(AI)",
          "Identification and Surveillance(AI)",
          "Disinformation(AI)",
          "Market Indicators",
          "Safety and Regulations(AI)",
          "Online Harms and legal Issues",
          "Market Competition",
          "Political Conspiracies",
          "Global Economic Forum (Davos)",
          "Gaza and Israel War"
         ],
         "xaxis": "x",
         "y": [
          1.0077791941964802,
          1.0948227939529391,
          0.4606773267567924,
          0.576681216795568,
          0.25025571768286,
          0.18572030117827035,
          0.6950929480049791,
          0.2302003784092329,
          0.7221926633584871,
          0.9514255011250927,
          0.2989962420921767,
          0.39415507886158435,
          0.4675132986406204,
          0.5339409081535802,
          0.6892078524082894
         ],
         "yaxis": "y"
        }
       ],
       "layout": {
        "autosize": true,
        "barmode": "relative",
        "coloraxis": {
         "colorbar": {
          "title": {
           "text": "Document Count"
          }
         },
         "colorscale": [
          [
           0,
           "#1f77b4"
          ],
          [
           0.07142857142857142,
           "#ff7f0e"
          ],
          [
           0.14285714285714285,
           "#2ca02c"
          ],
          [
           0.21428571428571427,
           "#d62728"
          ],
          [
           0.2857142857142857,
           "#9467bd"
          ],
          [
           0.35714285714285715,
           "#8c564b"
          ],
          [
           0.42857142857142855,
           "#e377c2"
          ],
          [
           0.5,
           "#7f7f7f"
          ],
          [
           0.5714285714285714,
           "#bcbd22"
          ],
          [
           0.6428571428571429,
           "#17becf"
          ],
          [
           0.7142857142857143,
           "#ff0000"
          ],
          [
           0.7857142857142857,
           "#00ff00"
          ],
          [
           0.8571428571428571,
           "#0000ff"
          ],
          [
           0.9285714285714286,
           "#ffff00"
          ],
          [
           1,
           "#00ffff"
          ]
         ]
        },
        "legend": {
         "tracegroupgap": 0
        },
        "template": {
         "data": {
          "bar": [
           {
            "error_x": {
             "color": "#2a3f5f"
            },
            "error_y": {
             "color": "#2a3f5f"
            },
            "marker": {
             "line": {
              "color": "#E5ECF6",
              "width": 0.5
             },
             "pattern": {
              "fillmode": "overlay",
              "size": 10,
              "solidity": 0.2
             }
            },
            "type": "bar"
           }
          ],
          "barpolar": [
           {
            "marker": {
             "line": {
              "color": "#E5ECF6",
              "width": 0.5
             },
             "pattern": {
              "fillmode": "overlay",
              "size": 10,
              "solidity": 0.2
             }
            },
            "type": "barpolar"
           }
          ],
          "carpet": [
           {
            "aaxis": {
             "endlinecolor": "#2a3f5f",
             "gridcolor": "white",
             "linecolor": "white",
             "minorgridcolor": "white",
             "startlinecolor": "#2a3f5f"
            },
            "baxis": {
             "endlinecolor": "#2a3f5f",
             "gridcolor": "white",
             "linecolor": "white",
             "minorgridcolor": "white",
             "startlinecolor": "#2a3f5f"
            },
            "type": "carpet"
           }
          ],
          "choropleth": [
           {
            "colorbar": {
             "outlinewidth": 0,
             "ticks": ""
            },
            "type": "choropleth"
           }
          ],
          "contour": [
           {
            "colorbar": {
             "outlinewidth": 0,
             "ticks": ""
            },
            "colorscale": [
             [
              0,
              "#0d0887"
             ],
             [
              0.1111111111111111,
              "#46039f"
             ],
             [
              0.2222222222222222,
              "#7201a8"
             ],
             [
              0.3333333333333333,
              "#9c179e"
             ],
             [
              0.4444444444444444,
              "#bd3786"
             ],
             [
              0.5555555555555556,
              "#d8576b"
             ],
             [
              0.6666666666666666,
              "#ed7953"
             ],
             [
              0.7777777777777778,
              "#fb9f3a"
             ],
             [
              0.8888888888888888,
              "#fdca26"
             ],
             [
              1,
              "#f0f921"
             ]
            ],
            "type": "contour"
           }
          ],
          "contourcarpet": [
           {
            "colorbar": {
             "outlinewidth": 0,
             "ticks": ""
            },
            "type": "contourcarpet"
           }
          ],
          "heatmap": [
           {
            "colorbar": {
             "outlinewidth": 0,
             "ticks": ""
            },
            "colorscale": [
             [
              0,
              "#0d0887"
             ],
             [
              0.1111111111111111,
              "#46039f"
             ],
             [
              0.2222222222222222,
              "#7201a8"
             ],
             [
              0.3333333333333333,
              "#9c179e"
             ],
             [
              0.4444444444444444,
              "#bd3786"
             ],
             [
              0.5555555555555556,
              "#d8576b"
             ],
             [
              0.6666666666666666,
              "#ed7953"
             ],
             [
              0.7777777777777778,
              "#fb9f3a"
             ],
             [
              0.8888888888888888,
              "#fdca26"
             ],
             [
              1,
              "#f0f921"
             ]
            ],
            "type": "heatmap"
           }
          ],
          "heatmapgl": [
           {
            "colorbar": {
             "outlinewidth": 0,
             "ticks": ""
            },
            "colorscale": [
             [
              0,
              "#0d0887"
             ],
             [
              0.1111111111111111,
              "#46039f"
             ],
             [
              0.2222222222222222,
              "#7201a8"
             ],
             [
              0.3333333333333333,
              "#9c179e"
             ],
             [
              0.4444444444444444,
              "#bd3786"
             ],
             [
              0.5555555555555556,
              "#d8576b"
             ],
             [
              0.6666666666666666,
              "#ed7953"
             ],
             [
              0.7777777777777778,
              "#fb9f3a"
             ],
             [
              0.8888888888888888,
              "#fdca26"
             ],
             [
              1,
              "#f0f921"
             ]
            ],
            "type": "heatmapgl"
           }
          ],
          "histogram": [
           {
            "marker": {
             "pattern": {
              "fillmode": "overlay",
              "size": 10,
              "solidity": 0.2
             }
            },
            "type": "histogram"
           }
          ],
          "histogram2d": [
           {
            "colorbar": {
             "outlinewidth": 0,
             "ticks": ""
            },
            "colorscale": [
             [
              0,
              "#0d0887"
             ],
             [
              0.1111111111111111,
              "#46039f"
             ],
             [
              0.2222222222222222,
              "#7201a8"
             ],
             [
              0.3333333333333333,
              "#9c179e"
             ],
             [
              0.4444444444444444,
              "#bd3786"
             ],
             [
              0.5555555555555556,
              "#d8576b"
             ],
             [
              0.6666666666666666,
              "#ed7953"
             ],
             [
              0.7777777777777778,
              "#fb9f3a"
             ],
             [
              0.8888888888888888,
              "#fdca26"
             ],
             [
              1,
              "#f0f921"
             ]
            ],
            "type": "histogram2d"
           }
          ],
          "histogram2dcontour": [
           {
            "colorbar": {
             "outlinewidth": 0,
             "ticks": ""
            },
            "colorscale": [
             [
              0,
              "#0d0887"
             ],
             [
              0.1111111111111111,
              "#46039f"
             ],
             [
              0.2222222222222222,
              "#7201a8"
             ],
             [
              0.3333333333333333,
              "#9c179e"
             ],
             [
              0.4444444444444444,
              "#bd3786"
             ],
             [
              0.5555555555555556,
              "#d8576b"
             ],
             [
              0.6666666666666666,
              "#ed7953"
             ],
             [
              0.7777777777777778,
              "#fb9f3a"
             ],
             [
              0.8888888888888888,
              "#fdca26"
             ],
             [
              1,
              "#f0f921"
             ]
            ],
            "type": "histogram2dcontour"
           }
          ],
          "mesh3d": [
           {
            "colorbar": {
             "outlinewidth": 0,
             "ticks": ""
            },
            "type": "mesh3d"
           }
          ],
          "parcoords": [
           {
            "line": {
             "colorbar": {
              "outlinewidth": 0,
              "ticks": ""
             }
            },
            "type": "parcoords"
           }
          ],
          "pie": [
           {
            "automargin": true,
            "type": "pie"
           }
          ],
          "scatter": [
           {
            "fillpattern": {
             "fillmode": "overlay",
             "size": 10,
             "solidity": 0.2
            },
            "type": "scatter"
           }
          ],
          "scatter3d": [
           {
            "line": {
             "colorbar": {
              "outlinewidth": 0,
              "ticks": ""
             }
            },
            "marker": {
             "colorbar": {
              "outlinewidth": 0,
              "ticks": ""
             }
            },
            "type": "scatter3d"
           }
          ],
          "scattercarpet": [
           {
            "marker": {
             "colorbar": {
              "outlinewidth": 0,
              "ticks": ""
             }
            },
            "type": "scattercarpet"
           }
          ],
          "scattergeo": [
           {
            "marker": {
             "colorbar": {
              "outlinewidth": 0,
              "ticks": ""
             }
            },
            "type": "scattergeo"
           }
          ],
          "scattergl": [
           {
            "marker": {
             "colorbar": {
              "outlinewidth": 0,
              "ticks": ""
             }
            },
            "type": "scattergl"
           }
          ],
          "scattermapbox": [
           {
            "marker": {
             "colorbar": {
              "outlinewidth": 0,
              "ticks": ""
             }
            },
            "type": "scattermapbox"
           }
          ],
          "scatterpolar": [
           {
            "marker": {
             "colorbar": {
              "outlinewidth": 0,
              "ticks": ""
             }
            },
            "type": "scatterpolar"
           }
          ],
          "scatterpolargl": [
           {
            "marker": {
             "colorbar": {
              "outlinewidth": 0,
              "ticks": ""
             }
            },
            "type": "scatterpolargl"
           }
          ],
          "scatterternary": [
           {
            "marker": {
             "colorbar": {
              "outlinewidth": 0,
              "ticks": ""
             }
            },
            "type": "scatterternary"
           }
          ],
          "surface": [
           {
            "colorbar": {
             "outlinewidth": 0,
             "ticks": ""
            },
            "colorscale": [
             [
              0,
              "#0d0887"
             ],
             [
              0.1111111111111111,
              "#46039f"
             ],
             [
              0.2222222222222222,
              "#7201a8"
             ],
             [
              0.3333333333333333,
              "#9c179e"
             ],
             [
              0.4444444444444444,
              "#bd3786"
             ],
             [
              0.5555555555555556,
              "#d8576b"
             ],
             [
              0.6666666666666666,
              "#ed7953"
             ],
             [
              0.7777777777777778,
              "#fb9f3a"
             ],
             [
              0.8888888888888888,
              "#fdca26"
             ],
             [
              1,
              "#f0f921"
             ]
            ],
            "type": "surface"
           }
          ],
          "table": [
           {
            "cells": {
             "fill": {
              "color": "#EBF0F8"
             },
             "line": {
              "color": "white"
             }
            },
            "header": {
             "fill": {
              "color": "#C8D4E3"
             },
             "line": {
              "color": "white"
             }
            },
            "type": "table"
           }
          ]
         },
         "layout": {
          "annotationdefaults": {
           "arrowcolor": "#2a3f5f",
           "arrowhead": 0,
           "arrowwidth": 1
          },
          "autotypenumbers": "strict",
          "coloraxis": {
           "colorbar": {
            "outlinewidth": 0,
            "ticks": ""
           }
          },
          "colorscale": {
           "diverging": [
            [
             0,
             "#8e0152"
            ],
            [
             0.1,
             "#c51b7d"
            ],
            [
             0.2,
             "#de77ae"
            ],
            [
             0.3,
             "#f1b6da"
            ],
            [
             0.4,
             "#fde0ef"
            ],
            [
             0.5,
             "#f7f7f7"
            ],
            [
             0.6,
             "#e6f5d0"
            ],
            [
             0.7,
             "#b8e186"
            ],
            [
             0.8,
             "#7fbc41"
            ],
            [
             0.9,
             "#4d9221"
            ],
            [
             1,
             "#276419"
            ]
           ],
           "sequential": [
            [
             0,
             "#0d0887"
            ],
            [
             0.1111111111111111,
             "#46039f"
            ],
            [
             0.2222222222222222,
             "#7201a8"
            ],
            [
             0.3333333333333333,
             "#9c179e"
            ],
            [
             0.4444444444444444,
             "#bd3786"
            ],
            [
             0.5555555555555556,
             "#d8576b"
            ],
            [
             0.6666666666666666,
             "#ed7953"
            ],
            [
             0.7777777777777778,
             "#fb9f3a"
            ],
            [
             0.8888888888888888,
             "#fdca26"
            ],
            [
             1,
             "#f0f921"
            ]
           ],
           "sequentialminus": [
            [
             0,
             "#0d0887"
            ],
            [
             0.1111111111111111,
             "#46039f"
            ],
            [
             0.2222222222222222,
             "#7201a8"
            ],
            [
             0.3333333333333333,
             "#9c179e"
            ],
            [
             0.4444444444444444,
             "#bd3786"
            ],
            [
             0.5555555555555556,
             "#d8576b"
            ],
            [
             0.6666666666666666,
             "#ed7953"
            ],
            [
             0.7777777777777778,
             "#fb9f3a"
            ],
            [
             0.8888888888888888,
             "#fdca26"
            ],
            [
             1,
             "#f0f921"
            ]
           ]
          },
          "colorway": [
           "#636efa",
           "#EF553B",
           "#00cc96",
           "#ab63fa",
           "#FFA15A",
           "#19d3f3",
           "#FF6692",
           "#B6E880",
           "#FF97FF",
           "#FECB52"
          ],
          "font": {
           "color": "#2a3f5f"
          },
          "geo": {
           "bgcolor": "white",
           "lakecolor": "white",
           "landcolor": "#E5ECF6",
           "showlakes": true,
           "showland": true,
           "subunitcolor": "white"
          },
          "hoverlabel": {
           "align": "left"
          },
          "hovermode": "closest",
          "mapbox": {
           "style": "light"
          },
          "paper_bgcolor": "white",
          "plot_bgcolor": "#E5ECF6",
          "polar": {
           "angularaxis": {
            "gridcolor": "white",
            "linecolor": "white",
            "ticks": ""
           },
           "bgcolor": "#E5ECF6",
           "radialaxis": {
            "gridcolor": "white",
            "linecolor": "white",
            "ticks": ""
           }
          },
          "scene": {
           "xaxis": {
            "backgroundcolor": "#E5ECF6",
            "gridcolor": "white",
            "gridwidth": 2,
            "linecolor": "white",
            "showbackground": true,
            "ticks": "",
            "zerolinecolor": "white"
           },
           "yaxis": {
            "backgroundcolor": "#E5ECF6",
            "gridcolor": "white",
            "gridwidth": 2,
            "linecolor": "white",
            "showbackground": true,
            "ticks": "",
            "zerolinecolor": "white"
           },
           "zaxis": {
            "backgroundcolor": "#E5ECF6",
            "gridcolor": "white",
            "gridwidth": 2,
            "linecolor": "white",
            "showbackground": true,
            "ticks": "",
            "zerolinecolor": "white"
           }
          },
          "shapedefaults": {
           "line": {
            "color": "#2a3f5f"
           }
          },
          "ternary": {
           "aaxis": {
            "gridcolor": "white",
            "linecolor": "white",
            "ticks": ""
           },
           "baxis": {
            "gridcolor": "white",
            "linecolor": "white",
            "ticks": ""
           },
           "bgcolor": "#E5ECF6",
           "caxis": {
            "gridcolor": "white",
            "linecolor": "white",
            "ticks": ""
           }
          },
          "title": {
           "x": 0.05
          },
          "xaxis": {
           "automargin": true,
           "gridcolor": "white",
           "linecolor": "white",
           "ticks": "",
           "title": {
            "standoff": 15
           },
           "zerolinecolor": "white",
           "zerolinewidth": 2
          },
          "yaxis": {
           "automargin": true,
           "gridcolor": "white",
           "linecolor": "white",
           "ticks": "",
           "title": {
            "standoff": 15
           },
           "zerolinecolor": "white",
           "zerolinewidth": 2
          }
         }
        },
        "title": {
         "text": "Topic Distribution"
        },
        "xaxis": {
         "anchor": "y",
         "autorange": true,
         "domain": [
          0,
          1
         ],
         "range": [
          -0.5,
          14.5
         ],
         "tickangle": 45,
         "title": {
          "text": "Topics"
         },
         "type": "category"
        },
        "yaxis": {
         "anchor": "x",
         "autorange": true,
         "domain": [
          0,
          1
         ],
         "range": [
          0,
          1.1524450462662517
         ],
         "title": {
          "text": "Document Count"
         },
         "type": "linear"
        }
       }
      },
      "image/png": "[encoded data removed]",
      "text/html": [
       "<div>                            <div id=\"5b8bc815-d7d3-496b-874b-fd2bb83a8f10\" class=\"plotly-graph-div\" style=\"height:600px; width:100%;\"></div>            <script type=\"text/javascript\">                require([\"plotly\"], function(Plotly) {                    window.PLOTLYENV=window.PLOTLYENV || {};                                    if (document.getElementById(\"5b8bc815-d7d3-496b-874b-fd2bb83a8f10\")) {                    Plotly.newPlot(                        \"5b8bc815-d7d3-496b-874b-fd2bb83a8f10\",                        [{\"alignmentgroup\":\"True\",\"hovertemplate\":\"Topics=%{x}\\u003cbr\\u003eDocument Count=%{marker.color}\\u003cextra\\u003e\\u003c\\u002fextra\\u003e\",\"legendgroup\":\"\",\"marker\":{\"color\":[1.0077791941964802,1.0948227939529391,0.4606773267567924,0.576681216795568,0.25025571768286,0.18572030117827035,0.6950929480049791,0.2302003784092329,0.7221926633584871,0.9514255011250927,0.2989962420921767,0.39415507886158435,0.4675132986406204,0.5339409081535802,0.6892078524082894],\"coloraxis\":\"coloraxis\",\"pattern\":{\"shape\":\"\"}},\"name\":\"\",\"offsetgroup\":\"\",\"orientation\":\"v\",\"showlegend\":false,\"textposition\":\"auto\",\"x\":[\"Australian Politics\",\"Indigenous America\",\"Epstein Cases\",\"Australian News\",\"Cybersecurity\",\"Deception and Privacy(AI)\",\"Identification and Surveillance(AI)\",\"Disinformation(AI)\",\"Market Indicators\",\"Safety and Regulations(AI)\",\"Online Harms and legal Issues\",\"Market Competition\",\"Political Conspiracies\",\"Global Economic Forum (Davos)\",\"Gaza and Israel War\"],\"xaxis\":\"x\",\"y\":[1.0077791941964802,1.0948227939529391,0.4606773267567924,0.576681216795568,0.25025571768286,0.18572030117827035,0.6950929480049791,0.2302003784092329,0.7221926633584871,0.9514255011250927,0.2989962420921767,0.39415507886158435,0.4675132986406204,0.5339409081535802,0.6892078524082894],\"yaxis\":\"y\",\"type\":\"bar\"}],                        {\"template\":{\"data\":{\"histogram2dcontour\":[{\"type\":\"histogram2dcontour\",\"colorbar\":{\"outlinewidth\":0,\"ticks\":\"\"},\"colorscale\":[[0.0,\"#0d0887\"],[0.1111111111111111,\"#46039f\"],[0.2222222222222222,\"#7201a8\"],[0.3333333333333333,\"#9c179e\"],[0.4444444444444444,\"#bd3786\"],[0.5555555555555556,\"#d8576b\"],[0.6666666666666666,\"#ed7953\"],[0.7777777777777778,\"#fb9f3a\"],[0.8888888888888888,\"#fdca26\"],[1.0,\"#f0f921\"]]}],\"choropleth\":[{\"type\":\"choropleth\",\"colorbar\":{\"outlinewidth\":0,\"ticks\":\"\"}}],\"histogram2d\":[{\"type\":\"histogram2d\",\"colorbar\":{\"outlinewidth\":0,\"ticks\":\"\"},\"colorscale\":[[0.0,\"#0d0887\"],[0.1111111111111111,\"#46039f\"],[0.2222222222222222,\"#7201a8\"],[0.3333333333333333,\"#9c179e\"],[0.4444444444444444,\"#bd3786\"],[0.5555555555555556,\"#d8576b\"],[0.6666666666666666,\"#ed7953\"],[0.7777777777777778,\"#fb9f3a\"],[0.8888888888888888,\"#fdca26\"],[1.0,\"#f0f921\"]]}],\"heatmap\":[{\"type\":\"heatmap\",\"colorbar\":{\"outlinewidth\":0,\"ticks\":\"\"},\"colorscale\":[[0.0,\"#0d0887\"],[0.1111111111111111,\"#46039f\"],[0.2222222222222222,\"#7201a8\"],[0.3333333333333333,\"#9c179e\"],[0.4444444444444444,\"#bd3786\"],[0.5555555555555556,\"#d8576b\"],[0.6666666666666666,\"#ed7953\"],[0.7777777777777778,\"#fb9f3a\"],[0.8888888888888888,\"#fdca26\"],[1.0,\"#f0f921\"]]}],\"heatmapgl\":[{\"type\":\"heatmapgl\",\"colorbar\":{\"outlinewidth\":0,\"ticks\":\"\"},\"colorscale\":[[0.0,\"#0d0887\"],[0.1111111111111111,\"#46039f\"],[0.2222222222222222,\"#7201a8\"],[0.3333333333333333,\"#9c179e\"],[0.4444444444444444,\"#bd3786\"],[0.5555555555555556,\"#d8576b\"],[0.6666666666666666,\"#ed7953\"],[0.7777777777777778,\"#fb9f3a\"],[0.8888888888888888,\"#fdca26\"],[1.0,\"#f0f921\"]]}],\"contourcarpet\":[{\"type\":\"contourcarpet\",\"colorbar\":{\"outlinewidth\":0,\"ticks\":\"\"}}],\"contour\":[{\"type\":\"contour\",\"colorbar\":{\"outlinewidth\":0,\"ticks\":\"\"},\"colorscale\":[[0.0,\"#0d0887\"],[0.1111111111111111,\"#46039f\"],[0.2222222222222222,\"#7201a8\"],[0.3333333333333333,\"#9c179e\"],[0.4444444444444444,\"#bd3786\"],[0.5555555555555556,\"#d8576b\"],[0.6666666666666666,\"#ed7953\"],[0.7777777777777778,\"#fb9f3a\"],[0.8888888888888888,\"#fdca26\"],[1.0,\"#f0f921\"]]}],\"surface\":[{\"type\":\"surface\",\"colorbar\":{\"outlinewidth\":0,\"ticks\":\"\"},\"colorscale\":[[0.0,\"#0d0887\"],[0.1111111111111111,\"#46039f\"],[0.2222222222222222,\"#7201a8\"],[0.3333333333333333,\"#9c179e\"],[0.4444444444444444,\"#bd3786\"],[0.5555555555555556,\"#d8576b\"],[0.6666666666666666,\"#ed7953\"],[0.7777777777777778,\"#fb9f3a\"],[0.8888888888888888,\"#fdca26\"],[1.0,\"#f0f921\"]]}],\"mesh3d\":[{\"type\":\"mesh3d\",\"colorbar\":{\"outlinewidth\":0,\"ticks\":\"\"}}],\"scatter\":[{\"fillpattern\":{\"fillmode\":\"overlay\",\"size\":10,\"solidity\":0.2},\"type\":\"scatter\"}],\"parcoords\":[{\"type\":\"parcoords\",\"line\":{\"colorbar\":{\"outlinewidth\":0,\"ticks\":\"\"}}}],\"scatterpolargl\":[{\"type\":\"scatterpolargl\",\"marker\":{\"colorbar\":{\"outlinewidth\":0,\"ticks\":\"\"}}}],\"bar\":[{\"error_x\":{\"color\":\"#2a3f5f\"},\"error_y\":{\"color\":\"#2a3f5f\"},\"marker\":{\"line\":{\"color\":\"#E5ECF6\",\"width\":0.5},\"pattern\":{\"fillmode\":\"overlay\",\"size\":10,\"solidity\":0.2}},\"type\":\"bar\"}],\"scattergeo\":[{\"type\":\"scattergeo\",\"marker\":{\"colorbar\":{\"outlinewidth\":0,\"ticks\":\"\"}}}],\"scatterpolar\":[{\"type\":\"scatterpolar\",\"marker\":{\"colorbar\":{\"outlinewidth\":0,\"ticks\":\"\"}}}],\"histogram\":[{\"marker\":{\"pattern\":{\"fillmode\":\"overlay\",\"size\":10,\"solidity\":0.2}},\"type\":\"histogram\"}],\"scattergl\":[{\"type\":\"scattergl\",\"marker\":{\"colorbar\":{\"outlinewidth\":0,\"ticks\":\"\"}}}],\"scatter3d\":[{\"type\":\"scatter3d\",\"line\":{\"colorbar\":{\"outlinewidth\":0,\"ticks\":\"\"}},\"marker\":{\"colorbar\":{\"outlinewidth\":0,\"ticks\":\"\"}}}],\"scattermapbox\":[{\"type\":\"scattermapbox\",\"marker\":{\"colorbar\":{\"outlinewidth\":0,\"ticks\":\"\"}}}],\"scatterternary\":[{\"type\":\"scatterternary\",\"marker\":{\"colorbar\":{\"outlinewidth\":0,\"ticks\":\"\"}}}],\"scattercarpet\":[{\"type\":\"scattercarpet\",\"marker\":{\"colorbar\":{\"outlinewidth\":0,\"ticks\":\"\"}}}],\"carpet\":[{\"aaxis\":{\"endlinecolor\":\"#2a3f5f\",\"gridcolor\":\"white\",\"linecolor\":\"white\",\"minorgridcolor\":\"white\",\"startlinecolor\":\"#2a3f5f\"},\"baxis\":{\"endlinecolor\":\"#2a3f5f\",\"gridcolor\":\"white\",\"linecolor\":\"white\",\"minorgridcolor\":\"white\",\"startlinecolor\":\"#2a3f5f\"},\"type\":\"carpet\"}],\"table\":[{\"cells\":{\"fill\":{\"color\":\"#EBF0F8\"},\"line\":{\"color\":\"white\"}},\"header\":{\"fill\":{\"color\":\"#C8D4E3\"},\"line\":{\"color\":\"white\"}},\"type\":\"table\"}],\"barpolar\":[{\"marker\":{\"line\":{\"color\":\"#E5ECF6\",\"width\":0.5},\"pattern\":{\"fillmode\":\"overlay\",\"size\":10,\"solidity\":0.2}},\"type\":\"barpolar\"}],\"pie\":[{\"automargin\":true,\"type\":\"pie\"}]},\"layout\":{\"autotypenumbers\":\"strict\",\"colorway\":[\"#636efa\",\"#EF553B\",\"#00cc96\",\"#ab63fa\",\"#FFA15A\",\"#19d3f3\",\"#FF6692\",\"#B6E880\",\"#FF97FF\",\"#FECB52\"],\"font\":{\"color\":\"#2a3f5f\"},\"hovermode\":\"closest\",\"hoverlabel\":{\"align\":\"left\"},\"paper_bgcolor\":\"white\",\"plot_bgcolor\":\"#E5ECF6\",\"polar\":{\"bgcolor\":\"#E5ECF6\",\"angularaxis\":{\"gridcolor\":\"white\",\"linecolor\":\"white\",\"ticks\":\"\"},\"radialaxis\":{\"gridcolor\":\"white\",\"linecolor\":\"white\",\"ticks\":\"\"}},\"ternary\":{\"bgcolor\":\"#E5ECF6\",\"aaxis\":{\"gridcolor\":\"white\",\"linecolor\":\"white\",\"ticks\":\"\"},\"baxis\":{\"gridcolor\":\"white\",\"linecolor\":\"white\",\"ticks\":\"\"},\"caxis\":{\"gridcolor\":\"white\",\"linecolor\":\"white\",\"ticks\":\"\"}},\"coloraxis\":{\"colorbar\":{\"outlinewidth\":0,\"ticks\":\"\"}},\"colorscale\":{\"sequential\":[[0.0,\"#0d0887\"],[0.1111111111111111,\"#46039f\"],[0.2222222222222222,\"#7201a8\"],[0.3333333333333333,\"#9c179e\"],[0.4444444444444444,\"#bd3786\"],[0.5555555555555556,\"#d8576b\"],[0.6666666666666666,\"#ed7953\"],[0.7777777777777778,\"#fb9f3a\"],[0.8888888888888888,\"#fdca26\"],[1.0,\"#f0f921\"]],\"sequentialminus\":[[0.0,\"#0d0887\"],[0.1111111111111111,\"#46039f\"],[0.2222222222222222,\"#7201a8\"],[0.3333333333333333,\"#9c179e\"],[0.4444444444444444,\"#bd3786\"],[0.5555555555555556,\"#d8576b\"],[0.6666666666666666,\"#ed7953\"],[0.7777777777777778,\"#fb9f3a\"],[0.8888888888888888,\"#fdca26\"],[1.0,\"#f0f921\"]],\"diverging\":[[0,\"#8e0152\"],[0.1,\"#c51b7d\"],[0.2,\"#de77ae\"],[0.3,\"#f1b6da\"],[0.4,\"#fde0ef\"],[0.5,\"#f7f7f7\"],[0.6,\"#e6f5d0\"],[0.7,\"#b8e186\"],[0.8,\"#7fbc41\"],[0.9,\"#4d9221\"],[1,\"#276419\"]]},\"xaxis\":{\"gridcolor\":\"white\",\"linecolor\":\"white\",\"ticks\":\"\",\"title\":{\"standoff\":15},\"zerolinecolor\":\"white\",\"automargin\":true,\"zerolinewidth\":2},\"yaxis\":{\"gridcolor\":\"white\",\"linecolor\":\"white\",\"ticks\":\"\",\"title\":{\"standoff\":15},\"zerolinecolor\":\"white\",\"automargin\":true,\"zerolinewidth\":2},\"scene\":{\"xaxis\":{\"backgroundcolor\":\"#E5ECF6\",\"gridcolor\":\"white\",\"linecolor\":\"white\",\"showbackground\":true,\"ticks\":\"\",\"zerolinecolor\":\"white\",\"gridwidth\":2},\"yaxis\":{\"backgroundcolor\":\"#E5ECF6\",\"gridcolor\":\"white\",\"linecolor\":\"white\",\"showbackground\":true,\"ticks\":\"\",\"zerolinecolor\":\"white\",\"gridwidth\":2},\"zaxis\":{\"backgroundcolor\":\"#E5ECF6\",\"gridcolor\":\"white\",\"linecolor\":\"white\",\"showbackground\":true,\"ticks\":\"\",\"zerolinecolor\":\"white\",\"gridwidth\":2}},\"shapedefaults\":{\"line\":{\"color\":\"#2a3f5f\"}},\"annotationdefaults\":{\"arrowcolor\":\"#2a3f5f\",\"arrowhead\":0,\"arrowwidth\":1},\"geo\":{\"bgcolor\":\"white\",\"landcolor\":\"#E5ECF6\",\"subunitcolor\":\"white\",\"showland\":true,\"showlakes\":true,\"lakecolor\":\"white\"},\"title\":{\"x\":0.05},\"mapbox\":{\"style\":\"light\"}}},\"xaxis\":{\"anchor\":\"y\",\"domain\":[0.0,1.0],\"title\":{\"text\":\"Topics\"},\"tickangle\":45},\"yaxis\":{\"anchor\":\"x\",\"domain\":[0.0,1.0],\"title\":{\"text\":\"Document Count\"}},\"coloraxis\":{\"colorbar\":{\"title\":{\"text\":\"Document Count\"}},\"colorscale\":[[0.0,\"#1f77b4\"],[0.07142857142857142,\"#ff7f0e\"],[0.14285714285714285,\"#2ca02c\"],[0.21428571428571427,\"#d62728\"],[0.2857142857142857,\"#9467bd\"],[0.35714285714285715,\"#8c564b\"],[0.42857142857142855,\"#e377c2\"],[0.5,\"#7f7f7f\"],[0.5714285714285714,\"#bcbd22\"],[0.6428571428571429,\"#17becf\"],[0.7142857142857143,\"#ff0000\"],[0.7857142857142857,\"#00ff00\"],[0.8571428571428571,\"#0000ff\"],[0.9285714285714286,\"#ffff00\"],[1.0,\"#00ffff\"]]},\"legend\":{\"tracegroupgap\":0},\"title\":{\"text\":\"Topic Distribution\"},\"barmode\":\"relative\",\"height\":600},                        {\"responsive\": true}                    ).then(function(){\n",
       "                            \n",
       "var gd = document.getElementById('5b8bc815-d7d3-496b-874b-fd2bb83a8f10');\n",
       "var x = new MutationObserver(function (mutations, observer) {{\n",
       "        var display = window.getComputedStyle(gd).display;\n",
       "        if (!display || display === 'none') {{\n",
       "            console.log([gd, 'removed!']);\n",
       "            Plotly.purge(gd);\n",
       "            observer.disconnect();\n",
       "        }}\n",
       "}});\n",
       "\n",
       "// Listen for the removal of the full notebook cells\n",
       "var notebookContainer = gd.closest('#notebook-container');\n",
       "if (notebookContainer) {{\n",
       "    x.observe(notebookContainer, {childList: true});\n",
       "}}\n",
       "\n",
       "// Listen for the clearing of the current output cell\n",
       "var outputEl = gd.closest('.output');\n",
       "if (outputEl) {{\n",
       "    x.observe(outputEl, {childList: true});\n",
       "}}\n",
       "\n",
       "                        })                };                });            </script>        </div>"
      ]
     },
     "metadata": {},
     "output_type": "display_data"
    }
   ],
   "source": [
    "# code has been generated with the help of Chatgpt\n",
    "\n",
    "# Calculate topic distribution (sum of topic weights across all documents)\n",
    "topic_distribution = doc_topic_nmf.sum(axis=0)\n",
    "\n",
    "# Update topic_labels_list based on the updated topic_labels dictionary\n",
    "topic_labels_list = [topic_labels[i] for i in range(num_topics)]\n",
    "\n",
    "# Convert topic distribution and labels to a DataFrame\n",
    "topic_distribution_df = pd.DataFrame({'Topics': topic_labels_list, 'Document Count': topic_distribution})\n",
    "\n",
    "# Create a custom color palette for the bars\n",
    "custom_colors = ['#1f77b4', '#ff7f0e', '#2ca02c', '#d62728', '#9467bd', \n",
    "                 '#8c564b', '#e377c2', '#7f7f7f', '#bcbd22', '#17becf',\n",
    "                 '#ff0000', '#00ff00', '#0000ff', '#ffff00', '#00ffff']\n",
    "\n",
    "# Create a bar plot using Plotly Express with custom colors\n",
    "fig = px.bar(topic_distribution_df, x='Topics', y='Document Count', \n",
    "             title='Topic Distribution',\n",
    "             labels={'Document Count': 'Document Count', 'Topics': 'Topics'},\n",
    "             color='Document Count',\n",
    "             color_continuous_scale=custom_colors)\n",
    "\n",
    "# Rotate x-axis labels\n",
    "fig.update_layout(xaxis=dict(tickangle=45))\n",
    "\n",
    "# Increase the height of the graph\n",
    "fig.update_layout(height=600)\n",
    "\n",
    "# Show the plot\n",
    "fig.show()\n"
   ]
  },
  {
   "cell_type": "markdown",
   "id": "13a1acf7-cfea-45b2-a665-4f1fdea60f12",
   "metadata": {},
   "source": [
    "## INSIGHTS:\n",
    "The chart visualizes the relationship between topics and their document counts within the text corpus.\n",
    "\n",
    "X-axis (Topics): Each bar on the chart represents a topic derived from the text corpus. The topics are labeled based on their content or themes, as assigned in the topic_labels dictionary.\n",
    "\n",
    "Y-axis (Document Count): The height of each bar represents the total number of documents in the corpus associated with the corresponding topic. It indicates the prevalence or frequency of each topic within the corpus.\n",
    "\n",
    "To conclude, leveraging topic modeling, tfidf, and nmf methods, I've identified four significant risks or challenges facing users, regulators, and lawmakers in the context of AI in the near future:\n",
    "\n",
    "Deception and Privacy Risk, \n",
    "Identification and Surveillance Risk, \n",
    "Safety and Regulations Risk, \n",
    "Disinformation Risk.\n",
    "\n",
    "The higher document count associated with the safety and regulations risk underscores the urgent need for swift and comprehensive directives aimed at addressing safety concerns and establishing robust regulatory frameworks to mitigate potential risks associated with AI technologies.\n",
    "\n",
    "## Ethical Consideration: Unawareness and Lack of Capacity:\n",
    "\n",
    "My analysis that swift and comprehensive directives aimed at addressing safety concerns and establishing robust regulatory frameworks to mitigate potential risks associated with AI technologies may be weak on ethical ground because the regulators and law makers may not have the technical background necessary to fully comprehend the complexities of AI technology. This gap in understanding can lead to misinformed decisions, inadequate regulations, and an inability to anticipate or mitigate risks effectively."
   ]
  },
  {
   "cell_type": "markdown",
   "id": "8aafd73c-1954-44af-aff1-e02bef628c19",
   "metadata": {},
   "source": [
    "## FURTHER ANALYSIS USING MACHINE LEARNING TECHNIQUE"
   ]
  },
  {
   "cell_type": "markdown",
   "id": "74d6ae85-840f-421e-9506-8d9ae776b4b1",
   "metadata": {},
   "source": [
    "In this step, I would like to group documents into clusters based on their topic distributions using Kmeans machine learning technique and then determine and assign a dominant topic to each cluster which would again emphasise the importance of topics within documents. Further, it will also organize and identify common themes among documents."
   ]
  },
  {
   "cell_type": "code",
   "execution_count": 73,
   "id": "e1751a2f-f79e-43ae-84ad-dcd61a47dfff",
   "metadata": {},
   "outputs": [
    {
     "data": {
      "text/plain": [
       "array([ 8,  1,  6,  1,  1,  0,  0,  4, 10,  4, 13,  2, 13, 14,  4, 12,  5,\n",
       "       13,  0,  0, 10,  5,  9,  5, 11,  5,  5,  7,  9,  6,  7,  7, 11,  2,\n",
       "        7,  5,  3,  7,  2,  5,  7,  5, 11, 11, 11,  7, 11,  3,  7],\n",
       "      dtype=int32)"
      ]
     },
     "execution_count": 73,
     "metadata": {},
     "output_type": "execute_result"
    }
   ],
   "source": [
    "# Fit KMeans clustering model\n",
    "num_clusters = num_topics  # Using the number of topics as the number of clusters\n",
    "kmeans = KMeans(n_clusters=num_clusters, random_state=42)\n",
    "cluster_labels = kmeans.fit_predict(doc_topic_nmf)\n",
    "\n",
    "cluster_labels"
   ]
  },
  {
   "cell_type": "code",
   "execution_count": 74,
   "id": "18db619a-156f-4142-b94d-278d4bd09f11",
   "metadata": {},
   "outputs": [
    {
     "name": "stdout",
     "output_type": "stream",
     "text": [
      "Cluster 0 (Disinformation(AI)): [5, 6, 18, 19]\n",
      "Cluster 1 (Safety and Regulations(AI)): [1, 3, 4]\n",
      "Cluster 2 (Indigenous America): [11, 33, 38]\n",
      "Cluster 3 (Gaza and Israel War): [36, 47]\n",
      "Cluster 4 (Political Conspiracies): [7, 9, 14]\n",
      "Cluster 5 (Market Indicators): [16, 21, 23, 25, 26, 35, 39, 41]\n",
      "Cluster 6 (Epstein Cases): [2, 29]\n",
      "Cluster 7 (Australian Politics): [27, 30, 31, 34, 37, 40, 45, 48]\n",
      "Cluster 8 (Market Competition): [0]\n",
      "Cluster 9 (Global Economic Forum (Davos)): [22, 28]\n",
      "Cluster 10 (Online Harms and legal Issues): [8, 20]\n",
      "Cluster 11 (Australian News): [24, 32, 42, 43, 44, 46]\n",
      "Cluster 12 (Cybersecurity): [15]\n",
      "Cluster 13 (Identification and Surveillance(AI)): [10, 12, 17]\n",
      "Cluster 14 (Indigenous America): [13]\n"
     ]
    }
   ],
   "source": [
    "# code has been generated with the help of Chatgpt\n",
    "\n",
    "# Group documents by cluster\n",
    "clusters = {i: [] for i in range(num_clusters)}\n",
    "for doc_index, cluster_label in enumerate(cluster_labels):\n",
    "    clusters[cluster_label].append(doc_index)\n",
    "\n",
    "# Determine the dominant topic in each cluster\n",
    "cluster_topic_distribution = np.zeros((num_clusters, num_topics))\n",
    "\n",
    "for cluster_label, doc_indices in clusters.items():\n",
    "    for doc_index in doc_indices:\n",
    "        cluster_topic_distribution[cluster_label] += doc_topic_nmf[doc_index]\n",
    "\n",
    "# Assign cluster names based on the dominant topics\n",
    "cluster_names = {}\n",
    "for cluster_label in range(num_clusters):\n",
    "    dominant_topic = np.argmax(cluster_topic_distribution[cluster_label])\n",
    "    cluster_names[cluster_label] = topic_labels[dominant_topic]\n",
    "\n",
    "# Print the cluster name and documents in each cluster\n",
    "for cluster_label, doc_indices in clusters.items():\n",
    "    print(f\"Cluster {cluster_label} ({cluster_names[cluster_label]}): {doc_indices}\")"
   ]
  },
  {
   "cell_type": "markdown",
   "id": "2a569b19-89e9-4250-872c-c272ffb23328",
   "metadata": {},
   "source": [
    "## INSIGHTS:\n",
    "\n",
    "The above output illustrate the following insights.\n",
    "\n",
    "1. Clustering Documents: By using KMeans clustering, the code groups documents that have similar topic distributions (as identified by NMF).\n",
    "2. Determining Dominant Topics: For each cluster, it calculates the overall topic distribution and identifies the most prevalent topic within the cluster.\n",
    "3. Assigning Cluster Names: Based on the dominant topic, it assigns a descriptive name to each cluster.\n",
    "4. Visualizing Results: Finally, it prints out the cluster names and the documents belonging to each cluster, which helps in understanding the composition of each cluster in terms of topic distribution.\n",
    "\n",
    "## Ethical Point of View: Verification and Validation:\n",
    "\n",
    "My limited understanding of K-means means I may not fully grasp the nuances and potential pitfalls of the algorithm, such as how it handles different types of data or the influence of initial centroids. This can lead to weak reasoning and conclusions based on the algorithm's output, undermining the credibility of my analysis. It becomes difficult to ensure that the clusters identified are meaningful and accurately represent the underlying data patterns.\n"
   ]
  },
  {
   "cell_type": "code",
   "execution_count": null,
   "id": "56ac74dc-a4b4-47aa-b64e-ef0dde401a6e",
   "metadata": {},
   "outputs": [],
   "source": []
  }
 ],
 "metadata": {
  "creation_period": "",
  "kernelspec": {
   "display_name": "Python 3 (ipykernel)",
   "language": "python",
   "name": "python3"
  },
  "language_info": {
   "codemirror_mode": {
    "name": "ipython",
    "version": 3
   },
   "file_extension": ".py",
   "mimetype": "text/x-python",
   "name": "python",
   "nbconvert_exporter": "python",
   "pygments_lexer": "ipython3",
   "version": "3.10.13"
  },
  "nb_name": "template",
  "qut": {
   "creation_period": "2023_sem1",
   "nb_name": "template-assignment2",
   "unit_code": "IFN619"
  },
  "unit_code": "",
  "vscode": {
   "interpreter": {
    "hash": "d4d1e4263499bec80672ea0156c357c1ee493ec2b1c70f0acce89fc37c4a6abe"
   }
  }
 },
 "nbformat": 4,
 "nbformat_minor": 5
}
