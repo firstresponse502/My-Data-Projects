{
 "cells": [
  {
   "cell_type": "markdown",
   "id": "6ef62cbd-2ea0-442e-973e-e50ca1e97fa2",
   "metadata": {
    "cell_name": "header_cell"
   },
   "source": [
    "<div style=\"background:#FFFFEE; color:#440404; padding:8px; border-radius: 4px; text-align: center; font-weight: 500;\">IFN619 - Data Analytics for Strategic Decision Makers (2024 Sem 1)</div>"
   ]
  },
  {
   "cell_type": "markdown",
   "id": "ff597d6e-cdac-4d1a-b657-f6d756380ae3",
   "metadata": {
    "cell_name": "title_cell"
   },
   "source": [
    "# IFN619 :: UA1 - Assignment 1 - Foundational techniques (40%)\n",
    "\n",
    "**IMPORTANT:** Refer to the instructions in Canvas module [UA1 - Assignment 1]() *BEFORE* working on this assignment. Ensure that you are familiar with the marking rubric and understand how the grade for this assignment will be awarded according to the criteria.\n",
    "\n",
    "1. Complete and run the code cell below to display your name and student number\n",
    "2. Complete all questions in Part A (within 2 weeks) - you can get assistance from your tutor with this part.\n",
    "3. Ensure that your tutor has verified your understanding of your work in Part A (no later than week 5)\n",
    "4. Complete a full analysis for Part B. Ensure that you use the techniques and libraries/packages that have been used in class.\n",
    "5. Submit your final notebook on Canvas [UA1 - Assignment 1]()\n"
   ]
  },
  {
   "cell_type": "code",
   "execution_count": 1,
   "id": "763f6f63",
   "metadata": {},
   "outputs": [
    {
     "data": {
      "text/html": [
       "<h1>Adnan Chowdhry (11869828)</h1>"
      ],
      "text/plain": [
       "<IPython.core.display.HTML object>"
      ]
     },
     "execution_count": 1,
     "metadata": {},
     "output_type": "execute_result"
    }
   ],
   "source": [
    "# Complete the following cell with your details and run to produce your personalised header for this assignment\n",
    "\n",
    "from IPython.display import HTML\n",
    "\n",
    "first_name = 'Adnan'\n",
    "last_name = 'Chowdhry'\n",
    "student_number = 11869828\n",
    "\n",
    "personal_header = f\"<h1>{first_name} {last_name} ({student_number})</h1>\"\n",
    "\n",
    "HTML(personal_header)"
   ]
  },
  {
   "cell_type": "markdown",
   "id": "81caa994",
   "metadata": {},
   "source": [
    "---\n",
    "\n",
    "## Data for both Part A and Part B\n",
    "\n",
    "This assignment uses data from the Queensland Government [Open Data Portal](https://www.data.qld.gov.au). Both parts will use data on [Advance Queensland Funding Recipients](https://www.data.qld.gov.au/dataset/advance-queensland-funding-recipients). You should familiarise yourself with the [Advance Queensland Program and Grants](https://advance.qld.gov.au) to understand the context for the data. You should also refer to the `field descriptions` metadata to better understand the fields that are relevant to the `funding recipients` data."
   ]
  },
  {
   "cell_type": "markdown",
   "id": "24fbcf4f",
   "metadata": {},
   "source": [
    "---\n",
    "## Part A\n",
    "\n",
    "**IMPORTANT** For the following task, keep a record of the dates and times where you demonstrated your understanding with your tutor. These should be AFTER you have completed the questions, and BEFORE week 5."
   ]
  },
  {
   "cell_type": "markdown",
   "id": "10629964",
   "metadata": {},
   "source": [
    "### [Q1] Read the data\n",
    "\n",
    "- Open the CSV version of the file. Open directly from the URL into a pandas dataframe.\n",
    "- Identify an appropriate index, and make a note of the columns."
   ]
  },
  {
   "cell_type": "code",
   "execution_count": 3,
   "id": "d50aaa03",
   "metadata": {},
   "outputs": [],
   "source": [
    "# To use pandas, we need to import it (normally as 'pd')\n",
    "import pandas as pd\n",
    "\n",
    "# We can then open a CSV file into a new dataframe from a url\n",
    "funding_recipients_data = \"https://www.data.qld.gov.au/dataset/db190f2d-f866-4811-9a6e-4b78744b551b/resource/0f97b985-f5c7-49d2-8b0a-bc5dfbe070b9/download/advance-queensland-funding-recipients.csv\""
   ]
  },
  {
   "cell_type": "code",
   "execution_count": 4,
   "id": "4707d67f",
   "metadata": {},
   "outputs": [],
   "source": [
    "df = pd.read_csv(funding_recipients_data, encoding='latin 1')"
   ]
  },
  {
   "cell_type": "code",
   "execution_count": 5,
   "id": "c2c763a5-7fc2-43c9-9bd8-d0da046f39fd",
   "metadata": {},
   "outputs": [
    {
     "data": {
      "text/plain": [
       "(1414, 16)"
      ]
     },
     "execution_count": 5,
     "metadata": {},
     "output_type": "execute_result"
    }
   ],
   "source": [
    "# finding rows and columns in data\n",
    "df.shape"
   ]
  },
  {
   "cell_type": "code",
   "execution_count": 6,
   "id": "209723ba-efb7-42c2-a8d2-bc90f343db8c",
   "metadata": {},
   "outputs": [
    {
     "name": "stdout",
     "output_type": "stream",
     "text": [
      "Program Name                                               object\n",
      "Round                                                      object\n",
      "Recipient Name                                             object\n",
      "Physical Address of Recipient - Suburb/Location            object\n",
      "Physical Address of Recipient - Post Code                 float64\n",
      "University Collaborator (if applicable)                    object\n",
      "Other Partners/ Collaborators (if applicable)              object\n",
      "Investment/Project Title                                   object\n",
      "Primary Location of Activity/Project - Suburb/Location     object\n",
      "Primary Location of Activity/Project - Post Code          float64\n",
      "Multiple Locations of Activity/Project                     object\n",
      "Approval date                                              object\n",
      "Local Government Area (LGA)                                object\n",
      "RAP Region (based on Project Location)                     object\n",
      "State Electorate                                           object\n",
      "Contractual Commitment (GST excl.)                         object\n",
      "dtype: object\n"
     ]
    }
   ],
   "source": [
    "# listing data types of columns \n",
    "print(df.dtypes)"
   ]
  },
  {
   "cell_type": "code",
   "execution_count": 7,
   "id": "b681f015",
   "metadata": {},
   "outputs": [],
   "source": [
    "df.rename(columns={'Contractual Commitment (GST excl.)': 'Funding Amount'}, inplace=True)"
   ]
  },
  {
   "cell_type": "code",
   "execution_count": 8,
   "id": "8892f872",
   "metadata": {},
   "outputs": [
    {
     "data": {
      "text/html": [
       "<div>\n",
       "<style scoped>\n",
       "    .dataframe tbody tr th:only-of-type {\n",
       "        vertical-align: middle;\n",
       "    }\n",
       "\n",
       "    .dataframe tbody tr th {\n",
       "        vertical-align: top;\n",
       "    }\n",
       "\n",
       "    .dataframe thead th {\n",
       "        text-align: right;\n",
       "    }\n",
       "</style>\n",
       "<table border=\"1\" class=\"dataframe\">\n",
       "  <thead>\n",
       "    <tr style=\"text-align: right;\">\n",
       "      <th></th>\n",
       "      <th>Program Name</th>\n",
       "      <th>Round</th>\n",
       "      <th>Recipient Name</th>\n",
       "      <th>Physical Address of Recipient - Suburb/Location</th>\n",
       "      <th>Physical Address of Recipient - Post Code</th>\n",
       "      <th>University Collaborator (if applicable)</th>\n",
       "      <th>Other Partners/ Collaborators (if applicable)</th>\n",
       "      <th>Investment/Project Title</th>\n",
       "      <th>Primary Location of Activity/Project - Suburb/Location</th>\n",
       "      <th>Primary Location of Activity/Project - Post Code</th>\n",
       "      <th>Multiple Locations of Activity/Project</th>\n",
       "      <th>Approval date</th>\n",
       "      <th>Local Government Area (LGA)</th>\n",
       "      <th>RAP Region (based on Project Location)</th>\n",
       "      <th>State Electorate</th>\n",
       "      <th>Funding Amount</th>\n",
       "    </tr>\n",
       "  </thead>\n",
       "  <tbody>\n",
       "    <tr>\n",
       "      <th>0</th>\n",
       "      <td>Aboriginal and Torres Strait Islander PhD Scho...</td>\n",
       "      <td>AQ Aboriginal &amp; Torres Strait Islander PhD Sch...</td>\n",
       "      <td>Central Queensland University</td>\n",
       "      <td>Norman Gardens</td>\n",
       "      <td>4701.0</td>\n",
       "      <td>NaN</td>\n",
       "      <td>BHP Billiton</td>\n",
       "      <td>Decolonising the systematic barriers and enabl...</td>\n",
       "      <td>Brisbane City</td>\n",
       "      <td>4001.0</td>\n",
       "      <td>NaN</td>\n",
       "      <td>14/06/2019 0:00</td>\n",
       "      <td>Rockhampton (R)</td>\n",
       "      <td>Brisbane and Redlands</td>\n",
       "      <td>Keppel</td>\n",
       "      <td>$107,084</td>\n",
       "    </tr>\n",
       "    <tr>\n",
       "      <th>1</th>\n",
       "      <td>Aboriginal and Torres Strait Islander PhD Scho...</td>\n",
       "      <td>AQ Aboriginal &amp; Torres Strait Islander PhD Sch...</td>\n",
       "      <td>Griffith University</td>\n",
       "      <td>Nathan</td>\n",
       "      <td>4111.0</td>\n",
       "      <td>NaN</td>\n",
       "      <td>NaN</td>\n",
       "      <td>An indigenous journey through the 21st century...</td>\n",
       "      <td>Nathan</td>\n",
       "      <td>4111.0</td>\n",
       "      <td>NaN</td>\n",
       "      <td>28/01/2016 0:00</td>\n",
       "      <td>Brisbane (C)</td>\n",
       "      <td>Brisbane and Redlands</td>\n",
       "      <td>Toohey</td>\n",
       "      <td>$117,500</td>\n",
       "    </tr>\n",
       "    <tr>\n",
       "      <th>2</th>\n",
       "      <td>Aboriginal and Torres Strait Islander Research...</td>\n",
       "      <td>AQ Aboriginal &amp; Torres Strait Islander Researc...</td>\n",
       "      <td>CSIRO</td>\n",
       "      <td>Smithfield</td>\n",
       "      <td>4878.0</td>\n",
       "      <td>NaN</td>\n",
       "      <td>CSIRO</td>\n",
       "      <td>Transforming hidden data: An integrative infor...</td>\n",
       "      <td>Smithfield</td>\n",
       "      <td>4878.0</td>\n",
       "      <td>NaN</td>\n",
       "      <td>28/01/2016 0:00</td>\n",
       "      <td>Cairns (R)</td>\n",
       "      <td>Far North Queensland</td>\n",
       "      <td>Barron River</td>\n",
       "      <td>$158,032</td>\n",
       "    </tr>\n",
       "    <tr>\n",
       "      <th>3</th>\n",
       "      <td>Aboriginal and Torres Strait Islander Research...</td>\n",
       "      <td>AQ Aboriginal &amp; Torres Strait Islander Researc...</td>\n",
       "      <td>Queensland University of Technology</td>\n",
       "      <td>Brisbane City</td>\n",
       "      <td>4000.0</td>\n",
       "      <td>NaN</td>\n",
       "      <td>Engineered Wood Products Association Australa...</td>\n",
       "      <td>An Innovative Framing System for Taller Timber...</td>\n",
       "      <td>Brisbane City</td>\n",
       "      <td>4000.0</td>\n",
       "      <td>NaN</td>\n",
       "      <td>21/08/2018 0:00</td>\n",
       "      <td>Brisbane (C)</td>\n",
       "      <td>Brisbane and Redlands</td>\n",
       "      <td>McConnel</td>\n",
       "      <td>$240,000</td>\n",
       "    </tr>\n",
       "    <tr>\n",
       "      <th>4</th>\n",
       "      <td>Advancing Regional Innovation Program</td>\n",
       "      <td>AQ Advancing Regional Innovation Full 2016-17</td>\n",
       "      <td>Central Highlands Development Corporation Limited</td>\n",
       "      <td>Emerald</td>\n",
       "      <td>4720.0</td>\n",
       "      <td>NaN</td>\n",
       "      <td>Central Queensland University (CQUniversity A...</td>\n",
       "      <td>Building and Bridging the Regions New Economy</td>\n",
       "      <td>Emerald</td>\n",
       "      <td>4720.0</td>\n",
       "      <td>Theodore, Tieri</td>\n",
       "      <td>28/08/2017 0:00</td>\n",
       "      <td>Central Highlands (R)</td>\n",
       "      <td>Central Queensland</td>\n",
       "      <td>Gregory</td>\n",
       "      <td>$500,000</td>\n",
       "    </tr>\n",
       "  </tbody>\n",
       "</table>\n",
       "</div>"
      ],
      "text/plain": [
       "                                        Program Name  \\\n",
       "0  Aboriginal and Torres Strait Islander PhD Scho...   \n",
       "1  Aboriginal and Torres Strait Islander PhD Scho...   \n",
       "2  Aboriginal and Torres Strait Islander Research...   \n",
       "3  Aboriginal and Torres Strait Islander Research...   \n",
       "4              Advancing Regional Innovation Program   \n",
       "\n",
       "                                               Round  \\\n",
       "0  AQ Aboriginal & Torres Strait Islander PhD Sch...   \n",
       "1  AQ Aboriginal & Torres Strait Islander PhD Sch...   \n",
       "2  AQ Aboriginal & Torres Strait Islander Researc...   \n",
       "3  AQ Aboriginal & Torres Strait Islander Researc...   \n",
       "4      AQ Advancing Regional Innovation Full 2016-17   \n",
       "\n",
       "                                      Recipient Name  \\\n",
       "0                      Central Queensland University   \n",
       "1                                Griffith University   \n",
       "2                                              CSIRO   \n",
       "3                Queensland University of Technology   \n",
       "4  Central Highlands Development Corporation Limited   \n",
       "\n",
       "  Physical Address of Recipient - Suburb/Location  \\\n",
       "0                                  Norman Gardens   \n",
       "1                                          Nathan   \n",
       "2                                      Smithfield   \n",
       "3                                   Brisbane City   \n",
       "4                                         Emerald   \n",
       "\n",
       "   Physical Address of Recipient - Post Code  \\\n",
       "0                                     4701.0   \n",
       "1                                     4111.0   \n",
       "2                                     4878.0   \n",
       "3                                     4000.0   \n",
       "4                                     4720.0   \n",
       "\n",
       "  University Collaborator (if applicable)  \\\n",
       "0                                     NaN   \n",
       "1                                     NaN   \n",
       "2                                     NaN   \n",
       "3                                     NaN   \n",
       "4                                     NaN   \n",
       "\n",
       "       Other Partners/ Collaborators (if applicable)  \\\n",
       "0                                       BHP Billiton   \n",
       "1                                                NaN   \n",
       "2                                              CSIRO   \n",
       "3   Engineered Wood Products Association Australa...   \n",
       "4   Central Queensland University (CQUniversity A...   \n",
       "\n",
       "                            Investment/Project Title  \\\n",
       "0  Decolonising the systematic barriers and enabl...   \n",
       "1  An indigenous journey through the 21st century...   \n",
       "2  Transforming hidden data: An integrative infor...   \n",
       "3  An Innovative Framing System for Taller Timber...   \n",
       "4     Building and Bridging the Regions New Economy   \n",
       "\n",
       "  Primary Location of Activity/Project - Suburb/Location  \\\n",
       "0                                      Brisbane City       \n",
       "1                                             Nathan       \n",
       "2                                         Smithfield       \n",
       "3                                      Brisbane City       \n",
       "4                                            Emerald       \n",
       "\n",
       "   Primary Location of Activity/Project - Post Code  \\\n",
       "0                                            4001.0   \n",
       "1                                            4111.0   \n",
       "2                                            4878.0   \n",
       "3                                            4000.0   \n",
       "4                                            4720.0   \n",
       "\n",
       "  Multiple Locations of Activity/Project    Approval date  \\\n",
       "0                                    NaN  14/06/2019 0:00   \n",
       "1                                    NaN  28/01/2016 0:00   \n",
       "2                                    NaN  28/01/2016 0:00   \n",
       "3                                    NaN  21/08/2018 0:00   \n",
       "4                        Theodore, Tieri  28/08/2017 0:00   \n",
       "\n",
       "  Local Government Area (LGA) RAP Region (based on Project Location)  \\\n",
       "0             Rockhampton (R)                  Brisbane and Redlands   \n",
       "1                Brisbane (C)                  Brisbane and Redlands   \n",
       "2                  Cairns (R)                   Far North Queensland   \n",
       "3                Brisbane (C)                  Brisbane and Redlands   \n",
       "4       Central Highlands (R)                     Central Queensland   \n",
       "\n",
       "  State Electorate Funding Amount  \n",
       "0           Keppel       $107,084  \n",
       "1           Toohey       $117,500  \n",
       "2     Barron River       $158,032  \n",
       "3         McConnel       $240,000  \n",
       "4          Gregory       $500,000  "
      ]
     },
     "execution_count": 8,
     "metadata": {},
     "output_type": "execute_result"
    }
   ],
   "source": [
    "df.head(5)"
   ]
  },
  {
   "cell_type": "code",
   "execution_count": 9,
   "id": "aeb7bc46",
   "metadata": {},
   "outputs": [
    {
     "name": "stdout",
     "output_type": "stream",
     "text": [
      "<class 'pandas.core.series.Series'>\n",
      "RangeIndex: 1414 entries, 0 to 1413\n",
      "Series name: Funding Amount\n",
      "Non-Null Count  Dtype \n",
      "--------------  ----- \n",
      "1414 non-null   object\n",
      "dtypes: object(1)\n",
      "memory usage: 11.2+ KB\n"
     ]
    }
   ],
   "source": [
    "df['Funding Amount'].info()"
   ]
  },
  {
   "cell_type": "code",
   "execution_count": 10,
   "id": "adb6505a",
   "metadata": {},
   "outputs": [],
   "source": [
    "import numpy as np\n",
    "\n",
    "df['Funding Amount'] = (\n",
    "    df['Funding Amount']\n",
    "    \n",
    "    # .astype(str) ensures all values are strings.\n",
    "    .astype(str)\n",
    "    \n",
    "    # .str.replace('[$,]', '', regex=True) removes dollar signs and commas using regex.\n",
    "    .str.replace('[$,]', '', regex=True)\n",
    "    \n",
    "    # .replace('nan', np.nan) replaces literal string \"nan\" (if any) with actual NaN values.\n",
    "    .replace('nan', np.nan)  # Optional: handle 'nan' strings that may appear\n",
    "    \n",
    "    # .astype(float) converts the cleaned strings to numbers.\n",
    "    .astype(float)\n",
    ")"
   ]
  },
  {
   "cell_type": "code",
   "execution_count": 11,
   "id": "b5030c98",
   "metadata": {},
   "outputs": [
    {
     "data": {
      "text/html": [
       "<div>\n",
       "<style scoped>\n",
       "    .dataframe tbody tr th:only-of-type {\n",
       "        vertical-align: middle;\n",
       "    }\n",
       "\n",
       "    .dataframe tbody tr th {\n",
       "        vertical-align: top;\n",
       "    }\n",
       "\n",
       "    .dataframe thead th {\n",
       "        text-align: right;\n",
       "    }\n",
       "</style>\n",
       "<table border=\"1\" class=\"dataframe\">\n",
       "  <thead>\n",
       "    <tr style=\"text-align: right;\">\n",
       "      <th></th>\n",
       "      <th>Program Name</th>\n",
       "      <th>Round</th>\n",
       "      <th>Recipient Name</th>\n",
       "      <th>Physical Address of Recipient - Suburb/Location</th>\n",
       "      <th>Physical Address of Recipient - Post Code</th>\n",
       "      <th>University Collaborator (if applicable)</th>\n",
       "      <th>Other Partners/ Collaborators (if applicable)</th>\n",
       "      <th>Investment/Project Title</th>\n",
       "      <th>Primary Location of Activity/Project - Suburb/Location</th>\n",
       "      <th>Primary Location of Activity/Project - Post Code</th>\n",
       "      <th>Multiple Locations of Activity/Project</th>\n",
       "      <th>Approval date</th>\n",
       "      <th>Local Government Area (LGA)</th>\n",
       "      <th>RAP Region (based on Project Location)</th>\n",
       "      <th>State Electorate</th>\n",
       "      <th>Funding Amount</th>\n",
       "    </tr>\n",
       "  </thead>\n",
       "  <tbody>\n",
       "    <tr>\n",
       "      <th>0</th>\n",
       "      <td>Aboriginal and Torres Strait Islander PhD Scho...</td>\n",
       "      <td>AQ Aboriginal &amp; Torres Strait Islander PhD Sch...</td>\n",
       "      <td>Central Queensland University</td>\n",
       "      <td>Norman Gardens</td>\n",
       "      <td>4701.0</td>\n",
       "      <td>NaN</td>\n",
       "      <td>BHP Billiton</td>\n",
       "      <td>Decolonising the systematic barriers and enabl...</td>\n",
       "      <td>Brisbane City</td>\n",
       "      <td>4001.0</td>\n",
       "      <td>NaN</td>\n",
       "      <td>14/06/2019 0:00</td>\n",
       "      <td>Rockhampton (R)</td>\n",
       "      <td>Brisbane and Redlands</td>\n",
       "      <td>Keppel</td>\n",
       "      <td>107084.0</td>\n",
       "    </tr>\n",
       "    <tr>\n",
       "      <th>1</th>\n",
       "      <td>Aboriginal and Torres Strait Islander PhD Scho...</td>\n",
       "      <td>AQ Aboriginal &amp; Torres Strait Islander PhD Sch...</td>\n",
       "      <td>Griffith University</td>\n",
       "      <td>Nathan</td>\n",
       "      <td>4111.0</td>\n",
       "      <td>NaN</td>\n",
       "      <td>NaN</td>\n",
       "      <td>An indigenous journey through the 21st century...</td>\n",
       "      <td>Nathan</td>\n",
       "      <td>4111.0</td>\n",
       "      <td>NaN</td>\n",
       "      <td>28/01/2016 0:00</td>\n",
       "      <td>Brisbane (C)</td>\n",
       "      <td>Brisbane and Redlands</td>\n",
       "      <td>Toohey</td>\n",
       "      <td>117500.0</td>\n",
       "    </tr>\n",
       "    <tr>\n",
       "      <th>2</th>\n",
       "      <td>Aboriginal and Torres Strait Islander Research...</td>\n",
       "      <td>AQ Aboriginal &amp; Torres Strait Islander Researc...</td>\n",
       "      <td>CSIRO</td>\n",
       "      <td>Smithfield</td>\n",
       "      <td>4878.0</td>\n",
       "      <td>NaN</td>\n",
       "      <td>CSIRO</td>\n",
       "      <td>Transforming hidden data: An integrative infor...</td>\n",
       "      <td>Smithfield</td>\n",
       "      <td>4878.0</td>\n",
       "      <td>NaN</td>\n",
       "      <td>28/01/2016 0:00</td>\n",
       "      <td>Cairns (R)</td>\n",
       "      <td>Far North Queensland</td>\n",
       "      <td>Barron River</td>\n",
       "      <td>158032.0</td>\n",
       "    </tr>\n",
       "    <tr>\n",
       "      <th>3</th>\n",
       "      <td>Aboriginal and Torres Strait Islander Research...</td>\n",
       "      <td>AQ Aboriginal &amp; Torres Strait Islander Researc...</td>\n",
       "      <td>Queensland University of Technology</td>\n",
       "      <td>Brisbane City</td>\n",
       "      <td>4000.0</td>\n",
       "      <td>NaN</td>\n",
       "      <td>Engineered Wood Products Association Australa...</td>\n",
       "      <td>An Innovative Framing System for Taller Timber...</td>\n",
       "      <td>Brisbane City</td>\n",
       "      <td>4000.0</td>\n",
       "      <td>NaN</td>\n",
       "      <td>21/08/2018 0:00</td>\n",
       "      <td>Brisbane (C)</td>\n",
       "      <td>Brisbane and Redlands</td>\n",
       "      <td>McConnel</td>\n",
       "      <td>240000.0</td>\n",
       "    </tr>\n",
       "    <tr>\n",
       "      <th>4</th>\n",
       "      <td>Advancing Regional Innovation Program</td>\n",
       "      <td>AQ Advancing Regional Innovation Full 2016-17</td>\n",
       "      <td>Central Highlands Development Corporation Limited</td>\n",
       "      <td>Emerald</td>\n",
       "      <td>4720.0</td>\n",
       "      <td>NaN</td>\n",
       "      <td>Central Queensland University (CQUniversity A...</td>\n",
       "      <td>Building and Bridging the Regions New Economy</td>\n",
       "      <td>Emerald</td>\n",
       "      <td>4720.0</td>\n",
       "      <td>Theodore, Tieri</td>\n",
       "      <td>28/08/2017 0:00</td>\n",
       "      <td>Central Highlands (R)</td>\n",
       "      <td>Central Queensland</td>\n",
       "      <td>Gregory</td>\n",
       "      <td>500000.0</td>\n",
       "    </tr>\n",
       "  </tbody>\n",
       "</table>\n",
       "</div>"
      ],
      "text/plain": [
       "                                        Program Name  \\\n",
       "0  Aboriginal and Torres Strait Islander PhD Scho...   \n",
       "1  Aboriginal and Torres Strait Islander PhD Scho...   \n",
       "2  Aboriginal and Torres Strait Islander Research...   \n",
       "3  Aboriginal and Torres Strait Islander Research...   \n",
       "4              Advancing Regional Innovation Program   \n",
       "\n",
       "                                               Round  \\\n",
       "0  AQ Aboriginal & Torres Strait Islander PhD Sch...   \n",
       "1  AQ Aboriginal & Torres Strait Islander PhD Sch...   \n",
       "2  AQ Aboriginal & Torres Strait Islander Researc...   \n",
       "3  AQ Aboriginal & Torres Strait Islander Researc...   \n",
       "4      AQ Advancing Regional Innovation Full 2016-17   \n",
       "\n",
       "                                      Recipient Name  \\\n",
       "0                      Central Queensland University   \n",
       "1                                Griffith University   \n",
       "2                                              CSIRO   \n",
       "3                Queensland University of Technology   \n",
       "4  Central Highlands Development Corporation Limited   \n",
       "\n",
       "  Physical Address of Recipient - Suburb/Location  \\\n",
       "0                                  Norman Gardens   \n",
       "1                                          Nathan   \n",
       "2                                      Smithfield   \n",
       "3                                   Brisbane City   \n",
       "4                                         Emerald   \n",
       "\n",
       "   Physical Address of Recipient - Post Code  \\\n",
       "0                                     4701.0   \n",
       "1                                     4111.0   \n",
       "2                                     4878.0   \n",
       "3                                     4000.0   \n",
       "4                                     4720.0   \n",
       "\n",
       "  University Collaborator (if applicable)  \\\n",
       "0                                     NaN   \n",
       "1                                     NaN   \n",
       "2                                     NaN   \n",
       "3                                     NaN   \n",
       "4                                     NaN   \n",
       "\n",
       "       Other Partners/ Collaborators (if applicable)  \\\n",
       "0                                       BHP Billiton   \n",
       "1                                                NaN   \n",
       "2                                              CSIRO   \n",
       "3   Engineered Wood Products Association Australa...   \n",
       "4   Central Queensland University (CQUniversity A...   \n",
       "\n",
       "                            Investment/Project Title  \\\n",
       "0  Decolonising the systematic barriers and enabl...   \n",
       "1  An indigenous journey through the 21st century...   \n",
       "2  Transforming hidden data: An integrative infor...   \n",
       "3  An Innovative Framing System for Taller Timber...   \n",
       "4     Building and Bridging the Regions New Economy   \n",
       "\n",
       "  Primary Location of Activity/Project - Suburb/Location  \\\n",
       "0                                      Brisbane City       \n",
       "1                                             Nathan       \n",
       "2                                         Smithfield       \n",
       "3                                      Brisbane City       \n",
       "4                                            Emerald       \n",
       "\n",
       "   Primary Location of Activity/Project - Post Code  \\\n",
       "0                                            4001.0   \n",
       "1                                            4111.0   \n",
       "2                                            4878.0   \n",
       "3                                            4000.0   \n",
       "4                                            4720.0   \n",
       "\n",
       "  Multiple Locations of Activity/Project    Approval date  \\\n",
       "0                                    NaN  14/06/2019 0:00   \n",
       "1                                    NaN  28/01/2016 0:00   \n",
       "2                                    NaN  28/01/2016 0:00   \n",
       "3                                    NaN  21/08/2018 0:00   \n",
       "4                        Theodore, Tieri  28/08/2017 0:00   \n",
       "\n",
       "  Local Government Area (LGA) RAP Region (based on Project Location)  \\\n",
       "0             Rockhampton (R)                  Brisbane and Redlands   \n",
       "1                Brisbane (C)                  Brisbane and Redlands   \n",
       "2                  Cairns (R)                   Far North Queensland   \n",
       "3                Brisbane (C)                  Brisbane and Redlands   \n",
       "4       Central Highlands (R)                     Central Queensland   \n",
       "\n",
       "  State Electorate  Funding Amount  \n",
       "0           Keppel        107084.0  \n",
       "1           Toohey        117500.0  \n",
       "2     Barron River        158032.0  \n",
       "3         McConnel        240000.0  \n",
       "4          Gregory        500000.0  "
      ]
     },
     "execution_count": 11,
     "metadata": {},
     "output_type": "execute_result"
    }
   ],
   "source": [
    "df.head(5)"
   ]
  },
  {
   "cell_type": "markdown",
   "id": "32ff170c",
   "metadata": {},
   "source": [
    "[2] Group the data\n",
    "- Choose at least one category and group the data\n",
    "- Obtain an appropriate aggregate for the groups (e.g. Sum, Mean, etc)\n"
   ]
  },
  {
   "cell_type": "code",
   "execution_count": 12,
   "id": "cb8d08ae-7a20-43e6-8968-2f6c740ba8c5",
   "metadata": {},
   "outputs": [
    {
     "name": "stdout",
     "output_type": "stream",
     "text": [
      "Program Name                                               object\n",
      "Round                                                      object\n",
      "Recipient Name                                             object\n",
      "Physical Address of Recipient - Suburb/Location            object\n",
      "Physical Address of Recipient - Post Code                 float64\n",
      "University Collaborator (if applicable)                    object\n",
      "Other Partners/ Collaborators (if applicable)              object\n",
      "Investment/Project Title                                   object\n",
      "Primary Location of Activity/Project - Suburb/Location     object\n",
      "Primary Location of Activity/Project - Post Code          float64\n",
      "Multiple Locations of Activity/Project                     object\n",
      "Approval date                                              object\n",
      "Local Government Area (LGA)                                object\n",
      "RAP Region (based on Project Location)                     object\n",
      "State Electorate                                           object\n",
      "Funding Amount                                            float64\n",
      "dtype: object\n"
     ]
    }
   ],
   "source": [
    "print(df.dtypes)"
   ]
  },
  {
   "cell_type": "code",
   "execution_count": 67,
   "id": "2fac393f",
   "metadata": {},
   "outputs": [
    {
     "name": "stdout",
     "output_type": "stream",
     "text": [
      "RAP Region (based on Project Location)\n",
      "Brisbane and Redlands    162996991.0\n",
      "Central Queensland         7907498.0\n",
      "Darling Downs              9972736.0\n",
      "Far North Queensland       6272161.0\n",
      "Gold Coast                12871053.0\n",
      "Ipswich                    5228534.0\n",
      "Logan                      1768624.0\n",
      "Mackay-Whitsunday          1715337.0\n",
      "Moreton Bay                2254325.0\n",
      "NonQueensland              1213717.0\n",
      "Other: Overseas             652500.0\n",
      "Outback Queensland         1397962.0\n",
      "Statewide                  3369334.0\n",
      "Sunshine Coast             9017936.0\n",
      "Townsville                 5988892.0\n",
      "Wide Bay                   2243587.0\n",
      "nonQld                       25000.0\n",
      "Name: Funding Amount, dtype: float64\n"
     ]
    }
   ],
   "source": [
    "# finding the total committed funding to each RAP Region\n",
    "grouped_data = df.groupby('RAP Region (based on Project Location)')['Funding Amount'].sum()\n",
    "\n",
    "print(grouped_data)"
   ]
  },
  {
   "cell_type": "markdown",
   "id": "f247e745",
   "metadata": {},
   "source": [
    "### [Q3] Save the data\n",
    "- Transform your grouped data into a dataframe\n",
    "- Save the dataframe as a CSV file\n"
   ]
  },
  {
   "cell_type": "code",
   "execution_count": 68,
   "id": "0fd535fe",
   "metadata": {},
   "outputs": [
    {
     "data": {
      "text/plain": [
       "(17, 2)"
      ]
     },
     "execution_count": 68,
     "metadata": {},
     "output_type": "execute_result"
    }
   ],
   "source": [
    "# renamed the aggregated amounts column and reset the index to make it a noraml column\n",
    "grouped_df = grouped_data.rename('Total Funding').reset_index()\n",
    "\n",
    "# number of rows and columns in data frame\n",
    "grouped_df.shape\n"
   ]
  },
  {
   "cell_type": "code",
   "execution_count": 69,
   "id": "2acc2207-ac9e-42a4-8520-f2df253d2419",
   "metadata": {},
   "outputs": [
    {
     "data": {
      "text/html": [
       "<div>\n",
       "<style scoped>\n",
       "    .dataframe tbody tr th:only-of-type {\n",
       "        vertical-align: middle;\n",
       "    }\n",
       "\n",
       "    .dataframe tbody tr th {\n",
       "        vertical-align: top;\n",
       "    }\n",
       "\n",
       "    .dataframe thead th {\n",
       "        text-align: right;\n",
       "    }\n",
       "</style>\n",
       "<table border=\"1\" class=\"dataframe\">\n",
       "  <thead>\n",
       "    <tr style=\"text-align: right;\">\n",
       "      <th></th>\n",
       "      <th>RAP Region (based on Project Location)</th>\n",
       "      <th>Total Funding</th>\n",
       "    </tr>\n",
       "  </thead>\n",
       "  <tbody>\n",
       "    <tr>\n",
       "      <th>0</th>\n",
       "      <td>Brisbane and Redlands</td>\n",
       "      <td>162996991.0</td>\n",
       "    </tr>\n",
       "    <tr>\n",
       "      <th>4</th>\n",
       "      <td>Gold Coast</td>\n",
       "      <td>12871053.0</td>\n",
       "    </tr>\n",
       "    <tr>\n",
       "      <th>2</th>\n",
       "      <td>Darling Downs</td>\n",
       "      <td>9972736.0</td>\n",
       "    </tr>\n",
       "    <tr>\n",
       "      <th>13</th>\n",
       "      <td>Sunshine Coast</td>\n",
       "      <td>9017936.0</td>\n",
       "    </tr>\n",
       "    <tr>\n",
       "      <th>1</th>\n",
       "      <td>Central Queensland</td>\n",
       "      <td>7907498.0</td>\n",
       "    </tr>\n",
       "    <tr>\n",
       "      <th>3</th>\n",
       "      <td>Far North Queensland</td>\n",
       "      <td>6272161.0</td>\n",
       "    </tr>\n",
       "    <tr>\n",
       "      <th>14</th>\n",
       "      <td>Townsville</td>\n",
       "      <td>5988892.0</td>\n",
       "    </tr>\n",
       "    <tr>\n",
       "      <th>5</th>\n",
       "      <td>Ipswich</td>\n",
       "      <td>5228534.0</td>\n",
       "    </tr>\n",
       "    <tr>\n",
       "      <th>12</th>\n",
       "      <td>Statewide</td>\n",
       "      <td>3369334.0</td>\n",
       "    </tr>\n",
       "    <tr>\n",
       "      <th>8</th>\n",
       "      <td>Moreton Bay</td>\n",
       "      <td>2254325.0</td>\n",
       "    </tr>\n",
       "    <tr>\n",
       "      <th>15</th>\n",
       "      <td>Wide Bay</td>\n",
       "      <td>2243587.0</td>\n",
       "    </tr>\n",
       "    <tr>\n",
       "      <th>6</th>\n",
       "      <td>Logan</td>\n",
       "      <td>1768624.0</td>\n",
       "    </tr>\n",
       "    <tr>\n",
       "      <th>7</th>\n",
       "      <td>Mackay-Whitsunday</td>\n",
       "      <td>1715337.0</td>\n",
       "    </tr>\n",
       "    <tr>\n",
       "      <th>11</th>\n",
       "      <td>Outback Queensland</td>\n",
       "      <td>1397962.0</td>\n",
       "    </tr>\n",
       "    <tr>\n",
       "      <th>9</th>\n",
       "      <td>NonQueensland</td>\n",
       "      <td>1213717.0</td>\n",
       "    </tr>\n",
       "    <tr>\n",
       "      <th>10</th>\n",
       "      <td>Other: Overseas</td>\n",
       "      <td>652500.0</td>\n",
       "    </tr>\n",
       "    <tr>\n",
       "      <th>16</th>\n",
       "      <td>nonQld</td>\n",
       "      <td>25000.0</td>\n",
       "    </tr>\n",
       "  </tbody>\n",
       "</table>\n",
       "</div>"
      ],
      "text/plain": [
       "   RAP Region (based on Project Location)  Total Funding\n",
       "0                   Brisbane and Redlands    162996991.0\n",
       "4                              Gold Coast     12871053.0\n",
       "2                           Darling Downs      9972736.0\n",
       "13                         Sunshine Coast      9017936.0\n",
       "1                      Central Queensland      7907498.0\n",
       "3                    Far North Queensland      6272161.0\n",
       "14                             Townsville      5988892.0\n",
       "5                                 Ipswich      5228534.0\n",
       "12                              Statewide      3369334.0\n",
       "8                             Moreton Bay      2254325.0\n",
       "15                               Wide Bay      2243587.0\n",
       "6                                   Logan      1768624.0\n",
       "7                       Mackay-Whitsunday      1715337.0\n",
       "11                     Outback Queensland      1397962.0\n",
       "9                           NonQueensland      1213717.0\n",
       "10                        Other: Overseas       652500.0\n",
       "16                                 nonQld        25000.0"
      ]
     },
     "execution_count": 69,
     "metadata": {},
     "output_type": "execute_result"
    }
   ],
   "source": [
    "# sorting data frame column in descending order\n",
    "sorted_df = grouped_df.sort_values(by='Total Funding', ascending=False)\n",
    "\n",
    "sorted_df"
   ]
  },
  {
   "cell_type": "code",
   "execution_count": 70,
   "id": "82098990-ee5d-40ce-aab7-fdb270a6501f",
   "metadata": {},
   "outputs": [],
   "source": [
    "# saving dataframe in file\n",
    "file_name = \"funding_recipients.csv\"\n",
    "path = './'\n",
    "grouped_df.to_csv(f\"{path}/{file_name}\")"
   ]
  },
  {
   "cell_type": "markdown",
   "id": "24e6cee2",
   "metadata": {},
   "source": [
    "### [Q4] Visualise the data\n",
    "\t\n",
    "- Visualise the grouped data with an appropriate chart\n",
    "- Ensure X and Y axes are labelled appropriately\n",
    "- Add an appropriate title for the chart"
   ]
  },
  {
   "cell_type": "code",
   "execution_count": 71,
   "id": "92a5a7fa",
   "metadata": {},
   "outputs": [
    {
     "data": {
      "application/vnd.plotly.v1+json": {
       "config": {
        "plotlyServerURL": "https://plot.ly"
       },
       "data": [
        {
         "alignmentgroup": "True",
         "hovertemplate": "RAP Region (based on Project Location)=%{x}<br>Total Funding=%{y}<extra></extra>",
         "legendgroup": "",
         "marker": {
          "color": "#636efa",
          "pattern": {
           "shape": ""
          }
         },
         "name": "",
         "offsetgroup": "",
         "orientation": "v",
         "showlegend": false,
         "textposition": "auto",
         "type": "bar",
         "x": [
          "Brisbane and Redlands",
          "Gold Coast",
          "Darling Downs",
          "Sunshine Coast",
          "Central Queensland",
          "Far North Queensland",
          "Townsville",
          "Ipswich",
          "Statewide",
          "Moreton Bay",
          "Wide Bay",
          "Logan",
          "Mackay-Whitsunday",
          "Outback Queensland",
          "NonQueensland",
          "Other: Overseas",
          "nonQld"
         ],
         "xaxis": "x",
         "y": [
          162996991,
          12871053,
          9972736,
          9017936,
          7907498,
          6272161,
          5988892,
          5228534,
          3369334,
          2254325,
          2243587,
          1768624,
          1715337,
          1397962,
          1213717,
          652500,
          25000
         ],
         "yaxis": "y"
        }
       ],
       "layout": {
        "barmode": "relative",
        "legend": {
         "tracegroupgap": 0
        },
        "margin": {
         "t": 60
        },
        "template": {
         "data": {
          "bar": [
           {
            "error_x": {
             "color": "#2a3f5f"
            },
            "error_y": {
             "color": "#2a3f5f"
            },
            "marker": {
             "line": {
              "color": "#E5ECF6",
              "width": 0.5
             },
             "pattern": {
              "fillmode": "overlay",
              "size": 10,
              "solidity": 0.2
             }
            },
            "type": "bar"
           }
          ],
          "barpolar": [
           {
            "marker": {
             "line": {
              "color": "#E5ECF6",
              "width": 0.5
             },
             "pattern": {
              "fillmode": "overlay",
              "size": 10,
              "solidity": 0.2
             }
            },
            "type": "barpolar"
           }
          ],
          "carpet": [
           {
            "aaxis": {
             "endlinecolor": "#2a3f5f",
             "gridcolor": "white",
             "linecolor": "white",
             "minorgridcolor": "white",
             "startlinecolor": "#2a3f5f"
            },
            "baxis": {
             "endlinecolor": "#2a3f5f",
             "gridcolor": "white",
             "linecolor": "white",
             "minorgridcolor": "white",
             "startlinecolor": "#2a3f5f"
            },
            "type": "carpet"
           }
          ],
          "choropleth": [
           {
            "colorbar": {
             "outlinewidth": 0,
             "ticks": ""
            },
            "type": "choropleth"
           }
          ],
          "contour": [
           {
            "colorbar": {
             "outlinewidth": 0,
             "ticks": ""
            },
            "colorscale": [
             [
              0,
              "#0d0887"
             ],
             [
              0.1111111111111111,
              "#46039f"
             ],
             [
              0.2222222222222222,
              "#7201a8"
             ],
             [
              0.3333333333333333,
              "#9c179e"
             ],
             [
              0.4444444444444444,
              "#bd3786"
             ],
             [
              0.5555555555555556,
              "#d8576b"
             ],
             [
              0.6666666666666666,
              "#ed7953"
             ],
             [
              0.7777777777777778,
              "#fb9f3a"
             ],
             [
              0.8888888888888888,
              "#fdca26"
             ],
             [
              1,
              "#f0f921"
             ]
            ],
            "type": "contour"
           }
          ],
          "contourcarpet": [
           {
            "colorbar": {
             "outlinewidth": 0,
             "ticks": ""
            },
            "type": "contourcarpet"
           }
          ],
          "heatmap": [
           {
            "colorbar": {
             "outlinewidth": 0,
             "ticks": ""
            },
            "colorscale": [
             [
              0,
              "#0d0887"
             ],
             [
              0.1111111111111111,
              "#46039f"
             ],
             [
              0.2222222222222222,
              "#7201a8"
             ],
             [
              0.3333333333333333,
              "#9c179e"
             ],
             [
              0.4444444444444444,
              "#bd3786"
             ],
             [
              0.5555555555555556,
              "#d8576b"
             ],
             [
              0.6666666666666666,
              "#ed7953"
             ],
             [
              0.7777777777777778,
              "#fb9f3a"
             ],
             [
              0.8888888888888888,
              "#fdca26"
             ],
             [
              1,
              "#f0f921"
             ]
            ],
            "type": "heatmap"
           }
          ],
          "heatmapgl": [
           {
            "colorbar": {
             "outlinewidth": 0,
             "ticks": ""
            },
            "colorscale": [
             [
              0,
              "#0d0887"
             ],
             [
              0.1111111111111111,
              "#46039f"
             ],
             [
              0.2222222222222222,
              "#7201a8"
             ],
             [
              0.3333333333333333,
              "#9c179e"
             ],
             [
              0.4444444444444444,
              "#bd3786"
             ],
             [
              0.5555555555555556,
              "#d8576b"
             ],
             [
              0.6666666666666666,
              "#ed7953"
             ],
             [
              0.7777777777777778,
              "#fb9f3a"
             ],
             [
              0.8888888888888888,
              "#fdca26"
             ],
             [
              1,
              "#f0f921"
             ]
            ],
            "type": "heatmapgl"
           }
          ],
          "histogram": [
           {
            "marker": {
             "pattern": {
              "fillmode": "overlay",
              "size": 10,
              "solidity": 0.2
             }
            },
            "type": "histogram"
           }
          ],
          "histogram2d": [
           {
            "colorbar": {
             "outlinewidth": 0,
             "ticks": ""
            },
            "colorscale": [
             [
              0,
              "#0d0887"
             ],
             [
              0.1111111111111111,
              "#46039f"
             ],
             [
              0.2222222222222222,
              "#7201a8"
             ],
             [
              0.3333333333333333,
              "#9c179e"
             ],
             [
              0.4444444444444444,
              "#bd3786"
             ],
             [
              0.5555555555555556,
              "#d8576b"
             ],
             [
              0.6666666666666666,
              "#ed7953"
             ],
             [
              0.7777777777777778,
              "#fb9f3a"
             ],
             [
              0.8888888888888888,
              "#fdca26"
             ],
             [
              1,
              "#f0f921"
             ]
            ],
            "type": "histogram2d"
           }
          ],
          "histogram2dcontour": [
           {
            "colorbar": {
             "outlinewidth": 0,
             "ticks": ""
            },
            "colorscale": [
             [
              0,
              "#0d0887"
             ],
             [
              0.1111111111111111,
              "#46039f"
             ],
             [
              0.2222222222222222,
              "#7201a8"
             ],
             [
              0.3333333333333333,
              "#9c179e"
             ],
             [
              0.4444444444444444,
              "#bd3786"
             ],
             [
              0.5555555555555556,
              "#d8576b"
             ],
             [
              0.6666666666666666,
              "#ed7953"
             ],
             [
              0.7777777777777778,
              "#fb9f3a"
             ],
             [
              0.8888888888888888,
              "#fdca26"
             ],
             [
              1,
              "#f0f921"
             ]
            ],
            "type": "histogram2dcontour"
           }
          ],
          "mesh3d": [
           {
            "colorbar": {
             "outlinewidth": 0,
             "ticks": ""
            },
            "type": "mesh3d"
           }
          ],
          "parcoords": [
           {
            "line": {
             "colorbar": {
              "outlinewidth": 0,
              "ticks": ""
             }
            },
            "type": "parcoords"
           }
          ],
          "pie": [
           {
            "automargin": true,
            "type": "pie"
           }
          ],
          "scatter": [
           {
            "fillpattern": {
             "fillmode": "overlay",
             "size": 10,
             "solidity": 0.2
            },
            "type": "scatter"
           }
          ],
          "scatter3d": [
           {
            "line": {
             "colorbar": {
              "outlinewidth": 0,
              "ticks": ""
             }
            },
            "marker": {
             "colorbar": {
              "outlinewidth": 0,
              "ticks": ""
             }
            },
            "type": "scatter3d"
           }
          ],
          "scattercarpet": [
           {
            "marker": {
             "colorbar": {
              "outlinewidth": 0,
              "ticks": ""
             }
            },
            "type": "scattercarpet"
           }
          ],
          "scattergeo": [
           {
            "marker": {
             "colorbar": {
              "outlinewidth": 0,
              "ticks": ""
             }
            },
            "type": "scattergeo"
           }
          ],
          "scattergl": [
           {
            "marker": {
             "colorbar": {
              "outlinewidth": 0,
              "ticks": ""
             }
            },
            "type": "scattergl"
           }
          ],
          "scattermapbox": [
           {
            "marker": {
             "colorbar": {
              "outlinewidth": 0,
              "ticks": ""
             }
            },
            "type": "scattermapbox"
           }
          ],
          "scatterpolar": [
           {
            "marker": {
             "colorbar": {
              "outlinewidth": 0,
              "ticks": ""
             }
            },
            "type": "scatterpolar"
           }
          ],
          "scatterpolargl": [
           {
            "marker": {
             "colorbar": {
              "outlinewidth": 0,
              "ticks": ""
             }
            },
            "type": "scatterpolargl"
           }
          ],
          "scatterternary": [
           {
            "marker": {
             "colorbar": {
              "outlinewidth": 0,
              "ticks": ""
             }
            },
            "type": "scatterternary"
           }
          ],
          "surface": [
           {
            "colorbar": {
             "outlinewidth": 0,
             "ticks": ""
            },
            "colorscale": [
             [
              0,
              "#0d0887"
             ],
             [
              0.1111111111111111,
              "#46039f"
             ],
             [
              0.2222222222222222,
              "#7201a8"
             ],
             [
              0.3333333333333333,
              "#9c179e"
             ],
             [
              0.4444444444444444,
              "#bd3786"
             ],
             [
              0.5555555555555556,
              "#d8576b"
             ],
             [
              0.6666666666666666,
              "#ed7953"
             ],
             [
              0.7777777777777778,
              "#fb9f3a"
             ],
             [
              0.8888888888888888,
              "#fdca26"
             ],
             [
              1,
              "#f0f921"
             ]
            ],
            "type": "surface"
           }
          ],
          "table": [
           {
            "cells": {
             "fill": {
              "color": "#EBF0F8"
             },
             "line": {
              "color": "white"
             }
            },
            "header": {
             "fill": {
              "color": "#C8D4E3"
             },
             "line": {
              "color": "white"
             }
            },
            "type": "table"
           }
          ]
         },
         "layout": {
          "annotationdefaults": {
           "arrowcolor": "#2a3f5f",
           "arrowhead": 0,
           "arrowwidth": 1
          },
          "autotypenumbers": "strict",
          "coloraxis": {
           "colorbar": {
            "outlinewidth": 0,
            "ticks": ""
           }
          },
          "colorscale": {
           "diverging": [
            [
             0,
             "#8e0152"
            ],
            [
             0.1,
             "#c51b7d"
            ],
            [
             0.2,
             "#de77ae"
            ],
            [
             0.3,
             "#f1b6da"
            ],
            [
             0.4,
             "#fde0ef"
            ],
            [
             0.5,
             "#f7f7f7"
            ],
            [
             0.6,
             "#e6f5d0"
            ],
            [
             0.7,
             "#b8e186"
            ],
            [
             0.8,
             "#7fbc41"
            ],
            [
             0.9,
             "#4d9221"
            ],
            [
             1,
             "#276419"
            ]
           ],
           "sequential": [
            [
             0,
             "#0d0887"
            ],
            [
             0.1111111111111111,
             "#46039f"
            ],
            [
             0.2222222222222222,
             "#7201a8"
            ],
            [
             0.3333333333333333,
             "#9c179e"
            ],
            [
             0.4444444444444444,
             "#bd3786"
            ],
            [
             0.5555555555555556,
             "#d8576b"
            ],
            [
             0.6666666666666666,
             "#ed7953"
            ],
            [
             0.7777777777777778,
             "#fb9f3a"
            ],
            [
             0.8888888888888888,
             "#fdca26"
            ],
            [
             1,
             "#f0f921"
            ]
           ],
           "sequentialminus": [
            [
             0,
             "#0d0887"
            ],
            [
             0.1111111111111111,
             "#46039f"
            ],
            [
             0.2222222222222222,
             "#7201a8"
            ],
            [
             0.3333333333333333,
             "#9c179e"
            ],
            [
             0.4444444444444444,
             "#bd3786"
            ],
            [
             0.5555555555555556,
             "#d8576b"
            ],
            [
             0.6666666666666666,
             "#ed7953"
            ],
            [
             0.7777777777777778,
             "#fb9f3a"
            ],
            [
             0.8888888888888888,
             "#fdca26"
            ],
            [
             1,
             "#f0f921"
            ]
           ]
          },
          "colorway": [
           "#636efa",
           "#EF553B",
           "#00cc96",
           "#ab63fa",
           "#FFA15A",
           "#19d3f3",
           "#FF6692",
           "#B6E880",
           "#FF97FF",
           "#FECB52"
          ],
          "font": {
           "color": "#2a3f5f"
          },
          "geo": {
           "bgcolor": "white",
           "lakecolor": "white",
           "landcolor": "#E5ECF6",
           "showlakes": true,
           "showland": true,
           "subunitcolor": "white"
          },
          "hoverlabel": {
           "align": "left"
          },
          "hovermode": "closest",
          "mapbox": {
           "style": "light"
          },
          "paper_bgcolor": "white",
          "plot_bgcolor": "#E5ECF6",
          "polar": {
           "angularaxis": {
            "gridcolor": "white",
            "linecolor": "white",
            "ticks": ""
           },
           "bgcolor": "#E5ECF6",
           "radialaxis": {
            "gridcolor": "white",
            "linecolor": "white",
            "ticks": ""
           }
          },
          "scene": {
           "xaxis": {
            "backgroundcolor": "#E5ECF6",
            "gridcolor": "white",
            "gridwidth": 2,
            "linecolor": "white",
            "showbackground": true,
            "ticks": "",
            "zerolinecolor": "white"
           },
           "yaxis": {
            "backgroundcolor": "#E5ECF6",
            "gridcolor": "white",
            "gridwidth": 2,
            "linecolor": "white",
            "showbackground": true,
            "ticks": "",
            "zerolinecolor": "white"
           },
           "zaxis": {
            "backgroundcolor": "#E5ECF6",
            "gridcolor": "white",
            "gridwidth": 2,
            "linecolor": "white",
            "showbackground": true,
            "ticks": "",
            "zerolinecolor": "white"
           }
          },
          "shapedefaults": {
           "line": {
            "color": "#2a3f5f"
           }
          },
          "ternary": {
           "aaxis": {
            "gridcolor": "white",
            "linecolor": "white",
            "ticks": ""
           },
           "baxis": {
            "gridcolor": "white",
            "linecolor": "white",
            "ticks": ""
           },
           "bgcolor": "#E5ECF6",
           "caxis": {
            "gridcolor": "white",
            "linecolor": "white",
            "ticks": ""
           }
          },
          "title": {
           "x": 0.05
          },
          "xaxis": {
           "automargin": true,
           "gridcolor": "white",
           "linecolor": "white",
           "ticks": "",
           "title": {
            "standoff": 15
           },
           "zerolinecolor": "white",
           "zerolinewidth": 2
          },
          "yaxis": {
           "automargin": true,
           "gridcolor": "white",
           "linecolor": "white",
           "ticks": "",
           "title": {
            "standoff": 15
           },
           "zerolinecolor": "white",
           "zerolinewidth": 2
          }
         }
        },
        "title": {
         "text": "Total Funding by RAP Region"
        },
        "xaxis": {
         "anchor": "y",
         "domain": [
          0,
          1
         ],
         "title": {
          "text": "RAP Region (based on Project Location)"
         }
        },
        "yaxis": {
         "anchor": "x",
         "domain": [
          0,
          1
         ],
         "title": {
          "text": "Total Funding"
         }
        }
       }
      },
      "text/html": [
       "<div>                            <div id=\"993753fc-c5ed-4f52-b52f-64e4363caa59\" class=\"plotly-graph-div\" style=\"height:525px; width:100%;\"></div>            <script type=\"text/javascript\">                require([\"plotly\"], function(Plotly) {                    window.PLOTLYENV=window.PLOTLYENV || {};                                    if (document.getElementById(\"993753fc-c5ed-4f52-b52f-64e4363caa59\")) {                    Plotly.newPlot(                        \"993753fc-c5ed-4f52-b52f-64e4363caa59\",                        [{\"alignmentgroup\":\"True\",\"hovertemplate\":\"RAP Region (based on Project Location)=%{x}<br>Total Funding=%{y}<extra></extra>\",\"legendgroup\":\"\",\"marker\":{\"color\":\"#636efa\",\"pattern\":{\"shape\":\"\"}},\"name\":\"\",\"offsetgroup\":\"\",\"orientation\":\"v\",\"showlegend\":false,\"textposition\":\"auto\",\"x\":[\"Brisbane and Redlands\",\"Gold Coast\",\"Darling Downs\",\"Sunshine Coast\",\"Central Queensland\",\"Far North Queensland\",\"Townsville\",\"Ipswich\",\"Statewide\",\"Moreton Bay\",\"Wide Bay\",\"Logan\",\"Mackay-Whitsunday\",\"Outback Queensland\",\"NonQueensland\",\"Other: Overseas\",\"nonQld\"],\"xaxis\":\"x\",\"y\":[162996991.0,12871053.0,9972736.0,9017936.0,7907498.0,6272161.0,5988892.0,5228534.0,3369334.0,2254325.0,2243587.0,1768624.0,1715337.0,1397962.0,1213717.0,652500.0,25000.0],\"yaxis\":\"y\",\"type\":\"bar\"}],                        {\"template\":{\"data\":{\"histogram2dcontour\":[{\"type\":\"histogram2dcontour\",\"colorbar\":{\"outlinewidth\":0,\"ticks\":\"\"},\"colorscale\":[[0.0,\"#0d0887\"],[0.1111111111111111,\"#46039f\"],[0.2222222222222222,\"#7201a8\"],[0.3333333333333333,\"#9c179e\"],[0.4444444444444444,\"#bd3786\"],[0.5555555555555556,\"#d8576b\"],[0.6666666666666666,\"#ed7953\"],[0.7777777777777778,\"#fb9f3a\"],[0.8888888888888888,\"#fdca26\"],[1.0,\"#f0f921\"]]}],\"choropleth\":[{\"type\":\"choropleth\",\"colorbar\":{\"outlinewidth\":0,\"ticks\":\"\"}}],\"histogram2d\":[{\"type\":\"histogram2d\",\"colorbar\":{\"outlinewidth\":0,\"ticks\":\"\"},\"colorscale\":[[0.0,\"#0d0887\"],[0.1111111111111111,\"#46039f\"],[0.2222222222222222,\"#7201a8\"],[0.3333333333333333,\"#9c179e\"],[0.4444444444444444,\"#bd3786\"],[0.5555555555555556,\"#d8576b\"],[0.6666666666666666,\"#ed7953\"],[0.7777777777777778,\"#fb9f3a\"],[0.8888888888888888,\"#fdca26\"],[1.0,\"#f0f921\"]]}],\"heatmap\":[{\"type\":\"heatmap\",\"colorbar\":{\"outlinewidth\":0,\"ticks\":\"\"},\"colorscale\":[[0.0,\"#0d0887\"],[0.1111111111111111,\"#46039f\"],[0.2222222222222222,\"#7201a8\"],[0.3333333333333333,\"#9c179e\"],[0.4444444444444444,\"#bd3786\"],[0.5555555555555556,\"#d8576b\"],[0.6666666666666666,\"#ed7953\"],[0.7777777777777778,\"#fb9f3a\"],[0.8888888888888888,\"#fdca26\"],[1.0,\"#f0f921\"]]}],\"heatmapgl\":[{\"type\":\"heatmapgl\",\"colorbar\":{\"outlinewidth\":0,\"ticks\":\"\"},\"colorscale\":[[0.0,\"#0d0887\"],[0.1111111111111111,\"#46039f\"],[0.2222222222222222,\"#7201a8\"],[0.3333333333333333,\"#9c179e\"],[0.4444444444444444,\"#bd3786\"],[0.5555555555555556,\"#d8576b\"],[0.6666666666666666,\"#ed7953\"],[0.7777777777777778,\"#fb9f3a\"],[0.8888888888888888,\"#fdca26\"],[1.0,\"#f0f921\"]]}],\"contourcarpet\":[{\"type\":\"contourcarpet\",\"colorbar\":{\"outlinewidth\":0,\"ticks\":\"\"}}],\"contour\":[{\"type\":\"contour\",\"colorbar\":{\"outlinewidth\":0,\"ticks\":\"\"},\"colorscale\":[[0.0,\"#0d0887\"],[0.1111111111111111,\"#46039f\"],[0.2222222222222222,\"#7201a8\"],[0.3333333333333333,\"#9c179e\"],[0.4444444444444444,\"#bd3786\"],[0.5555555555555556,\"#d8576b\"],[0.6666666666666666,\"#ed7953\"],[0.7777777777777778,\"#fb9f3a\"],[0.8888888888888888,\"#fdca26\"],[1.0,\"#f0f921\"]]}],\"surface\":[{\"type\":\"surface\",\"colorbar\":{\"outlinewidth\":0,\"ticks\":\"\"},\"colorscale\":[[0.0,\"#0d0887\"],[0.1111111111111111,\"#46039f\"],[0.2222222222222222,\"#7201a8\"],[0.3333333333333333,\"#9c179e\"],[0.4444444444444444,\"#bd3786\"],[0.5555555555555556,\"#d8576b\"],[0.6666666666666666,\"#ed7953\"],[0.7777777777777778,\"#fb9f3a\"],[0.8888888888888888,\"#fdca26\"],[1.0,\"#f0f921\"]]}],\"mesh3d\":[{\"type\":\"mesh3d\",\"colorbar\":{\"outlinewidth\":0,\"ticks\":\"\"}}],\"scatter\":[{\"fillpattern\":{\"fillmode\":\"overlay\",\"size\":10,\"solidity\":0.2},\"type\":\"scatter\"}],\"parcoords\":[{\"type\":\"parcoords\",\"line\":{\"colorbar\":{\"outlinewidth\":0,\"ticks\":\"\"}}}],\"scatterpolargl\":[{\"type\":\"scatterpolargl\",\"marker\":{\"colorbar\":{\"outlinewidth\":0,\"ticks\":\"\"}}}],\"bar\":[{\"error_x\":{\"color\":\"#2a3f5f\"},\"error_y\":{\"color\":\"#2a3f5f\"},\"marker\":{\"line\":{\"color\":\"#E5ECF6\",\"width\":0.5},\"pattern\":{\"fillmode\":\"overlay\",\"size\":10,\"solidity\":0.2}},\"type\":\"bar\"}],\"scattergeo\":[{\"type\":\"scattergeo\",\"marker\":{\"colorbar\":{\"outlinewidth\":0,\"ticks\":\"\"}}}],\"scatterpolar\":[{\"type\":\"scatterpolar\",\"marker\":{\"colorbar\":{\"outlinewidth\":0,\"ticks\":\"\"}}}],\"histogram\":[{\"marker\":{\"pattern\":{\"fillmode\":\"overlay\",\"size\":10,\"solidity\":0.2}},\"type\":\"histogram\"}],\"scattergl\":[{\"type\":\"scattergl\",\"marker\":{\"colorbar\":{\"outlinewidth\":0,\"ticks\":\"\"}}}],\"scatter3d\":[{\"type\":\"scatter3d\",\"line\":{\"colorbar\":{\"outlinewidth\":0,\"ticks\":\"\"}},\"marker\":{\"colorbar\":{\"outlinewidth\":0,\"ticks\":\"\"}}}],\"scattermapbox\":[{\"type\":\"scattermapbox\",\"marker\":{\"colorbar\":{\"outlinewidth\":0,\"ticks\":\"\"}}}],\"scatterternary\":[{\"type\":\"scatterternary\",\"marker\":{\"colorbar\":{\"outlinewidth\":0,\"ticks\":\"\"}}}],\"scattercarpet\":[{\"type\":\"scattercarpet\",\"marker\":{\"colorbar\":{\"outlinewidth\":0,\"ticks\":\"\"}}}],\"carpet\":[{\"aaxis\":{\"endlinecolor\":\"#2a3f5f\",\"gridcolor\":\"white\",\"linecolor\":\"white\",\"minorgridcolor\":\"white\",\"startlinecolor\":\"#2a3f5f\"},\"baxis\":{\"endlinecolor\":\"#2a3f5f\",\"gridcolor\":\"white\",\"linecolor\":\"white\",\"minorgridcolor\":\"white\",\"startlinecolor\":\"#2a3f5f\"},\"type\":\"carpet\"}],\"table\":[{\"cells\":{\"fill\":{\"color\":\"#EBF0F8\"},\"line\":{\"color\":\"white\"}},\"header\":{\"fill\":{\"color\":\"#C8D4E3\"},\"line\":{\"color\":\"white\"}},\"type\":\"table\"}],\"barpolar\":[{\"marker\":{\"line\":{\"color\":\"#E5ECF6\",\"width\":0.5},\"pattern\":{\"fillmode\":\"overlay\",\"size\":10,\"solidity\":0.2}},\"type\":\"barpolar\"}],\"pie\":[{\"automargin\":true,\"type\":\"pie\"}]},\"layout\":{\"autotypenumbers\":\"strict\",\"colorway\":[\"#636efa\",\"#EF553B\",\"#00cc96\",\"#ab63fa\",\"#FFA15A\",\"#19d3f3\",\"#FF6692\",\"#B6E880\",\"#FF97FF\",\"#FECB52\"],\"font\":{\"color\":\"#2a3f5f\"},\"hovermode\":\"closest\",\"hoverlabel\":{\"align\":\"left\"},\"paper_bgcolor\":\"white\",\"plot_bgcolor\":\"#E5ECF6\",\"polar\":{\"bgcolor\":\"#E5ECF6\",\"angularaxis\":{\"gridcolor\":\"white\",\"linecolor\":\"white\",\"ticks\":\"\"},\"radialaxis\":{\"gridcolor\":\"white\",\"linecolor\":\"white\",\"ticks\":\"\"}},\"ternary\":{\"bgcolor\":\"#E5ECF6\",\"aaxis\":{\"gridcolor\":\"white\",\"linecolor\":\"white\",\"ticks\":\"\"},\"baxis\":{\"gridcolor\":\"white\",\"linecolor\":\"white\",\"ticks\":\"\"},\"caxis\":{\"gridcolor\":\"white\",\"linecolor\":\"white\",\"ticks\":\"\"}},\"coloraxis\":{\"colorbar\":{\"outlinewidth\":0,\"ticks\":\"\"}},\"colorscale\":{\"sequential\":[[0.0,\"#0d0887\"],[0.1111111111111111,\"#46039f\"],[0.2222222222222222,\"#7201a8\"],[0.3333333333333333,\"#9c179e\"],[0.4444444444444444,\"#bd3786\"],[0.5555555555555556,\"#d8576b\"],[0.6666666666666666,\"#ed7953\"],[0.7777777777777778,\"#fb9f3a\"],[0.8888888888888888,\"#fdca26\"],[1.0,\"#f0f921\"]],\"sequentialminus\":[[0.0,\"#0d0887\"],[0.1111111111111111,\"#46039f\"],[0.2222222222222222,\"#7201a8\"],[0.3333333333333333,\"#9c179e\"],[0.4444444444444444,\"#bd3786\"],[0.5555555555555556,\"#d8576b\"],[0.6666666666666666,\"#ed7953\"],[0.7777777777777778,\"#fb9f3a\"],[0.8888888888888888,\"#fdca26\"],[1.0,\"#f0f921\"]],\"diverging\":[[0,\"#8e0152\"],[0.1,\"#c51b7d\"],[0.2,\"#de77ae\"],[0.3,\"#f1b6da\"],[0.4,\"#fde0ef\"],[0.5,\"#f7f7f7\"],[0.6,\"#e6f5d0\"],[0.7,\"#b8e186\"],[0.8,\"#7fbc41\"],[0.9,\"#4d9221\"],[1,\"#276419\"]]},\"xaxis\":{\"gridcolor\":\"white\",\"linecolor\":\"white\",\"ticks\":\"\",\"title\":{\"standoff\":15},\"zerolinecolor\":\"white\",\"automargin\":true,\"zerolinewidth\":2},\"yaxis\":{\"gridcolor\":\"white\",\"linecolor\":\"white\",\"ticks\":\"\",\"title\":{\"standoff\":15},\"zerolinecolor\":\"white\",\"automargin\":true,\"zerolinewidth\":2},\"scene\":{\"xaxis\":{\"backgroundcolor\":\"#E5ECF6\",\"gridcolor\":\"white\",\"linecolor\":\"white\",\"showbackground\":true,\"ticks\":\"\",\"zerolinecolor\":\"white\",\"gridwidth\":2},\"yaxis\":{\"backgroundcolor\":\"#E5ECF6\",\"gridcolor\":\"white\",\"linecolor\":\"white\",\"showbackground\":true,\"ticks\":\"\",\"zerolinecolor\":\"white\",\"gridwidth\":2},\"zaxis\":{\"backgroundcolor\":\"#E5ECF6\",\"gridcolor\":\"white\",\"linecolor\":\"white\",\"showbackground\":true,\"ticks\":\"\",\"zerolinecolor\":\"white\",\"gridwidth\":2}},\"shapedefaults\":{\"line\":{\"color\":\"#2a3f5f\"}},\"annotationdefaults\":{\"arrowcolor\":\"#2a3f5f\",\"arrowhead\":0,\"arrowwidth\":1},\"geo\":{\"bgcolor\":\"white\",\"landcolor\":\"#E5ECF6\",\"subunitcolor\":\"white\",\"showland\":true,\"showlakes\":true,\"lakecolor\":\"white\"},\"title\":{\"x\":0.05},\"mapbox\":{\"style\":\"light\"}}},\"xaxis\":{\"anchor\":\"y\",\"domain\":[0.0,1.0],\"title\":{\"text\":\"RAP Region (based on Project Location)\"}},\"yaxis\":{\"anchor\":\"x\",\"domain\":[0.0,1.0],\"title\":{\"text\":\"Total Funding\"}},\"legend\":{\"tracegroupgap\":0},\"margin\":{\"t\":60},\"barmode\":\"relative\",\"title\":{\"text\":\"Total Funding by RAP Region\"}},                        {\"responsive\": true}                    ).then(function(){\n",
       "                            \n",
       "var gd = document.getElementById('993753fc-c5ed-4f52-b52f-64e4363caa59');\n",
       "var x = new MutationObserver(function (mutations, observer) {{\n",
       "        var display = window.getComputedStyle(gd).display;\n",
       "        if (!display || display === 'none') {{\n",
       "            console.log([gd, 'removed!']);\n",
       "            Plotly.purge(gd);\n",
       "            observer.disconnect();\n",
       "        }}\n",
       "}});\n",
       "\n",
       "// Listen for the removal of the full notebook cells\n",
       "var notebookContainer = gd.closest('#notebook-container');\n",
       "if (notebookContainer) {{\n",
       "    x.observe(notebookContainer, {childList: true});\n",
       "}}\n",
       "\n",
       "// Listen for the clearing of the current output cell\n",
       "var outputEl = gd.closest('.output');\n",
       "if (outputEl) {{\n",
       "    x.observe(outputEl, {childList: true});\n",
       "}}\n",
       "\n",
       "                        })                };                });            </script>        </div>"
      ]
     },
     "metadata": {},
     "output_type": "display_data"
    }
   ],
   "source": [
    "# Use the plotly library to visualise\n",
    "import plotly.express as px\n",
    "\n",
    "fig = px.bar(sorted_df, x='RAP Region (based on Project Location)', y='Total Funding')\n",
    "\n",
    "# Add a title to the figure\n",
    "fig.update_layout(title='Total Funding by RAP Region')\n",
    "fig.show()"
   ]
  },
  {
   "cell_type": "markdown",
   "id": "6b76c25f",
   "metadata": {},
   "source": [
    "### [Q5] Create new dataframes\n",
    "- Select 2 groups from a particular category and filter the data into 2 separate dataframes\n",
    "- For each dataframe group by at least one logical category with meaningful aggregates"
   ]
  },
  {
   "cell_type": "code",
   "execution_count": 18,
   "id": "28782429",
   "metadata": {},
   "outputs": [],
   "source": [
    "# filtering the data and creating data frame of those categories\n",
    "goldcoast_df = df[df['RAP Region (based on Project Location)'] == 'Gold Coast']\n",
    "\n",
    "sunshinecoast_df = df[df['RAP Region (based on Project Location)'] == 'Sunshine Coast']\n"
   ]
  },
  {
   "cell_type": "code",
   "execution_count": 72,
   "id": "39e66e9f-17d2-4239-bbbd-a4df882243d2",
   "metadata": {},
   "outputs": [
    {
     "data": {
      "text/html": [
       "<div>\n",
       "<style scoped>\n",
       "    .dataframe tbody tr th:only-of-type {\n",
       "        vertical-align: middle;\n",
       "    }\n",
       "\n",
       "    .dataframe tbody tr th {\n",
       "        vertical-align: top;\n",
       "    }\n",
       "\n",
       "    .dataframe thead th {\n",
       "        text-align: right;\n",
       "    }\n",
       "</style>\n",
       "<table border=\"1\" class=\"dataframe\">\n",
       "  <thead>\n",
       "    <tr style=\"text-align: right;\">\n",
       "      <th></th>\n",
       "      <th>Recipient Name</th>\n",
       "      <th>Primary Location of Activity/Project - Suburb/Location</th>\n",
       "      <th>Total Funding</th>\n",
       "    </tr>\n",
       "  </thead>\n",
       "  <tbody>\n",
       "    <tr>\n",
       "      <th>41</th>\n",
       "      <td>Griffith University</td>\n",
       "      <td>Southport</td>\n",
       "      <td>2151670.0</td>\n",
       "    </tr>\n",
       "    <tr>\n",
       "      <th>22</th>\n",
       "      <td>DataRWE Pty Ltd</td>\n",
       "      <td>Southport</td>\n",
       "      <td>1500000.0</td>\n",
       "    </tr>\n",
       "    <tr>\n",
       "      <th>36</th>\n",
       "      <td>Gold Coast Innovation Hub Limited</td>\n",
       "      <td>Varsity Lakes</td>\n",
       "      <td>627500.0</td>\n",
       "    </tr>\n",
       "    <tr>\n",
       "      <th>80</th>\n",
       "      <td>University of Southern Queensland</td>\n",
       "      <td>Helensvale</td>\n",
       "      <td>300000.0</td>\n",
       "    </tr>\n",
       "    <tr>\n",
       "      <th>49</th>\n",
       "      <td>Kynd Pty Ltd</td>\n",
       "      <td>Burleigh Heads</td>\n",
       "      <td>300000.0</td>\n",
       "    </tr>\n",
       "    <tr>\n",
       "      <th>...</th>\n",
       "      <td>...</td>\n",
       "      <td>...</td>\n",
       "      <td>...</td>\n",
       "    </tr>\n",
       "    <tr>\n",
       "      <th>42</th>\n",
       "      <td>Griffith University</td>\n",
       "      <td>Surfers Paradise</td>\n",
       "      <td>8100.0</td>\n",
       "    </tr>\n",
       "    <tr>\n",
       "      <th>35</th>\n",
       "      <td>Gold Coast Innovation Hub Limited</td>\n",
       "      <td>Robina</td>\n",
       "      <td>8000.0</td>\n",
       "    </tr>\n",
       "    <tr>\n",
       "      <th>78</th>\n",
       "      <td>The Trustee for One Group Unit Trust trading a...</td>\n",
       "      <td>Molendinar</td>\n",
       "      <td>6686.0</td>\n",
       "    </tr>\n",
       "    <tr>\n",
       "      <th>89</th>\n",
       "      <td>Wavebreak International Limited</td>\n",
       "      <td>Coomera</td>\n",
       "      <td>2823.0</td>\n",
       "    </tr>\n",
       "    <tr>\n",
       "      <th>2</th>\n",
       "      <td>Alexander Spiros Bourne T/A UPAHUB</td>\n",
       "      <td>Southport</td>\n",
       "      <td>1096.0</td>\n",
       "    </tr>\n",
       "  </tbody>\n",
       "</table>\n",
       "<p>92 rows × 3 columns</p>\n",
       "</div>"
      ],
      "text/plain": [
       "                                       Recipient Name  \\\n",
       "41                                Griffith University   \n",
       "22                                    DataRWE Pty Ltd   \n",
       "36                  Gold Coast Innovation Hub Limited   \n",
       "80                  University of Southern Queensland   \n",
       "49                                       Kynd Pty Ltd   \n",
       "..                                                ...   \n",
       "42                                Griffith University   \n",
       "35                  Gold Coast Innovation Hub Limited   \n",
       "78  The Trustee for One Group Unit Trust trading a...   \n",
       "89                    Wavebreak International Limited   \n",
       "2                  Alexander Spiros Bourne T/A UPAHUB   \n",
       "\n",
       "   Primary Location of Activity/Project - Suburb/Location  Total Funding  \n",
       "41                                          Southport          2151670.0  \n",
       "22                                          Southport          1500000.0  \n",
       "36                                      Varsity Lakes           627500.0  \n",
       "80                                         Helensvale           300000.0  \n",
       "49                                     Burleigh Heads           300000.0  \n",
       "..                                                ...                ...  \n",
       "42                                   Surfers Paradise             8100.0  \n",
       "35                                             Robina             8000.0  \n",
       "78                                         Molendinar             6686.0  \n",
       "89                                            Coomera             2823.0  \n",
       "2                                           Southport             1096.0  \n",
       "\n",
       "[92 rows x 3 columns]"
      ]
     },
     "execution_count": 72,
     "metadata": {},
     "output_type": "execute_result"
    }
   ],
   "source": [
    "gc_grouped_data = goldcoast_df.groupby(['Recipient Name', 'Primary Location of Activity/Project - Suburb/Location'])['Funding Amount'].sum()\n",
    "\n",
    "gc_df = gc_grouped_data.rename('Total Funding').reset_index()\n",
    "\n",
    "gc_sorted_df = gc_df.sort_values(by='Total Funding', ascending=False)\n",
    "\n",
    "gc_sorted_df\n"
   ]
  },
  {
   "cell_type": "code",
   "execution_count": 73,
   "id": "dcd70f90-99bf-41d0-a84e-0d19c3e762f7",
   "metadata": {},
   "outputs": [
    {
     "data": {
      "text/html": [
       "<div>\n",
       "<style scoped>\n",
       "    .dataframe tbody tr th:only-of-type {\n",
       "        vertical-align: middle;\n",
       "    }\n",
       "\n",
       "    .dataframe tbody tr th {\n",
       "        vertical-align: top;\n",
       "    }\n",
       "\n",
       "    .dataframe thead th {\n",
       "        text-align: right;\n",
       "    }\n",
       "</style>\n",
       "<table border=\"1\" class=\"dataframe\">\n",
       "  <thead>\n",
       "    <tr style=\"text-align: right;\">\n",
       "      <th></th>\n",
       "      <th>Recipient Name</th>\n",
       "      <th>Primary Location of Activity/Project - Suburb/Location</th>\n",
       "      <th>Total Funding</th>\n",
       "    </tr>\n",
       "  </thead>\n",
       "  <tbody>\n",
       "    <tr>\n",
       "      <th>55</th>\n",
       "      <td>Sunshine Coast Regional Council</td>\n",
       "      <td>Maroochydore</td>\n",
       "      <td>660000.0</td>\n",
       "    </tr>\n",
       "    <tr>\n",
       "      <th>68</th>\n",
       "      <td>University of the Sunshine Coast</td>\n",
       "      <td>Birtinya</td>\n",
       "      <td>526000.0</td>\n",
       "    </tr>\n",
       "    <tr>\n",
       "      <th>72</th>\n",
       "      <td>University of the Sunshine Coast</td>\n",
       "      <td>Sippy Downs</td>\n",
       "      <td>400000.0</td>\n",
       "    </tr>\n",
       "    <tr>\n",
       "      <th>26</th>\n",
       "      <td>Innovation Centre Sunshine Coast</td>\n",
       "      <td>Sippy Downs</td>\n",
       "      <td>399000.0</td>\n",
       "    </tr>\n",
       "    <tr>\n",
       "      <th>60</th>\n",
       "      <td>The University of Queensland</td>\n",
       "      <td>Coes Creek</td>\n",
       "      <td>360000.0</td>\n",
       "    </tr>\n",
       "    <tr>\n",
       "      <th>...</th>\n",
       "      <td>...</td>\n",
       "      <td>...</td>\n",
       "      <td>...</td>\n",
       "    </tr>\n",
       "    <tr>\n",
       "      <th>18</th>\n",
       "      <td>HazardTech</td>\n",
       "      <td>Maroochydore</td>\n",
       "      <td>10500.0</td>\n",
       "    </tr>\n",
       "    <tr>\n",
       "      <th>70</th>\n",
       "      <td>University of the Sunshine Coast</td>\n",
       "      <td>Caloundra</td>\n",
       "      <td>9112.0</td>\n",
       "    </tr>\n",
       "    <tr>\n",
       "      <th>49</th>\n",
       "      <td>Startup STEAM Inc</td>\n",
       "      <td>Sippy Downs</td>\n",
       "      <td>7500.0</td>\n",
       "    </tr>\n",
       "    <tr>\n",
       "      <th>48</th>\n",
       "      <td>Spark Bureau Limited</td>\n",
       "      <td>Maroochydore</td>\n",
       "      <td>6000.0</td>\n",
       "    </tr>\n",
       "    <tr>\n",
       "      <th>25</th>\n",
       "      <td>Innovate Noosa Inc</td>\n",
       "      <td>Noosa Heads</td>\n",
       "      <td>5237.0</td>\n",
       "    </tr>\n",
       "  </tbody>\n",
       "</table>\n",
       "<p>76 rows × 3 columns</p>\n",
       "</div>"
      ],
      "text/plain": [
       "                      Recipient Name  \\\n",
       "55   Sunshine Coast Regional Council   \n",
       "68  University of the Sunshine Coast   \n",
       "72  University of the Sunshine Coast   \n",
       "26  Innovation Centre Sunshine Coast   \n",
       "60      The University of Queensland   \n",
       "..                               ...   \n",
       "18                        HazardTech   \n",
       "70  University of the Sunshine Coast   \n",
       "49                 Startup STEAM Inc   \n",
       "48              Spark Bureau Limited   \n",
       "25                Innovate Noosa Inc   \n",
       "\n",
       "   Primary Location of Activity/Project - Suburb/Location  Total Funding  \n",
       "55                                       Maroochydore           660000.0  \n",
       "68                                           Birtinya           526000.0  \n",
       "72                                        Sippy Downs           400000.0  \n",
       "26                                        Sippy Downs           399000.0  \n",
       "60                                         Coes Creek           360000.0  \n",
       "..                                                ...                ...  \n",
       "18                                       Maroochydore            10500.0  \n",
       "70                                          Caloundra             9112.0  \n",
       "49                                        Sippy Downs             7500.0  \n",
       "48                                       Maroochydore             6000.0  \n",
       "25                                        Noosa Heads             5237.0  \n",
       "\n",
       "[76 rows x 3 columns]"
      ]
     },
     "execution_count": 73,
     "metadata": {},
     "output_type": "execute_result"
    }
   ],
   "source": [
    "ssc_grouped_data = sunshinecoast_df.groupby(['Recipient Name', 'Primary Location of Activity/Project - Suburb/Location'])['Funding Amount'].sum()\n",
    "\n",
    "ssc_df = ssc_grouped_data.rename('Total Funding').reset_index()\n",
    "\n",
    "ssc_sorted_df = ssc_df.sort_values(by='Total Funding', ascending=False)\n",
    "\n",
    "ssc_sorted_df"
   ]
  },
  {
   "cell_type": "markdown",
   "id": "a5e982cc",
   "metadata": {},
   "source": [
    "### [Q6] Obtain descriptive statistics\n",
    "\t\n",
    "- Find the descriptive statistics for the funds committed for the different groups.\n",
    "- Assign the `count`, `mean`, `min`, and `max` to variables. Round the mean to a reasonable precision.\n",
    "- Use the variables to create a string which describes in words the basic descriptive statistics of the committed funds.\n",
    "- Print the constructed strings for each group"
   ]
  },
  {
   "cell_type": "code",
   "execution_count": 21,
   "id": "a5e9a2a2",
   "metadata": {},
   "outputs": [
    {
     "name": "stdout",
     "output_type": "stream",
     "text": [
      "gold coast\n",
      "count         92.00\n",
      "mean      139141.88\n",
      "std       275309.79\n",
      "min         1096.00\n",
      "25%        23426.75\n",
      "50%        95750.00\n",
      "75%       111562.50\n",
      "max      2151670.00\n",
      "Name: Total Funding, dtype: float64\n",
      " \n",
      "sunshine coast\n",
      "count        76.00\n",
      "mean     118657.05\n",
      "std      119919.39\n",
      "min        5237.00\n",
      "25%       38486.00\n",
      "50%      100000.00\n",
      "75%      100000.00\n",
      "max      660000.00\n",
      "Name: Total Funding, dtype: float64\n",
      " \n",
      "The average committed funds for Gold Coast region is:  139141.88\n",
      "The average committed funds for Sunshine Coast region is:  118657.05\n"
     ]
    }
   ],
   "source": [
    "gc_stats = gc_sorted_df['Total Funding'].describe().round(2)\n",
    "\n",
    "ssc_stats = ssc_sorted_df['Total Funding'].describe().round(2)\n",
    "\n",
    "print('gold coast')\n",
    "\n",
    "print(gc_stats)\n",
    "\n",
    "print(' ')\n",
    "\n",
    "print('sunshine coast')\n",
    "\n",
    "print(ssc_stats)\n",
    "\n",
    "print(' ')\n",
    "\n",
    "print('The average committed funds for Gold Coast region is: ', gc_stats['mean']) \n",
    "\n",
    "print('The average committed funds for Sunshine Coast region is: ', ssc_stats['mean']) \n"
   ]
  },
  {
   "cell_type": "markdown",
   "id": "1f643185",
   "metadata": {},
   "source": [
    "### [Q7] Visualise the data\n",
    "\n",
    "- Using the plotly library, create histograms of the committed funds for the different groups\n",
    "- Set the number of bins to an appropriate value\n",
    "- Display the actual counts in the bars\n",
    "- Enhance the visualisation of the variance by including a box plot\n",
    "- Use suitable colours and add appropriate textual information"
   ]
  },
  {
   "cell_type": "code",
   "execution_count": 23,
   "id": "0aacb718-704d-4955-9d29-6a5bb1e38d74",
   "metadata": {},
   "outputs": [
    {
     "data": {
      "application/vnd.plotly.v1+json": {
       "config": {
        "plotlyServerURL": "https://plot.ly"
       },
       "data": [
        {
         "alignmentgroup": "True",
         "bingroup": "x",
         "hovertemplate": "variable=Total Funding<br>value=%{x}<br>count=%{y}<extra></extra>",
         "legendgroup": "Total Funding",
         "marker": {
          "color": "#636efa",
          "pattern": {
           "shape": ""
          }
         },
         "name": "Total Funding",
         "nbinsx": 10,
         "offsetgroup": "Total Funding",
         "orientation": "v",
         "showlegend": true,
         "texttemplate": "%{value}",
         "type": "histogram",
         "x": [
          2151670,
          1500000,
          627500,
          300000,
          300000,
          298500,
          295625,
          288098,
          279449,
          250000,
          240000,
          234128,
          200000,
          200000,
          200000,
          200000,
          200000,
          200000,
          188969,
          187500,
          150000,
          150000,
          146250,
          100000,
          100000,
          100000,
          100000,
          100000,
          100000,
          100000,
          100000,
          100000,
          100000,
          100000,
          100000,
          100000,
          100000,
          100000,
          100000,
          100000,
          100000,
          99999,
          99928,
          99550,
          97636,
          96000,
          95500,
          95000,
          95000,
          94000,
          93500,
          85000,
          84518,
          80000,
          75000,
          75000,
          70000,
          50000,
          50000,
          49332,
          47345,
          46270,
          45200,
          40626,
          40619,
          36667,
          30000,
          25000,
          23719,
          22550,
          20600,
          20000,
          20000,
          19899,
          18500,
          15897,
          15625,
          13370,
          13209,
          12800,
          10800,
          10800,
          10800,
          10800,
          10800,
          10800,
          9000,
          8100,
          8000,
          6686,
          2823,
          1096
         ],
         "xaxis": "x",
         "yaxis": "y"
        },
        {
         "alignmentgroup": "True",
         "hovertemplate": "variable=Total Funding<br>value=%{x}<extra></extra>",
         "legendgroup": "Total Funding",
         "marker": {
          "color": "#636efa"
         },
         "name": "Total Funding",
         "notched": true,
         "offsetgroup": "Total Funding",
         "showlegend": false,
         "type": "box",
         "x": [
          2151670,
          1500000,
          627500,
          300000,
          300000,
          298500,
          295625,
          288098,
          279449,
          250000,
          240000,
          234128,
          200000,
          200000,
          200000,
          200000,
          200000,
          200000,
          188969,
          187500,
          150000,
          150000,
          146250,
          100000,
          100000,
          100000,
          100000,
          100000,
          100000,
          100000,
          100000,
          100000,
          100000,
          100000,
          100000,
          100000,
          100000,
          100000,
          100000,
          100000,
          100000,
          99999,
          99928,
          99550,
          97636,
          96000,
          95500,
          95000,
          95000,
          94000,
          93500,
          85000,
          84518,
          80000,
          75000,
          75000,
          70000,
          50000,
          50000,
          49332,
          47345,
          46270,
          45200,
          40626,
          40619,
          36667,
          30000,
          25000,
          23719,
          22550,
          20600,
          20000,
          20000,
          19899,
          18500,
          15897,
          15625,
          13370,
          13209,
          12800,
          10800,
          10800,
          10800,
          10800,
          10800,
          10800,
          9000,
          8100,
          8000,
          6686,
          2823,
          1096
         ],
         "xaxis": "x2",
         "yaxis": "y2"
        }
       ],
       "layout": {
        "barmode": "relative",
        "legend": {
         "title": {
          "text": "variable"
         },
         "tracegroupgap": 0
        },
        "margin": {
         "t": 60
        },
        "template": {
         "data": {
          "bar": [
           {
            "error_x": {
             "color": "#2a3f5f"
            },
            "error_y": {
             "color": "#2a3f5f"
            },
            "marker": {
             "line": {
              "color": "#E5ECF6",
              "width": 0.5
             },
             "pattern": {
              "fillmode": "overlay",
              "size": 10,
              "solidity": 0.2
             }
            },
            "type": "bar"
           }
          ],
          "barpolar": [
           {
            "marker": {
             "line": {
              "color": "#E5ECF6",
              "width": 0.5
             },
             "pattern": {
              "fillmode": "overlay",
              "size": 10,
              "solidity": 0.2
             }
            },
            "type": "barpolar"
           }
          ],
          "carpet": [
           {
            "aaxis": {
             "endlinecolor": "#2a3f5f",
             "gridcolor": "white",
             "linecolor": "white",
             "minorgridcolor": "white",
             "startlinecolor": "#2a3f5f"
            },
            "baxis": {
             "endlinecolor": "#2a3f5f",
             "gridcolor": "white",
             "linecolor": "white",
             "minorgridcolor": "white",
             "startlinecolor": "#2a3f5f"
            },
            "type": "carpet"
           }
          ],
          "choropleth": [
           {
            "colorbar": {
             "outlinewidth": 0,
             "ticks": ""
            },
            "type": "choropleth"
           }
          ],
          "contour": [
           {
            "colorbar": {
             "outlinewidth": 0,
             "ticks": ""
            },
            "colorscale": [
             [
              0,
              "#0d0887"
             ],
             [
              0.1111111111111111,
              "#46039f"
             ],
             [
              0.2222222222222222,
              "#7201a8"
             ],
             [
              0.3333333333333333,
              "#9c179e"
             ],
             [
              0.4444444444444444,
              "#bd3786"
             ],
             [
              0.5555555555555556,
              "#d8576b"
             ],
             [
              0.6666666666666666,
              "#ed7953"
             ],
             [
              0.7777777777777778,
              "#fb9f3a"
             ],
             [
              0.8888888888888888,
              "#fdca26"
             ],
             [
              1,
              "#f0f921"
             ]
            ],
            "type": "contour"
           }
          ],
          "contourcarpet": [
           {
            "colorbar": {
             "outlinewidth": 0,
             "ticks": ""
            },
            "type": "contourcarpet"
           }
          ],
          "heatmap": [
           {
            "colorbar": {
             "outlinewidth": 0,
             "ticks": ""
            },
            "colorscale": [
             [
              0,
              "#0d0887"
             ],
             [
              0.1111111111111111,
              "#46039f"
             ],
             [
              0.2222222222222222,
              "#7201a8"
             ],
             [
              0.3333333333333333,
              "#9c179e"
             ],
             [
              0.4444444444444444,
              "#bd3786"
             ],
             [
              0.5555555555555556,
              "#d8576b"
             ],
             [
              0.6666666666666666,
              "#ed7953"
             ],
             [
              0.7777777777777778,
              "#fb9f3a"
             ],
             [
              0.8888888888888888,
              "#fdca26"
             ],
             [
              1,
              "#f0f921"
             ]
            ],
            "type": "heatmap"
           }
          ],
          "heatmapgl": [
           {
            "colorbar": {
             "outlinewidth": 0,
             "ticks": ""
            },
            "colorscale": [
             [
              0,
              "#0d0887"
             ],
             [
              0.1111111111111111,
              "#46039f"
             ],
             [
              0.2222222222222222,
              "#7201a8"
             ],
             [
              0.3333333333333333,
              "#9c179e"
             ],
             [
              0.4444444444444444,
              "#bd3786"
             ],
             [
              0.5555555555555556,
              "#d8576b"
             ],
             [
              0.6666666666666666,
              "#ed7953"
             ],
             [
              0.7777777777777778,
              "#fb9f3a"
             ],
             [
              0.8888888888888888,
              "#fdca26"
             ],
             [
              1,
              "#f0f921"
             ]
            ],
            "type": "heatmapgl"
           }
          ],
          "histogram": [
           {
            "marker": {
             "pattern": {
              "fillmode": "overlay",
              "size": 10,
              "solidity": 0.2
             }
            },
            "type": "histogram"
           }
          ],
          "histogram2d": [
           {
            "colorbar": {
             "outlinewidth": 0,
             "ticks": ""
            },
            "colorscale": [
             [
              0,
              "#0d0887"
             ],
             [
              0.1111111111111111,
              "#46039f"
             ],
             [
              0.2222222222222222,
              "#7201a8"
             ],
             [
              0.3333333333333333,
              "#9c179e"
             ],
             [
              0.4444444444444444,
              "#bd3786"
             ],
             [
              0.5555555555555556,
              "#d8576b"
             ],
             [
              0.6666666666666666,
              "#ed7953"
             ],
             [
              0.7777777777777778,
              "#fb9f3a"
             ],
             [
              0.8888888888888888,
              "#fdca26"
             ],
             [
              1,
              "#f0f921"
             ]
            ],
            "type": "histogram2d"
           }
          ],
          "histogram2dcontour": [
           {
            "colorbar": {
             "outlinewidth": 0,
             "ticks": ""
            },
            "colorscale": [
             [
              0,
              "#0d0887"
             ],
             [
              0.1111111111111111,
              "#46039f"
             ],
             [
              0.2222222222222222,
              "#7201a8"
             ],
             [
              0.3333333333333333,
              "#9c179e"
             ],
             [
              0.4444444444444444,
              "#bd3786"
             ],
             [
              0.5555555555555556,
              "#d8576b"
             ],
             [
              0.6666666666666666,
              "#ed7953"
             ],
             [
              0.7777777777777778,
              "#fb9f3a"
             ],
             [
              0.8888888888888888,
              "#fdca26"
             ],
             [
              1,
              "#f0f921"
             ]
            ],
            "type": "histogram2dcontour"
           }
          ],
          "mesh3d": [
           {
            "colorbar": {
             "outlinewidth": 0,
             "ticks": ""
            },
            "type": "mesh3d"
           }
          ],
          "parcoords": [
           {
            "line": {
             "colorbar": {
              "outlinewidth": 0,
              "ticks": ""
             }
            },
            "type": "parcoords"
           }
          ],
          "pie": [
           {
            "automargin": true,
            "type": "pie"
           }
          ],
          "scatter": [
           {
            "fillpattern": {
             "fillmode": "overlay",
             "size": 10,
             "solidity": 0.2
            },
            "type": "scatter"
           }
          ],
          "scatter3d": [
           {
            "line": {
             "colorbar": {
              "outlinewidth": 0,
              "ticks": ""
             }
            },
            "marker": {
             "colorbar": {
              "outlinewidth": 0,
              "ticks": ""
             }
            },
            "type": "scatter3d"
           }
          ],
          "scattercarpet": [
           {
            "marker": {
             "colorbar": {
              "outlinewidth": 0,
              "ticks": ""
             }
            },
            "type": "scattercarpet"
           }
          ],
          "scattergeo": [
           {
            "marker": {
             "colorbar": {
              "outlinewidth": 0,
              "ticks": ""
             }
            },
            "type": "scattergeo"
           }
          ],
          "scattergl": [
           {
            "marker": {
             "colorbar": {
              "outlinewidth": 0,
              "ticks": ""
             }
            },
            "type": "scattergl"
           }
          ],
          "scattermapbox": [
           {
            "marker": {
             "colorbar": {
              "outlinewidth": 0,
              "ticks": ""
             }
            },
            "type": "scattermapbox"
           }
          ],
          "scatterpolar": [
           {
            "marker": {
             "colorbar": {
              "outlinewidth": 0,
              "ticks": ""
             }
            },
            "type": "scatterpolar"
           }
          ],
          "scatterpolargl": [
           {
            "marker": {
             "colorbar": {
              "outlinewidth": 0,
              "ticks": ""
             }
            },
            "type": "scatterpolargl"
           }
          ],
          "scatterternary": [
           {
            "marker": {
             "colorbar": {
              "outlinewidth": 0,
              "ticks": ""
             }
            },
            "type": "scatterternary"
           }
          ],
          "surface": [
           {
            "colorbar": {
             "outlinewidth": 0,
             "ticks": ""
            },
            "colorscale": [
             [
              0,
              "#0d0887"
             ],
             [
              0.1111111111111111,
              "#46039f"
             ],
             [
              0.2222222222222222,
              "#7201a8"
             ],
             [
              0.3333333333333333,
              "#9c179e"
             ],
             [
              0.4444444444444444,
              "#bd3786"
             ],
             [
              0.5555555555555556,
              "#d8576b"
             ],
             [
              0.6666666666666666,
              "#ed7953"
             ],
             [
              0.7777777777777778,
              "#fb9f3a"
             ],
             [
              0.8888888888888888,
              "#fdca26"
             ],
             [
              1,
              "#f0f921"
             ]
            ],
            "type": "surface"
           }
          ],
          "table": [
           {
            "cells": {
             "fill": {
              "color": "#EBF0F8"
             },
             "line": {
              "color": "white"
             }
            },
            "header": {
             "fill": {
              "color": "#C8D4E3"
             },
             "line": {
              "color": "white"
             }
            },
            "type": "table"
           }
          ]
         },
         "layout": {
          "annotationdefaults": {
           "arrowcolor": "#2a3f5f",
           "arrowhead": 0,
           "arrowwidth": 1
          },
          "autotypenumbers": "strict",
          "coloraxis": {
           "colorbar": {
            "outlinewidth": 0,
            "ticks": ""
           }
          },
          "colorscale": {
           "diverging": [
            [
             0,
             "#8e0152"
            ],
            [
             0.1,
             "#c51b7d"
            ],
            [
             0.2,
             "#de77ae"
            ],
            [
             0.3,
             "#f1b6da"
            ],
            [
             0.4,
             "#fde0ef"
            ],
            [
             0.5,
             "#f7f7f7"
            ],
            [
             0.6,
             "#e6f5d0"
            ],
            [
             0.7,
             "#b8e186"
            ],
            [
             0.8,
             "#7fbc41"
            ],
            [
             0.9,
             "#4d9221"
            ],
            [
             1,
             "#276419"
            ]
           ],
           "sequential": [
            [
             0,
             "#0d0887"
            ],
            [
             0.1111111111111111,
             "#46039f"
            ],
            [
             0.2222222222222222,
             "#7201a8"
            ],
            [
             0.3333333333333333,
             "#9c179e"
            ],
            [
             0.4444444444444444,
             "#bd3786"
            ],
            [
             0.5555555555555556,
             "#d8576b"
            ],
            [
             0.6666666666666666,
             "#ed7953"
            ],
            [
             0.7777777777777778,
             "#fb9f3a"
            ],
            [
             0.8888888888888888,
             "#fdca26"
            ],
            [
             1,
             "#f0f921"
            ]
           ],
           "sequentialminus": [
            [
             0,
             "#0d0887"
            ],
            [
             0.1111111111111111,
             "#46039f"
            ],
            [
             0.2222222222222222,
             "#7201a8"
            ],
            [
             0.3333333333333333,
             "#9c179e"
            ],
            [
             0.4444444444444444,
             "#bd3786"
            ],
            [
             0.5555555555555556,
             "#d8576b"
            ],
            [
             0.6666666666666666,
             "#ed7953"
            ],
            [
             0.7777777777777778,
             "#fb9f3a"
            ],
            [
             0.8888888888888888,
             "#fdca26"
            ],
            [
             1,
             "#f0f921"
            ]
           ]
          },
          "colorway": [
           "#636efa",
           "#EF553B",
           "#00cc96",
           "#ab63fa",
           "#FFA15A",
           "#19d3f3",
           "#FF6692",
           "#B6E880",
           "#FF97FF",
           "#FECB52"
          ],
          "font": {
           "color": "#2a3f5f"
          },
          "geo": {
           "bgcolor": "white",
           "lakecolor": "white",
           "landcolor": "#E5ECF6",
           "showlakes": true,
           "showland": true,
           "subunitcolor": "white"
          },
          "hoverlabel": {
           "align": "left"
          },
          "hovermode": "closest",
          "mapbox": {
           "style": "light"
          },
          "paper_bgcolor": "white",
          "plot_bgcolor": "#E5ECF6",
          "polar": {
           "angularaxis": {
            "gridcolor": "white",
            "linecolor": "white",
            "ticks": ""
           },
           "bgcolor": "#E5ECF6",
           "radialaxis": {
            "gridcolor": "white",
            "linecolor": "white",
            "ticks": ""
           }
          },
          "scene": {
           "xaxis": {
            "backgroundcolor": "#E5ECF6",
            "gridcolor": "white",
            "gridwidth": 2,
            "linecolor": "white",
            "showbackground": true,
            "ticks": "",
            "zerolinecolor": "white"
           },
           "yaxis": {
            "backgroundcolor": "#E5ECF6",
            "gridcolor": "white",
            "gridwidth": 2,
            "linecolor": "white",
            "showbackground": true,
            "ticks": "",
            "zerolinecolor": "white"
           },
           "zaxis": {
            "backgroundcolor": "#E5ECF6",
            "gridcolor": "white",
            "gridwidth": 2,
            "linecolor": "white",
            "showbackground": true,
            "ticks": "",
            "zerolinecolor": "white"
           }
          },
          "shapedefaults": {
           "line": {
            "color": "#2a3f5f"
           }
          },
          "ternary": {
           "aaxis": {
            "gridcolor": "white",
            "linecolor": "white",
            "ticks": ""
           },
           "baxis": {
            "gridcolor": "white",
            "linecolor": "white",
            "ticks": ""
           },
           "bgcolor": "#E5ECF6",
           "caxis": {
            "gridcolor": "white",
            "linecolor": "white",
            "ticks": ""
           }
          },
          "title": {
           "x": 0.05
          },
          "xaxis": {
           "automargin": true,
           "gridcolor": "white",
           "linecolor": "white",
           "ticks": "",
           "title": {
            "standoff": 15
           },
           "zerolinecolor": "white",
           "zerolinewidth": 2
          },
          "yaxis": {
           "automargin": true,
           "gridcolor": "white",
           "linecolor": "white",
           "ticks": "",
           "title": {
            "standoff": 15
           },
           "zerolinecolor": "white",
           "zerolinewidth": 2
          }
         }
        },
        "xaxis": {
         "anchor": "y",
         "domain": [
          0,
          1
         ],
         "title": {
          "text": "Committed Funding Amount for Gold Coast Region"
         }
        },
        "xaxis2": {
         "anchor": "y2",
         "domain": [
          0,
          1
         ],
         "matches": "x",
         "showgrid": true,
         "showticklabels": false,
         "title": {
          "text": "Committed Funding Amount for Gold Coast Region"
         }
        },
        "yaxis": {
         "anchor": "x",
         "domain": [
          0,
          0.7326
         ],
         "title": {
          "text": "count"
         }
        },
        "yaxis2": {
         "anchor": "x2",
         "domain": [
          0.7426,
          1
         ],
         "matches": "y2",
         "showgrid": false,
         "showline": false,
         "showticklabels": false,
         "ticks": ""
        }
       }
      },
      "text/html": [
       "<div>                            <div id=\"3b2aef92-42a0-4c98-8b67-ad9acfec8258\" class=\"plotly-graph-div\" style=\"height:525px; width:100%;\"></div>            <script type=\"text/javascript\">                require([\"plotly\"], function(Plotly) {                    window.PLOTLYENV=window.PLOTLYENV || {};                                    if (document.getElementById(\"3b2aef92-42a0-4c98-8b67-ad9acfec8258\")) {                    Plotly.newPlot(                        \"3b2aef92-42a0-4c98-8b67-ad9acfec8258\",                        [{\"alignmentgroup\":\"True\",\"bingroup\":\"x\",\"hovertemplate\":\"variable=Total Funding<br>value=%{x}<br>count=%{y}<extra></extra>\",\"legendgroup\":\"Total Funding\",\"marker\":{\"color\":\"#636efa\",\"pattern\":{\"shape\":\"\"}},\"name\":\"Total Funding\",\"nbinsx\":10,\"offsetgroup\":\"Total Funding\",\"orientation\":\"v\",\"showlegend\":true,\"texttemplate\":\"%{value}\",\"x\":[2151670.0,1500000.0,627500.0,300000.0,300000.0,298500.0,295625.0,288098.0,279449.0,250000.0,240000.0,234128.0,200000.0,200000.0,200000.0,200000.0,200000.0,200000.0,188969.0,187500.0,150000.0,150000.0,146250.0,100000.0,100000.0,100000.0,100000.0,100000.0,100000.0,100000.0,100000.0,100000.0,100000.0,100000.0,100000.0,100000.0,100000.0,100000.0,100000.0,100000.0,100000.0,99999.0,99928.0,99550.0,97636.0,96000.0,95500.0,95000.0,95000.0,94000.0,93500.0,85000.0,84518.0,80000.0,75000.0,75000.0,70000.0,50000.0,50000.0,49332.0,47345.0,46270.0,45200.0,40626.0,40619.0,36667.0,30000.0,25000.0,23719.0,22550.0,20600.0,20000.0,20000.0,19899.0,18500.0,15897.0,15625.0,13370.0,13209.0,12800.0,10800.0,10800.0,10800.0,10800.0,10800.0,10800.0,9000.0,8100.0,8000.0,6686.0,2823.0,1096.0],\"xaxis\":\"x\",\"yaxis\":\"y\",\"type\":\"histogram\"},{\"alignmentgroup\":\"True\",\"hovertemplate\":\"variable=Total Funding<br>value=%{x}<extra></extra>\",\"legendgroup\":\"Total Funding\",\"marker\":{\"color\":\"#636efa\"},\"name\":\"Total Funding\",\"notched\":true,\"offsetgroup\":\"Total Funding\",\"showlegend\":false,\"x\":[2151670.0,1500000.0,627500.0,300000.0,300000.0,298500.0,295625.0,288098.0,279449.0,250000.0,240000.0,234128.0,200000.0,200000.0,200000.0,200000.0,200000.0,200000.0,188969.0,187500.0,150000.0,150000.0,146250.0,100000.0,100000.0,100000.0,100000.0,100000.0,100000.0,100000.0,100000.0,100000.0,100000.0,100000.0,100000.0,100000.0,100000.0,100000.0,100000.0,100000.0,100000.0,99999.0,99928.0,99550.0,97636.0,96000.0,95500.0,95000.0,95000.0,94000.0,93500.0,85000.0,84518.0,80000.0,75000.0,75000.0,70000.0,50000.0,50000.0,49332.0,47345.0,46270.0,45200.0,40626.0,40619.0,36667.0,30000.0,25000.0,23719.0,22550.0,20600.0,20000.0,20000.0,19899.0,18500.0,15897.0,15625.0,13370.0,13209.0,12800.0,10800.0,10800.0,10800.0,10800.0,10800.0,10800.0,9000.0,8100.0,8000.0,6686.0,2823.0,1096.0],\"xaxis\":\"x2\",\"yaxis\":\"y2\",\"type\":\"box\"}],                        {\"template\":{\"data\":{\"histogram2dcontour\":[{\"type\":\"histogram2dcontour\",\"colorbar\":{\"outlinewidth\":0,\"ticks\":\"\"},\"colorscale\":[[0.0,\"#0d0887\"],[0.1111111111111111,\"#46039f\"],[0.2222222222222222,\"#7201a8\"],[0.3333333333333333,\"#9c179e\"],[0.4444444444444444,\"#bd3786\"],[0.5555555555555556,\"#d8576b\"],[0.6666666666666666,\"#ed7953\"],[0.7777777777777778,\"#fb9f3a\"],[0.8888888888888888,\"#fdca26\"],[1.0,\"#f0f921\"]]}],\"choropleth\":[{\"type\":\"choropleth\",\"colorbar\":{\"outlinewidth\":0,\"ticks\":\"\"}}],\"histogram2d\":[{\"type\":\"histogram2d\",\"colorbar\":{\"outlinewidth\":0,\"ticks\":\"\"},\"colorscale\":[[0.0,\"#0d0887\"],[0.1111111111111111,\"#46039f\"],[0.2222222222222222,\"#7201a8\"],[0.3333333333333333,\"#9c179e\"],[0.4444444444444444,\"#bd3786\"],[0.5555555555555556,\"#d8576b\"],[0.6666666666666666,\"#ed7953\"],[0.7777777777777778,\"#fb9f3a\"],[0.8888888888888888,\"#fdca26\"],[1.0,\"#f0f921\"]]}],\"heatmap\":[{\"type\":\"heatmap\",\"colorbar\":{\"outlinewidth\":0,\"ticks\":\"\"},\"colorscale\":[[0.0,\"#0d0887\"],[0.1111111111111111,\"#46039f\"],[0.2222222222222222,\"#7201a8\"],[0.3333333333333333,\"#9c179e\"],[0.4444444444444444,\"#bd3786\"],[0.5555555555555556,\"#d8576b\"],[0.6666666666666666,\"#ed7953\"],[0.7777777777777778,\"#fb9f3a\"],[0.8888888888888888,\"#fdca26\"],[1.0,\"#f0f921\"]]}],\"heatmapgl\":[{\"type\":\"heatmapgl\",\"colorbar\":{\"outlinewidth\":0,\"ticks\":\"\"},\"colorscale\":[[0.0,\"#0d0887\"],[0.1111111111111111,\"#46039f\"],[0.2222222222222222,\"#7201a8\"],[0.3333333333333333,\"#9c179e\"],[0.4444444444444444,\"#bd3786\"],[0.5555555555555556,\"#d8576b\"],[0.6666666666666666,\"#ed7953\"],[0.7777777777777778,\"#fb9f3a\"],[0.8888888888888888,\"#fdca26\"],[1.0,\"#f0f921\"]]}],\"contourcarpet\":[{\"type\":\"contourcarpet\",\"colorbar\":{\"outlinewidth\":0,\"ticks\":\"\"}}],\"contour\":[{\"type\":\"contour\",\"colorbar\":{\"outlinewidth\":0,\"ticks\":\"\"},\"colorscale\":[[0.0,\"#0d0887\"],[0.1111111111111111,\"#46039f\"],[0.2222222222222222,\"#7201a8\"],[0.3333333333333333,\"#9c179e\"],[0.4444444444444444,\"#bd3786\"],[0.5555555555555556,\"#d8576b\"],[0.6666666666666666,\"#ed7953\"],[0.7777777777777778,\"#fb9f3a\"],[0.8888888888888888,\"#fdca26\"],[1.0,\"#f0f921\"]]}],\"surface\":[{\"type\":\"surface\",\"colorbar\":{\"outlinewidth\":0,\"ticks\":\"\"},\"colorscale\":[[0.0,\"#0d0887\"],[0.1111111111111111,\"#46039f\"],[0.2222222222222222,\"#7201a8\"],[0.3333333333333333,\"#9c179e\"],[0.4444444444444444,\"#bd3786\"],[0.5555555555555556,\"#d8576b\"],[0.6666666666666666,\"#ed7953\"],[0.7777777777777778,\"#fb9f3a\"],[0.8888888888888888,\"#fdca26\"],[1.0,\"#f0f921\"]]}],\"mesh3d\":[{\"type\":\"mesh3d\",\"colorbar\":{\"outlinewidth\":0,\"ticks\":\"\"}}],\"scatter\":[{\"fillpattern\":{\"fillmode\":\"overlay\",\"size\":10,\"solidity\":0.2},\"type\":\"scatter\"}],\"parcoords\":[{\"type\":\"parcoords\",\"line\":{\"colorbar\":{\"outlinewidth\":0,\"ticks\":\"\"}}}],\"scatterpolargl\":[{\"type\":\"scatterpolargl\",\"marker\":{\"colorbar\":{\"outlinewidth\":0,\"ticks\":\"\"}}}],\"bar\":[{\"error_x\":{\"color\":\"#2a3f5f\"},\"error_y\":{\"color\":\"#2a3f5f\"},\"marker\":{\"line\":{\"color\":\"#E5ECF6\",\"width\":0.5},\"pattern\":{\"fillmode\":\"overlay\",\"size\":10,\"solidity\":0.2}},\"type\":\"bar\"}],\"scattergeo\":[{\"type\":\"scattergeo\",\"marker\":{\"colorbar\":{\"outlinewidth\":0,\"ticks\":\"\"}}}],\"scatterpolar\":[{\"type\":\"scatterpolar\",\"marker\":{\"colorbar\":{\"outlinewidth\":0,\"ticks\":\"\"}}}],\"histogram\":[{\"marker\":{\"pattern\":{\"fillmode\":\"overlay\",\"size\":10,\"solidity\":0.2}},\"type\":\"histogram\"}],\"scattergl\":[{\"type\":\"scattergl\",\"marker\":{\"colorbar\":{\"outlinewidth\":0,\"ticks\":\"\"}}}],\"scatter3d\":[{\"type\":\"scatter3d\",\"line\":{\"colorbar\":{\"outlinewidth\":0,\"ticks\":\"\"}},\"marker\":{\"colorbar\":{\"outlinewidth\":0,\"ticks\":\"\"}}}],\"scattermapbox\":[{\"type\":\"scattermapbox\",\"marker\":{\"colorbar\":{\"outlinewidth\":0,\"ticks\":\"\"}}}],\"scatterternary\":[{\"type\":\"scatterternary\",\"marker\":{\"colorbar\":{\"outlinewidth\":0,\"ticks\":\"\"}}}],\"scattercarpet\":[{\"type\":\"scattercarpet\",\"marker\":{\"colorbar\":{\"outlinewidth\":0,\"ticks\":\"\"}}}],\"carpet\":[{\"aaxis\":{\"endlinecolor\":\"#2a3f5f\",\"gridcolor\":\"white\",\"linecolor\":\"white\",\"minorgridcolor\":\"white\",\"startlinecolor\":\"#2a3f5f\"},\"baxis\":{\"endlinecolor\":\"#2a3f5f\",\"gridcolor\":\"white\",\"linecolor\":\"white\",\"minorgridcolor\":\"white\",\"startlinecolor\":\"#2a3f5f\"},\"type\":\"carpet\"}],\"table\":[{\"cells\":{\"fill\":{\"color\":\"#EBF0F8\"},\"line\":{\"color\":\"white\"}},\"header\":{\"fill\":{\"color\":\"#C8D4E3\"},\"line\":{\"color\":\"white\"}},\"type\":\"table\"}],\"barpolar\":[{\"marker\":{\"line\":{\"color\":\"#E5ECF6\",\"width\":0.5},\"pattern\":{\"fillmode\":\"overlay\",\"size\":10,\"solidity\":0.2}},\"type\":\"barpolar\"}],\"pie\":[{\"automargin\":true,\"type\":\"pie\"}]},\"layout\":{\"autotypenumbers\":\"strict\",\"colorway\":[\"#636efa\",\"#EF553B\",\"#00cc96\",\"#ab63fa\",\"#FFA15A\",\"#19d3f3\",\"#FF6692\",\"#B6E880\",\"#FF97FF\",\"#FECB52\"],\"font\":{\"color\":\"#2a3f5f\"},\"hovermode\":\"closest\",\"hoverlabel\":{\"align\":\"left\"},\"paper_bgcolor\":\"white\",\"plot_bgcolor\":\"#E5ECF6\",\"polar\":{\"bgcolor\":\"#E5ECF6\",\"angularaxis\":{\"gridcolor\":\"white\",\"linecolor\":\"white\",\"ticks\":\"\"},\"radialaxis\":{\"gridcolor\":\"white\",\"linecolor\":\"white\",\"ticks\":\"\"}},\"ternary\":{\"bgcolor\":\"#E5ECF6\",\"aaxis\":{\"gridcolor\":\"white\",\"linecolor\":\"white\",\"ticks\":\"\"},\"baxis\":{\"gridcolor\":\"white\",\"linecolor\":\"white\",\"ticks\":\"\"},\"caxis\":{\"gridcolor\":\"white\",\"linecolor\":\"white\",\"ticks\":\"\"}},\"coloraxis\":{\"colorbar\":{\"outlinewidth\":0,\"ticks\":\"\"}},\"colorscale\":{\"sequential\":[[0.0,\"#0d0887\"],[0.1111111111111111,\"#46039f\"],[0.2222222222222222,\"#7201a8\"],[0.3333333333333333,\"#9c179e\"],[0.4444444444444444,\"#bd3786\"],[0.5555555555555556,\"#d8576b\"],[0.6666666666666666,\"#ed7953\"],[0.7777777777777778,\"#fb9f3a\"],[0.8888888888888888,\"#fdca26\"],[1.0,\"#f0f921\"]],\"sequentialminus\":[[0.0,\"#0d0887\"],[0.1111111111111111,\"#46039f\"],[0.2222222222222222,\"#7201a8\"],[0.3333333333333333,\"#9c179e\"],[0.4444444444444444,\"#bd3786\"],[0.5555555555555556,\"#d8576b\"],[0.6666666666666666,\"#ed7953\"],[0.7777777777777778,\"#fb9f3a\"],[0.8888888888888888,\"#fdca26\"],[1.0,\"#f0f921\"]],\"diverging\":[[0,\"#8e0152\"],[0.1,\"#c51b7d\"],[0.2,\"#de77ae\"],[0.3,\"#f1b6da\"],[0.4,\"#fde0ef\"],[0.5,\"#f7f7f7\"],[0.6,\"#e6f5d0\"],[0.7,\"#b8e186\"],[0.8,\"#7fbc41\"],[0.9,\"#4d9221\"],[1,\"#276419\"]]},\"xaxis\":{\"gridcolor\":\"white\",\"linecolor\":\"white\",\"ticks\":\"\",\"title\":{\"standoff\":15},\"zerolinecolor\":\"white\",\"automargin\":true,\"zerolinewidth\":2},\"yaxis\":{\"gridcolor\":\"white\",\"linecolor\":\"white\",\"ticks\":\"\",\"title\":{\"standoff\":15},\"zerolinecolor\":\"white\",\"automargin\":true,\"zerolinewidth\":2},\"scene\":{\"xaxis\":{\"backgroundcolor\":\"#E5ECF6\",\"gridcolor\":\"white\",\"linecolor\":\"white\",\"showbackground\":true,\"ticks\":\"\",\"zerolinecolor\":\"white\",\"gridwidth\":2},\"yaxis\":{\"backgroundcolor\":\"#E5ECF6\",\"gridcolor\":\"white\",\"linecolor\":\"white\",\"showbackground\":true,\"ticks\":\"\",\"zerolinecolor\":\"white\",\"gridwidth\":2},\"zaxis\":{\"backgroundcolor\":\"#E5ECF6\",\"gridcolor\":\"white\",\"linecolor\":\"white\",\"showbackground\":true,\"ticks\":\"\",\"zerolinecolor\":\"white\",\"gridwidth\":2}},\"shapedefaults\":{\"line\":{\"color\":\"#2a3f5f\"}},\"annotationdefaults\":{\"arrowcolor\":\"#2a3f5f\",\"arrowhead\":0,\"arrowwidth\":1},\"geo\":{\"bgcolor\":\"white\",\"landcolor\":\"#E5ECF6\",\"subunitcolor\":\"white\",\"showland\":true,\"showlakes\":true,\"lakecolor\":\"white\"},\"title\":{\"x\":0.05},\"mapbox\":{\"style\":\"light\"}}},\"xaxis\":{\"anchor\":\"y\",\"domain\":[0.0,1.0],\"title\":{\"text\":\"Committed Funding Amount for Gold Coast Region\"}},\"yaxis\":{\"anchor\":\"x\",\"domain\":[0.0,0.7326],\"title\":{\"text\":\"count\"}},\"xaxis2\":{\"anchor\":\"y2\",\"domain\":[0.0,1.0],\"matches\":\"x\",\"showticklabels\":false,\"showgrid\":true,\"title\":{\"text\":\"Committed Funding Amount for Gold Coast Region\"}},\"yaxis2\":{\"anchor\":\"x2\",\"domain\":[0.7426,1.0],\"matches\":\"y2\",\"showticklabels\":false,\"showline\":false,\"ticks\":\"\",\"showgrid\":false},\"legend\":{\"title\":{\"text\":\"variable\"},\"tracegroupgap\":0},\"margin\":{\"t\":60},\"barmode\":\"relative\"},                        {\"responsive\": true}                    ).then(function(){\n",
       "                            \n",
       "var gd = document.getElementById('3b2aef92-42a0-4c98-8b67-ad9acfec8258');\n",
       "var x = new MutationObserver(function (mutations, observer) {{\n",
       "        var display = window.getComputedStyle(gd).display;\n",
       "        if (!display || display === 'none') {{\n",
       "            console.log([gd, 'removed!']);\n",
       "            Plotly.purge(gd);\n",
       "            observer.disconnect();\n",
       "        }}\n",
       "}});\n",
       "\n",
       "// Listen for the removal of the full notebook cells\n",
       "var notebookContainer = gd.closest('#notebook-container');\n",
       "if (notebookContainer) {{\n",
       "    x.observe(notebookContainer, {childList: true});\n",
       "}}\n",
       "\n",
       "// Listen for the clearing of the current output cell\n",
       "var outputEl = gd.closest('.output');\n",
       "if (outputEl) {{\n",
       "    x.observe(outputEl, {childList: true});\n",
       "}}\n",
       "\n",
       "                        })                };                });            </script>        </div>"
      ]
     },
     "metadata": {},
     "output_type": "display_data"
    }
   ],
   "source": [
    "\n",
    "fig = px.histogram(gc_sorted_df['Total Funding'], nbins=10, marginal='box', text_auto=True)\n",
    "\n",
    "fig.update_xaxes(title_text='Committed Funding Amount for Gold Coast Region')\n",
    "\n",
    "fig.show()"
   ]
  },
  {
   "cell_type": "code",
   "execution_count": 24,
   "id": "b25e2438",
   "metadata": {},
   "outputs": [
    {
     "data": {
      "image/png": "[encoded data removed]",
      "text/plain": [
       "<Figure size 640x480 with 1 Axes>"
      ]
     },
     "metadata": {},
     "output_type": "display_data"
    },
    {
     "data": {
      "image/png": "[encoded data removed]",
      "text/plain": [
       "<Figure size 640x480 with 1 Axes>"
      ]
     },
     "metadata": {},
     "output_type": "display_data"
    }
   ],
   "source": [
    "import matplotlib.pyplot as plt\n",
    "import seaborn as sns\n",
    "\n",
    "# Plot histogram\n",
    "sns.histplot(gc_sorted_df['Total Funding'], kde=True)\n",
    "plt.title(\"Distribution of Total Funding Amounts\")\n",
    "plt.show()\n",
    "\n",
    "# Box plot to detect outliers\n",
    "sns.boxplot(x=gc_sorted_df['Total Funding'])\n",
    "plt.title(\"Box Plot of Total Funding Amounts\")\n",
    "plt.show()\n"
   ]
  },
  {
   "cell_type": "markdown",
   "id": "e725e5bb-c4c5-4341-be6d-2cfc1a25b96f",
   "metadata": {},
   "source": [
    "Insight: The above histogram showing the amount of funding distributed to various ranges in millions on the x-axis and counts of funding on y-axis using vertical bars depending on the bins specified. On top of histogram there is a box plot which reveals the outliers in the data but it is positively skewed which shows from the longer tail on the right side means majority of funding concentrated within low and middle values. Here 10 number of bins displays the best results."
   ]
  },
  {
   "cell_type": "code",
   "execution_count": 25,
   "id": "faf133f4-9304-48f3-9bde-c82a7a36c1a1",
   "metadata": {},
   "outputs": [
    {
     "data": {
      "application/vnd.plotly.v1+json": {
       "config": {
        "plotlyServerURL": "https://plot.ly"
       },
       "data": [
        {
         "alignmentgroup": "True",
         "bingroup": "x",
         "hovertemplate": "variable=Total Funding<br>value=%{x}<br>count=%{y}<extra></extra>",
         "legendgroup": "Total Funding",
         "marker": {
          "color": "#636efa",
          "pattern": {
           "shape": ""
          }
         },
         "name": "Total Funding",
         "nbinsx": 10,
         "offsetgroup": "Total Funding",
         "orientation": "v",
         "showlegend": true,
         "texttemplate": "%{value}",
         "type": "histogram",
         "x": [
          660000,
          526000,
          400000,
          399000,
          360000,
          300000,
          295063,
          250000,
          250000,
          250000,
          250000,
          200000,
          200000,
          199676,
          192700,
          185000,
          148000,
          100000,
          100000,
          100000,
          100000,
          100000,
          100000,
          100000,
          100000,
          100000,
          100000,
          100000,
          100000,
          100000,
          100000,
          100000,
          100000,
          100000,
          100000,
          100000,
          100000,
          100000,
          100000,
          100000,
          99918,
          99800,
          99500,
          97644,
          92160,
          90878,
          90000,
          88975,
          82763,
          79200,
          75000,
          75000,
          75000,
          50000,
          48188,
          43750,
          40290,
          33074,
          30505,
          28690,
          22750,
          22500,
          21600,
          21347,
          20000,
          20000,
          18816,
          14000,
          11200,
          10800,
          10800,
          10500,
          9112,
          7500,
          6000,
          5237
         ],
         "xaxis": "x",
         "yaxis": "y"
        },
        {
         "alignmentgroup": "True",
         "hovertemplate": "variable=Total Funding<br>value=%{x}<extra></extra>",
         "legendgroup": "Total Funding",
         "marker": {
          "color": "#636efa"
         },
         "name": "Total Funding",
         "notched": true,
         "offsetgroup": "Total Funding",
         "showlegend": false,
         "type": "box",
         "x": [
          660000,
          526000,
          400000,
          399000,
          360000,
          300000,
          295063,
          250000,
          250000,
          250000,
          250000,
          200000,
          200000,
          199676,
          192700,
          185000,
          148000,
          100000,
          100000,
          100000,
          100000,
          100000,
          100000,
          100000,
          100000,
          100000,
          100000,
          100000,
          100000,
          100000,
          100000,
          100000,
          100000,
          100000,
          100000,
          100000,
          100000,
          100000,
          100000,
          100000,
          99918,
          99800,
          99500,
          97644,
          92160,
          90878,
          90000,
          88975,
          82763,
          79200,
          75000,
          75000,
          75000,
          50000,
          48188,
          43750,
          40290,
          33074,
          30505,
          28690,
          22750,
          22500,
          21600,
          21347,
          20000,
          20000,
          18816,
          14000,
          11200,
          10800,
          10800,
          10500,
          9112,
          7500,
          6000,
          5237
         ],
         "xaxis": "x2",
         "yaxis": "y2"
        }
       ],
       "layout": {
        "barmode": "relative",
        "legend": {
         "title": {
          "text": "variable"
         },
         "tracegroupgap": 0
        },
        "margin": {
         "t": 60
        },
        "template": {
         "data": {
          "bar": [
           {
            "error_x": {
             "color": "#2a3f5f"
            },
            "error_y": {
             "color": "#2a3f5f"
            },
            "marker": {
             "line": {
              "color": "#E5ECF6",
              "width": 0.5
             },
             "pattern": {
              "fillmode": "overlay",
              "size": 10,
              "solidity": 0.2
             }
            },
            "type": "bar"
           }
          ],
          "barpolar": [
           {
            "marker": {
             "line": {
              "color": "#E5ECF6",
              "width": 0.5
             },
             "pattern": {
              "fillmode": "overlay",
              "size": 10,
              "solidity": 0.2
             }
            },
            "type": "barpolar"
           }
          ],
          "carpet": [
           {
            "aaxis": {
             "endlinecolor": "#2a3f5f",
             "gridcolor": "white",
             "linecolor": "white",
             "minorgridcolor": "white",
             "startlinecolor": "#2a3f5f"
            },
            "baxis": {
             "endlinecolor": "#2a3f5f",
             "gridcolor": "white",
             "linecolor": "white",
             "minorgridcolor": "white",
             "startlinecolor": "#2a3f5f"
            },
            "type": "carpet"
           }
          ],
          "choropleth": [
           {
            "colorbar": {
             "outlinewidth": 0,
             "ticks": ""
            },
            "type": "choropleth"
           }
          ],
          "contour": [
           {
            "colorbar": {
             "outlinewidth": 0,
             "ticks": ""
            },
            "colorscale": [
             [
              0,
              "#0d0887"
             ],
             [
              0.1111111111111111,
              "#46039f"
             ],
             [
              0.2222222222222222,
              "#7201a8"
             ],
             [
              0.3333333333333333,
              "#9c179e"
             ],
             [
              0.4444444444444444,
              "#bd3786"
             ],
             [
              0.5555555555555556,
              "#d8576b"
             ],
             [
              0.6666666666666666,
              "#ed7953"
             ],
             [
              0.7777777777777778,
              "#fb9f3a"
             ],
             [
              0.8888888888888888,
              "#fdca26"
             ],
             [
              1,
              "#f0f921"
             ]
            ],
            "type": "contour"
           }
          ],
          "contourcarpet": [
           {
            "colorbar": {
             "outlinewidth": 0,
             "ticks": ""
            },
            "type": "contourcarpet"
           }
          ],
          "heatmap": [
           {
            "colorbar": {
             "outlinewidth": 0,
             "ticks": ""
            },
            "colorscale": [
             [
              0,
              "#0d0887"
             ],
             [
              0.1111111111111111,
              "#46039f"
             ],
             [
              0.2222222222222222,
              "#7201a8"
             ],
             [
              0.3333333333333333,
              "#9c179e"
             ],
             [
              0.4444444444444444,
              "#bd3786"
             ],
             [
              0.5555555555555556,
              "#d8576b"
             ],
             [
              0.6666666666666666,
              "#ed7953"
             ],
             [
              0.7777777777777778,
              "#fb9f3a"
             ],
             [
              0.8888888888888888,
              "#fdca26"
             ],
             [
              1,
              "#f0f921"
             ]
            ],
            "type": "heatmap"
           }
          ],
          "heatmapgl": [
           {
            "colorbar": {
             "outlinewidth": 0,
             "ticks": ""
            },
            "colorscale": [
             [
              0,
              "#0d0887"
             ],
             [
              0.1111111111111111,
              "#46039f"
             ],
             [
              0.2222222222222222,
              "#7201a8"
             ],
             [
              0.3333333333333333,
              "#9c179e"
             ],
             [
              0.4444444444444444,
              "#bd3786"
             ],
             [
              0.5555555555555556,
              "#d8576b"
             ],
             [
              0.6666666666666666,
              "#ed7953"
             ],
             [
              0.7777777777777778,
              "#fb9f3a"
             ],
             [
              0.8888888888888888,
              "#fdca26"
             ],
             [
              1,
              "#f0f921"
             ]
            ],
            "type": "heatmapgl"
           }
          ],
          "histogram": [
           {
            "marker": {
             "pattern": {
              "fillmode": "overlay",
              "size": 10,
              "solidity": 0.2
             }
            },
            "type": "histogram"
           }
          ],
          "histogram2d": [
           {
            "colorbar": {
             "outlinewidth": 0,
             "ticks": ""
            },
            "colorscale": [
             [
              0,
              "#0d0887"
             ],
             [
              0.1111111111111111,
              "#46039f"
             ],
             [
              0.2222222222222222,
              "#7201a8"
             ],
             [
              0.3333333333333333,
              "#9c179e"
             ],
             [
              0.4444444444444444,
              "#bd3786"
             ],
             [
              0.5555555555555556,
              "#d8576b"
             ],
             [
              0.6666666666666666,
              "#ed7953"
             ],
             [
              0.7777777777777778,
              "#fb9f3a"
             ],
             [
              0.8888888888888888,
              "#fdca26"
             ],
             [
              1,
              "#f0f921"
             ]
            ],
            "type": "histogram2d"
           }
          ],
          "histogram2dcontour": [
           {
            "colorbar": {
             "outlinewidth": 0,
             "ticks": ""
            },
            "colorscale": [
             [
              0,
              "#0d0887"
             ],
             [
              0.1111111111111111,
              "#46039f"
             ],
             [
              0.2222222222222222,
              "#7201a8"
             ],
             [
              0.3333333333333333,
              "#9c179e"
             ],
             [
              0.4444444444444444,
              "#bd3786"
             ],
             [
              0.5555555555555556,
              "#d8576b"
             ],
             [
              0.6666666666666666,
              "#ed7953"
             ],
             [
              0.7777777777777778,
              "#fb9f3a"
             ],
             [
              0.8888888888888888,
              "#fdca26"
             ],
             [
              1,
              "#f0f921"
             ]
            ],
            "type": "histogram2dcontour"
           }
          ],
          "mesh3d": [
           {
            "colorbar": {
             "outlinewidth": 0,
             "ticks": ""
            },
            "type": "mesh3d"
           }
          ],
          "parcoords": [
           {
            "line": {
             "colorbar": {
              "outlinewidth": 0,
              "ticks": ""
             }
            },
            "type": "parcoords"
           }
          ],
          "pie": [
           {
            "automargin": true,
            "type": "pie"
           }
          ],
          "scatter": [
           {
            "fillpattern": {
             "fillmode": "overlay",
             "size": 10,
             "solidity": 0.2
            },
            "type": "scatter"
           }
          ],
          "scatter3d": [
           {
            "line": {
             "colorbar": {
              "outlinewidth": 0,
              "ticks": ""
             }
            },
            "marker": {
             "colorbar": {
              "outlinewidth": 0,
              "ticks": ""
             }
            },
            "type": "scatter3d"
           }
          ],
          "scattercarpet": [
           {
            "marker": {
             "colorbar": {
              "outlinewidth": 0,
              "ticks": ""
             }
            },
            "type": "scattercarpet"
           }
          ],
          "scattergeo": [
           {
            "marker": {
             "colorbar": {
              "outlinewidth": 0,
              "ticks": ""
             }
            },
            "type": "scattergeo"
           }
          ],
          "scattergl": [
           {
            "marker": {
             "colorbar": {
              "outlinewidth": 0,
              "ticks": ""
             }
            },
            "type": "scattergl"
           }
          ],
          "scattermapbox": [
           {
            "marker": {
             "colorbar": {
              "outlinewidth": 0,
              "ticks": ""
             }
            },
            "type": "scattermapbox"
           }
          ],
          "scatterpolar": [
           {
            "marker": {
             "colorbar": {
              "outlinewidth": 0,
              "ticks": ""
             }
            },
            "type": "scatterpolar"
           }
          ],
          "scatterpolargl": [
           {
            "marker": {
             "colorbar": {
              "outlinewidth": 0,
              "ticks": ""
             }
            },
            "type": "scatterpolargl"
           }
          ],
          "scatterternary": [
           {
            "marker": {
             "colorbar": {
              "outlinewidth": 0,
              "ticks": ""
             }
            },
            "type": "scatterternary"
           }
          ],
          "surface": [
           {
            "colorbar": {
             "outlinewidth": 0,
             "ticks": ""
            },
            "colorscale": [
             [
              0,
              "#0d0887"
             ],
             [
              0.1111111111111111,
              "#46039f"
             ],
             [
              0.2222222222222222,
              "#7201a8"
             ],
             [
              0.3333333333333333,
              "#9c179e"
             ],
             [
              0.4444444444444444,
              "#bd3786"
             ],
             [
              0.5555555555555556,
              "#d8576b"
             ],
             [
              0.6666666666666666,
              "#ed7953"
             ],
             [
              0.7777777777777778,
              "#fb9f3a"
             ],
             [
              0.8888888888888888,
              "#fdca26"
             ],
             [
              1,
              "#f0f921"
             ]
            ],
            "type": "surface"
           }
          ],
          "table": [
           {
            "cells": {
             "fill": {
              "color": "#EBF0F8"
             },
             "line": {
              "color": "white"
             }
            },
            "header": {
             "fill": {
              "color": "#C8D4E3"
             },
             "line": {
              "color": "white"
             }
            },
            "type": "table"
           }
          ]
         },
         "layout": {
          "annotationdefaults": {
           "arrowcolor": "#2a3f5f",
           "arrowhead": 0,
           "arrowwidth": 1
          },
          "autotypenumbers": "strict",
          "coloraxis": {
           "colorbar": {
            "outlinewidth": 0,
            "ticks": ""
           }
          },
          "colorscale": {
           "diverging": [
            [
             0,
             "#8e0152"
            ],
            [
             0.1,
             "#c51b7d"
            ],
            [
             0.2,
             "#de77ae"
            ],
            [
             0.3,
             "#f1b6da"
            ],
            [
             0.4,
             "#fde0ef"
            ],
            [
             0.5,
             "#f7f7f7"
            ],
            [
             0.6,
             "#e6f5d0"
            ],
            [
             0.7,
             "#b8e186"
            ],
            [
             0.8,
             "#7fbc41"
            ],
            [
             0.9,
             "#4d9221"
            ],
            [
             1,
             "#276419"
            ]
           ],
           "sequential": [
            [
             0,
             "#0d0887"
            ],
            [
             0.1111111111111111,
             "#46039f"
            ],
            [
             0.2222222222222222,
             "#7201a8"
            ],
            [
             0.3333333333333333,
             "#9c179e"
            ],
            [
             0.4444444444444444,
             "#bd3786"
            ],
            [
             0.5555555555555556,
             "#d8576b"
            ],
            [
             0.6666666666666666,
             "#ed7953"
            ],
            [
             0.7777777777777778,
             "#fb9f3a"
            ],
            [
             0.8888888888888888,
             "#fdca26"
            ],
            [
             1,
             "#f0f921"
            ]
           ],
           "sequentialminus": [
            [
             0,
             "#0d0887"
            ],
            [
             0.1111111111111111,
             "#46039f"
            ],
            [
             0.2222222222222222,
             "#7201a8"
            ],
            [
             0.3333333333333333,
             "#9c179e"
            ],
            [
             0.4444444444444444,
             "#bd3786"
            ],
            [
             0.5555555555555556,
             "#d8576b"
            ],
            [
             0.6666666666666666,
             "#ed7953"
            ],
            [
             0.7777777777777778,
             "#fb9f3a"
            ],
            [
             0.8888888888888888,
             "#fdca26"
            ],
            [
             1,
             "#f0f921"
            ]
           ]
          },
          "colorway": [
           "#636efa",
           "#EF553B",
           "#00cc96",
           "#ab63fa",
           "#FFA15A",
           "#19d3f3",
           "#FF6692",
           "#B6E880",
           "#FF97FF",
           "#FECB52"
          ],
          "font": {
           "color": "#2a3f5f"
          },
          "geo": {
           "bgcolor": "white",
           "lakecolor": "white",
           "landcolor": "#E5ECF6",
           "showlakes": true,
           "showland": true,
           "subunitcolor": "white"
          },
          "hoverlabel": {
           "align": "left"
          },
          "hovermode": "closest",
          "mapbox": {
           "style": "light"
          },
          "paper_bgcolor": "white",
          "plot_bgcolor": "#E5ECF6",
          "polar": {
           "angularaxis": {
            "gridcolor": "white",
            "linecolor": "white",
            "ticks": ""
           },
           "bgcolor": "#E5ECF6",
           "radialaxis": {
            "gridcolor": "white",
            "linecolor": "white",
            "ticks": ""
           }
          },
          "scene": {
           "xaxis": {
            "backgroundcolor": "#E5ECF6",
            "gridcolor": "white",
            "gridwidth": 2,
            "linecolor": "white",
            "showbackground": true,
            "ticks": "",
            "zerolinecolor": "white"
           },
           "yaxis": {
            "backgroundcolor": "#E5ECF6",
            "gridcolor": "white",
            "gridwidth": 2,
            "linecolor": "white",
            "showbackground": true,
            "ticks": "",
            "zerolinecolor": "white"
           },
           "zaxis": {
            "backgroundcolor": "#E5ECF6",
            "gridcolor": "white",
            "gridwidth": 2,
            "linecolor": "white",
            "showbackground": true,
            "ticks": "",
            "zerolinecolor": "white"
           }
          },
          "shapedefaults": {
           "line": {
            "color": "#2a3f5f"
           }
          },
          "ternary": {
           "aaxis": {
            "gridcolor": "white",
            "linecolor": "white",
            "ticks": ""
           },
           "baxis": {
            "gridcolor": "white",
            "linecolor": "white",
            "ticks": ""
           },
           "bgcolor": "#E5ECF6",
           "caxis": {
            "gridcolor": "white",
            "linecolor": "white",
            "ticks": ""
           }
          },
          "title": {
           "x": 0.05
          },
          "xaxis": {
           "automargin": true,
           "gridcolor": "white",
           "linecolor": "white",
           "ticks": "",
           "title": {
            "standoff": 15
           },
           "zerolinecolor": "white",
           "zerolinewidth": 2
          },
          "yaxis": {
           "automargin": true,
           "gridcolor": "white",
           "linecolor": "white",
           "ticks": "",
           "title": {
            "standoff": 15
           },
           "zerolinecolor": "white",
           "zerolinewidth": 2
          }
         }
        },
        "xaxis": {
         "anchor": "y",
         "domain": [
          0,
          1
         ],
         "title": {
          "text": "Committed Funding Amount for Sunshine Coast"
         }
        },
        "xaxis2": {
         "anchor": "y2",
         "domain": [
          0,
          1
         ],
         "matches": "x",
         "showgrid": true,
         "showticklabels": false,
         "title": {
          "text": "Committed Funding Amount for Sunshine Coast"
         }
        },
        "yaxis": {
         "anchor": "x",
         "domain": [
          0,
          0.7326
         ],
         "title": {
          "text": "count"
         }
        },
        "yaxis2": {
         "anchor": "x2",
         "domain": [
          0.7426,
          1
         ],
         "matches": "y2",
         "showgrid": false,
         "showline": false,
         "showticklabels": false,
         "ticks": ""
        }
       }
      },
      "text/html": [
       "<div>                            <div id=\"19d33750-3d56-408d-871a-fa7c457bdfea\" class=\"plotly-graph-div\" style=\"height:525px; width:100%;\"></div>            <script type=\"text/javascript\">                require([\"plotly\"], function(Plotly) {                    window.PLOTLYENV=window.PLOTLYENV || {};                                    if (document.getElementById(\"19d33750-3d56-408d-871a-fa7c457bdfea\")) {                    Plotly.newPlot(                        \"19d33750-3d56-408d-871a-fa7c457bdfea\",                        [{\"alignmentgroup\":\"True\",\"bingroup\":\"x\",\"hovertemplate\":\"variable=Total Funding<br>value=%{x}<br>count=%{y}<extra></extra>\",\"legendgroup\":\"Total Funding\",\"marker\":{\"color\":\"#636efa\",\"pattern\":{\"shape\":\"\"}},\"name\":\"Total Funding\",\"nbinsx\":10,\"offsetgroup\":\"Total Funding\",\"orientation\":\"v\",\"showlegend\":true,\"texttemplate\":\"%{value}\",\"x\":[660000.0,526000.0,400000.0,399000.0,360000.0,300000.0,295063.0,250000.0,250000.0,250000.0,250000.0,200000.0,200000.0,199676.0,192700.0,185000.0,148000.0,100000.0,100000.0,100000.0,100000.0,100000.0,100000.0,100000.0,100000.0,100000.0,100000.0,100000.0,100000.0,100000.0,100000.0,100000.0,100000.0,100000.0,100000.0,100000.0,100000.0,100000.0,100000.0,100000.0,99918.0,99800.0,99500.0,97644.0,92160.0,90878.0,90000.0,88975.0,82763.0,79200.0,75000.0,75000.0,75000.0,50000.0,48188.0,43750.0,40290.0,33074.0,30505.0,28690.0,22750.0,22500.0,21600.0,21347.0,20000.0,20000.0,18816.0,14000.0,11200.0,10800.0,10800.0,10500.0,9112.0,7500.0,6000.0,5237.0],\"xaxis\":\"x\",\"yaxis\":\"y\",\"type\":\"histogram\"},{\"alignmentgroup\":\"True\",\"hovertemplate\":\"variable=Total Funding<br>value=%{x}<extra></extra>\",\"legendgroup\":\"Total Funding\",\"marker\":{\"color\":\"#636efa\"},\"name\":\"Total Funding\",\"notched\":true,\"offsetgroup\":\"Total Funding\",\"showlegend\":false,\"x\":[660000.0,526000.0,400000.0,399000.0,360000.0,300000.0,295063.0,250000.0,250000.0,250000.0,250000.0,200000.0,200000.0,199676.0,192700.0,185000.0,148000.0,100000.0,100000.0,100000.0,100000.0,100000.0,100000.0,100000.0,100000.0,100000.0,100000.0,100000.0,100000.0,100000.0,100000.0,100000.0,100000.0,100000.0,100000.0,100000.0,100000.0,100000.0,100000.0,100000.0,99918.0,99800.0,99500.0,97644.0,92160.0,90878.0,90000.0,88975.0,82763.0,79200.0,75000.0,75000.0,75000.0,50000.0,48188.0,43750.0,40290.0,33074.0,30505.0,28690.0,22750.0,22500.0,21600.0,21347.0,20000.0,20000.0,18816.0,14000.0,11200.0,10800.0,10800.0,10500.0,9112.0,7500.0,6000.0,5237.0],\"xaxis\":\"x2\",\"yaxis\":\"y2\",\"type\":\"box\"}],                        {\"template\":{\"data\":{\"histogram2dcontour\":[{\"type\":\"histogram2dcontour\",\"colorbar\":{\"outlinewidth\":0,\"ticks\":\"\"},\"colorscale\":[[0.0,\"#0d0887\"],[0.1111111111111111,\"#46039f\"],[0.2222222222222222,\"#7201a8\"],[0.3333333333333333,\"#9c179e\"],[0.4444444444444444,\"#bd3786\"],[0.5555555555555556,\"#d8576b\"],[0.6666666666666666,\"#ed7953\"],[0.7777777777777778,\"#fb9f3a\"],[0.8888888888888888,\"#fdca26\"],[1.0,\"#f0f921\"]]}],\"choropleth\":[{\"type\":\"choropleth\",\"colorbar\":{\"outlinewidth\":0,\"ticks\":\"\"}}],\"histogram2d\":[{\"type\":\"histogram2d\",\"colorbar\":{\"outlinewidth\":0,\"ticks\":\"\"},\"colorscale\":[[0.0,\"#0d0887\"],[0.1111111111111111,\"#46039f\"],[0.2222222222222222,\"#7201a8\"],[0.3333333333333333,\"#9c179e\"],[0.4444444444444444,\"#bd3786\"],[0.5555555555555556,\"#d8576b\"],[0.6666666666666666,\"#ed7953\"],[0.7777777777777778,\"#fb9f3a\"],[0.8888888888888888,\"#fdca26\"],[1.0,\"#f0f921\"]]}],\"heatmap\":[{\"type\":\"heatmap\",\"colorbar\":{\"outlinewidth\":0,\"ticks\":\"\"},\"colorscale\":[[0.0,\"#0d0887\"],[0.1111111111111111,\"#46039f\"],[0.2222222222222222,\"#7201a8\"],[0.3333333333333333,\"#9c179e\"],[0.4444444444444444,\"#bd3786\"],[0.5555555555555556,\"#d8576b\"],[0.6666666666666666,\"#ed7953\"],[0.7777777777777778,\"#fb9f3a\"],[0.8888888888888888,\"#fdca26\"],[1.0,\"#f0f921\"]]}],\"heatmapgl\":[{\"type\":\"heatmapgl\",\"colorbar\":{\"outlinewidth\":0,\"ticks\":\"\"},\"colorscale\":[[0.0,\"#0d0887\"],[0.1111111111111111,\"#46039f\"],[0.2222222222222222,\"#7201a8\"],[0.3333333333333333,\"#9c179e\"],[0.4444444444444444,\"#bd3786\"],[0.5555555555555556,\"#d8576b\"],[0.6666666666666666,\"#ed7953\"],[0.7777777777777778,\"#fb9f3a\"],[0.8888888888888888,\"#fdca26\"],[1.0,\"#f0f921\"]]}],\"contourcarpet\":[{\"type\":\"contourcarpet\",\"colorbar\":{\"outlinewidth\":0,\"ticks\":\"\"}}],\"contour\":[{\"type\":\"contour\",\"colorbar\":{\"outlinewidth\":0,\"ticks\":\"\"},\"colorscale\":[[0.0,\"#0d0887\"],[0.1111111111111111,\"#46039f\"],[0.2222222222222222,\"#7201a8\"],[0.3333333333333333,\"#9c179e\"],[0.4444444444444444,\"#bd3786\"],[0.5555555555555556,\"#d8576b\"],[0.6666666666666666,\"#ed7953\"],[0.7777777777777778,\"#fb9f3a\"],[0.8888888888888888,\"#fdca26\"],[1.0,\"#f0f921\"]]}],\"surface\":[{\"type\":\"surface\",\"colorbar\":{\"outlinewidth\":0,\"ticks\":\"\"},\"colorscale\":[[0.0,\"#0d0887\"],[0.1111111111111111,\"#46039f\"],[0.2222222222222222,\"#7201a8\"],[0.3333333333333333,\"#9c179e\"],[0.4444444444444444,\"#bd3786\"],[0.5555555555555556,\"#d8576b\"],[0.6666666666666666,\"#ed7953\"],[0.7777777777777778,\"#fb9f3a\"],[0.8888888888888888,\"#fdca26\"],[1.0,\"#f0f921\"]]}],\"mesh3d\":[{\"type\":\"mesh3d\",\"colorbar\":{\"outlinewidth\":0,\"ticks\":\"\"}}],\"scatter\":[{\"fillpattern\":{\"fillmode\":\"overlay\",\"size\":10,\"solidity\":0.2},\"type\":\"scatter\"}],\"parcoords\":[{\"type\":\"parcoords\",\"line\":{\"colorbar\":{\"outlinewidth\":0,\"ticks\":\"\"}}}],\"scatterpolargl\":[{\"type\":\"scatterpolargl\",\"marker\":{\"colorbar\":{\"outlinewidth\":0,\"ticks\":\"\"}}}],\"bar\":[{\"error_x\":{\"color\":\"#2a3f5f\"},\"error_y\":{\"color\":\"#2a3f5f\"},\"marker\":{\"line\":{\"color\":\"#E5ECF6\",\"width\":0.5},\"pattern\":{\"fillmode\":\"overlay\",\"size\":10,\"solidity\":0.2}},\"type\":\"bar\"}],\"scattergeo\":[{\"type\":\"scattergeo\",\"marker\":{\"colorbar\":{\"outlinewidth\":0,\"ticks\":\"\"}}}],\"scatterpolar\":[{\"type\":\"scatterpolar\",\"marker\":{\"colorbar\":{\"outlinewidth\":0,\"ticks\":\"\"}}}],\"histogram\":[{\"marker\":{\"pattern\":{\"fillmode\":\"overlay\",\"size\":10,\"solidity\":0.2}},\"type\":\"histogram\"}],\"scattergl\":[{\"type\":\"scattergl\",\"marker\":{\"colorbar\":{\"outlinewidth\":0,\"ticks\":\"\"}}}],\"scatter3d\":[{\"type\":\"scatter3d\",\"line\":{\"colorbar\":{\"outlinewidth\":0,\"ticks\":\"\"}},\"marker\":{\"colorbar\":{\"outlinewidth\":0,\"ticks\":\"\"}}}],\"scattermapbox\":[{\"type\":\"scattermapbox\",\"marker\":{\"colorbar\":{\"outlinewidth\":0,\"ticks\":\"\"}}}],\"scatterternary\":[{\"type\":\"scatterternary\",\"marker\":{\"colorbar\":{\"outlinewidth\":0,\"ticks\":\"\"}}}],\"scattercarpet\":[{\"type\":\"scattercarpet\",\"marker\":{\"colorbar\":{\"outlinewidth\":0,\"ticks\":\"\"}}}],\"carpet\":[{\"aaxis\":{\"endlinecolor\":\"#2a3f5f\",\"gridcolor\":\"white\",\"linecolor\":\"white\",\"minorgridcolor\":\"white\",\"startlinecolor\":\"#2a3f5f\"},\"baxis\":{\"endlinecolor\":\"#2a3f5f\",\"gridcolor\":\"white\",\"linecolor\":\"white\",\"minorgridcolor\":\"white\",\"startlinecolor\":\"#2a3f5f\"},\"type\":\"carpet\"}],\"table\":[{\"cells\":{\"fill\":{\"color\":\"#EBF0F8\"},\"line\":{\"color\":\"white\"}},\"header\":{\"fill\":{\"color\":\"#C8D4E3\"},\"line\":{\"color\":\"white\"}},\"type\":\"table\"}],\"barpolar\":[{\"marker\":{\"line\":{\"color\":\"#E5ECF6\",\"width\":0.5},\"pattern\":{\"fillmode\":\"overlay\",\"size\":10,\"solidity\":0.2}},\"type\":\"barpolar\"}],\"pie\":[{\"automargin\":true,\"type\":\"pie\"}]},\"layout\":{\"autotypenumbers\":\"strict\",\"colorway\":[\"#636efa\",\"#EF553B\",\"#00cc96\",\"#ab63fa\",\"#FFA15A\",\"#19d3f3\",\"#FF6692\",\"#B6E880\",\"#FF97FF\",\"#FECB52\"],\"font\":{\"color\":\"#2a3f5f\"},\"hovermode\":\"closest\",\"hoverlabel\":{\"align\":\"left\"},\"paper_bgcolor\":\"white\",\"plot_bgcolor\":\"#E5ECF6\",\"polar\":{\"bgcolor\":\"#E5ECF6\",\"angularaxis\":{\"gridcolor\":\"white\",\"linecolor\":\"white\",\"ticks\":\"\"},\"radialaxis\":{\"gridcolor\":\"white\",\"linecolor\":\"white\",\"ticks\":\"\"}},\"ternary\":{\"bgcolor\":\"#E5ECF6\",\"aaxis\":{\"gridcolor\":\"white\",\"linecolor\":\"white\",\"ticks\":\"\"},\"baxis\":{\"gridcolor\":\"white\",\"linecolor\":\"white\",\"ticks\":\"\"},\"caxis\":{\"gridcolor\":\"white\",\"linecolor\":\"white\",\"ticks\":\"\"}},\"coloraxis\":{\"colorbar\":{\"outlinewidth\":0,\"ticks\":\"\"}},\"colorscale\":{\"sequential\":[[0.0,\"#0d0887\"],[0.1111111111111111,\"#46039f\"],[0.2222222222222222,\"#7201a8\"],[0.3333333333333333,\"#9c179e\"],[0.4444444444444444,\"#bd3786\"],[0.5555555555555556,\"#d8576b\"],[0.6666666666666666,\"#ed7953\"],[0.7777777777777778,\"#fb9f3a\"],[0.8888888888888888,\"#fdca26\"],[1.0,\"#f0f921\"]],\"sequentialminus\":[[0.0,\"#0d0887\"],[0.1111111111111111,\"#46039f\"],[0.2222222222222222,\"#7201a8\"],[0.3333333333333333,\"#9c179e\"],[0.4444444444444444,\"#bd3786\"],[0.5555555555555556,\"#d8576b\"],[0.6666666666666666,\"#ed7953\"],[0.7777777777777778,\"#fb9f3a\"],[0.8888888888888888,\"#fdca26\"],[1.0,\"#f0f921\"]],\"diverging\":[[0,\"#8e0152\"],[0.1,\"#c51b7d\"],[0.2,\"#de77ae\"],[0.3,\"#f1b6da\"],[0.4,\"#fde0ef\"],[0.5,\"#f7f7f7\"],[0.6,\"#e6f5d0\"],[0.7,\"#b8e186\"],[0.8,\"#7fbc41\"],[0.9,\"#4d9221\"],[1,\"#276419\"]]},\"xaxis\":{\"gridcolor\":\"white\",\"linecolor\":\"white\",\"ticks\":\"\",\"title\":{\"standoff\":15},\"zerolinecolor\":\"white\",\"automargin\":true,\"zerolinewidth\":2},\"yaxis\":{\"gridcolor\":\"white\",\"linecolor\":\"white\",\"ticks\":\"\",\"title\":{\"standoff\":15},\"zerolinecolor\":\"white\",\"automargin\":true,\"zerolinewidth\":2},\"scene\":{\"xaxis\":{\"backgroundcolor\":\"#E5ECF6\",\"gridcolor\":\"white\",\"linecolor\":\"white\",\"showbackground\":true,\"ticks\":\"\",\"zerolinecolor\":\"white\",\"gridwidth\":2},\"yaxis\":{\"backgroundcolor\":\"#E5ECF6\",\"gridcolor\":\"white\",\"linecolor\":\"white\",\"showbackground\":true,\"ticks\":\"\",\"zerolinecolor\":\"white\",\"gridwidth\":2},\"zaxis\":{\"backgroundcolor\":\"#E5ECF6\",\"gridcolor\":\"white\",\"linecolor\":\"white\",\"showbackground\":true,\"ticks\":\"\",\"zerolinecolor\":\"white\",\"gridwidth\":2}},\"shapedefaults\":{\"line\":{\"color\":\"#2a3f5f\"}},\"annotationdefaults\":{\"arrowcolor\":\"#2a3f5f\",\"arrowhead\":0,\"arrowwidth\":1},\"geo\":{\"bgcolor\":\"white\",\"landcolor\":\"#E5ECF6\",\"subunitcolor\":\"white\",\"showland\":true,\"showlakes\":true,\"lakecolor\":\"white\"},\"title\":{\"x\":0.05},\"mapbox\":{\"style\":\"light\"}}},\"xaxis\":{\"anchor\":\"y\",\"domain\":[0.0,1.0],\"title\":{\"text\":\"Committed Funding Amount for Sunshine Coast\"}},\"yaxis\":{\"anchor\":\"x\",\"domain\":[0.0,0.7326],\"title\":{\"text\":\"count\"}},\"xaxis2\":{\"anchor\":\"y2\",\"domain\":[0.0,1.0],\"matches\":\"x\",\"showticklabels\":false,\"showgrid\":true,\"title\":{\"text\":\"Committed Funding Amount for Sunshine Coast\"}},\"yaxis2\":{\"anchor\":\"x2\",\"domain\":[0.7426,1.0],\"matches\":\"y2\",\"showticklabels\":false,\"showline\":false,\"ticks\":\"\",\"showgrid\":false},\"legend\":{\"title\":{\"text\":\"variable\"},\"tracegroupgap\":0},\"margin\":{\"t\":60},\"barmode\":\"relative\"},                        {\"responsive\": true}                    ).then(function(){\n",
       "                            \n",
       "var gd = document.getElementById('19d33750-3d56-408d-871a-fa7c457bdfea');\n",
       "var x = new MutationObserver(function (mutations, observer) {{\n",
       "        var display = window.getComputedStyle(gd).display;\n",
       "        if (!display || display === 'none') {{\n",
       "            console.log([gd, 'removed!']);\n",
       "            Plotly.purge(gd);\n",
       "            observer.disconnect();\n",
       "        }}\n",
       "}});\n",
       "\n",
       "// Listen for the removal of the full notebook cells\n",
       "var notebookContainer = gd.closest('#notebook-container');\n",
       "if (notebookContainer) {{\n",
       "    x.observe(notebookContainer, {childList: true});\n",
       "}}\n",
       "\n",
       "// Listen for the clearing of the current output cell\n",
       "var outputEl = gd.closest('.output');\n",
       "if (outputEl) {{\n",
       "    x.observe(outputEl, {childList: true});\n",
       "}}\n",
       "\n",
       "                        })                };                });            </script>        </div>"
      ]
     },
     "metadata": {},
     "output_type": "display_data"
    }
   ],
   "source": [
    "fig = px.histogram(ssc_sorted_df['Total Funding'], nbins=10, marginal='box', text_auto=True)\n",
    "\n",
    "fig.update_xaxes(title_text='Committed Funding Amount for Sunshine Coast')\n",
    "\n",
    "fig.show()"
   ]
  },
  {
   "cell_type": "markdown",
   "id": "d45ac7fe-ae69-4561-8c68-448af7139ee3",
   "metadata": {},
   "source": [
    "Insight: In the above histogram chart for Sunshine Coast, counts of funding shows gradule decline as the amount of funding blocks increased. Vertical bars shows majority of funding amounts lies between 0 to 300k with some outliers above 400k. It also reveals a big difference between Gold Coast and Sunshine Coast fund amounts and that is none of the amount is in million."
   ]
  },
  {
   "cell_type": "markdown",
   "id": "d45aceff-7789-4aff-a2a4-4e6f29e934d3",
   "metadata": {},
   "source": [
    "Part A verified with Pamela on 21-3-24 at 9.30am in the room 604. Pamela feedback on charts in Q7 is that they looks a bit vague. After discussion with Pamela in the class and through email I did some adjustments in the code and learned bit more about the box plots which brought the clarity in my mind and plots."
   ]
  },
  {
   "cell_type": "markdown",
   "id": "71115c60",
   "metadata": {},
   "source": [
    "---\n",
    "## Part B - creating a narrative to answer significant questions\n",
    "\n",
    "**SCENARIO:**  The allocation of public money (obtained from the public via taxes) is a politically sensitive activity with governments regularly coming under scrutiny for how this money is spent. A respected media organisation is looking into the Queensland Government's Advance Queensland program. The resulting story could be a \"good news\" story reporting on the success of the program, however if inappropriate spending or irregularities are found, it could become a story that is critical of the scheme, and potentially the Government.\n",
    "\n",
    "As a data analyst, your task is to analyse the publicly available data on the distribution of the funds over time. You are looking for patterns that may support the \"good news\" story, or which may be a cause for concern. It is up to you how deeply you explore the data, but at a minimum you should look at (a) the balance between South-East Queensland and the remainder of the state (regional Queensland); and (b) how distributions align with the objectives of the scheme which may include supporting specified groups of people. \n",
    "\n",
    "**ETHICAL APPROACH:** You are expected to be fair and ethical in your analysis, and therefore the insights that you draw should take into account contextual factors. You should avoid simplistic assumptions like assuming all groups and activities should receive equal funding. For example, disproportionate funding may be appropriate due to social circumstances or the costs involved in a particular activity. Further, benefits to Queensland may come in different forms. For example, cultural benefits cannot be directly compared to economic benefits.\n",
    "\n",
    "**ESSENTIAL REQUIREMENTS:** Your task as a data analyst is to:\n",
    "\n",
    "- Ensure that you use the techniques and libraries/packages that have been used in class\n",
    "- Identify high quality questions that when answered may be helpful in addressing the scenario above\n",
    "- Obtain the data in JSON form from the API.\n",
    "- Clean and filter the data as appropriate\n",
    "- Analyse the data in a way that answers your questions and ultimately addresses the concern in the scenario\n",
    "- Visualise your results in a meaningful way that is helpful in making visible key findings\n",
    "- Provide a detailed summary of the insights found and how they address the original questions and scenario\n",
    "\n",
    "**AUTHENTICITY AND INTEGRITY**: You will be marked on (a) *HOW* you undertake the task todgether; with (b) detail of *WHY* you made various decisions involved in the tasks; and (c) acknowledgement of **WHERE** you  used material that is not directly yours. Therefore, you must document your thinking and approach throughout the notebook using the Markdown cells, and give credit to other resources as appropriate. You are encouraged to use the `Exemplars` PDF to help write your code. You may use online resources including `GenAI tools` and `stackoverflow` to help you write your code, however you must acknowledge that you are using these resources in the markdown cells explaining your analysis. Note that you do not need to use formal referencing for this.\n",
    "\n",
    "---\n"
   ]
  },
  {
   "cell_type": "markdown",
   "id": "670c1690-f2f1-4f84-9d9e-a816fb915a6b",
   "metadata": {},
   "source": [
    "Question: Is there a balance in the distribution of funds between South east Queensland and the remainder of the state?"
   ]
  },
  {
   "cell_type": "markdown",
   "id": "3f8c873b-ec8e-464b-ac49-cda840f1a877",
   "metadata": {},
   "source": [
    "1. In this step, I am converting the 'Approval date' column to datetime format, considering the possibility of using it for comparison and extraction of data . "
   ]
  },
  {
   "cell_type": "code",
   "execution_count": 26,
   "id": "9bc16a90",
   "metadata": {},
   "outputs": [],
   "source": [
    "# Convert 'Approval date' to datetime format\n",
    "df['Approval date'] = pd.to_datetime(df['Approval date'], errors='coerce')\n",
    "\n",
    "# Extract the date part and create a new column 'Approval date only'\n",
    "df['Approval date only'] = df['Approval date'].dt.date\n",
    "\n",
    "# Convert the new column to datetime.date format (optional)\n",
    "df['Approval date only'] = pd.to_datetime(df['Approval date only'], errors='coerce')\n"
   ]
  },
  {
   "cell_type": "markdown",
   "id": "b5f06002-bbeb-4833-b587-8db3db476f85",
   "metadata": {},
   "source": [
    "2. In this step, I am extracting last six years of data for analysis which has the objective of to include current operational funding programs."
   ]
  },
  {
   "cell_type": "code",
   "execution_count": 27,
   "id": "e5f95e41-156a-4d85-acae-1bc219b2a2ce",
   "metadata": {},
   "outputs": [
    {
     "name": "stdout",
     "output_type": "stream",
     "text": [
      "First date: 2018-01-01 00:00:00\n",
      "Last date: 2024-07-02 00:00:00 \n",
      "\n"
     ]
    }
   ],
   "source": [
    "# Sort DataFrame by date_column in descending order\n",
    "df_sorted = df.sort_values(by='Approval date only', ascending=False)\n",
    "\n",
    "# Extracting last Six years of data \n",
    "six_years_data = df_sorted[df_sorted['Approval date only'] >= '2018-01-01']\n",
    "\n",
    "# Get the first and last dates in the 'Approval date' column\n",
    "first_date = six_years_data['Approval date only'].min()\n",
    "last_date = six_years_data['Approval date only'].max()\n",
    "\n",
    "print(\"First date:\", first_date)\n",
    "print(\"Last date:\", last_date, '\\n')"
   ]
  },
  {
   "cell_type": "markdown",
   "id": "13ee845b-2402-46a1-a32f-15c24db5394f",
   "metadata": {},
   "source": [
    "3. In this step, I am checking the rows and the columns of data as well as the total funding committments which helps to understand the spread of data."
   ]
  },
  {
   "cell_type": "code",
   "execution_count": 57,
   "id": "e992b3af-9b3d-4f91-8f78-139df4518373",
   "metadata": {},
   "outputs": [
    {
     "name": "stdout",
     "output_type": "stream",
     "text": [
      "Number of rows and column for six years data:  (606, 19)\n",
      "\n",
      "Total funding committment in millions($) for all programs are: $116.0M\n"
     ]
    }
   ],
   "source": [
    "print('Number of rows and column for six years data: ', six_years_data.shape)\n",
    "\n",
    "total_funding_committment = six_years_data['Funding Amount'].sum()\n",
    "\n",
    "print('\\nTotal funding committment in millions($) for all programs are: ${:.1f}M'.format(total_funding_committment / 1_000_000))"
   ]
  },
  {
   "cell_type": "markdown",
   "id": "89126759-b30b-4629-8f37-f29cebd24a5e",
   "metadata": {},
   "source": [
    "4. In this step, I would like to create a new column 'Region_Type' to identify the every row region as either South-East-QLD or Regional_QLD based on 'RAP Region' columm."
   ]
  },
  {
   "cell_type": "code",
   "execution_count": 31,
   "id": "4a2691da-a603-4290-83ec-929022cfca66",
   "metadata": {},
   "outputs": [
    {
     "name": "stderr",
     "output_type": "stream",
     "text": [
      "C:\\Users\\amic7\\AppData\\Local\\Temp\\ipykernel_13680\\3430045612.py:5: SettingWithCopyWarning:\n",
      "\n",
      "\n",
      "A value is trying to be set on a copy of a slice from a DataFrame.\n",
      "Try using .loc[row_indexer,col_indexer] = value instead\n",
      "\n",
      "See the caveats in the documentation: https://pandas.pydata.org/pandas-docs/stable/user_guide/indexing.html#returning-a-view-versus-a-copy\n",
      "\n"
     ]
    },
    {
     "data": {
      "text/html": [
       "<div>\n",
       "<style scoped>\n",
       "    .dataframe tbody tr th:only-of-type {\n",
       "        vertical-align: middle;\n",
       "    }\n",
       "\n",
       "    .dataframe tbody tr th {\n",
       "        vertical-align: top;\n",
       "    }\n",
       "\n",
       "    .dataframe thead th {\n",
       "        text-align: right;\n",
       "    }\n",
       "</style>\n",
       "<table border=\"1\" class=\"dataframe\">\n",
       "  <thead>\n",
       "    <tr style=\"text-align: right;\">\n",
       "      <th></th>\n",
       "      <th>Program Name</th>\n",
       "      <th>Round</th>\n",
       "      <th>Recipient Name</th>\n",
       "      <th>Physical Address of Recipient - Suburb/Location</th>\n",
       "      <th>Physical Address of Recipient - Post Code</th>\n",
       "      <th>University Collaborator (if applicable)</th>\n",
       "      <th>Other Partners/ Collaborators (if applicable)</th>\n",
       "      <th>Investment/Project Title</th>\n",
       "      <th>Primary Location of Activity/Project - Suburb/Location</th>\n",
       "      <th>Primary Location of Activity/Project - Post Code</th>\n",
       "      <th>Multiple Locations of Activity/Project</th>\n",
       "      <th>Approval date</th>\n",
       "      <th>Local Government Area (LGA)</th>\n",
       "      <th>RAP Region (based on Project Location)</th>\n",
       "      <th>State Electorate</th>\n",
       "      <th>Funding Amount</th>\n",
       "      <th>Approval date only</th>\n",
       "      <th>Region_Type</th>\n",
       "    </tr>\n",
       "  </thead>\n",
       "  <tbody>\n",
       "    <tr>\n",
       "      <th>1153</th>\n",
       "      <td>Regional Futures - Collaborative Projects</td>\n",
       "      <td>Collaborative Projects 2023</td>\n",
       "      <td>Bundle of Rays Academy Pty Ltd</td>\n",
       "      <td>Buderim</td>\n",
       "      <td>4556.0</td>\n",
       "      <td>NaN</td>\n",
       "      <td>JCU Central Queensland Centre for Rural and R...</td>\n",
       "      <td>Reality Academy: XR-Enhanced Health Education</td>\n",
       "      <td>Buderim</td>\n",
       "      <td>4556.0</td>\n",
       "      <td>NaN</td>\n",
       "      <td>2024-07-02</td>\n",
       "      <td>Sunshine Coast (R)</td>\n",
       "      <td>Sunshine Coast</td>\n",
       "      <td>Buderim</td>\n",
       "      <td>192700.0</td>\n",
       "      <td>2024-07-02</td>\n",
       "      <td>South-East-QLD</td>\n",
       "    </tr>\n",
       "    <tr>\n",
       "      <th>652</th>\n",
       "      <td>Ignite Ideas Fund</td>\n",
       "      <td>Ignite Spark 2023-24 Round 1</td>\n",
       "      <td>integratedPRIVATE Pty Ltd</td>\n",
       "      <td>Fortitude Valley</td>\n",
       "      <td>4006.0</td>\n",
       "      <td>NaN</td>\n",
       "      <td>NaN</td>\n",
       "      <td>Cloud Platform for Project and Retention Trusts</td>\n",
       "      <td>Fortitude Valley</td>\n",
       "      <td>4006.0</td>\n",
       "      <td>NaN</td>\n",
       "      <td>2024-02-22</td>\n",
       "      <td>Brisbane (C)</td>\n",
       "      <td>Brisbane and Redlands</td>\n",
       "      <td>McConnel</td>\n",
       "      <td>75000.0</td>\n",
       "      <td>2024-02-22</td>\n",
       "      <td>South-East-QLD</td>\n",
       "    </tr>\n",
       "    <tr>\n",
       "      <th>656</th>\n",
       "      <td>Ignite Ideas Fund</td>\n",
       "      <td>Ignite Spark 2023-24 Round 1</td>\n",
       "      <td>Valiant Space Pty Ltd</td>\n",
       "      <td>Tennyson</td>\n",
       "      <td>4105.0</td>\n",
       "      <td>NaN</td>\n",
       "      <td>NaN</td>\n",
       "      <td>Small In-Space Thrusters for CubeSats</td>\n",
       "      <td>Seventeen Mile Rocks</td>\n",
       "      <td>4073.0</td>\n",
       "      <td>NaN</td>\n",
       "      <td>2024-02-22</td>\n",
       "      <td>Brisbane (C)</td>\n",
       "      <td>Brisbane and Redlands</td>\n",
       "      <td>Mount Ommaney</td>\n",
       "      <td>75000.0</td>\n",
       "      <td>2024-02-22</td>\n",
       "      <td>South-East-QLD</td>\n",
       "    </tr>\n",
       "    <tr>\n",
       "      <th>651</th>\n",
       "      <td>Ignite Ideas Fund</td>\n",
       "      <td>Ignite Spark 2023-24 Round 1</td>\n",
       "      <td>D3 GENETICS PTY LTD</td>\n",
       "      <td>St Lucia</td>\n",
       "      <td>4067.0</td>\n",
       "      <td>NaN</td>\n",
       "      <td>NaN</td>\n",
       "      <td>Precision management for agriculture using D3 ...</td>\n",
       "      <td>St Lucia</td>\n",
       "      <td>4072.0</td>\n",
       "      <td>NaN</td>\n",
       "      <td>2024-02-22</td>\n",
       "      <td>Brisbane (C)</td>\n",
       "      <td>Brisbane and Redlands</td>\n",
       "      <td>Mount Ommaney</td>\n",
       "      <td>75000.0</td>\n",
       "      <td>2024-02-22</td>\n",
       "      <td>South-East-QLD</td>\n",
       "    </tr>\n",
       "    <tr>\n",
       "      <th>655</th>\n",
       "      <td>Ignite Ideas Fund</td>\n",
       "      <td>Ignite Spark 2023-24 Round 1</td>\n",
       "      <td>RESILIENCE DESIGN &amp; BUILD PTY LTD</td>\n",
       "      <td>Brisbane City</td>\n",
       "      <td>4000.0</td>\n",
       "      <td>NaN</td>\n",
       "      <td>NaN</td>\n",
       "      <td>EVGLE: Autonomous, Solar Powered Awning to cha...</td>\n",
       "      <td>Brisbane City</td>\n",
       "      <td>4000.0</td>\n",
       "      <td>NaN</td>\n",
       "      <td>2024-02-22</td>\n",
       "      <td>Brisbane (C)</td>\n",
       "      <td>Brisbane and Redlands</td>\n",
       "      <td>McConnel</td>\n",
       "      <td>75000.0</td>\n",
       "      <td>2024-02-22</td>\n",
       "      <td>South-East-QLD</td>\n",
       "    </tr>\n",
       "  </tbody>\n",
       "</table>\n",
       "</div>"
      ],
      "text/plain": [
       "                                   Program Name                         Round  \\\n",
       "1153  Regional Futures - Collaborative Projects   Collaborative Projects 2023   \n",
       "652                           Ignite Ideas Fund  Ignite Spark 2023-24 Round 1   \n",
       "656                           Ignite Ideas Fund  Ignite Spark 2023-24 Round 1   \n",
       "651                           Ignite Ideas Fund  Ignite Spark 2023-24 Round 1   \n",
       "655                           Ignite Ideas Fund  Ignite Spark 2023-24 Round 1   \n",
       "\n",
       "                         Recipient Name  \\\n",
       "1153     Bundle of Rays Academy Pty Ltd   \n",
       "652           integratedPRIVATE Pty Ltd   \n",
       "656               Valiant Space Pty Ltd   \n",
       "651                 D3 GENETICS PTY LTD   \n",
       "655   RESILIENCE DESIGN & BUILD PTY LTD   \n",
       "\n",
       "     Physical Address of Recipient - Suburb/Location  \\\n",
       "1153                                         Buderim   \n",
       "652                                 Fortitude Valley   \n",
       "656                                         Tennyson   \n",
       "651                                         St Lucia   \n",
       "655                                    Brisbane City   \n",
       "\n",
       "      Physical Address of Recipient - Post Code  \\\n",
       "1153                                     4556.0   \n",
       "652                                      4006.0   \n",
       "656                                      4105.0   \n",
       "651                                      4067.0   \n",
       "655                                      4000.0   \n",
       "\n",
       "     University Collaborator (if applicable)  \\\n",
       "1153                                     NaN   \n",
       "652                                      NaN   \n",
       "656                                      NaN   \n",
       "651                                      NaN   \n",
       "655                                      NaN   \n",
       "\n",
       "          Other Partners/ Collaborators (if applicable)  \\\n",
       "1153   JCU Central Queensland Centre for Rural and R...   \n",
       "652                                                 NaN   \n",
       "656                                                 NaN   \n",
       "651                                                 NaN   \n",
       "655                                                 NaN   \n",
       "\n",
       "                               Investment/Project Title  \\\n",
       "1153      Reality Academy: XR-Enhanced Health Education   \n",
       "652     Cloud Platform for Project and Retention Trusts   \n",
       "656               Small In-Space Thrusters for CubeSats   \n",
       "651   Precision management for agriculture using D3 ...   \n",
       "655   EVGLE: Autonomous, Solar Powered Awning to cha...   \n",
       "\n",
       "     Primary Location of Activity/Project - Suburb/Location  \\\n",
       "1153                                            Buderim       \n",
       "652                                    Fortitude Valley       \n",
       "656                                Seventeen Mile Rocks       \n",
       "651                                            St Lucia       \n",
       "655                                       Brisbane City       \n",
       "\n",
       "      Primary Location of Activity/Project - Post Code  \\\n",
       "1153                                            4556.0   \n",
       "652                                             4006.0   \n",
       "656                                             4073.0   \n",
       "651                                             4072.0   \n",
       "655                                             4000.0   \n",
       "\n",
       "     Multiple Locations of Activity/Project Approval date  \\\n",
       "1153                                    NaN    2024-07-02   \n",
       "652                                     NaN    2024-02-22   \n",
       "656                                     NaN    2024-02-22   \n",
       "651                                     NaN    2024-02-22   \n",
       "655                                     NaN    2024-02-22   \n",
       "\n",
       "     Local Government Area (LGA) RAP Region (based on Project Location)  \\\n",
       "1153          Sunshine Coast (R)                         Sunshine Coast   \n",
       "652                 Brisbane (C)                  Brisbane and Redlands   \n",
       "656                 Brisbane (C)                  Brisbane and Redlands   \n",
       "651                 Brisbane (C)                  Brisbane and Redlands   \n",
       "655                 Brisbane (C)                  Brisbane and Redlands   \n",
       "\n",
       "     State Electorate  Funding Amount Approval date only     Region_Type  \n",
       "1153          Buderim        192700.0         2024-07-02  South-East-QLD  \n",
       "652          McConnel         75000.0         2024-02-22  South-East-QLD  \n",
       "656     Mount Ommaney         75000.0         2024-02-22  South-East-QLD  \n",
       "651     Mount Ommaney         75000.0         2024-02-22  South-East-QLD  \n",
       "655          McConnel         75000.0         2024-02-22  South-East-QLD  "
      ]
     },
     "execution_count": 31,
     "metadata": {},
     "output_type": "execute_result"
    }
   ],
   "source": [
    "# initializing list with cities of south east qld\n",
    "south_east_qld = ['Brisbane and Redlands', 'Brisbane', 'Gold Coast', 'Sunshine Coast', 'Ipswich', 'Logan', 'Darling Downs']\n",
    "\n",
    "# Create a new column based on the 'RAP Region'. Note: I developed this line of code with the help of chat gpt\n",
    "six_years_data.loc[:, 'Region_Type'] = six_years_data['RAP Region (based on Project Location)'].apply(lambda x: 'South-East-QLD' if x in south_east_qld else 'Regional_QLD')\n",
    "\n",
    "# listing first five rows of data\n",
    "six_years_data.head(5)"
   ]
  },
  {
   "cell_type": "markdown",
   "id": "79eea7c5-4c17-4e43-ab5d-e7f4639ed2ad",
   "metadata": {},
   "source": [
    "5. In this step, I am extracting the year part from the 'Approval date' to create a new column to use it in my analysis for grouping the data."
   ]
  },
  {
   "cell_type": "code",
   "execution_count": 32,
   "id": "20b5b5b9-777a-4680-afbc-e845b8b80c3e",
   "metadata": {},
   "outputs": [
    {
     "name": "stdout",
     "output_type": "stream",
     "text": [
      "List of column Names: \n",
      "\n",
      "Program Name\n",
      "Round\n",
      "Recipient Name\n",
      "Physical Address of Recipient - Suburb/Location\n",
      "Physical Address of Recipient - Post Code\n",
      "University Collaborator (if applicable)\n",
      "Other Partners/ Collaborators (if applicable)\n",
      "Investment/Project Title\n",
      "Primary Location of Activity/Project - Suburb/Location\n",
      "Primary Location of Activity/Project - Post Code\n",
      "Multiple Locations of Activity/Project\n",
      "Approval date\n",
      "Local Government Area (LGA)\n",
      "RAP Region (based on Project Location)\n",
      "State Electorate\n",
      "Funding Amount\n",
      "Approval date only\n",
      "Region_Type\n",
      "Year\n"
     ]
    },
    {
     "name": "stderr",
     "output_type": "stream",
     "text": [
      "C:\\Users\\amic7\\AppData\\Local\\Temp\\ipykernel_13680\\1189606649.py:2: SettingWithCopyWarning:\n",
      "\n",
      "\n",
      "A value is trying to be set on a copy of a slice from a DataFrame.\n",
      "Try using .loc[row_indexer,col_indexer] = value instead\n",
      "\n",
      "See the caveats in the documentation: https://pandas.pydata.org/pandas-docs/stable/user_guide/indexing.html#returning-a-view-versus-a-copy\n",
      "\n"
     ]
    }
   ],
   "source": [
    "# Extract year from 'Approval date' and create a new column\n",
    "six_years_data.loc[:, 'Year'] = six_years_data['Approval date only'].dt.year\n",
    "\n",
    "# listing the column names\n",
    "column_names = six_years_data.columns\n",
    "print('List of column Names: \\n')\n",
    "for name in column_names:\n",
    "    print(name)"
   ]
  },
  {
   "cell_type": "markdown",
   "id": "8bb98880-a354-40f7-9c4f-b027c9ca6890",
   "metadata": {},
   "source": [
    "6. In this step, I am grouping the rows based on 'Program' and 'Region_type' column. Counting 1 if the program funding only to south east qld or regional qld, otherwise counting 2 for programs funding both region types. Then based on the counting fetching the programs to their respective variable holders."
   ]
  },
  {
   "cell_type": "code",
   "execution_count": 51,
   "id": "bb9b68f9",
   "metadata": {},
   "outputs": [],
   "source": [
    "# Group the DataFrame by 'Program' and 'Region_Type', count the number of unique regions for each program\n",
    "program_region_counts = six_years_data.groupby('Program Name')['Region_Type'].nunique()"
   ]
  },
  {
   "cell_type": "code",
   "execution_count": 52,
   "id": "12bff74e",
   "metadata": {},
   "outputs": [],
   "source": [
    "# Filter programs funded only in South East Queensland\n",
    "south_east_qld_only = program_region_counts[(program_region_counts == 1) & (six_years_data.groupby('Program Name')['Region_Type'].unique().apply(lambda x: 'South-East-QLD' in x))]\n",
    "\n",
    "# Filter programs funded only in Regional Queensland\n",
    "regional_qld_only = program_region_counts[(program_region_counts == 1) & (six_years_data.groupby('Program Name')['Region_Type'].unique().apply(lambda x: 'Regional_QLD' in x))]\n",
    "\n",
    "# Filter programs funded both regions of Queensland\n",
    "southeast_regional_qld = program_region_counts[(program_region_counts == 2)]"
   ]
  },
  {
   "cell_type": "markdown",
   "id": "4dc2e738-1e06-4f40-9153-9b37dd4cc99b",
   "metadata": {},
   "source": [
    "7. In this step, I am extracting the rows of programs which are in either only south east qld or only in regional qld or both, then calculating the sum of funding committments for each of the categories to see the balance of funding between SEQ and non-SEQ."
   ]
  },
  {
   "cell_type": "code",
   "execution_count": 53,
   "id": "5c4f6ca7",
   "metadata": {},
   "outputs": [],
   "source": [
    "# Filter data of programs funded only in South East Queensland\n",
    "south_east_qld_programs_only = six_years_data[six_years_data['Program Name'].isin(south_east_qld_only.index)]\n",
    "var1 = south_east_qld_programs_only['Funding Amount'].sum()\n",
    "\n",
    "# Filter data of programs funded only in Regional Queensland\n",
    "regional_qld_programs_only = six_years_data[six_years_data['Program Name'].isin(regional_qld_only.index)]\n",
    "var2 = regional_qld_programs_only['Funding Amount'].sum()\n",
    "\n",
    "# Filter data of programs funded to both regions\n",
    "se_regional_qld_programs = six_years_data[six_years_data['Program Name'].isin(southeast_regional_qld.index)]\n",
    "var3 = se_regional_qld_programs['Funding Amount'].sum()"
   ]
  },
  {
   "cell_type": "code",
   "execution_count": 54,
   "id": "663c8959",
   "metadata": {},
   "outputs": [
    {
     "name": "stdout",
     "output_type": "stream",
     "text": [
      "Total funding for programs which only supply funds to South East QLD: $38.2M\n",
      "Total funding for programs which only supply funds to Regional QLD: $6.0M\n",
      "Total funding for programs which supply funds to both regions: $71.8M\n"
     ]
    }
   ],
   "source": [
    "print('Total funding for programs which only supply funds to South East QLD: ${:.1f}M'.format(var1 / 1_000_000))\n",
    "print('Total funding for programs which only supply funds to Regional QLD: ${:.1f}M'.format(var2 / 1_000_000))\n",
    "print('Total funding for programs which supply funds to both regions: ${:.1f}M'.format(var3 / 1_000_000))\n"
   ]
  },
  {
   "cell_type": "markdown",
   "id": "e808d170-a48e-4163-a689-e536d5009e3f",
   "metadata": {},
   "source": [
    "8. I am plotting the data variables to a pie chart to visualize and show the state of funding committments in percentages to total funding based on three categories of programs i) Programs funded only to south east qld, ii) Programs funded only to regional qld, and iii) Programs funded to both south east and regional qld. "
   ]
  },
  {
   "cell_type": "code",
   "execution_count": 61,
   "id": "f284a967",
   "metadata": {},
   "outputs": [
    {
     "data": {
      "application/vnd.plotly.v1+json": {
       "config": {
        "plotlyServerURL": "https://plot.ly"
       },
       "data": [
        {
         "customdata": [
          [
           38184181
          ],
          [
           5978285
          ],
          [
           71820928
          ]
         ],
         "domain": {
          "x": [
           0,
           1
          ],
          "y": [
           0,
           1
          ]
         },
         "hovertemplate": "Program=%{label}<br>Percentage=%{value}<br>Amount=%{customdata[0]}<extra></extra>",
         "labels": [
          "Programs funded only in South East QLD",
          "Programs funded only in Regional QLD",
          "Programs funded in both SEQ and Regional QLD"
         ],
         "legendgroup": "",
         "name": "",
         "showlegend": true,
         "type": "pie",
         "values": [
          0.32922110384181374,
          0.05154431849097294,
          0.6192345776672132
         ]
        }
       ],
       "layout": {
        "height": 600,
        "legend": {
         "tracegroupgap": 0
        },
        "template": {
         "data": {
          "bar": [
           {
            "error_x": {
             "color": "#2a3f5f"
            },
            "error_y": {
             "color": "#2a3f5f"
            },
            "marker": {
             "line": {
              "color": "#E5ECF6",
              "width": 0.5
             },
             "pattern": {
              "fillmode": "overlay",
              "size": 10,
              "solidity": 0.2
             }
            },
            "type": "bar"
           }
          ],
          "barpolar": [
           {
            "marker": {
             "line": {
              "color": "#E5ECF6",
              "width": 0.5
             },
             "pattern": {
              "fillmode": "overlay",
              "size": 10,
              "solidity": 0.2
             }
            },
            "type": "barpolar"
           }
          ],
          "carpet": [
           {
            "aaxis": {
             "endlinecolor": "#2a3f5f",
             "gridcolor": "white",
             "linecolor": "white",
             "minorgridcolor": "white",
             "startlinecolor": "#2a3f5f"
            },
            "baxis": {
             "endlinecolor": "#2a3f5f",
             "gridcolor": "white",
             "linecolor": "white",
             "minorgridcolor": "white",
             "startlinecolor": "#2a3f5f"
            },
            "type": "carpet"
           }
          ],
          "choropleth": [
           {
            "colorbar": {
             "outlinewidth": 0,
             "ticks": ""
            },
            "type": "choropleth"
           }
          ],
          "contour": [
           {
            "colorbar": {
             "outlinewidth": 0,
             "ticks": ""
            },
            "colorscale": [
             [
              0,
              "#0d0887"
             ],
             [
              0.1111111111111111,
              "#46039f"
             ],
             [
              0.2222222222222222,
              "#7201a8"
             ],
             [
              0.3333333333333333,
              "#9c179e"
             ],
             [
              0.4444444444444444,
              "#bd3786"
             ],
             [
              0.5555555555555556,
              "#d8576b"
             ],
             [
              0.6666666666666666,
              "#ed7953"
             ],
             [
              0.7777777777777778,
              "#fb9f3a"
             ],
             [
              0.8888888888888888,
              "#fdca26"
             ],
             [
              1,
              "#f0f921"
             ]
            ],
            "type": "contour"
           }
          ],
          "contourcarpet": [
           {
            "colorbar": {
             "outlinewidth": 0,
             "ticks": ""
            },
            "type": "contourcarpet"
           }
          ],
          "heatmap": [
           {
            "colorbar": {
             "outlinewidth": 0,
             "ticks": ""
            },
            "colorscale": [
             [
              0,
              "#0d0887"
             ],
             [
              0.1111111111111111,
              "#46039f"
             ],
             [
              0.2222222222222222,
              "#7201a8"
             ],
             [
              0.3333333333333333,
              "#9c179e"
             ],
             [
              0.4444444444444444,
              "#bd3786"
             ],
             [
              0.5555555555555556,
              "#d8576b"
             ],
             [
              0.6666666666666666,
              "#ed7953"
             ],
             [
              0.7777777777777778,
              "#fb9f3a"
             ],
             [
              0.8888888888888888,
              "#fdca26"
             ],
             [
              1,
              "#f0f921"
             ]
            ],
            "type": "heatmap"
           }
          ],
          "heatmapgl": [
           {
            "colorbar": {
             "outlinewidth": 0,
             "ticks": ""
            },
            "colorscale": [
             [
              0,
              "#0d0887"
             ],
             [
              0.1111111111111111,
              "#46039f"
             ],
             [
              0.2222222222222222,
              "#7201a8"
             ],
             [
              0.3333333333333333,
              "#9c179e"
             ],
             [
              0.4444444444444444,
              "#bd3786"
             ],
             [
              0.5555555555555556,
              "#d8576b"
             ],
             [
              0.6666666666666666,
              "#ed7953"
             ],
             [
              0.7777777777777778,
              "#fb9f3a"
             ],
             [
              0.8888888888888888,
              "#fdca26"
             ],
             [
              1,
              "#f0f921"
             ]
            ],
            "type": "heatmapgl"
           }
          ],
          "histogram": [
           {
            "marker": {
             "pattern": {
              "fillmode": "overlay",
              "size": 10,
              "solidity": 0.2
             }
            },
            "type": "histogram"
           }
          ],
          "histogram2d": [
           {
            "colorbar": {
             "outlinewidth": 0,
             "ticks": ""
            },
            "colorscale": [
             [
              0,
              "#0d0887"
             ],
             [
              0.1111111111111111,
              "#46039f"
             ],
             [
              0.2222222222222222,
              "#7201a8"
             ],
             [
              0.3333333333333333,
              "#9c179e"
             ],
             [
              0.4444444444444444,
              "#bd3786"
             ],
             [
              0.5555555555555556,
              "#d8576b"
             ],
             [
              0.6666666666666666,
              "#ed7953"
             ],
             [
              0.7777777777777778,
              "#fb9f3a"
             ],
             [
              0.8888888888888888,
              "#fdca26"
             ],
             [
              1,
              "#f0f921"
             ]
            ],
            "type": "histogram2d"
           }
          ],
          "histogram2dcontour": [
           {
            "colorbar": {
             "outlinewidth": 0,
             "ticks": ""
            },
            "colorscale": [
             [
              0,
              "#0d0887"
             ],
             [
              0.1111111111111111,
              "#46039f"
             ],
             [
              0.2222222222222222,
              "#7201a8"
             ],
             [
              0.3333333333333333,
              "#9c179e"
             ],
             [
              0.4444444444444444,
              "#bd3786"
             ],
             [
              0.5555555555555556,
              "#d8576b"
             ],
             [
              0.6666666666666666,
              "#ed7953"
             ],
             [
              0.7777777777777778,
              "#fb9f3a"
             ],
             [
              0.8888888888888888,
              "#fdca26"
             ],
             [
              1,
              "#f0f921"
             ]
            ],
            "type": "histogram2dcontour"
           }
          ],
          "mesh3d": [
           {
            "colorbar": {
             "outlinewidth": 0,
             "ticks": ""
            },
            "type": "mesh3d"
           }
          ],
          "parcoords": [
           {
            "line": {
             "colorbar": {
              "outlinewidth": 0,
              "ticks": ""
             }
            },
            "type": "parcoords"
           }
          ],
          "pie": [
           {
            "automargin": true,
            "type": "pie"
           }
          ],
          "scatter": [
           {
            "fillpattern": {
             "fillmode": "overlay",
             "size": 10,
             "solidity": 0.2
            },
            "type": "scatter"
           }
          ],
          "scatter3d": [
           {
            "line": {
             "colorbar": {
              "outlinewidth": 0,
              "ticks": ""
             }
            },
            "marker": {
             "colorbar": {
              "outlinewidth": 0,
              "ticks": ""
             }
            },
            "type": "scatter3d"
           }
          ],
          "scattercarpet": [
           {
            "marker": {
             "colorbar": {
              "outlinewidth": 0,
              "ticks": ""
             }
            },
            "type": "scattercarpet"
           }
          ],
          "scattergeo": [
           {
            "marker": {
             "colorbar": {
              "outlinewidth": 0,
              "ticks": ""
             }
            },
            "type": "scattergeo"
           }
          ],
          "scattergl": [
           {
            "marker": {
             "colorbar": {
              "outlinewidth": 0,
              "ticks": ""
             }
            },
            "type": "scattergl"
           }
          ],
          "scattermapbox": [
           {
            "marker": {
             "colorbar": {
              "outlinewidth": 0,
              "ticks": ""
             }
            },
            "type": "scattermapbox"
           }
          ],
          "scatterpolar": [
           {
            "marker": {
             "colorbar": {
              "outlinewidth": 0,
              "ticks": ""
             }
            },
            "type": "scatterpolar"
           }
          ],
          "scatterpolargl": [
           {
            "marker": {
             "colorbar": {
              "outlinewidth": 0,
              "ticks": ""
             }
            },
            "type": "scatterpolargl"
           }
          ],
          "scatterternary": [
           {
            "marker": {
             "colorbar": {
              "outlinewidth": 0,
              "ticks": ""
             }
            },
            "type": "scatterternary"
           }
          ],
          "surface": [
           {
            "colorbar": {
             "outlinewidth": 0,
             "ticks": ""
            },
            "colorscale": [
             [
              0,
              "#0d0887"
             ],
             [
              0.1111111111111111,
              "#46039f"
             ],
             [
              0.2222222222222222,
              "#7201a8"
             ],
             [
              0.3333333333333333,
              "#9c179e"
             ],
             [
              0.4444444444444444,
              "#bd3786"
             ],
             [
              0.5555555555555556,
              "#d8576b"
             ],
             [
              0.6666666666666666,
              "#ed7953"
             ],
             [
              0.7777777777777778,
              "#fb9f3a"
             ],
             [
              0.8888888888888888,
              "#fdca26"
             ],
             [
              1,
              "#f0f921"
             ]
            ],
            "type": "surface"
           }
          ],
          "table": [
           {
            "cells": {
             "fill": {
              "color": "#EBF0F8"
             },
             "line": {
              "color": "white"
             }
            },
            "header": {
             "fill": {
              "color": "#C8D4E3"
             },
             "line": {
              "color": "white"
             }
            },
            "type": "table"
           }
          ]
         },
         "layout": {
          "annotationdefaults": {
           "arrowcolor": "#2a3f5f",
           "arrowhead": 0,
           "arrowwidth": 1
          },
          "autotypenumbers": "strict",
          "coloraxis": {
           "colorbar": {
            "outlinewidth": 0,
            "ticks": ""
           }
          },
          "colorscale": {
           "diverging": [
            [
             0,
             "#8e0152"
            ],
            [
             0.1,
             "#c51b7d"
            ],
            [
             0.2,
             "#de77ae"
            ],
            [
             0.3,
             "#f1b6da"
            ],
            [
             0.4,
             "#fde0ef"
            ],
            [
             0.5,
             "#f7f7f7"
            ],
            [
             0.6,
             "#e6f5d0"
            ],
            [
             0.7,
             "#b8e186"
            ],
            [
             0.8,
             "#7fbc41"
            ],
            [
             0.9,
             "#4d9221"
            ],
            [
             1,
             "#276419"
            ]
           ],
           "sequential": [
            [
             0,
             "#0d0887"
            ],
            [
             0.1111111111111111,
             "#46039f"
            ],
            [
             0.2222222222222222,
             "#7201a8"
            ],
            [
             0.3333333333333333,
             "#9c179e"
            ],
            [
             0.4444444444444444,
             "#bd3786"
            ],
            [
             0.5555555555555556,
             "#d8576b"
            ],
            [
             0.6666666666666666,
             "#ed7953"
            ],
            [
             0.7777777777777778,
             "#fb9f3a"
            ],
            [
             0.8888888888888888,
             "#fdca26"
            ],
            [
             1,
             "#f0f921"
            ]
           ],
           "sequentialminus": [
            [
             0,
             "#0d0887"
            ],
            [
             0.1111111111111111,
             "#46039f"
            ],
            [
             0.2222222222222222,
             "#7201a8"
            ],
            [
             0.3333333333333333,
             "#9c179e"
            ],
            [
             0.4444444444444444,
             "#bd3786"
            ],
            [
             0.5555555555555556,
             "#d8576b"
            ],
            [
             0.6666666666666666,
             "#ed7953"
            ],
            [
             0.7777777777777778,
             "#fb9f3a"
            ],
            [
             0.8888888888888888,
             "#fdca26"
            ],
            [
             1,
             "#f0f921"
            ]
           ]
          },
          "colorway": [
           "#636efa",
           "#EF553B",
           "#00cc96",
           "#ab63fa",
           "#FFA15A",
           "#19d3f3",
           "#FF6692",
           "#B6E880",
           "#FF97FF",
           "#FECB52"
          ],
          "font": {
           "color": "#2a3f5f"
          },
          "geo": {
           "bgcolor": "white",
           "lakecolor": "white",
           "landcolor": "#E5ECF6",
           "showlakes": true,
           "showland": true,
           "subunitcolor": "white"
          },
          "hoverlabel": {
           "align": "left"
          },
          "hovermode": "closest",
          "mapbox": {
           "style": "light"
          },
          "paper_bgcolor": "white",
          "plot_bgcolor": "#E5ECF6",
          "polar": {
           "angularaxis": {
            "gridcolor": "white",
            "linecolor": "white",
            "ticks": ""
           },
           "bgcolor": "#E5ECF6",
           "radialaxis": {
            "gridcolor": "white",
            "linecolor": "white",
            "ticks": ""
           }
          },
          "scene": {
           "xaxis": {
            "backgroundcolor": "#E5ECF6",
            "gridcolor": "white",
            "gridwidth": 2,
            "linecolor": "white",
            "showbackground": true,
            "ticks": "",
            "zerolinecolor": "white"
           },
           "yaxis": {
            "backgroundcolor": "#E5ECF6",
            "gridcolor": "white",
            "gridwidth": 2,
            "linecolor": "white",
            "showbackground": true,
            "ticks": "",
            "zerolinecolor": "white"
           },
           "zaxis": {
            "backgroundcolor": "#E5ECF6",
            "gridcolor": "white",
            "gridwidth": 2,
            "linecolor": "white",
            "showbackground": true,
            "ticks": "",
            "zerolinecolor": "white"
           }
          },
          "shapedefaults": {
           "line": {
            "color": "#2a3f5f"
           }
          },
          "ternary": {
           "aaxis": {
            "gridcolor": "white",
            "linecolor": "white",
            "ticks": ""
           },
           "baxis": {
            "gridcolor": "white",
            "linecolor": "white",
            "ticks": ""
           },
           "bgcolor": "#E5ECF6",
           "caxis": {
            "gridcolor": "white",
            "linecolor": "white",
            "ticks": ""
           }
          },
          "title": {
           "x": 0.05
          },
          "xaxis": {
           "automargin": true,
           "gridcolor": "white",
           "linecolor": "white",
           "ticks": "",
           "title": {
            "standoff": 15
           },
           "zerolinecolor": "white",
           "zerolinewidth": 2
          },
          "yaxis": {
           "automargin": true,
           "gridcolor": "white",
           "linecolor": "white",
           "ticks": "",
           "title": {
            "standoff": 15
           },
           "zerolinecolor": "white",
           "zerolinewidth": 2
          }
         }
        },
        "title": {
         "text": "Funds distribution by Programs"
        },
        "width": 800
       }
      },
      "text/html": [
       "<div>                            <div id=\"82992e3d-854b-45ac-8b5d-c26ad5b4bc8b\" class=\"plotly-graph-div\" style=\"height:600px; width:800px;\"></div>            <script type=\"text/javascript\">                require([\"plotly\"], function(Plotly) {                    window.PLOTLYENV=window.PLOTLYENV || {};                                    if (document.getElementById(\"82992e3d-854b-45ac-8b5d-c26ad5b4bc8b\")) {                    Plotly.newPlot(                        \"82992e3d-854b-45ac-8b5d-c26ad5b4bc8b\",                        [{\"customdata\":[[38184181.0],[5978285.0],[71820928.0]],\"domain\":{\"x\":[0.0,1.0],\"y\":[0.0,1.0]},\"hovertemplate\":\"Program=%{label}<br>Percentage=%{value}<br>Amount=%{customdata[0]}<extra></extra>\",\"labels\":[\"Programs funded only in South East QLD\",\"Programs funded only in Regional QLD\",\"Programs funded in both SEQ and Regional QLD\"],\"legendgroup\":\"\",\"name\":\"\",\"showlegend\":true,\"values\":[0.32922110384181374,0.05154431849097294,0.6192345776672132],\"type\":\"pie\"}],                        {\"template\":{\"data\":{\"histogram2dcontour\":[{\"type\":\"histogram2dcontour\",\"colorbar\":{\"outlinewidth\":0,\"ticks\":\"\"},\"colorscale\":[[0.0,\"#0d0887\"],[0.1111111111111111,\"#46039f\"],[0.2222222222222222,\"#7201a8\"],[0.3333333333333333,\"#9c179e\"],[0.4444444444444444,\"#bd3786\"],[0.5555555555555556,\"#d8576b\"],[0.6666666666666666,\"#ed7953\"],[0.7777777777777778,\"#fb9f3a\"],[0.8888888888888888,\"#fdca26\"],[1.0,\"#f0f921\"]]}],\"choropleth\":[{\"type\":\"choropleth\",\"colorbar\":{\"outlinewidth\":0,\"ticks\":\"\"}}],\"histogram2d\":[{\"type\":\"histogram2d\",\"colorbar\":{\"outlinewidth\":0,\"ticks\":\"\"},\"colorscale\":[[0.0,\"#0d0887\"],[0.1111111111111111,\"#46039f\"],[0.2222222222222222,\"#7201a8\"],[0.3333333333333333,\"#9c179e\"],[0.4444444444444444,\"#bd3786\"],[0.5555555555555556,\"#d8576b\"],[0.6666666666666666,\"#ed7953\"],[0.7777777777777778,\"#fb9f3a\"],[0.8888888888888888,\"#fdca26\"],[1.0,\"#f0f921\"]]}],\"heatmap\":[{\"type\":\"heatmap\",\"colorbar\":{\"outlinewidth\":0,\"ticks\":\"\"},\"colorscale\":[[0.0,\"#0d0887\"],[0.1111111111111111,\"#46039f\"],[0.2222222222222222,\"#7201a8\"],[0.3333333333333333,\"#9c179e\"],[0.4444444444444444,\"#bd3786\"],[0.5555555555555556,\"#d8576b\"],[0.6666666666666666,\"#ed7953\"],[0.7777777777777778,\"#fb9f3a\"],[0.8888888888888888,\"#fdca26\"],[1.0,\"#f0f921\"]]}],\"heatmapgl\":[{\"type\":\"heatmapgl\",\"colorbar\":{\"outlinewidth\":0,\"ticks\":\"\"},\"colorscale\":[[0.0,\"#0d0887\"],[0.1111111111111111,\"#46039f\"],[0.2222222222222222,\"#7201a8\"],[0.3333333333333333,\"#9c179e\"],[0.4444444444444444,\"#bd3786\"],[0.5555555555555556,\"#d8576b\"],[0.6666666666666666,\"#ed7953\"],[0.7777777777777778,\"#fb9f3a\"],[0.8888888888888888,\"#fdca26\"],[1.0,\"#f0f921\"]]}],\"contourcarpet\":[{\"type\":\"contourcarpet\",\"colorbar\":{\"outlinewidth\":0,\"ticks\":\"\"}}],\"contour\":[{\"type\":\"contour\",\"colorbar\":{\"outlinewidth\":0,\"ticks\":\"\"},\"colorscale\":[[0.0,\"#0d0887\"],[0.1111111111111111,\"#46039f\"],[0.2222222222222222,\"#7201a8\"],[0.3333333333333333,\"#9c179e\"],[0.4444444444444444,\"#bd3786\"],[0.5555555555555556,\"#d8576b\"],[0.6666666666666666,\"#ed7953\"],[0.7777777777777778,\"#fb9f3a\"],[0.8888888888888888,\"#fdca26\"],[1.0,\"#f0f921\"]]}],\"surface\":[{\"type\":\"surface\",\"colorbar\":{\"outlinewidth\":0,\"ticks\":\"\"},\"colorscale\":[[0.0,\"#0d0887\"],[0.1111111111111111,\"#46039f\"],[0.2222222222222222,\"#7201a8\"],[0.3333333333333333,\"#9c179e\"],[0.4444444444444444,\"#bd3786\"],[0.5555555555555556,\"#d8576b\"],[0.6666666666666666,\"#ed7953\"],[0.7777777777777778,\"#fb9f3a\"],[0.8888888888888888,\"#fdca26\"],[1.0,\"#f0f921\"]]}],\"mesh3d\":[{\"type\":\"mesh3d\",\"colorbar\":{\"outlinewidth\":0,\"ticks\":\"\"}}],\"scatter\":[{\"fillpattern\":{\"fillmode\":\"overlay\",\"size\":10,\"solidity\":0.2},\"type\":\"scatter\"}],\"parcoords\":[{\"type\":\"parcoords\",\"line\":{\"colorbar\":{\"outlinewidth\":0,\"ticks\":\"\"}}}],\"scatterpolargl\":[{\"type\":\"scatterpolargl\",\"marker\":{\"colorbar\":{\"outlinewidth\":0,\"ticks\":\"\"}}}],\"bar\":[{\"error_x\":{\"color\":\"#2a3f5f\"},\"error_y\":{\"color\":\"#2a3f5f\"},\"marker\":{\"line\":{\"color\":\"#E5ECF6\",\"width\":0.5},\"pattern\":{\"fillmode\":\"overlay\",\"size\":10,\"solidity\":0.2}},\"type\":\"bar\"}],\"scattergeo\":[{\"type\":\"scattergeo\",\"marker\":{\"colorbar\":{\"outlinewidth\":0,\"ticks\":\"\"}}}],\"scatterpolar\":[{\"type\":\"scatterpolar\",\"marker\":{\"colorbar\":{\"outlinewidth\":0,\"ticks\":\"\"}}}],\"histogram\":[{\"marker\":{\"pattern\":{\"fillmode\":\"overlay\",\"size\":10,\"solidity\":0.2}},\"type\":\"histogram\"}],\"scattergl\":[{\"type\":\"scattergl\",\"marker\":{\"colorbar\":{\"outlinewidth\":0,\"ticks\":\"\"}}}],\"scatter3d\":[{\"type\":\"scatter3d\",\"line\":{\"colorbar\":{\"outlinewidth\":0,\"ticks\":\"\"}},\"marker\":{\"colorbar\":{\"outlinewidth\":0,\"ticks\":\"\"}}}],\"scattermapbox\":[{\"type\":\"scattermapbox\",\"marker\":{\"colorbar\":{\"outlinewidth\":0,\"ticks\":\"\"}}}],\"scatterternary\":[{\"type\":\"scatterternary\",\"marker\":{\"colorbar\":{\"outlinewidth\":0,\"ticks\":\"\"}}}],\"scattercarpet\":[{\"type\":\"scattercarpet\",\"marker\":{\"colorbar\":{\"outlinewidth\":0,\"ticks\":\"\"}}}],\"carpet\":[{\"aaxis\":{\"endlinecolor\":\"#2a3f5f\",\"gridcolor\":\"white\",\"linecolor\":\"white\",\"minorgridcolor\":\"white\",\"startlinecolor\":\"#2a3f5f\"},\"baxis\":{\"endlinecolor\":\"#2a3f5f\",\"gridcolor\":\"white\",\"linecolor\":\"white\",\"minorgridcolor\":\"white\",\"startlinecolor\":\"#2a3f5f\"},\"type\":\"carpet\"}],\"table\":[{\"cells\":{\"fill\":{\"color\":\"#EBF0F8\"},\"line\":{\"color\":\"white\"}},\"header\":{\"fill\":{\"color\":\"#C8D4E3\"},\"line\":{\"color\":\"white\"}},\"type\":\"table\"}],\"barpolar\":[{\"marker\":{\"line\":{\"color\":\"#E5ECF6\",\"width\":0.5},\"pattern\":{\"fillmode\":\"overlay\",\"size\":10,\"solidity\":0.2}},\"type\":\"barpolar\"}],\"pie\":[{\"automargin\":true,\"type\":\"pie\"}]},\"layout\":{\"autotypenumbers\":\"strict\",\"colorway\":[\"#636efa\",\"#EF553B\",\"#00cc96\",\"#ab63fa\",\"#FFA15A\",\"#19d3f3\",\"#FF6692\",\"#B6E880\",\"#FF97FF\",\"#FECB52\"],\"font\":{\"color\":\"#2a3f5f\"},\"hovermode\":\"closest\",\"hoverlabel\":{\"align\":\"left\"},\"paper_bgcolor\":\"white\",\"plot_bgcolor\":\"#E5ECF6\",\"polar\":{\"bgcolor\":\"#E5ECF6\",\"angularaxis\":{\"gridcolor\":\"white\",\"linecolor\":\"white\",\"ticks\":\"\"},\"radialaxis\":{\"gridcolor\":\"white\",\"linecolor\":\"white\",\"ticks\":\"\"}},\"ternary\":{\"bgcolor\":\"#E5ECF6\",\"aaxis\":{\"gridcolor\":\"white\",\"linecolor\":\"white\",\"ticks\":\"\"},\"baxis\":{\"gridcolor\":\"white\",\"linecolor\":\"white\",\"ticks\":\"\"},\"caxis\":{\"gridcolor\":\"white\",\"linecolor\":\"white\",\"ticks\":\"\"}},\"coloraxis\":{\"colorbar\":{\"outlinewidth\":0,\"ticks\":\"\"}},\"colorscale\":{\"sequential\":[[0.0,\"#0d0887\"],[0.1111111111111111,\"#46039f\"],[0.2222222222222222,\"#7201a8\"],[0.3333333333333333,\"#9c179e\"],[0.4444444444444444,\"#bd3786\"],[0.5555555555555556,\"#d8576b\"],[0.6666666666666666,\"#ed7953\"],[0.7777777777777778,\"#fb9f3a\"],[0.8888888888888888,\"#fdca26\"],[1.0,\"#f0f921\"]],\"sequentialminus\":[[0.0,\"#0d0887\"],[0.1111111111111111,\"#46039f\"],[0.2222222222222222,\"#7201a8\"],[0.3333333333333333,\"#9c179e\"],[0.4444444444444444,\"#bd3786\"],[0.5555555555555556,\"#d8576b\"],[0.6666666666666666,\"#ed7953\"],[0.7777777777777778,\"#fb9f3a\"],[0.8888888888888888,\"#fdca26\"],[1.0,\"#f0f921\"]],\"diverging\":[[0,\"#8e0152\"],[0.1,\"#c51b7d\"],[0.2,\"#de77ae\"],[0.3,\"#f1b6da\"],[0.4,\"#fde0ef\"],[0.5,\"#f7f7f7\"],[0.6,\"#e6f5d0\"],[0.7,\"#b8e186\"],[0.8,\"#7fbc41\"],[0.9,\"#4d9221\"],[1,\"#276419\"]]},\"xaxis\":{\"gridcolor\":\"white\",\"linecolor\":\"white\",\"ticks\":\"\",\"title\":{\"standoff\":15},\"zerolinecolor\":\"white\",\"automargin\":true,\"zerolinewidth\":2},\"yaxis\":{\"gridcolor\":\"white\",\"linecolor\":\"white\",\"ticks\":\"\",\"title\":{\"standoff\":15},\"zerolinecolor\":\"white\",\"automargin\":true,\"zerolinewidth\":2},\"scene\":{\"xaxis\":{\"backgroundcolor\":\"#E5ECF6\",\"gridcolor\":\"white\",\"linecolor\":\"white\",\"showbackground\":true,\"ticks\":\"\",\"zerolinecolor\":\"white\",\"gridwidth\":2},\"yaxis\":{\"backgroundcolor\":\"#E5ECF6\",\"gridcolor\":\"white\",\"linecolor\":\"white\",\"showbackground\":true,\"ticks\":\"\",\"zerolinecolor\":\"white\",\"gridwidth\":2},\"zaxis\":{\"backgroundcolor\":\"#E5ECF6\",\"gridcolor\":\"white\",\"linecolor\":\"white\",\"showbackground\":true,\"ticks\":\"\",\"zerolinecolor\":\"white\",\"gridwidth\":2}},\"shapedefaults\":{\"line\":{\"color\":\"#2a3f5f\"}},\"annotationdefaults\":{\"arrowcolor\":\"#2a3f5f\",\"arrowhead\":0,\"arrowwidth\":1},\"geo\":{\"bgcolor\":\"white\",\"landcolor\":\"#E5ECF6\",\"subunitcolor\":\"white\",\"showland\":true,\"showlakes\":true,\"lakecolor\":\"white\"},\"title\":{\"x\":0.05},\"mapbox\":{\"style\":\"light\"}}},\"legend\":{\"tracegroupgap\":0},\"title\":{\"text\":\"Funds distribution by Programs\"},\"width\":800,\"height\":600},                        {\"responsive\": true}                    ).then(function(){\n",
       "                            \n",
       "var gd = document.getElementById('82992e3d-854b-45ac-8b5d-c26ad5b4bc8b');\n",
       "var x = new MutationObserver(function (mutations, observer) {{\n",
       "        var display = window.getComputedStyle(gd).display;\n",
       "        if (!display || display === 'none') {{\n",
       "            console.log([gd, 'removed!']);\n",
       "            Plotly.purge(gd);\n",
       "            observer.disconnect();\n",
       "        }}\n",
       "}});\n",
       "\n",
       "// Listen for the removal of the full notebook cells\n",
       "var notebookContainer = gd.closest('#notebook-container');\n",
       "if (notebookContainer) {{\n",
       "    x.observe(notebookContainer, {childList: true});\n",
       "}}\n",
       "\n",
       "// Listen for the clearing of the current output cell\n",
       "var outputEl = gd.closest('.output');\n",
       "if (outputEl) {{\n",
       "    x.observe(outputEl, {childList: true});\n",
       "}}\n",
       "\n",
       "                        })                };                });            </script>        </div>"
      ]
     },
     "metadata": {},
     "output_type": "display_data"
    }
   ],
   "source": [
    "import plotly.express as px\n",
    "\n",
    "\n",
    "# Data\n",
    "amounts = [var1, var2, var3]\n",
    "labels = [\n",
    "    'Programs funded only in South East QLD',\n",
    "    'Programs funded only in Regional QLD',\n",
    "    'Programs funded in both SEQ and Regional QLD'\n",
    "]\n",
    "\n",
    "# Create DataFrame with computed percentage\n",
    "pie_df = pd.DataFrame({\n",
    "    'Program': labels,\n",
    "    'Amount': amounts\n",
    "})\n",
    "pie_df['Percentage'] = pie_df['Amount'] / pie_df['Amount'].sum()\n",
    "\n",
    "# Plot\n",
    "fig = px.pie(pie_df, values='Percentage', names='Program', hover_data=['Amount'],\n",
    "             title='Funds distribution by Programs')\n",
    "\n",
    "fig.update_layout(width=800, height=600)\n",
    "fig.show()\n"
   ]
  },
  {
   "cell_type": "markdown",
   "id": "1443b1c3-cbbf-41e7-8c8f-94fb7ca9e9c0",
   "metadata": {},
   "source": [
    "Insight: The pie chart clearly illustrates a significant disparity in the distribution of program funds allocated exclusively to South East Queensland compared to those directed solely to Regional Queensland, supporting the earlier evidence. However, the chart also reveals that a substantial number of programs provided funding to both regions. This suggests that, beyond population differences, funding decisions are likely influenced by factors such as program objectives, as well as cultural and social considerations—rather than bias or favoritism."
   ]
  },
  {
   "cell_type": "code",
   "execution_count": 62,
   "id": "d3522332-2447-4f30-8615-f601e8a2df56",
   "metadata": {},
   "outputs": [],
   "source": [
    "# Filter programs where the region type is 'South-East-QLD'\n",
    "se_qld_programs = se_regional_qld_programs[se_regional_qld_programs['Region_Type'] == 'South-East-QLD']\n",
    "\n",
    "# Sum the 'Actual Contractual Commitment ($)' column for these programs\n",
    "var4 = se_qld_programs['Funding Amount'].sum()\n",
    "\n",
    "\n",
    "# Filter programs where the region type is 'South-East-QLD'\n",
    "rqld_programs = se_regional_qld_programs[se_regional_qld_programs['Region_Type'] == 'Regional_QLD']\n",
    "\n",
    "# Sum the 'Actual Contractual Commitment ($)' column for these programs\n",
    "var5 = rqld_programs['Funding Amount'].sum()"
   ]
  },
  {
   "cell_type": "code",
   "execution_count": 66,
   "id": "b20d88ed",
   "metadata": {},
   "outputs": [
    {
     "data": {
      "application/vnd.plotly.v1+json": {
       "config": {
        "plotlyServerURL": "https://plot.ly"
       },
       "data": [
        {
         "customdata": [
          [
           62444798
          ],
          [
           9376130
          ]
         ],
         "domain": {
          "x": [
           0,
           1
          ],
          "y": [
           0,
           1
          ]
         },
         "hovertemplate": "Program=%{label}<br>Percentage=%{value}<br>Amount=%{customdata[0]}<extra></extra>",
         "labels": [
          "Funds to South East QLD",
          "Funds to Regional QLD"
         ],
         "legendgroup": "",
         "name": "",
         "showlegend": true,
         "type": "pie",
         "values": [
          0.8694512830577739,
          0.13054871694222608
         ]
        }
       ],
       "layout": {
        "height": 600,
        "legend": {
         "tracegroupgap": 0
        },
        "template": {
         "data": {
          "bar": [
           {
            "error_x": {
             "color": "#2a3f5f"
            },
            "error_y": {
             "color": "#2a3f5f"
            },
            "marker": {
             "line": {
              "color": "#E5ECF6",
              "width": 0.5
             },
             "pattern": {
              "fillmode": "overlay",
              "size": 10,
              "solidity": 0.2
             }
            },
            "type": "bar"
           }
          ],
          "barpolar": [
           {
            "marker": {
             "line": {
              "color": "#E5ECF6",
              "width": 0.5
             },
             "pattern": {
              "fillmode": "overlay",
              "size": 10,
              "solidity": 0.2
             }
            },
            "type": "barpolar"
           }
          ],
          "carpet": [
           {
            "aaxis": {
             "endlinecolor": "#2a3f5f",
             "gridcolor": "white",
             "linecolor": "white",
             "minorgridcolor": "white",
             "startlinecolor": "#2a3f5f"
            },
            "baxis": {
             "endlinecolor": "#2a3f5f",
             "gridcolor": "white",
             "linecolor": "white",
             "minorgridcolor": "white",
             "startlinecolor": "#2a3f5f"
            },
            "type": "carpet"
           }
          ],
          "choropleth": [
           {
            "colorbar": {
             "outlinewidth": 0,
             "ticks": ""
            },
            "type": "choropleth"
           }
          ],
          "contour": [
           {
            "colorbar": {
             "outlinewidth": 0,
             "ticks": ""
            },
            "colorscale": [
             [
              0,
              "#0d0887"
             ],
             [
              0.1111111111111111,
              "#46039f"
             ],
             [
              0.2222222222222222,
              "#7201a8"
             ],
             [
              0.3333333333333333,
              "#9c179e"
             ],
             [
              0.4444444444444444,
              "#bd3786"
             ],
             [
              0.5555555555555556,
              "#d8576b"
             ],
             [
              0.6666666666666666,
              "#ed7953"
             ],
             [
              0.7777777777777778,
              "#fb9f3a"
             ],
             [
              0.8888888888888888,
              "#fdca26"
             ],
             [
              1,
              "#f0f921"
             ]
            ],
            "type": "contour"
           }
          ],
          "contourcarpet": [
           {
            "colorbar": {
             "outlinewidth": 0,
             "ticks": ""
            },
            "type": "contourcarpet"
           }
          ],
          "heatmap": [
           {
            "colorbar": {
             "outlinewidth": 0,
             "ticks": ""
            },
            "colorscale": [
             [
              0,
              "#0d0887"
             ],
             [
              0.1111111111111111,
              "#46039f"
             ],
             [
              0.2222222222222222,
              "#7201a8"
             ],
             [
              0.3333333333333333,
              "#9c179e"
             ],
             [
              0.4444444444444444,
              "#bd3786"
             ],
             [
              0.5555555555555556,
              "#d8576b"
             ],
             [
              0.6666666666666666,
              "#ed7953"
             ],
             [
              0.7777777777777778,
              "#fb9f3a"
             ],
             [
              0.8888888888888888,
              "#fdca26"
             ],
             [
              1,
              "#f0f921"
             ]
            ],
            "type": "heatmap"
           }
          ],
          "heatmapgl": [
           {
            "colorbar": {
             "outlinewidth": 0,
             "ticks": ""
            },
            "colorscale": [
             [
              0,
              "#0d0887"
             ],
             [
              0.1111111111111111,
              "#46039f"
             ],
             [
              0.2222222222222222,
              "#7201a8"
             ],
             [
              0.3333333333333333,
              "#9c179e"
             ],
             [
              0.4444444444444444,
              "#bd3786"
             ],
             [
              0.5555555555555556,
              "#d8576b"
             ],
             [
              0.6666666666666666,
              "#ed7953"
             ],
             [
              0.7777777777777778,
              "#fb9f3a"
             ],
             [
              0.8888888888888888,
              "#fdca26"
             ],
             [
              1,
              "#f0f921"
             ]
            ],
            "type": "heatmapgl"
           }
          ],
          "histogram": [
           {
            "marker": {
             "pattern": {
              "fillmode": "overlay",
              "size": 10,
              "solidity": 0.2
             }
            },
            "type": "histogram"
           }
          ],
          "histogram2d": [
           {
            "colorbar": {
             "outlinewidth": 0,
             "ticks": ""
            },
            "colorscale": [
             [
              0,
              "#0d0887"
             ],
             [
              0.1111111111111111,
              "#46039f"
             ],
             [
              0.2222222222222222,
              "#7201a8"
             ],
             [
              0.3333333333333333,
              "#9c179e"
             ],
             [
              0.4444444444444444,
              "#bd3786"
             ],
             [
              0.5555555555555556,
              "#d8576b"
             ],
             [
              0.6666666666666666,
              "#ed7953"
             ],
             [
              0.7777777777777778,
              "#fb9f3a"
             ],
             [
              0.8888888888888888,
              "#fdca26"
             ],
             [
              1,
              "#f0f921"
             ]
            ],
            "type": "histogram2d"
           }
          ],
          "histogram2dcontour": [
           {
            "colorbar": {
             "outlinewidth": 0,
             "ticks": ""
            },
            "colorscale": [
             [
              0,
              "#0d0887"
             ],
             [
              0.1111111111111111,
              "#46039f"
             ],
             [
              0.2222222222222222,
              "#7201a8"
             ],
             [
              0.3333333333333333,
              "#9c179e"
             ],
             [
              0.4444444444444444,
              "#bd3786"
             ],
             [
              0.5555555555555556,
              "#d8576b"
             ],
             [
              0.6666666666666666,
              "#ed7953"
             ],
             [
              0.7777777777777778,
              "#fb9f3a"
             ],
             [
              0.8888888888888888,
              "#fdca26"
             ],
             [
              1,
              "#f0f921"
             ]
            ],
            "type": "histogram2dcontour"
           }
          ],
          "mesh3d": [
           {
            "colorbar": {
             "outlinewidth": 0,
             "ticks": ""
            },
            "type": "mesh3d"
           }
          ],
          "parcoords": [
           {
            "line": {
             "colorbar": {
              "outlinewidth": 0,
              "ticks": ""
             }
            },
            "type": "parcoords"
           }
          ],
          "pie": [
           {
            "automargin": true,
            "type": "pie"
           }
          ],
          "scatter": [
           {
            "fillpattern": {
             "fillmode": "overlay",
             "size": 10,
             "solidity": 0.2
            },
            "type": "scatter"
           }
          ],
          "scatter3d": [
           {
            "line": {
             "colorbar": {
              "outlinewidth": 0,
              "ticks": ""
             }
            },
            "marker": {
             "colorbar": {
              "outlinewidth": 0,
              "ticks": ""
             }
            },
            "type": "scatter3d"
           }
          ],
          "scattercarpet": [
           {
            "marker": {
             "colorbar": {
              "outlinewidth": 0,
              "ticks": ""
             }
            },
            "type": "scattercarpet"
           }
          ],
          "scattergeo": [
           {
            "marker": {
             "colorbar": {
              "outlinewidth": 0,
              "ticks": ""
             }
            },
            "type": "scattergeo"
           }
          ],
          "scattergl": [
           {
            "marker": {
             "colorbar": {
              "outlinewidth": 0,
              "ticks": ""
             }
            },
            "type": "scattergl"
           }
          ],
          "scattermapbox": [
           {
            "marker": {
             "colorbar": {
              "outlinewidth": 0,
              "ticks": ""
             }
            },
            "type": "scattermapbox"
           }
          ],
          "scatterpolar": [
           {
            "marker": {
             "colorbar": {
              "outlinewidth": 0,
              "ticks": ""
             }
            },
            "type": "scatterpolar"
           }
          ],
          "scatterpolargl": [
           {
            "marker": {
             "colorbar": {
              "outlinewidth": 0,
              "ticks": ""
             }
            },
            "type": "scatterpolargl"
           }
          ],
          "scatterternary": [
           {
            "marker": {
             "colorbar": {
              "outlinewidth": 0,
              "ticks": ""
             }
            },
            "type": "scatterternary"
           }
          ],
          "surface": [
           {
            "colorbar": {
             "outlinewidth": 0,
             "ticks": ""
            },
            "colorscale": [
             [
              0,
              "#0d0887"
             ],
             [
              0.1111111111111111,
              "#46039f"
             ],
             [
              0.2222222222222222,
              "#7201a8"
             ],
             [
              0.3333333333333333,
              "#9c179e"
             ],
             [
              0.4444444444444444,
              "#bd3786"
             ],
             [
              0.5555555555555556,
              "#d8576b"
             ],
             [
              0.6666666666666666,
              "#ed7953"
             ],
             [
              0.7777777777777778,
              "#fb9f3a"
             ],
             [
              0.8888888888888888,
              "#fdca26"
             ],
             [
              1,
              "#f0f921"
             ]
            ],
            "type": "surface"
           }
          ],
          "table": [
           {
            "cells": {
             "fill": {
              "color": "#EBF0F8"
             },
             "line": {
              "color": "white"
             }
            },
            "header": {
             "fill": {
              "color": "#C8D4E3"
             },
             "line": {
              "color": "white"
             }
            },
            "type": "table"
           }
          ]
         },
         "layout": {
          "annotationdefaults": {
           "arrowcolor": "#2a3f5f",
           "arrowhead": 0,
           "arrowwidth": 1
          },
          "autotypenumbers": "strict",
          "coloraxis": {
           "colorbar": {
            "outlinewidth": 0,
            "ticks": ""
           }
          },
          "colorscale": {
           "diverging": [
            [
             0,
             "#8e0152"
            ],
            [
             0.1,
             "#c51b7d"
            ],
            [
             0.2,
             "#de77ae"
            ],
            [
             0.3,
             "#f1b6da"
            ],
            [
             0.4,
             "#fde0ef"
            ],
            [
             0.5,
             "#f7f7f7"
            ],
            [
             0.6,
             "#e6f5d0"
            ],
            [
             0.7,
             "#b8e186"
            ],
            [
             0.8,
             "#7fbc41"
            ],
            [
             0.9,
             "#4d9221"
            ],
            [
             1,
             "#276419"
            ]
           ],
           "sequential": [
            [
             0,
             "#0d0887"
            ],
            [
             0.1111111111111111,
             "#46039f"
            ],
            [
             0.2222222222222222,
             "#7201a8"
            ],
            [
             0.3333333333333333,
             "#9c179e"
            ],
            [
             0.4444444444444444,
             "#bd3786"
            ],
            [
             0.5555555555555556,
             "#d8576b"
            ],
            [
             0.6666666666666666,
             "#ed7953"
            ],
            [
             0.7777777777777778,
             "#fb9f3a"
            ],
            [
             0.8888888888888888,
             "#fdca26"
            ],
            [
             1,
             "#f0f921"
            ]
           ],
           "sequentialminus": [
            [
             0,
             "#0d0887"
            ],
            [
             0.1111111111111111,
             "#46039f"
            ],
            [
             0.2222222222222222,
             "#7201a8"
            ],
            [
             0.3333333333333333,
             "#9c179e"
            ],
            [
             0.4444444444444444,
             "#bd3786"
            ],
            [
             0.5555555555555556,
             "#d8576b"
            ],
            [
             0.6666666666666666,
             "#ed7953"
            ],
            [
             0.7777777777777778,
             "#fb9f3a"
            ],
            [
             0.8888888888888888,
             "#fdca26"
            ],
            [
             1,
             "#f0f921"
            ]
           ]
          },
          "colorway": [
           "#636efa",
           "#EF553B",
           "#00cc96",
           "#ab63fa",
           "#FFA15A",
           "#19d3f3",
           "#FF6692",
           "#B6E880",
           "#FF97FF",
           "#FECB52"
          ],
          "font": {
           "color": "#2a3f5f"
          },
          "geo": {
           "bgcolor": "white",
           "lakecolor": "white",
           "landcolor": "#E5ECF6",
           "showlakes": true,
           "showland": true,
           "subunitcolor": "white"
          },
          "hoverlabel": {
           "align": "left"
          },
          "hovermode": "closest",
          "mapbox": {
           "style": "light"
          },
          "paper_bgcolor": "white",
          "plot_bgcolor": "#E5ECF6",
          "polar": {
           "angularaxis": {
            "gridcolor": "white",
            "linecolor": "white",
            "ticks": ""
           },
           "bgcolor": "#E5ECF6",
           "radialaxis": {
            "gridcolor": "white",
            "linecolor": "white",
            "ticks": ""
           }
          },
          "scene": {
           "xaxis": {
            "backgroundcolor": "#E5ECF6",
            "gridcolor": "white",
            "gridwidth": 2,
            "linecolor": "white",
            "showbackground": true,
            "ticks": "",
            "zerolinecolor": "white"
           },
           "yaxis": {
            "backgroundcolor": "#E5ECF6",
            "gridcolor": "white",
            "gridwidth": 2,
            "linecolor": "white",
            "showbackground": true,
            "ticks": "",
            "zerolinecolor": "white"
           },
           "zaxis": {
            "backgroundcolor": "#E5ECF6",
            "gridcolor": "white",
            "gridwidth": 2,
            "linecolor": "white",
            "showbackground": true,
            "ticks": "",
            "zerolinecolor": "white"
           }
          },
          "shapedefaults": {
           "line": {
            "color": "#2a3f5f"
           }
          },
          "ternary": {
           "aaxis": {
            "gridcolor": "white",
            "linecolor": "white",
            "ticks": ""
           },
           "baxis": {
            "gridcolor": "white",
            "linecolor": "white",
            "ticks": ""
           },
           "bgcolor": "#E5ECF6",
           "caxis": {
            "gridcolor": "white",
            "linecolor": "white",
            "ticks": ""
           }
          },
          "title": {
           "x": 0.05
          },
          "xaxis": {
           "automargin": true,
           "gridcolor": "white",
           "linecolor": "white",
           "ticks": "",
           "title": {
            "standoff": 15
           },
           "zerolinecolor": "white",
           "zerolinewidth": 2
          },
          "yaxis": {
           "automargin": true,
           "gridcolor": "white",
           "linecolor": "white",
           "ticks": "",
           "title": {
            "standoff": 15
           },
           "zerolinecolor": "white",
           "zerolinewidth": 2
          }
         }
        },
        "title": {
         "text": "Funds distribution by Programs serving both SEQ and Non SEQ Regions"
        },
        "width": 800
       }
      },
      "text/html": [
       "<div>                            <div id=\"a8b29176-a839-48ba-8c82-d650b80b8ece\" class=\"plotly-graph-div\" style=\"height:600px; width:800px;\"></div>            <script type=\"text/javascript\">                require([\"plotly\"], function(Plotly) {                    window.PLOTLYENV=window.PLOTLYENV || {};                                    if (document.getElementById(\"a8b29176-a839-48ba-8c82-d650b80b8ece\")) {                    Plotly.newPlot(                        \"a8b29176-a839-48ba-8c82-d650b80b8ece\",                        [{\"customdata\":[[62444798.0],[9376130.0]],\"domain\":{\"x\":[0.0,1.0],\"y\":[0.0,1.0]},\"hovertemplate\":\"Program=%{label}<br>Percentage=%{value}<br>Amount=%{customdata[0]}<extra></extra>\",\"labels\":[\"Funds to South East QLD\",\"Funds to Regional QLD\"],\"legendgroup\":\"\",\"name\":\"\",\"showlegend\":true,\"values\":[0.8694512830577739,0.13054871694222608],\"type\":\"pie\"}],                        {\"template\":{\"data\":{\"histogram2dcontour\":[{\"type\":\"histogram2dcontour\",\"colorbar\":{\"outlinewidth\":0,\"ticks\":\"\"},\"colorscale\":[[0.0,\"#0d0887\"],[0.1111111111111111,\"#46039f\"],[0.2222222222222222,\"#7201a8\"],[0.3333333333333333,\"#9c179e\"],[0.4444444444444444,\"#bd3786\"],[0.5555555555555556,\"#d8576b\"],[0.6666666666666666,\"#ed7953\"],[0.7777777777777778,\"#fb9f3a\"],[0.8888888888888888,\"#fdca26\"],[1.0,\"#f0f921\"]]}],\"choropleth\":[{\"type\":\"choropleth\",\"colorbar\":{\"outlinewidth\":0,\"ticks\":\"\"}}],\"histogram2d\":[{\"type\":\"histogram2d\",\"colorbar\":{\"outlinewidth\":0,\"ticks\":\"\"},\"colorscale\":[[0.0,\"#0d0887\"],[0.1111111111111111,\"#46039f\"],[0.2222222222222222,\"#7201a8\"],[0.3333333333333333,\"#9c179e\"],[0.4444444444444444,\"#bd3786\"],[0.5555555555555556,\"#d8576b\"],[0.6666666666666666,\"#ed7953\"],[0.7777777777777778,\"#fb9f3a\"],[0.8888888888888888,\"#fdca26\"],[1.0,\"#f0f921\"]]}],\"heatmap\":[{\"type\":\"heatmap\",\"colorbar\":{\"outlinewidth\":0,\"ticks\":\"\"},\"colorscale\":[[0.0,\"#0d0887\"],[0.1111111111111111,\"#46039f\"],[0.2222222222222222,\"#7201a8\"],[0.3333333333333333,\"#9c179e\"],[0.4444444444444444,\"#bd3786\"],[0.5555555555555556,\"#d8576b\"],[0.6666666666666666,\"#ed7953\"],[0.7777777777777778,\"#fb9f3a\"],[0.8888888888888888,\"#fdca26\"],[1.0,\"#f0f921\"]]}],\"heatmapgl\":[{\"type\":\"heatmapgl\",\"colorbar\":{\"outlinewidth\":0,\"ticks\":\"\"},\"colorscale\":[[0.0,\"#0d0887\"],[0.1111111111111111,\"#46039f\"],[0.2222222222222222,\"#7201a8\"],[0.3333333333333333,\"#9c179e\"],[0.4444444444444444,\"#bd3786\"],[0.5555555555555556,\"#d8576b\"],[0.6666666666666666,\"#ed7953\"],[0.7777777777777778,\"#fb9f3a\"],[0.8888888888888888,\"#fdca26\"],[1.0,\"#f0f921\"]]}],\"contourcarpet\":[{\"type\":\"contourcarpet\",\"colorbar\":{\"outlinewidth\":0,\"ticks\":\"\"}}],\"contour\":[{\"type\":\"contour\",\"colorbar\":{\"outlinewidth\":0,\"ticks\":\"\"},\"colorscale\":[[0.0,\"#0d0887\"],[0.1111111111111111,\"#46039f\"],[0.2222222222222222,\"#7201a8\"],[0.3333333333333333,\"#9c179e\"],[0.4444444444444444,\"#bd3786\"],[0.5555555555555556,\"#d8576b\"],[0.6666666666666666,\"#ed7953\"],[0.7777777777777778,\"#fb9f3a\"],[0.8888888888888888,\"#fdca26\"],[1.0,\"#f0f921\"]]}],\"surface\":[{\"type\":\"surface\",\"colorbar\":{\"outlinewidth\":0,\"ticks\":\"\"},\"colorscale\":[[0.0,\"#0d0887\"],[0.1111111111111111,\"#46039f\"],[0.2222222222222222,\"#7201a8\"],[0.3333333333333333,\"#9c179e\"],[0.4444444444444444,\"#bd3786\"],[0.5555555555555556,\"#d8576b\"],[0.6666666666666666,\"#ed7953\"],[0.7777777777777778,\"#fb9f3a\"],[0.8888888888888888,\"#fdca26\"],[1.0,\"#f0f921\"]]}],\"mesh3d\":[{\"type\":\"mesh3d\",\"colorbar\":{\"outlinewidth\":0,\"ticks\":\"\"}}],\"scatter\":[{\"fillpattern\":{\"fillmode\":\"overlay\",\"size\":10,\"solidity\":0.2},\"type\":\"scatter\"}],\"parcoords\":[{\"type\":\"parcoords\",\"line\":{\"colorbar\":{\"outlinewidth\":0,\"ticks\":\"\"}}}],\"scatterpolargl\":[{\"type\":\"scatterpolargl\",\"marker\":{\"colorbar\":{\"outlinewidth\":0,\"ticks\":\"\"}}}],\"bar\":[{\"error_x\":{\"color\":\"#2a3f5f\"},\"error_y\":{\"color\":\"#2a3f5f\"},\"marker\":{\"line\":{\"color\":\"#E5ECF6\",\"width\":0.5},\"pattern\":{\"fillmode\":\"overlay\",\"size\":10,\"solidity\":0.2}},\"type\":\"bar\"}],\"scattergeo\":[{\"type\":\"scattergeo\",\"marker\":{\"colorbar\":{\"outlinewidth\":0,\"ticks\":\"\"}}}],\"scatterpolar\":[{\"type\":\"scatterpolar\",\"marker\":{\"colorbar\":{\"outlinewidth\":0,\"ticks\":\"\"}}}],\"histogram\":[{\"marker\":{\"pattern\":{\"fillmode\":\"overlay\",\"size\":10,\"solidity\":0.2}},\"type\":\"histogram\"}],\"scattergl\":[{\"type\":\"scattergl\",\"marker\":{\"colorbar\":{\"outlinewidth\":0,\"ticks\":\"\"}}}],\"scatter3d\":[{\"type\":\"scatter3d\",\"line\":{\"colorbar\":{\"outlinewidth\":0,\"ticks\":\"\"}},\"marker\":{\"colorbar\":{\"outlinewidth\":0,\"ticks\":\"\"}}}],\"scattermapbox\":[{\"type\":\"scattermapbox\",\"marker\":{\"colorbar\":{\"outlinewidth\":0,\"ticks\":\"\"}}}],\"scatterternary\":[{\"type\":\"scatterternary\",\"marker\":{\"colorbar\":{\"outlinewidth\":0,\"ticks\":\"\"}}}],\"scattercarpet\":[{\"type\":\"scattercarpet\",\"marker\":{\"colorbar\":{\"outlinewidth\":0,\"ticks\":\"\"}}}],\"carpet\":[{\"aaxis\":{\"endlinecolor\":\"#2a3f5f\",\"gridcolor\":\"white\",\"linecolor\":\"white\",\"minorgridcolor\":\"white\",\"startlinecolor\":\"#2a3f5f\"},\"baxis\":{\"endlinecolor\":\"#2a3f5f\",\"gridcolor\":\"white\",\"linecolor\":\"white\",\"minorgridcolor\":\"white\",\"startlinecolor\":\"#2a3f5f\"},\"type\":\"carpet\"}],\"table\":[{\"cells\":{\"fill\":{\"color\":\"#EBF0F8\"},\"line\":{\"color\":\"white\"}},\"header\":{\"fill\":{\"color\":\"#C8D4E3\"},\"line\":{\"color\":\"white\"}},\"type\":\"table\"}],\"barpolar\":[{\"marker\":{\"line\":{\"color\":\"#E5ECF6\",\"width\":0.5},\"pattern\":{\"fillmode\":\"overlay\",\"size\":10,\"solidity\":0.2}},\"type\":\"barpolar\"}],\"pie\":[{\"automargin\":true,\"type\":\"pie\"}]},\"layout\":{\"autotypenumbers\":\"strict\",\"colorway\":[\"#636efa\",\"#EF553B\",\"#00cc96\",\"#ab63fa\",\"#FFA15A\",\"#19d3f3\",\"#FF6692\",\"#B6E880\",\"#FF97FF\",\"#FECB52\"],\"font\":{\"color\":\"#2a3f5f\"},\"hovermode\":\"closest\",\"hoverlabel\":{\"align\":\"left\"},\"paper_bgcolor\":\"white\",\"plot_bgcolor\":\"#E5ECF6\",\"polar\":{\"bgcolor\":\"#E5ECF6\",\"angularaxis\":{\"gridcolor\":\"white\",\"linecolor\":\"white\",\"ticks\":\"\"},\"radialaxis\":{\"gridcolor\":\"white\",\"linecolor\":\"white\",\"ticks\":\"\"}},\"ternary\":{\"bgcolor\":\"#E5ECF6\",\"aaxis\":{\"gridcolor\":\"white\",\"linecolor\":\"white\",\"ticks\":\"\"},\"baxis\":{\"gridcolor\":\"white\",\"linecolor\":\"white\",\"ticks\":\"\"},\"caxis\":{\"gridcolor\":\"white\",\"linecolor\":\"white\",\"ticks\":\"\"}},\"coloraxis\":{\"colorbar\":{\"outlinewidth\":0,\"ticks\":\"\"}},\"colorscale\":{\"sequential\":[[0.0,\"#0d0887\"],[0.1111111111111111,\"#46039f\"],[0.2222222222222222,\"#7201a8\"],[0.3333333333333333,\"#9c179e\"],[0.4444444444444444,\"#bd3786\"],[0.5555555555555556,\"#d8576b\"],[0.6666666666666666,\"#ed7953\"],[0.7777777777777778,\"#fb9f3a\"],[0.8888888888888888,\"#fdca26\"],[1.0,\"#f0f921\"]],\"sequentialminus\":[[0.0,\"#0d0887\"],[0.1111111111111111,\"#46039f\"],[0.2222222222222222,\"#7201a8\"],[0.3333333333333333,\"#9c179e\"],[0.4444444444444444,\"#bd3786\"],[0.5555555555555556,\"#d8576b\"],[0.6666666666666666,\"#ed7953\"],[0.7777777777777778,\"#fb9f3a\"],[0.8888888888888888,\"#fdca26\"],[1.0,\"#f0f921\"]],\"diverging\":[[0,\"#8e0152\"],[0.1,\"#c51b7d\"],[0.2,\"#de77ae\"],[0.3,\"#f1b6da\"],[0.4,\"#fde0ef\"],[0.5,\"#f7f7f7\"],[0.6,\"#e6f5d0\"],[0.7,\"#b8e186\"],[0.8,\"#7fbc41\"],[0.9,\"#4d9221\"],[1,\"#276419\"]]},\"xaxis\":{\"gridcolor\":\"white\",\"linecolor\":\"white\",\"ticks\":\"\",\"title\":{\"standoff\":15},\"zerolinecolor\":\"white\",\"automargin\":true,\"zerolinewidth\":2},\"yaxis\":{\"gridcolor\":\"white\",\"linecolor\":\"white\",\"ticks\":\"\",\"title\":{\"standoff\":15},\"zerolinecolor\":\"white\",\"automargin\":true,\"zerolinewidth\":2},\"scene\":{\"xaxis\":{\"backgroundcolor\":\"#E5ECF6\",\"gridcolor\":\"white\",\"linecolor\":\"white\",\"showbackground\":true,\"ticks\":\"\",\"zerolinecolor\":\"white\",\"gridwidth\":2},\"yaxis\":{\"backgroundcolor\":\"#E5ECF6\",\"gridcolor\":\"white\",\"linecolor\":\"white\",\"showbackground\":true,\"ticks\":\"\",\"zerolinecolor\":\"white\",\"gridwidth\":2},\"zaxis\":{\"backgroundcolor\":\"#E5ECF6\",\"gridcolor\":\"white\",\"linecolor\":\"white\",\"showbackground\":true,\"ticks\":\"\",\"zerolinecolor\":\"white\",\"gridwidth\":2}},\"shapedefaults\":{\"line\":{\"color\":\"#2a3f5f\"}},\"annotationdefaults\":{\"arrowcolor\":\"#2a3f5f\",\"arrowhead\":0,\"arrowwidth\":1},\"geo\":{\"bgcolor\":\"white\",\"landcolor\":\"#E5ECF6\",\"subunitcolor\":\"white\",\"showland\":true,\"showlakes\":true,\"lakecolor\":\"white\"},\"title\":{\"x\":0.05},\"mapbox\":{\"style\":\"light\"}}},\"legend\":{\"tracegroupgap\":0},\"title\":{\"text\":\"Funds distribution by Programs serving both SEQ and Non SEQ Regions\"},\"width\":800,\"height\":600},                        {\"responsive\": true}                    ).then(function(){\n",
       "                            \n",
       "var gd = document.getElementById('a8b29176-a839-48ba-8c82-d650b80b8ece');\n",
       "var x = new MutationObserver(function (mutations, observer) {{\n",
       "        var display = window.getComputedStyle(gd).display;\n",
       "        if (!display || display === 'none') {{\n",
       "            console.log([gd, 'removed!']);\n",
       "            Plotly.purge(gd);\n",
       "            observer.disconnect();\n",
       "        }}\n",
       "}});\n",
       "\n",
       "// Listen for the removal of the full notebook cells\n",
       "var notebookContainer = gd.closest('#notebook-container');\n",
       "if (notebookContainer) {{\n",
       "    x.observe(notebookContainer, {childList: true});\n",
       "}}\n",
       "\n",
       "// Listen for the clearing of the current output cell\n",
       "var outputEl = gd.closest('.output');\n",
       "if (outputEl) {{\n",
       "    x.observe(outputEl, {childList: true});\n",
       "}}\n",
       "\n",
       "                        })                };                });            </script>        </div>"
      ]
     },
     "metadata": {},
     "output_type": "display_data"
    }
   ],
   "source": [
    "\n",
    "amounts = [var4, var5]\n",
    "\n",
    "labels = [\n",
    "    'Funds to South East QLD',\n",
    "    'Funds to Regional QLD'\n",
    "]\n",
    "\n",
    "# Create DataFrame with computed percentage\n",
    "pie_df = pd.DataFrame({\n",
    "    'Program': labels,\n",
    "    'Amount': amounts\n",
    "})\n",
    "pie_df['Percentage'] = pie_df['Amount'] / pie_df['Amount'].sum()\n",
    "\n",
    "# Plot\n",
    "fig = px.pie(pie_df, values='Percentage', names='Program', hover_data=['Amount'],\n",
    "             title='Funds distribution by Programs serving both SEQ and Non SEQ Regions')\n",
    "\n",
    "fig.update_layout(width=800, height=600)\n",
    "fig.show()"
   ]
  },
  {
   "cell_type": "markdown",
   "id": "ed743eb8-16f7-42e5-8e37-21ca700a4b93",
   "metadata": {},
   "source": [
    "Insight: It's again evident from the pie chart that there's a significant disparity in the distribution of funds from the programs which supplied funds to both regions and particularly in this context imbalance is much wider. It is established now from the two visualizations of pie charts that majority of the funding in advance queensland program in last 6 years has been dispersed within south east qld."
   ]
  },
  {
   "cell_type": "markdown",
   "id": "383db033-ac24-4c2a-91ad-fe4b162a33c8",
   "metadata": {},
   "source": [
    "Question: It appears that analyzing the data from the perspective of advance queensland policy and supported industry types could be a promising approach in identifying the factors contributing to the imbalance of funds between South East Queensland and regional Queensland. This conclusion is drawn from the overview of the data and exploration of the Advance Queensland website"
   ]
  },
  {
   "cell_type": "markdown",
   "id": "32c0ed32-6aa6-49e3-9b28-836f8d02a6b7",
   "metadata": {},
   "source": [
    "1. In this step, I am grouping the fundings based on their programs along with their contractual committment amounts to see which programs dispersed the highest amount of funds."
   ]
  },
  {
   "cell_type": "code",
   "execution_count": 74,
   "id": "3271a9af-9811-48f7-9a21-03bdff0c553b",
   "metadata": {},
   "outputs": [],
   "source": [
    "# programs grouped according to their funding committments and then transferred the data to a dataframe\n",
    "seo_grouped = south_east_qld_programs_only.groupby(['Program Name'])['Funding Amount'].sum()\n",
    "\n",
    "seo_sorted = seo_grouped.sort_values(ascending=False)\n",
    "\n",
    "# .reset_index() resets the index of the DataFrame to the default integer index \n",
    "seo_sorted_df = pd.DataFrame(seo_sorted).reset_index()"
   ]
  },
  {
   "cell_type": "markdown",
   "id": "71b1f72b-93f2-4ad7-ba66-8122a529a838",
   "metadata": {},
   "source": [
    "2. In this step, I am visualizing a bar chart to illustrate which programs have received the highest funding amounts, both in absolute values and as a percentage of the total funding (select the percentage of total funding to view the percnetages bar chart). The purpose of this analysis is to identify programs that are likely considered high-priority areas for investment or program policy. This visualization will help shed light on the reasons behind the lower funding allocation to regional Queensland."
   ]
  },
  {
   "cell_type": "code",
   "execution_count": 77,
   "id": "d2f3db95-c34f-472b-9419-febac7ef9c7a",
   "metadata": {},
   "outputs": [
    {
     "data": {
      "application/vnd.plotly.v1+json": {
       "config": {
        "plotlyServerURL": "https://plot.ly"
       },
       "data": [
        {
         "alignmentgroup": "True",
         "hovertemplate": "Type=Funding Amount<br>Program Name=%{x}<br>Committed Funding=%{y}<extra></extra>",
         "legendgroup": "Funding Amount",
         "marker": {
          "color": "#636efa",
          "pattern": {
           "shape": ""
          }
         },
         "name": "Funding Amount",
         "offsetgroup": "Funding Amount",
         "orientation": "v",
         "showlegend": true,
         "textposition": "auto",
         "type": "bar",
         "x": [
          "Platform Technology Program",
          "UQ - COVID-19 Vaccine",
          "Clem Jones Centre for Ageing Dementia Research",
          "Agtech and Logistics Hub",
          "Innovate Queensland",
          "Research Fellowships",
          "Fraunhofer Institute Partnership",
          "Life Sciences Queensland - Catalyst",
          "Ignite+",
          "Industry Tech Fund",
          "WaterStart",
          "Life Sciences Queensland",
          "SoftBank",
          "Industry Accelerators",
          "BDO Business of Entrepreneurship",
          "Travello",
          "States of Change",
          "Knowledge Transfer Partnerships",
          "Aboriginal and Torres Strait Islander Research Fellowships",
          "Sports Science Challenge",
          "QCN Fibre Regional Pilot Program",
          "Sunramp Accelerator Program",
          "Bionics",
          "Queensland Future Skills Project",
          "Testing Within Government",
          "Private Sector Pathways Program",
          "Therabubble",
          "Aboriginal and Torres Strait Islander PhD Scholarships",
          "Global CEO Challenge",
          "Mental Health Services for Founders",
          "Innovation Precincts and Places"
         ],
         "xaxis": "x",
         "y": [
          10500000,
          10000000,
          5000000,
          3000000,
          1500000,
          1000000,
          700000,
          600000,
          579025,
          546027,
          500000,
          450000,
          400000,
          399800,
          356396,
          300000,
          300000,
          257574,
          240000,
          225000,
          197000,
          160000,
          160000,
          157440,
          150500,
          146527,
          114309,
          107084,
          75000,
          52499,
          10000
         ],
         "yaxis": "y"
        },
        {
         "alignmentgroup": "True",
         "hovertemplate": "Type=Percentage of Total Funding<br>Program Name=%{x}<br>Committed Funding=%{y}<extra></extra>",
         "legendgroup": "Percentage of Total Funding",
         "marker": {
          "color": "#EF553B",
          "pattern": {
           "shape": ""
          }
         },
         "name": "Percentage of Total Funding",
         "offsetgroup": "Percentage of Total Funding",
         "orientation": "v",
         "showlegend": true,
         "textposition": "auto",
         "type": "bar",
         "x": [
          "Platform Technology Program",
          "UQ - COVID-19 Vaccine",
          "Clem Jones Centre for Ageing Dementia Research",
          "Agtech and Logistics Hub",
          "Innovate Queensland",
          "Research Fellowships",
          "Fraunhofer Institute Partnership",
          "Life Sciences Queensland - Catalyst",
          "Ignite+",
          "Industry Tech Fund",
          "WaterStart",
          "Life Sciences Queensland",
          "SoftBank",
          "Industry Accelerators",
          "BDO Business of Entrepreneurship",
          "Travello",
          "States of Change",
          "Knowledge Transfer Partnerships",
          "Aboriginal and Torres Strait Islander Research Fellowships",
          "Sports Science Challenge",
          "QCN Fibre Regional Pilot Program",
          "Sunramp Accelerator Program",
          "Bionics",
          "Queensland Future Skills Project",
          "Testing Within Government",
          "Private Sector Pathways Program",
          "Therabubble",
          "Aboriginal and Torres Strait Islander PhD Scholarships",
          "Global CEO Challenge",
          "Mental Health Services for Founders",
          "Innovation Precincts and Places"
         ],
         "xaxis": "x",
         "y": [
          27.498298313639356,
          26.188855536799387,
          13.094427768399694,
          7.856656661039817,
          3.9283283305199084,
          2.6188855536799385,
          1.8332198875759573,
          1.5713313322079634,
          1.5164002077195264,
          1.429982222219196,
          1.3094427768399692,
          1.1784984991559726,
          1.0475542214719755,
          1.0470304443612395,
          0.9333603357893155,
          0.7856656661039817,
          0.7856656661039817,
          0.6745568276035565,
          0.6285325328831853,
          0.5892492495779863,
          0.5159204540749479,
          0.41902168858879024,
          0.41902168858879024,
          0.4123173415713696,
          0.3941422758288308,
          0.3837374435240604,
          0.29936218875560017,
          0.2804407406302626,
          0.19641641652599542,
          0.13748887268264312,
          0.02618885553679939
         ],
         "yaxis": "y"
        }
       ],
       "layout": {
        "barmode": "group",
        "height": 800,
        "legend": {
         "title": {
          "text": "Type"
         },
         "tracegroupgap": 0
        },
        "template": {
         "data": {
          "bar": [
           {
            "error_x": {
             "color": "#2a3f5f"
            },
            "error_y": {
             "color": "#2a3f5f"
            },
            "marker": {
             "line": {
              "color": "#E5ECF6",
              "width": 0.5
             },
             "pattern": {
              "fillmode": "overlay",
              "size": 10,
              "solidity": 0.2
             }
            },
            "type": "bar"
           }
          ],
          "barpolar": [
           {
            "marker": {
             "line": {
              "color": "#E5ECF6",
              "width": 0.5
             },
             "pattern": {
              "fillmode": "overlay",
              "size": 10,
              "solidity": 0.2
             }
            },
            "type": "barpolar"
           }
          ],
          "carpet": [
           {
            "aaxis": {
             "endlinecolor": "#2a3f5f",
             "gridcolor": "white",
             "linecolor": "white",
             "minorgridcolor": "white",
             "startlinecolor": "#2a3f5f"
            },
            "baxis": {
             "endlinecolor": "#2a3f5f",
             "gridcolor": "white",
             "linecolor": "white",
             "minorgridcolor": "white",
             "startlinecolor": "#2a3f5f"
            },
            "type": "carpet"
           }
          ],
          "choropleth": [
           {
            "colorbar": {
             "outlinewidth": 0,
             "ticks": ""
            },
            "type": "choropleth"
           }
          ],
          "contour": [
           {
            "colorbar": {
             "outlinewidth": 0,
             "ticks": ""
            },
            "colorscale": [
             [
              0,
              "#0d0887"
             ],
             [
              0.1111111111111111,
              "#46039f"
             ],
             [
              0.2222222222222222,
              "#7201a8"
             ],
             [
              0.3333333333333333,
              "#9c179e"
             ],
             [
              0.4444444444444444,
              "#bd3786"
             ],
             [
              0.5555555555555556,
              "#d8576b"
             ],
             [
              0.6666666666666666,
              "#ed7953"
             ],
             [
              0.7777777777777778,
              "#fb9f3a"
             ],
             [
              0.8888888888888888,
              "#fdca26"
             ],
             [
              1,
              "#f0f921"
             ]
            ],
            "type": "contour"
           }
          ],
          "contourcarpet": [
           {
            "colorbar": {
             "outlinewidth": 0,
             "ticks": ""
            },
            "type": "contourcarpet"
           }
          ],
          "heatmap": [
           {
            "colorbar": {
             "outlinewidth": 0,
             "ticks": ""
            },
            "colorscale": [
             [
              0,
              "#0d0887"
             ],
             [
              0.1111111111111111,
              "#46039f"
             ],
             [
              0.2222222222222222,
              "#7201a8"
             ],
             [
              0.3333333333333333,
              "#9c179e"
             ],
             [
              0.4444444444444444,
              "#bd3786"
             ],
             [
              0.5555555555555556,
              "#d8576b"
             ],
             [
              0.6666666666666666,
              "#ed7953"
             ],
             [
              0.7777777777777778,
              "#fb9f3a"
             ],
             [
              0.8888888888888888,
              "#fdca26"
             ],
             [
              1,
              "#f0f921"
             ]
            ],
            "type": "heatmap"
           }
          ],
          "heatmapgl": [
           {
            "colorbar": {
             "outlinewidth": 0,
             "ticks": ""
            },
            "colorscale": [
             [
              0,
              "#0d0887"
             ],
             [
              0.1111111111111111,
              "#46039f"
             ],
             [
              0.2222222222222222,
              "#7201a8"
             ],
             [
              0.3333333333333333,
              "#9c179e"
             ],
             [
              0.4444444444444444,
              "#bd3786"
             ],
             [
              0.5555555555555556,
              "#d8576b"
             ],
             [
              0.6666666666666666,
              "#ed7953"
             ],
             [
              0.7777777777777778,
              "#fb9f3a"
             ],
             [
              0.8888888888888888,
              "#fdca26"
             ],
             [
              1,
              "#f0f921"
             ]
            ],
            "type": "heatmapgl"
           }
          ],
          "histogram": [
           {
            "marker": {
             "pattern": {
              "fillmode": "overlay",
              "size": 10,
              "solidity": 0.2
             }
            },
            "type": "histogram"
           }
          ],
          "histogram2d": [
           {
            "colorbar": {
             "outlinewidth": 0,
             "ticks": ""
            },
            "colorscale": [
             [
              0,
              "#0d0887"
             ],
             [
              0.1111111111111111,
              "#46039f"
             ],
             [
              0.2222222222222222,
              "#7201a8"
             ],
             [
              0.3333333333333333,
              "#9c179e"
             ],
             [
              0.4444444444444444,
              "#bd3786"
             ],
             [
              0.5555555555555556,
              "#d8576b"
             ],
             [
              0.6666666666666666,
              "#ed7953"
             ],
             [
              0.7777777777777778,
              "#fb9f3a"
             ],
             [
              0.8888888888888888,
              "#fdca26"
             ],
             [
              1,
              "#f0f921"
             ]
            ],
            "type": "histogram2d"
           }
          ],
          "histogram2dcontour": [
           {
            "colorbar": {
             "outlinewidth": 0,
             "ticks": ""
            },
            "colorscale": [
             [
              0,
              "#0d0887"
             ],
             [
              0.1111111111111111,
              "#46039f"
             ],
             [
              0.2222222222222222,
              "#7201a8"
             ],
             [
              0.3333333333333333,
              "#9c179e"
             ],
             [
              0.4444444444444444,
              "#bd3786"
             ],
             [
              0.5555555555555556,
              "#d8576b"
             ],
             [
              0.6666666666666666,
              "#ed7953"
             ],
             [
              0.7777777777777778,
              "#fb9f3a"
             ],
             [
              0.8888888888888888,
              "#fdca26"
             ],
             [
              1,
              "#f0f921"
             ]
            ],
            "type": "histogram2dcontour"
           }
          ],
          "mesh3d": [
           {
            "colorbar": {
             "outlinewidth": 0,
             "ticks": ""
            },
            "type": "mesh3d"
           }
          ],
          "parcoords": [
           {
            "line": {
             "colorbar": {
              "outlinewidth": 0,
              "ticks": ""
             }
            },
            "type": "parcoords"
           }
          ],
          "pie": [
           {
            "automargin": true,
            "type": "pie"
           }
          ],
          "scatter": [
           {
            "fillpattern": {
             "fillmode": "overlay",
             "size": 10,
             "solidity": 0.2
            },
            "type": "scatter"
           }
          ],
          "scatter3d": [
           {
            "line": {
             "colorbar": {
              "outlinewidth": 0,
              "ticks": ""
             }
            },
            "marker": {
             "colorbar": {
              "outlinewidth": 0,
              "ticks": ""
             }
            },
            "type": "scatter3d"
           }
          ],
          "scattercarpet": [
           {
            "marker": {
             "colorbar": {
              "outlinewidth": 0,
              "ticks": ""
             }
            },
            "type": "scattercarpet"
           }
          ],
          "scattergeo": [
           {
            "marker": {
             "colorbar": {
              "outlinewidth": 0,
              "ticks": ""
             }
            },
            "type": "scattergeo"
           }
          ],
          "scattergl": [
           {
            "marker": {
             "colorbar": {
              "outlinewidth": 0,
              "ticks": ""
             }
            },
            "type": "scattergl"
           }
          ],
          "scattermapbox": [
           {
            "marker": {
             "colorbar": {
              "outlinewidth": 0,
              "ticks": ""
             }
            },
            "type": "scattermapbox"
           }
          ],
          "scatterpolar": [
           {
            "marker": {
             "colorbar": {
              "outlinewidth": 0,
              "ticks": ""
             }
            },
            "type": "scatterpolar"
           }
          ],
          "scatterpolargl": [
           {
            "marker": {
             "colorbar": {
              "outlinewidth": 0,
              "ticks": ""
             }
            },
            "type": "scatterpolargl"
           }
          ],
          "scatterternary": [
           {
            "marker": {
             "colorbar": {
              "outlinewidth": 0,
              "ticks": ""
             }
            },
            "type": "scatterternary"
           }
          ],
          "surface": [
           {
            "colorbar": {
             "outlinewidth": 0,
             "ticks": ""
            },
            "colorscale": [
             [
              0,
              "#0d0887"
             ],
             [
              0.1111111111111111,
              "#46039f"
             ],
             [
              0.2222222222222222,
              "#7201a8"
             ],
             [
              0.3333333333333333,
              "#9c179e"
             ],
             [
              0.4444444444444444,
              "#bd3786"
             ],
             [
              0.5555555555555556,
              "#d8576b"
             ],
             [
              0.6666666666666666,
              "#ed7953"
             ],
             [
              0.7777777777777778,
              "#fb9f3a"
             ],
             [
              0.8888888888888888,
              "#fdca26"
             ],
             [
              1,
              "#f0f921"
             ]
            ],
            "type": "surface"
           }
          ],
          "table": [
           {
            "cells": {
             "fill": {
              "color": "#EBF0F8"
             },
             "line": {
              "color": "white"
             }
            },
            "header": {
             "fill": {
              "color": "#C8D4E3"
             },
             "line": {
              "color": "white"
             }
            },
            "type": "table"
           }
          ]
         },
         "layout": {
          "annotationdefaults": {
           "arrowcolor": "#2a3f5f",
           "arrowhead": 0,
           "arrowwidth": 1
          },
          "autotypenumbers": "strict",
          "coloraxis": {
           "colorbar": {
            "outlinewidth": 0,
            "ticks": ""
           }
          },
          "colorscale": {
           "diverging": [
            [
             0,
             "#8e0152"
            ],
            [
             0.1,
             "#c51b7d"
            ],
            [
             0.2,
             "#de77ae"
            ],
            [
             0.3,
             "#f1b6da"
            ],
            [
             0.4,
             "#fde0ef"
            ],
            [
             0.5,
             "#f7f7f7"
            ],
            [
             0.6,
             "#e6f5d0"
            ],
            [
             0.7,
             "#b8e186"
            ],
            [
             0.8,
             "#7fbc41"
            ],
            [
             0.9,
             "#4d9221"
            ],
            [
             1,
             "#276419"
            ]
           ],
           "sequential": [
            [
             0,
             "#0d0887"
            ],
            [
             0.1111111111111111,
             "#46039f"
            ],
            [
             0.2222222222222222,
             "#7201a8"
            ],
            [
             0.3333333333333333,
             "#9c179e"
            ],
            [
             0.4444444444444444,
             "#bd3786"
            ],
            [
             0.5555555555555556,
             "#d8576b"
            ],
            [
             0.6666666666666666,
             "#ed7953"
            ],
            [
             0.7777777777777778,
             "#fb9f3a"
            ],
            [
             0.8888888888888888,
             "#fdca26"
            ],
            [
             1,
             "#f0f921"
            ]
           ],
           "sequentialminus": [
            [
             0,
             "#0d0887"
            ],
            [
             0.1111111111111111,
             "#46039f"
            ],
            [
             0.2222222222222222,
             "#7201a8"
            ],
            [
             0.3333333333333333,
             "#9c179e"
            ],
            [
             0.4444444444444444,
             "#bd3786"
            ],
            [
             0.5555555555555556,
             "#d8576b"
            ],
            [
             0.6666666666666666,
             "#ed7953"
            ],
            [
             0.7777777777777778,
             "#fb9f3a"
            ],
            [
             0.8888888888888888,
             "#fdca26"
            ],
            [
             1,
             "#f0f921"
            ]
           ]
          },
          "colorway": [
           "#636efa",
           "#EF553B",
           "#00cc96",
           "#ab63fa",
           "#FFA15A",
           "#19d3f3",
           "#FF6692",
           "#B6E880",
           "#FF97FF",
           "#FECB52"
          ],
          "font": {
           "color": "#2a3f5f"
          },
          "geo": {
           "bgcolor": "white",
           "lakecolor": "white",
           "landcolor": "#E5ECF6",
           "showlakes": true,
           "showland": true,
           "subunitcolor": "white"
          },
          "hoverlabel": {
           "align": "left"
          },
          "hovermode": "closest",
          "mapbox": {
           "style": "light"
          },
          "paper_bgcolor": "white",
          "plot_bgcolor": "#E5ECF6",
          "polar": {
           "angularaxis": {
            "gridcolor": "white",
            "linecolor": "white",
            "ticks": ""
           },
           "bgcolor": "#E5ECF6",
           "radialaxis": {
            "gridcolor": "white",
            "linecolor": "white",
            "ticks": ""
           }
          },
          "scene": {
           "xaxis": {
            "backgroundcolor": "#E5ECF6",
            "gridcolor": "white",
            "gridwidth": 2,
            "linecolor": "white",
            "showbackground": true,
            "ticks": "",
            "zerolinecolor": "white"
           },
           "yaxis": {
            "backgroundcolor": "#E5ECF6",
            "gridcolor": "white",
            "gridwidth": 2,
            "linecolor": "white",
            "showbackground": true,
            "ticks": "",
            "zerolinecolor": "white"
           },
           "zaxis": {
            "backgroundcolor": "#E5ECF6",
            "gridcolor": "white",
            "gridwidth": 2,
            "linecolor": "white",
            "showbackground": true,
            "ticks": "",
            "zerolinecolor": "white"
           }
          },
          "shapedefaults": {
           "line": {
            "color": "#2a3f5f"
           }
          },
          "ternary": {
           "aaxis": {
            "gridcolor": "white",
            "linecolor": "white",
            "ticks": ""
           },
           "baxis": {
            "gridcolor": "white",
            "linecolor": "white",
            "ticks": ""
           },
           "bgcolor": "#E5ECF6",
           "caxis": {
            "gridcolor": "white",
            "linecolor": "white",
            "ticks": ""
           }
          },
          "title": {
           "x": 0.05
          },
          "xaxis": {
           "automargin": true,
           "gridcolor": "white",
           "linecolor": "white",
           "ticks": "",
           "title": {
            "standoff": 15
           },
           "zerolinecolor": "white",
           "zerolinewidth": 2
          },
          "yaxis": {
           "automargin": true,
           "gridcolor": "white",
           "linecolor": "white",
           "ticks": "",
           "title": {
            "standoff": 15
           },
           "zerolinecolor": "white",
           "zerolinewidth": 2
          }
         }
        },
        "title": {
         "text": "Committed funding for programs only funded South East QLD"
        },
        "width": 1000,
        "xaxis": {
         "anchor": "y",
         "domain": [
          0,
          1
         ],
         "title": {
          "text": "Program Name"
         }
        },
        "yaxis": {
         "anchor": "x",
         "domain": [
          0,
          1
         ],
         "title": {
          "text": "Committed Funding"
         }
        }
       }
      },
      "text/html": [
       "<div>                            <div id=\"38d8ca22-5a29-4f40-b9ef-c1bfee599f7e\" class=\"plotly-graph-div\" style=\"height:800px; width:1000px;\"></div>            <script type=\"text/javascript\">                require([\"plotly\"], function(Plotly) {                    window.PLOTLYENV=window.PLOTLYENV || {};                                    if (document.getElementById(\"38d8ca22-5a29-4f40-b9ef-c1bfee599f7e\")) {                    Plotly.newPlot(                        \"38d8ca22-5a29-4f40-b9ef-c1bfee599f7e\",                        [{\"alignmentgroup\":\"True\",\"hovertemplate\":\"Type=Funding Amount<br>Program Name=%{x}<br>Committed Funding=%{y}<extra></extra>\",\"legendgroup\":\"Funding Amount\",\"marker\":{\"color\":\"#636efa\",\"pattern\":{\"shape\":\"\"}},\"name\":\"Funding Amount\",\"offsetgroup\":\"Funding Amount\",\"orientation\":\"v\",\"showlegend\":true,\"textposition\":\"auto\",\"x\":[\"Platform Technology Program\",\"UQ - COVID-19 Vaccine\",\"Clem Jones Centre for Ageing Dementia Research\",\"Agtech and Logistics Hub\",\"Innovate Queensland\",\"Research Fellowships\",\"Fraunhofer Institute Partnership\",\"Life Sciences Queensland - Catalyst\",\"Ignite+\",\"Industry Tech Fund\",\"WaterStart\",\"Life Sciences Queensland\",\"SoftBank\",\"Industry Accelerators\",\"BDO Business of Entrepreneurship\",\"Travello\",\"States of Change\",\"Knowledge Transfer Partnerships\",\"Aboriginal and Torres Strait Islander Research Fellowships\",\"Sports Science Challenge\",\"QCN Fibre Regional Pilot Program\",\"Sunramp Accelerator Program\",\"Bionics\",\"Queensland Future Skills Project\",\"Testing Within Government\",\"Private Sector Pathways Program\",\"Therabubble\",\"Aboriginal and Torres Strait Islander PhD Scholarships\",\"Global CEO Challenge\",\"Mental Health Services for Founders\",\"Innovation Precincts and Places\"],\"xaxis\":\"x\",\"y\":[10500000.0,10000000.0,5000000.0,3000000.0,1500000.0,1000000.0,700000.0,600000.0,579025.0,546027.0,500000.0,450000.0,400000.0,399800.0,356396.0,300000.0,300000.0,257574.0,240000.0,225000.0,197000.0,160000.0,160000.0,157440.0,150500.0,146527.0,114309.0,107084.0,75000.0,52499.0,10000.0],\"yaxis\":\"y\",\"type\":\"bar\"},{\"alignmentgroup\":\"True\",\"hovertemplate\":\"Type=Percentage of Total Funding<br>Program Name=%{x}<br>Committed Funding=%{y}<extra></extra>\",\"legendgroup\":\"Percentage of Total Funding\",\"marker\":{\"color\":\"#EF553B\",\"pattern\":{\"shape\":\"\"}},\"name\":\"Percentage of Total Funding\",\"offsetgroup\":\"Percentage of Total Funding\",\"orientation\":\"v\",\"showlegend\":true,\"textposition\":\"auto\",\"x\":[\"Platform Technology Program\",\"UQ - COVID-19 Vaccine\",\"Clem Jones Centre for Ageing Dementia Research\",\"Agtech and Logistics Hub\",\"Innovate Queensland\",\"Research Fellowships\",\"Fraunhofer Institute Partnership\",\"Life Sciences Queensland - Catalyst\",\"Ignite+\",\"Industry Tech Fund\",\"WaterStart\",\"Life Sciences Queensland\",\"SoftBank\",\"Industry Accelerators\",\"BDO Business of Entrepreneurship\",\"Travello\",\"States of Change\",\"Knowledge Transfer Partnerships\",\"Aboriginal and Torres Strait Islander Research Fellowships\",\"Sports Science Challenge\",\"QCN Fibre Regional Pilot Program\",\"Sunramp Accelerator Program\",\"Bionics\",\"Queensland Future Skills Project\",\"Testing Within Government\",\"Private Sector Pathways Program\",\"Therabubble\",\"Aboriginal and Torres Strait Islander PhD Scholarships\",\"Global CEO Challenge\",\"Mental Health Services for Founders\",\"Innovation Precincts and Places\"],\"xaxis\":\"x\",\"y\":[27.498298313639356,26.188855536799387,13.094427768399694,7.856656661039817,3.9283283305199084,2.6188855536799385,1.8332198875759573,1.5713313322079634,1.5164002077195264,1.429982222219196,1.3094427768399692,1.1784984991559726,1.0475542214719755,1.0470304443612395,0.9333603357893155,0.7856656661039817,0.7856656661039817,0.6745568276035565,0.6285325328831853,0.5892492495779863,0.5159204540749479,0.41902168858879024,0.41902168858879024,0.4123173415713696,0.3941422758288308,0.3837374435240604,0.29936218875560017,0.2804407406302626,0.19641641652599542,0.13748887268264312,0.02618885553679939],\"yaxis\":\"y\",\"type\":\"bar\"}],                        {\"template\":{\"data\":{\"histogram2dcontour\":[{\"type\":\"histogram2dcontour\",\"colorbar\":{\"outlinewidth\":0,\"ticks\":\"\"},\"colorscale\":[[0.0,\"#0d0887\"],[0.1111111111111111,\"#46039f\"],[0.2222222222222222,\"#7201a8\"],[0.3333333333333333,\"#9c179e\"],[0.4444444444444444,\"#bd3786\"],[0.5555555555555556,\"#d8576b\"],[0.6666666666666666,\"#ed7953\"],[0.7777777777777778,\"#fb9f3a\"],[0.8888888888888888,\"#fdca26\"],[1.0,\"#f0f921\"]]}],\"choropleth\":[{\"type\":\"choropleth\",\"colorbar\":{\"outlinewidth\":0,\"ticks\":\"\"}}],\"histogram2d\":[{\"type\":\"histogram2d\",\"colorbar\":{\"outlinewidth\":0,\"ticks\":\"\"},\"colorscale\":[[0.0,\"#0d0887\"],[0.1111111111111111,\"#46039f\"],[0.2222222222222222,\"#7201a8\"],[0.3333333333333333,\"#9c179e\"],[0.4444444444444444,\"#bd3786\"],[0.5555555555555556,\"#d8576b\"],[0.6666666666666666,\"#ed7953\"],[0.7777777777777778,\"#fb9f3a\"],[0.8888888888888888,\"#fdca26\"],[1.0,\"#f0f921\"]]}],\"heatmap\":[{\"type\":\"heatmap\",\"colorbar\":{\"outlinewidth\":0,\"ticks\":\"\"},\"colorscale\":[[0.0,\"#0d0887\"],[0.1111111111111111,\"#46039f\"],[0.2222222222222222,\"#7201a8\"],[0.3333333333333333,\"#9c179e\"],[0.4444444444444444,\"#bd3786\"],[0.5555555555555556,\"#d8576b\"],[0.6666666666666666,\"#ed7953\"],[0.7777777777777778,\"#fb9f3a\"],[0.8888888888888888,\"#fdca26\"],[1.0,\"#f0f921\"]]}],\"heatmapgl\":[{\"type\":\"heatmapgl\",\"colorbar\":{\"outlinewidth\":0,\"ticks\":\"\"},\"colorscale\":[[0.0,\"#0d0887\"],[0.1111111111111111,\"#46039f\"],[0.2222222222222222,\"#7201a8\"],[0.3333333333333333,\"#9c179e\"],[0.4444444444444444,\"#bd3786\"],[0.5555555555555556,\"#d8576b\"],[0.6666666666666666,\"#ed7953\"],[0.7777777777777778,\"#fb9f3a\"],[0.8888888888888888,\"#fdca26\"],[1.0,\"#f0f921\"]]}],\"contourcarpet\":[{\"type\":\"contourcarpet\",\"colorbar\":{\"outlinewidth\":0,\"ticks\":\"\"}}],\"contour\":[{\"type\":\"contour\",\"colorbar\":{\"outlinewidth\":0,\"ticks\":\"\"},\"colorscale\":[[0.0,\"#0d0887\"],[0.1111111111111111,\"#46039f\"],[0.2222222222222222,\"#7201a8\"],[0.3333333333333333,\"#9c179e\"],[0.4444444444444444,\"#bd3786\"],[0.5555555555555556,\"#d8576b\"],[0.6666666666666666,\"#ed7953\"],[0.7777777777777778,\"#fb9f3a\"],[0.8888888888888888,\"#fdca26\"],[1.0,\"#f0f921\"]]}],\"surface\":[{\"type\":\"surface\",\"colorbar\":{\"outlinewidth\":0,\"ticks\":\"\"},\"colorscale\":[[0.0,\"#0d0887\"],[0.1111111111111111,\"#46039f\"],[0.2222222222222222,\"#7201a8\"],[0.3333333333333333,\"#9c179e\"],[0.4444444444444444,\"#bd3786\"],[0.5555555555555556,\"#d8576b\"],[0.6666666666666666,\"#ed7953\"],[0.7777777777777778,\"#fb9f3a\"],[0.8888888888888888,\"#fdca26\"],[1.0,\"#f0f921\"]]}],\"mesh3d\":[{\"type\":\"mesh3d\",\"colorbar\":{\"outlinewidth\":0,\"ticks\":\"\"}}],\"scatter\":[{\"fillpattern\":{\"fillmode\":\"overlay\",\"size\":10,\"solidity\":0.2},\"type\":\"scatter\"}],\"parcoords\":[{\"type\":\"parcoords\",\"line\":{\"colorbar\":{\"outlinewidth\":0,\"ticks\":\"\"}}}],\"scatterpolargl\":[{\"type\":\"scatterpolargl\",\"marker\":{\"colorbar\":{\"outlinewidth\":0,\"ticks\":\"\"}}}],\"bar\":[{\"error_x\":{\"color\":\"#2a3f5f\"},\"error_y\":{\"color\":\"#2a3f5f\"},\"marker\":{\"line\":{\"color\":\"#E5ECF6\",\"width\":0.5},\"pattern\":{\"fillmode\":\"overlay\",\"size\":10,\"solidity\":0.2}},\"type\":\"bar\"}],\"scattergeo\":[{\"type\":\"scattergeo\",\"marker\":{\"colorbar\":{\"outlinewidth\":0,\"ticks\":\"\"}}}],\"scatterpolar\":[{\"type\":\"scatterpolar\",\"marker\":{\"colorbar\":{\"outlinewidth\":0,\"ticks\":\"\"}}}],\"histogram\":[{\"marker\":{\"pattern\":{\"fillmode\":\"overlay\",\"size\":10,\"solidity\":0.2}},\"type\":\"histogram\"}],\"scattergl\":[{\"type\":\"scattergl\",\"marker\":{\"colorbar\":{\"outlinewidth\":0,\"ticks\":\"\"}}}],\"scatter3d\":[{\"type\":\"scatter3d\",\"line\":{\"colorbar\":{\"outlinewidth\":0,\"ticks\":\"\"}},\"marker\":{\"colorbar\":{\"outlinewidth\":0,\"ticks\":\"\"}}}],\"scattermapbox\":[{\"type\":\"scattermapbox\",\"marker\":{\"colorbar\":{\"outlinewidth\":0,\"ticks\":\"\"}}}],\"scatterternary\":[{\"type\":\"scatterternary\",\"marker\":{\"colorbar\":{\"outlinewidth\":0,\"ticks\":\"\"}}}],\"scattercarpet\":[{\"type\":\"scattercarpet\",\"marker\":{\"colorbar\":{\"outlinewidth\":0,\"ticks\":\"\"}}}],\"carpet\":[{\"aaxis\":{\"endlinecolor\":\"#2a3f5f\",\"gridcolor\":\"white\",\"linecolor\":\"white\",\"minorgridcolor\":\"white\",\"startlinecolor\":\"#2a3f5f\"},\"baxis\":{\"endlinecolor\":\"#2a3f5f\",\"gridcolor\":\"white\",\"linecolor\":\"white\",\"minorgridcolor\":\"white\",\"startlinecolor\":\"#2a3f5f\"},\"type\":\"carpet\"}],\"table\":[{\"cells\":{\"fill\":{\"color\":\"#EBF0F8\"},\"line\":{\"color\":\"white\"}},\"header\":{\"fill\":{\"color\":\"#C8D4E3\"},\"line\":{\"color\":\"white\"}},\"type\":\"table\"}],\"barpolar\":[{\"marker\":{\"line\":{\"color\":\"#E5ECF6\",\"width\":0.5},\"pattern\":{\"fillmode\":\"overlay\",\"size\":10,\"solidity\":0.2}},\"type\":\"barpolar\"}],\"pie\":[{\"automargin\":true,\"type\":\"pie\"}]},\"layout\":{\"autotypenumbers\":\"strict\",\"colorway\":[\"#636efa\",\"#EF553B\",\"#00cc96\",\"#ab63fa\",\"#FFA15A\",\"#19d3f3\",\"#FF6692\",\"#B6E880\",\"#FF97FF\",\"#FECB52\"],\"font\":{\"color\":\"#2a3f5f\"},\"hovermode\":\"closest\",\"hoverlabel\":{\"align\":\"left\"},\"paper_bgcolor\":\"white\",\"plot_bgcolor\":\"#E5ECF6\",\"polar\":{\"bgcolor\":\"#E5ECF6\",\"angularaxis\":{\"gridcolor\":\"white\",\"linecolor\":\"white\",\"ticks\":\"\"},\"radialaxis\":{\"gridcolor\":\"white\",\"linecolor\":\"white\",\"ticks\":\"\"}},\"ternary\":{\"bgcolor\":\"#E5ECF6\",\"aaxis\":{\"gridcolor\":\"white\",\"linecolor\":\"white\",\"ticks\":\"\"},\"baxis\":{\"gridcolor\":\"white\",\"linecolor\":\"white\",\"ticks\":\"\"},\"caxis\":{\"gridcolor\":\"white\",\"linecolor\":\"white\",\"ticks\":\"\"}},\"coloraxis\":{\"colorbar\":{\"outlinewidth\":0,\"ticks\":\"\"}},\"colorscale\":{\"sequential\":[[0.0,\"#0d0887\"],[0.1111111111111111,\"#46039f\"],[0.2222222222222222,\"#7201a8\"],[0.3333333333333333,\"#9c179e\"],[0.4444444444444444,\"#bd3786\"],[0.5555555555555556,\"#d8576b\"],[0.6666666666666666,\"#ed7953\"],[0.7777777777777778,\"#fb9f3a\"],[0.8888888888888888,\"#fdca26\"],[1.0,\"#f0f921\"]],\"sequentialminus\":[[0.0,\"#0d0887\"],[0.1111111111111111,\"#46039f\"],[0.2222222222222222,\"#7201a8\"],[0.3333333333333333,\"#9c179e\"],[0.4444444444444444,\"#bd3786\"],[0.5555555555555556,\"#d8576b\"],[0.6666666666666666,\"#ed7953\"],[0.7777777777777778,\"#fb9f3a\"],[0.8888888888888888,\"#fdca26\"],[1.0,\"#f0f921\"]],\"diverging\":[[0,\"#8e0152\"],[0.1,\"#c51b7d\"],[0.2,\"#de77ae\"],[0.3,\"#f1b6da\"],[0.4,\"#fde0ef\"],[0.5,\"#f7f7f7\"],[0.6,\"#e6f5d0\"],[0.7,\"#b8e186\"],[0.8,\"#7fbc41\"],[0.9,\"#4d9221\"],[1,\"#276419\"]]},\"xaxis\":{\"gridcolor\":\"white\",\"linecolor\":\"white\",\"ticks\":\"\",\"title\":{\"standoff\":15},\"zerolinecolor\":\"white\",\"automargin\":true,\"zerolinewidth\":2},\"yaxis\":{\"gridcolor\":\"white\",\"linecolor\":\"white\",\"ticks\":\"\",\"title\":{\"standoff\":15},\"zerolinecolor\":\"white\",\"automargin\":true,\"zerolinewidth\":2},\"scene\":{\"xaxis\":{\"backgroundcolor\":\"#E5ECF6\",\"gridcolor\":\"white\",\"linecolor\":\"white\",\"showbackground\":true,\"ticks\":\"\",\"zerolinecolor\":\"white\",\"gridwidth\":2},\"yaxis\":{\"backgroundcolor\":\"#E5ECF6\",\"gridcolor\":\"white\",\"linecolor\":\"white\",\"showbackground\":true,\"ticks\":\"\",\"zerolinecolor\":\"white\",\"gridwidth\":2},\"zaxis\":{\"backgroundcolor\":\"#E5ECF6\",\"gridcolor\":\"white\",\"linecolor\":\"white\",\"showbackground\":true,\"ticks\":\"\",\"zerolinecolor\":\"white\",\"gridwidth\":2}},\"shapedefaults\":{\"line\":{\"color\":\"#2a3f5f\"}},\"annotationdefaults\":{\"arrowcolor\":\"#2a3f5f\",\"arrowhead\":0,\"arrowwidth\":1},\"geo\":{\"bgcolor\":\"white\",\"landcolor\":\"#E5ECF6\",\"subunitcolor\":\"white\",\"showland\":true,\"showlakes\":true,\"lakecolor\":\"white\"},\"title\":{\"x\":0.05},\"mapbox\":{\"style\":\"light\"}}},\"xaxis\":{\"anchor\":\"y\",\"domain\":[0.0,1.0],\"title\":{\"text\":\"Program Name\"}},\"yaxis\":{\"anchor\":\"x\",\"domain\":[0.0,1.0],\"title\":{\"text\":\"Committed Funding\"}},\"legend\":{\"title\":{\"text\":\"Type\"},\"tracegroupgap\":0},\"title\":{\"text\":\"Committed funding for programs only funded South East QLD\"},\"barmode\":\"group\",\"height\":800,\"width\":1000},                        {\"responsive\": true}                    ).then(function(){\n",
       "                            \n",
       "var gd = document.getElementById('38d8ca22-5a29-4f40-b9ef-c1bfee599f7e');\n",
       "var x = new MutationObserver(function (mutations, observer) {{\n",
       "        var display = window.getComputedStyle(gd).display;\n",
       "        if (!display || display === 'none') {{\n",
       "            console.log([gd, 'removed!']);\n",
       "            Plotly.purge(gd);\n",
       "            observer.disconnect();\n",
       "        }}\n",
       "}});\n",
       "\n",
       "// Listen for the removal of the full notebook cells\n",
       "var notebookContainer = gd.closest('#notebook-container');\n",
       "if (notebookContainer) {{\n",
       "    x.observe(notebookContainer, {childList: true});\n",
       "}}\n",
       "\n",
       "// Listen for the clearing of the current output cell\n",
       "var outputEl = gd.closest('.output');\n",
       "if (outputEl) {{\n",
       "    x.observe(outputEl, {childList: true});\n",
       "}}\n",
       "\n",
       "                        })                };                });            </script>        </div>"
      ]
     },
     "metadata": {},
     "output_type": "display_data"
    }
   ],
   "source": [
    "# Calculate the total funding\n",
    "total_funding = seo_sorted_df['Funding Amount'].sum()\n",
    "\n",
    "# Calculate the percentage of total funding for each program\n",
    "seo_sorted_df['Percentage of Total Funding'] = (seo_sorted_df['Funding Amount'] / total_funding) * 100\n",
    "\n",
    "# Format the percentage values with two decimal places\n",
    "#seo_sorted_df['Percentage of Total Funding'] = seo_sorted_df['Percentage of Total Funding'].map('{:.2f}%'.format)\n",
    "\n",
    "# Now 'seo_sorted_df' contains the percentage of total funding for each program with two decimal places\n",
    "# Convert 'Percentage of Total Funding' column to numeric data type\n",
    "#seo_sorted_df['Percentage of Total Funding'] = seo_sorted_df['Percentage of Total Funding'].str.rstrip('%').astype(float)\n",
    "\n",
    "# Create a grouped bar chart using Plotly Express\n",
    "fig = px.bar(seo_sorted_df, x='Program Name', y=['Funding Amount', 'Percentage of Total Funding'],\n",
    "             labels={'Program': 'Program', 'value': 'Committed Funding', 'variable': 'Type'},\n",
    "             title='Committed funding for programs only funded South East QLD',\n",
    "             height=800)\n",
    "\n",
    "fig.update_layout(barmode='group', width=1000)\n",
    "fig.show()"
   ]
  },
  {
   "cell_type": "markdown",
   "id": "0adfda26-aee0-4dea-96ff-40bf9fb313db",
   "metadata": {},
   "source": [
    "Insight: It is apparent from the bar chart that majority of top funding programs on the x-axis are related to science, technology, research and innovation. This also clarifies that the imbalanced distribution of funds has no connection with population, instead the majority of recipients of these programs existing in SEQ is merely coincidental. Lack of funding to non-SEQ region is also because lack of initiatives for new ideas, science, technology, innovation and research."
   ]
  },
  {
   "cell_type": "markdown",
   "id": "6925e309-6a7a-4a94-8aab-7efc87eb2d78",
   "metadata": {},
   "source": [
    "3. In this step, I am exploring a 'Platform Technology Program' to see if the details also show the narrative I am developing from the above insights."
   ]
  },
  {
   "cell_type": "code",
   "execution_count": 80,
   "id": "20a1cec7-7da5-4e18-ba6d-0b68f5209592",
   "metadata": {},
   "outputs": [
    {
     "data": {
      "text/html": [
       "<div>\n",
       "<style scoped>\n",
       "    .dataframe tbody tr th:only-of-type {\n",
       "        vertical-align: middle;\n",
       "    }\n",
       "\n",
       "    .dataframe tbody tr th {\n",
       "        vertical-align: top;\n",
       "    }\n",
       "\n",
       "    .dataframe thead th {\n",
       "        text-align: right;\n",
       "    }\n",
       "</style>\n",
       "<table border=\"1\" class=\"dataframe\">\n",
       "  <thead>\n",
       "    <tr style=\"text-align: right;\">\n",
       "      <th></th>\n",
       "      <th>Program Name</th>\n",
       "      <th>Round</th>\n",
       "      <th>Recipient Name</th>\n",
       "      <th>Physical Address of Recipient - Suburb/Location</th>\n",
       "      <th>Physical Address of Recipient - Post Code</th>\n",
       "      <th>University Collaborator (if applicable)</th>\n",
       "      <th>Other Partners/ Collaborators (if applicable)</th>\n",
       "      <th>Investment/Project Title</th>\n",
       "      <th>Primary Location of Activity/Project - Suburb/Location</th>\n",
       "      <th>Primary Location of Activity/Project - Post Code</th>\n",
       "      <th>Multiple Locations of Activity/Project</th>\n",
       "      <th>Approval date</th>\n",
       "      <th>Local Government Area (LGA)</th>\n",
       "      <th>RAP Region (based on Project Location)</th>\n",
       "      <th>State Electorate</th>\n",
       "      <th>Funding Amount</th>\n",
       "      <th>Approval date only</th>\n",
       "      <th>Region_Type</th>\n",
       "      <th>Year</th>\n",
       "    </tr>\n",
       "  </thead>\n",
       "  <tbody>\n",
       "    <tr>\n",
       "      <th>1044</th>\n",
       "      <td>Platform Technology Program</td>\n",
       "      <td>AQ Platform Technology Program 2016-17 Round 1</td>\n",
       "      <td>DataRWE Pty Ltd</td>\n",
       "      <td>Southport</td>\n",
       "      <td>4215.0</td>\n",
       "      <td>NaN</td>\n",
       "      <td>Augmented Intelligence Pty Ltd \\n Griffith Un...</td>\n",
       "      <td>Precision Medicine Data Platform</td>\n",
       "      <td>Southport</td>\n",
       "      <td>4215.0</td>\n",
       "      <td>NaN</td>\n",
       "      <td>2019-05-21</td>\n",
       "      <td>Gold Coast (C)</td>\n",
       "      <td>Gold Coast</td>\n",
       "      <td>Bonney</td>\n",
       "      <td>1500000.0</td>\n",
       "      <td>2019-05-21</td>\n",
       "      <td>South-East-QLD</td>\n",
       "      <td>2019</td>\n",
       "    </tr>\n",
       "    <tr>\n",
       "      <th>1043</th>\n",
       "      <td>Platform Technology Program</td>\n",
       "      <td>AQ Platform Technology Program 2016-17 Round 1</td>\n",
       "      <td>Boeing Defence Australia Ltd</td>\n",
       "      <td>Brisbane City</td>\n",
       "      <td>4000.0</td>\n",
       "      <td>NaN</td>\n",
       "      <td>The partners will be selected post-funding aw...</td>\n",
       "      <td>Advanced Autonomy Platform Technologies  Tier...</td>\n",
       "      <td>Brisbane City</td>\n",
       "      <td>4000.0</td>\n",
       "      <td>NaN</td>\n",
       "      <td>2018-02-02</td>\n",
       "      <td>Brisbane (C)</td>\n",
       "      <td>Brisbane and Redlands</td>\n",
       "      <td>McConnel</td>\n",
       "      <td>9000000.0</td>\n",
       "      <td>2018-02-02</td>\n",
       "      <td>South-East-QLD</td>\n",
       "      <td>2018</td>\n",
       "    </tr>\n",
       "  </tbody>\n",
       "</table>\n",
       "</div>"
      ],
      "text/plain": [
       "                     Program Name  \\\n",
       "1044  Platform Technology Program   \n",
       "1043  Platform Technology Program   \n",
       "\n",
       "                                               Round  \\\n",
       "1044  AQ Platform Technology Program 2016-17 Round 1   \n",
       "1043  AQ Platform Technology Program 2016-17 Round 1   \n",
       "\n",
       "                    Recipient Name  \\\n",
       "1044               DataRWE Pty Ltd   \n",
       "1043  Boeing Defence Australia Ltd   \n",
       "\n",
       "     Physical Address of Recipient - Suburb/Location  \\\n",
       "1044                                       Southport   \n",
       "1043                                   Brisbane City   \n",
       "\n",
       "      Physical Address of Recipient - Post Code  \\\n",
       "1044                                     4215.0   \n",
       "1043                                     4000.0   \n",
       "\n",
       "     University Collaborator (if applicable)  \\\n",
       "1044                                     NaN   \n",
       "1043                                     NaN   \n",
       "\n",
       "          Other Partners/ Collaborators (if applicable)  \\\n",
       "1044   Augmented Intelligence Pty Ltd \\n Griffith Un...   \n",
       "1043   The partners will be selected post-funding aw...   \n",
       "\n",
       "                               Investment/Project Title  \\\n",
       "1044                   Precision Medicine Data Platform   \n",
       "1043  Advanced Autonomy Platform Technologies  Tier...   \n",
       "\n",
       "     Primary Location of Activity/Project - Suburb/Location  \\\n",
       "1044                                          Southport       \n",
       "1043                                      Brisbane City       \n",
       "\n",
       "      Primary Location of Activity/Project - Post Code  \\\n",
       "1044                                            4215.0   \n",
       "1043                                            4000.0   \n",
       "\n",
       "     Multiple Locations of Activity/Project Approval date  \\\n",
       "1044                                    NaN    2019-05-21   \n",
       "1043                                    NaN    2018-02-02   \n",
       "\n",
       "     Local Government Area (LGA) RAP Region (based on Project Location)  \\\n",
       "1044              Gold Coast (C)                             Gold Coast   \n",
       "1043                Brisbane (C)                  Brisbane and Redlands   \n",
       "\n",
       "     State Electorate  Funding Amount Approval date only     Region_Type  Year  \n",
       "1044           Bonney       1500000.0         2019-05-21  South-East-QLD  2019  \n",
       "1043         McConnel       9000000.0         2018-02-02  South-East-QLD  2018  "
      ]
     },
     "execution_count": 80,
     "metadata": {},
     "output_type": "execute_result"
    }
   ],
   "source": [
    "# Extracting all the fundings over the six years period in the female founders program \n",
    "detail_df = south_east_qld_programs_only[south_east_qld_programs_only['Program Name'] == 'Platform Technology Program']\n",
    "\n",
    "detail_df"
   ]
  },
  {
   "cell_type": "markdown",
   "id": "dc31e8f8-0d5e-4c4a-8983-068d65476bac",
   "metadata": {},
   "source": [
    "Insight: The details show that funding amounts such as in year 2019 and 2018 are assigned to data and technologies platform projects. This evidence also aligned with the story line I am developing."
   ]
  },
  {
   "cell_type": "markdown",
   "id": "ce665d54-ca1f-433b-af80-c2c74b9750bc",
   "metadata": {},
   "source": [
    "4. In this step, I would like to include some evidence from the programs which only provide funds to regional qld to ensure that high funding commitments are not based on population. They are the projects which help to develop solutions based on technology and innovation and in return people of queensland will have more job opportunities."
   ]
  },
  {
   "cell_type": "code",
   "execution_count": 81,
   "id": "fa1afc45-476d-4533-b7aa-ead7c727cb38",
   "metadata": {},
   "outputs": [
    {
     "data": {
      "text/plain": [
       "Program Name\n",
       "Rockhampton Technology and Innovation Centre                     2800000.0\n",
       "Advancing Regional Innovation Program                             775000.0\n",
       "Startup Onramp Regional Program                                   667000.0\n",
       "Yarrabah Business Accelerator Incubation Hub                      300000.0\n",
       "Mackay Clinical Trials                                            200000.0\n",
       "Regional Futures - Ecosystem Development                          200000.0\n",
       "Deadly Data                                                       195391.0\n",
       "QCN Fibre connection to North Queensland Regional Data Centre     192394.0\n",
       "AustCyber - Establishment of a Queensland Node                    160000.0\n",
       "Orange Sky - Campfire                                             120000.0\n",
       "Reckon Business Hubs                                              119000.0\n",
       "Startup Gladstone - EarlyPreneur Programme                         60000.0\n",
       "Create Queensland                                                  55000.0\n",
       "QiHub                                                              52000.0\n",
       "Young Starters' Competition                                        45000.0\n",
       "Regional Futures - ED TFN Cluster                                  37500.0\n",
       "Name: Funding Amount, dtype: float64"
      ]
     },
     "execution_count": 81,
     "metadata": {},
     "output_type": "execute_result"
    }
   ],
   "source": [
    "# grouping of programs and their committed funds \n",
    "ro_grouped = regional_qld_programs_only.groupby(['Program Name'])['Funding Amount'].sum()\n",
    "\n",
    "# sorting of rows to see the higher fundings at the top\n",
    "ro_sorted = ro_grouped.sort_values(ascending=False)\n",
    "\n",
    "ro_sorted"
   ]
  },
  {
   "cell_type": "markdown",
   "id": "f902b237-2155-4530-93a2-024f85fe57bf",
   "metadata": {},
   "source": [
    "Insight: It is evident from the list of programs which only funded in regional queensland that technology and innovation related projects recieved the highest financial support and it doesn't matter innitiative belongs to SEQ or non-SEQ rigion."
   ]
  },
  {
   "cell_type": "markdown",
   "id": "c269566a-74f1-4729-bf1b-1780b5a5d269",
   "metadata": {},
   "source": [
    "5. In this analysis, I will be collecting rows of data based on the funding recievers to relate them to the industry they represent and why they are successfull in acquiring those funds. In the first phase I grouped the recipients of the funds in SEQ along with their total funding amounts."
   ]
  },
  {
   "cell_type": "code",
   "execution_count": 82,
   "id": "ce84ea43-dc83-4646-b440-639773a5cc2e",
   "metadata": {
    "scrolled": true
   },
   "outputs": [
    {
     "data": {
      "text/html": [
       "<div>\n",
       "<style scoped>\n",
       "    .dataframe tbody tr th:only-of-type {\n",
       "        vertical-align: middle;\n",
       "    }\n",
       "\n",
       "    .dataframe tbody tr th {\n",
       "        vertical-align: top;\n",
       "    }\n",
       "\n",
       "    .dataframe thead th {\n",
       "        text-align: right;\n",
       "    }\n",
       "</style>\n",
       "<table border=\"1\" class=\"dataframe\">\n",
       "  <thead>\n",
       "    <tr style=\"text-align: right;\">\n",
       "      <th></th>\n",
       "      <th>Recipient Name</th>\n",
       "      <th>Funding Amount</th>\n",
       "    </tr>\n",
       "  </thead>\n",
       "  <tbody>\n",
       "    <tr>\n",
       "      <th>0</th>\n",
       "      <td>The University of Queensland</td>\n",
       "      <td>17293862.0</td>\n",
       "    </tr>\n",
       "    <tr>\n",
       "      <th>1</th>\n",
       "      <td>Queensland University of Technology</td>\n",
       "      <td>4040237.0</td>\n",
       "    </tr>\n",
       "    <tr>\n",
       "      <th>2</th>\n",
       "      <td>Griffith University</td>\n",
       "      <td>3269786.0</td>\n",
       "    </tr>\n",
       "    <tr>\n",
       "      <th>3</th>\n",
       "      <td>University of Southern Queensland</td>\n",
       "      <td>2779944.0</td>\n",
       "    </tr>\n",
       "    <tr>\n",
       "      <th>4</th>\n",
       "      <td>Impact Innovation Group Pty Ltd</td>\n",
       "      <td>1452855.0</td>\n",
       "    </tr>\n",
       "    <tr>\n",
       "      <th>5</th>\n",
       "      <td>Queensland XR Hub Pty Ltd</td>\n",
       "      <td>985000.0</td>\n",
       "    </tr>\n",
       "    <tr>\n",
       "      <th>6</th>\n",
       "      <td>Queensland University of Technology - Translat...</td>\n",
       "      <td>879396.0</td>\n",
       "    </tr>\n",
       "    <tr>\n",
       "      <th>7</th>\n",
       "      <td>University of the Sunshine Coast</td>\n",
       "      <td>753135.0</td>\n",
       "    </tr>\n",
       "    <tr>\n",
       "      <th>8</th>\n",
       "      <td>The University of Queensland - St Lucia, QLD</td>\n",
       "      <td>360000.0</td>\n",
       "    </tr>\n",
       "    <tr>\n",
       "      <th>9</th>\n",
       "      <td>Queensland University of Technology - Herston</td>\n",
       "      <td>360000.0</td>\n",
       "    </tr>\n",
       "    <tr>\n",
       "      <th>10</th>\n",
       "      <td>The University of Queensland - School of Publi...</td>\n",
       "      <td>300000.0</td>\n",
       "    </tr>\n",
       "    <tr>\n",
       "      <th>11</th>\n",
       "      <td>The University of Queensland - RBWH - Herston</td>\n",
       "      <td>300000.0</td>\n",
       "    </tr>\n",
       "    <tr>\n",
       "      <th>12</th>\n",
       "      <td>The Council of the Queensland Institute of Med...</td>\n",
       "      <td>300000.0</td>\n",
       "    </tr>\n",
       "    <tr>\n",
       "      <th>13</th>\n",
       "      <td>GaardTech Pty ltd</td>\n",
       "      <td>300000.0</td>\n",
       "    </tr>\n",
       "    <tr>\n",
       "      <th>14</th>\n",
       "      <td>Blenktech Pty Ltd</td>\n",
       "      <td>300000.0</td>\n",
       "    </tr>\n",
       "    <tr>\n",
       "      <th>15</th>\n",
       "      <td>Vostronet (Australia) Pty Ltd</td>\n",
       "      <td>300000.0</td>\n",
       "    </tr>\n",
       "    <tr>\n",
       "      <th>16</th>\n",
       "      <td>Social Impact Group Pty Ltd</td>\n",
       "      <td>298500.0</td>\n",
       "    </tr>\n",
       "    <tr>\n",
       "      <th>17</th>\n",
       "      <td>Canaria Technologies Pty Ltd</td>\n",
       "      <td>295140.0</td>\n",
       "    </tr>\n",
       "    <tr>\n",
       "      <th>18</th>\n",
       "      <td>Food and Agribusiness Network Limited</td>\n",
       "      <td>289676.0</td>\n",
       "    </tr>\n",
       "    <tr>\n",
       "      <th>19</th>\n",
       "      <td>Bidhive Pty Ltd</td>\n",
       "      <td>280000.0</td>\n",
       "    </tr>\n",
       "    <tr>\n",
       "      <th>20</th>\n",
       "      <td>Nightlife Music Pty Ltd</td>\n",
       "      <td>250000.0</td>\n",
       "    </tr>\n",
       "    <tr>\n",
       "      <th>21</th>\n",
       "      <td>Pinch Labs Pty Ltd</td>\n",
       "      <td>250000.0</td>\n",
       "    </tr>\n",
       "    <tr>\n",
       "      <th>22</th>\n",
       "      <td>DEC-UAV Pty Ltd - Fortitude Valley</td>\n",
       "      <td>250000.0</td>\n",
       "    </tr>\n",
       "    <tr>\n",
       "      <th>23</th>\n",
       "      <td>GO1 Pty Ltd</td>\n",
       "      <td>250000.0</td>\n",
       "    </tr>\n",
       "    <tr>\n",
       "      <th>24</th>\n",
       "      <td>MiCare Global Pty Ltd</td>\n",
       "      <td>250000.0</td>\n",
       "    </tr>\n",
       "    <tr>\n",
       "      <th>25</th>\n",
       "      <td>Naturo Pty Ltd</td>\n",
       "      <td>250000.0</td>\n",
       "    </tr>\n",
       "    <tr>\n",
       "      <th>26</th>\n",
       "      <td>Fish-E Pty Ltd</td>\n",
       "      <td>228200.0</td>\n",
       "    </tr>\n",
       "    <tr>\n",
       "      <th>27</th>\n",
       "      <td>iLiquid Pty Ltd</td>\n",
       "      <td>204614.0</td>\n",
       "    </tr>\n",
       "    <tr>\n",
       "      <th>28</th>\n",
       "      <td>Amaroo Environmental Education Centre</td>\n",
       "      <td>203750.0</td>\n",
       "    </tr>\n",
       "    <tr>\n",
       "      <th>29</th>\n",
       "      <td>Spur Labs Pty Ltd</td>\n",
       "      <td>200000.0</td>\n",
       "    </tr>\n",
       "    <tr>\n",
       "      <th>30</th>\n",
       "      <td>NeuTex Pty Ltd</td>\n",
       "      <td>200000.0</td>\n",
       "    </tr>\n",
       "    <tr>\n",
       "      <th>31</th>\n",
       "      <td>The Trustee for the Ride Free Media Trust T/A ...</td>\n",
       "      <td>200000.0</td>\n",
       "    </tr>\n",
       "    <tr>\n",
       "      <th>32</th>\n",
       "      <td>Docto Holdings Pty Ltd</td>\n",
       "      <td>200000.0</td>\n",
       "    </tr>\n",
       "    <tr>\n",
       "      <th>33</th>\n",
       "      <td>Core Resources Pty Ltd</td>\n",
       "      <td>200000.0</td>\n",
       "    </tr>\n",
       "    <tr>\n",
       "      <th>34</th>\n",
       "      <td>Bioherbicide Australia Pty Ltd</td>\n",
       "      <td>200000.0</td>\n",
       "    </tr>\n",
       "    <tr>\n",
       "      <th>35</th>\n",
       "      <td>M3dicine Pty Ltd</td>\n",
       "      <td>200000.0</td>\n",
       "    </tr>\n",
       "    <tr>\n",
       "      <th>36</th>\n",
       "      <td>Kynd Pty Ltd</td>\n",
       "      <td>200000.0</td>\n",
       "    </tr>\n",
       "    <tr>\n",
       "      <th>37</th>\n",
       "      <td>Future Maintenance Technologies Pty Ltd</td>\n",
       "      <td>200000.0</td>\n",
       "    </tr>\n",
       "    <tr>\n",
       "      <th>38</th>\n",
       "      <td>Wildfire Energy Pty Ltd</td>\n",
       "      <td>200000.0</td>\n",
       "    </tr>\n",
       "    <tr>\n",
       "      <th>39</th>\n",
       "      <td>Layer Labs Pty Ltd</td>\n",
       "      <td>200000.0</td>\n",
       "    </tr>\n",
       "    <tr>\n",
       "      <th>40</th>\n",
       "      <td>Watergum Community Inc</td>\n",
       "      <td>200000.0</td>\n",
       "    </tr>\n",
       "    <tr>\n",
       "      <th>41</th>\n",
       "      <td>Vorteil.io Pty Ltd</td>\n",
       "      <td>200000.0</td>\n",
       "    </tr>\n",
       "    <tr>\n",
       "      <th>42</th>\n",
       "      <td>Q L Spacer Blocks Pty Ltd</td>\n",
       "      <td>200000.0</td>\n",
       "    </tr>\n",
       "    <tr>\n",
       "      <th>43</th>\n",
       "      <td>AutoGuru Australia Pty Ltd</td>\n",
       "      <td>200000.0</td>\n",
       "    </tr>\n",
       "    <tr>\n",
       "      <th>44</th>\n",
       "      <td>Talkvia Enterprise Pty Ltd</td>\n",
       "      <td>199999.0</td>\n",
       "    </tr>\n",
       "    <tr>\n",
       "      <th>45</th>\n",
       "      <td>Immersive Robotics Pty Ltd</td>\n",
       "      <td>199739.0</td>\n",
       "    </tr>\n",
       "    <tr>\n",
       "      <th>46</th>\n",
       "      <td>Aurtra Pty Ltd</td>\n",
       "      <td>199456.0</td>\n",
       "    </tr>\n",
       "    <tr>\n",
       "      <th>47</th>\n",
       "      <td>Access Intell Pty Ltd</td>\n",
       "      <td>199357.0</td>\n",
       "    </tr>\n",
       "    <tr>\n",
       "      <th>48</th>\n",
       "      <td>Laronix Pty Ltd</td>\n",
       "      <td>197950.0</td>\n",
       "    </tr>\n",
       "    <tr>\n",
       "      <th>49</th>\n",
       "      <td>Quick Safety Pty Ltd</td>\n",
       "      <td>197000.0</td>\n",
       "    </tr>\n",
       "    <tr>\n",
       "      <th>50</th>\n",
       "      <td>Defendable Technologies Pty Ltd</td>\n",
       "      <td>194900.0</td>\n",
       "    </tr>\n",
       "    <tr>\n",
       "      <th>51</th>\n",
       "      <td>Bundle of Rays Academy Pty Ltd</td>\n",
       "      <td>192700.0</td>\n",
       "    </tr>\n",
       "    <tr>\n",
       "      <th>52</th>\n",
       "      <td>Neo-Rehab Pty Ltd</td>\n",
       "      <td>191750.0</td>\n",
       "    </tr>\n",
       "    <tr>\n",
       "      <th>53</th>\n",
       "      <td>LincRobotics Pty Ltd</td>\n",
       "      <td>185449.0</td>\n",
       "    </tr>\n",
       "    <tr>\n",
       "      <th>54</th>\n",
       "      <td>Noosa Shire Council</td>\n",
       "      <td>185000.0</td>\n",
       "    </tr>\n",
       "    <tr>\n",
       "      <th>55</th>\n",
       "      <td>Swift Performance Pty Ltd</td>\n",
       "      <td>180000.0</td>\n",
       "    </tr>\n",
       "    <tr>\n",
       "      <th>56</th>\n",
       "      <td>Predico Software Pty Ltd</td>\n",
       "      <td>177000.0</td>\n",
       "    </tr>\n",
       "    <tr>\n",
       "      <th>57</th>\n",
       "      <td>SiteSee Pty Ltd</td>\n",
       "      <td>160000.0</td>\n",
       "    </tr>\n",
       "    <tr>\n",
       "      <th>58</th>\n",
       "      <td>Co Spaces Pty Ltd</td>\n",
       "      <td>150000.0</td>\n",
       "    </tr>\n",
       "    <tr>\n",
       "      <th>59</th>\n",
       "      <td>The Queensland XR Hub Pty Ltd</td>\n",
       "      <td>150000.0</td>\n",
       "    </tr>\n",
       "    <tr>\n",
       "      <th>60</th>\n",
       "      <td>Arthritis Relief Plus Limited</td>\n",
       "      <td>150000.0</td>\n",
       "    </tr>\n",
       "    <tr>\n",
       "      <th>61</th>\n",
       "      <td>Sunbirds Aero Pty Ltd</td>\n",
       "      <td>150000.0</td>\n",
       "    </tr>\n",
       "    <tr>\n",
       "      <th>62</th>\n",
       "      <td>Urpla Software Pty Ltd</td>\n",
       "      <td>146250.0</td>\n",
       "    </tr>\n",
       "    <tr>\n",
       "      <th>63</th>\n",
       "      <td>Tandm International Pty Ltd</td>\n",
       "      <td>144500.0</td>\n",
       "    </tr>\n",
       "    <tr>\n",
       "      <th>64</th>\n",
       "      <td>Goheadhunt Pty Ltd</td>\n",
       "      <td>140000.0</td>\n",
       "    </tr>\n",
       "    <tr>\n",
       "      <th>65</th>\n",
       "      <td>Gold Coast Innovation Hub Limited</td>\n",
       "      <td>135500.0</td>\n",
       "    </tr>\n",
       "    <tr>\n",
       "      <th>66</th>\n",
       "      <td>Stripped Supply Pty Ltd</td>\n",
       "      <td>116000.0</td>\n",
       "    </tr>\n",
       "    <tr>\n",
       "      <th>67</th>\n",
       "      <td>Skynet Satellite Communications Pty Ltd</td>\n",
       "      <td>104000.0</td>\n",
       "    </tr>\n",
       "    <tr>\n",
       "      <th>68</th>\n",
       "      <td>Liquid State Pty Ltd</td>\n",
       "      <td>100000.0</td>\n",
       "    </tr>\n",
       "    <tr>\n",
       "      <th>69</th>\n",
       "      <td>Ordo Enterprises Pty Ltd</td>\n",
       "      <td>100000.0</td>\n",
       "    </tr>\n",
       "    <tr>\n",
       "      <th>70</th>\n",
       "      <td>Law On Earth Au Pty Ltd</td>\n",
       "      <td>100000.0</td>\n",
       "    </tr>\n",
       "    <tr>\n",
       "      <th>71</th>\n",
       "      <td>Laird and Pascoe Trading Company Pty Ltd</td>\n",
       "      <td>100000.0</td>\n",
       "    </tr>\n",
       "    <tr>\n",
       "      <th>72</th>\n",
       "      <td>Leakster Operations Pty Ltd</td>\n",
       "      <td>100000.0</td>\n",
       "    </tr>\n",
       "    <tr>\n",
       "      <th>73</th>\n",
       "      <td>LYRO Robotics Pty Ltd</td>\n",
       "      <td>100000.0</td>\n",
       "    </tr>\n",
       "    <tr>\n",
       "      <th>74</th>\n",
       "      <td>Life Sorted Australia Pty Ltd</td>\n",
       "      <td>100000.0</td>\n",
       "    </tr>\n",
       "    <tr>\n",
       "      <th>75</th>\n",
       "      <td>ABM Technologies Australia Pty Ltd</td>\n",
       "      <td>100000.0</td>\n",
       "    </tr>\n",
       "    <tr>\n",
       "      <th>76</th>\n",
       "      <td>MotoDNA Technology Pty Ltd</td>\n",
       "      <td>100000.0</td>\n",
       "    </tr>\n",
       "    <tr>\n",
       "      <th>77</th>\n",
       "      <td>Literacy for Boys Pty Ltd</td>\n",
       "      <td>100000.0</td>\n",
       "    </tr>\n",
       "    <tr>\n",
       "      <th>78</th>\n",
       "      <td>MCT (Australia) Pty Ltd</td>\n",
       "      <td>100000.0</td>\n",
       "    </tr>\n",
       "    <tr>\n",
       "      <th>79</th>\n",
       "      <td>Macrobotix Pty Ltd</td>\n",
       "      <td>100000.0</td>\n",
       "    </tr>\n",
       "    <tr>\n",
       "      <th>80</th>\n",
       "      <td>Norbit Software Pty Ltd</td>\n",
       "      <td>100000.0</td>\n",
       "    </tr>\n",
       "    <tr>\n",
       "      <th>81</th>\n",
       "      <td>Next World Enterprises Pty Ltd</td>\n",
       "      <td>100000.0</td>\n",
       "    </tr>\n",
       "    <tr>\n",
       "      <th>82</th>\n",
       "      <td>Marine Composites Pty Ltd</td>\n",
       "      <td>100000.0</td>\n",
       "    </tr>\n",
       "    <tr>\n",
       "      <th>83</th>\n",
       "      <td>McGregor Diesel Pty Ltd ATF The S &amp; A McGregor...</td>\n",
       "      <td>100000.0</td>\n",
       "    </tr>\n",
       "    <tr>\n",
       "      <th>84</th>\n",
       "      <td>Native Beeings Pty Ltd</td>\n",
       "      <td>100000.0</td>\n",
       "    </tr>\n",
       "    <tr>\n",
       "      <th>85</th>\n",
       "      <td>Mineral Fox Pty Ltd</td>\n",
       "      <td>100000.0</td>\n",
       "    </tr>\n",
       "    <tr>\n",
       "      <th>86</th>\n",
       "      <td>National Plastics &amp; Rubber Pty Ltd</td>\n",
       "      <td>100000.0</td>\n",
       "    </tr>\n",
       "    <tr>\n",
       "      <th>87</th>\n",
       "      <td>OreFox Pty Ltd</td>\n",
       "      <td>100000.0</td>\n",
       "    </tr>\n",
       "    <tr>\n",
       "      <th>88</th>\n",
       "      <td>SensaWeb Pty Ltd</td>\n",
       "      <td>100000.0</td>\n",
       "    </tr>\n",
       "    <tr>\n",
       "      <th>89</th>\n",
       "      <td>Padmore City Pty Ltd</td>\n",
       "      <td>100000.0</td>\n",
       "    </tr>\n",
       "    <tr>\n",
       "      <th>90</th>\n",
       "      <td>Parasym</td>\n",
       "      <td>100000.0</td>\n",
       "    </tr>\n",
       "    <tr>\n",
       "      <th>91</th>\n",
       "      <td>TeleMARS Pty Ltd</td>\n",
       "      <td>100000.0</td>\n",
       "    </tr>\n",
       "    <tr>\n",
       "      <th>92</th>\n",
       "      <td>The Smarter Towing Company Pty Ltd</td>\n",
       "      <td>100000.0</td>\n",
       "    </tr>\n",
       "    <tr>\n",
       "      <th>93</th>\n",
       "      <td>The Split Australia Pty Ltd</td>\n",
       "      <td>100000.0</td>\n",
       "    </tr>\n",
       "    <tr>\n",
       "      <th>94</th>\n",
       "      <td>Thermal Armour Pty Ltd</td>\n",
       "      <td>100000.0</td>\n",
       "    </tr>\n",
       "    <tr>\n",
       "      <th>95</th>\n",
       "      <td>TravelbyBit Pty Ltd</td>\n",
       "      <td>100000.0</td>\n",
       "    </tr>\n",
       "    <tr>\n",
       "      <th>96</th>\n",
       "      <td>Travello Pty Ltd</td>\n",
       "      <td>100000.0</td>\n",
       "    </tr>\n",
       "    <tr>\n",
       "      <th>97</th>\n",
       "      <td>Turntohealth Pty Ltd</td>\n",
       "      <td>100000.0</td>\n",
       "    </tr>\n",
       "    <tr>\n",
       "      <th>98</th>\n",
       "      <td>Unified Ar System Pty Ltd</td>\n",
       "      <td>100000.0</td>\n",
       "    </tr>\n",
       "    <tr>\n",
       "      <th>99</th>\n",
       "      <td>University of Queensland</td>\n",
       "      <td>100000.0</td>\n",
       "    </tr>\n",
       "    <tr>\n",
       "      <th>100</th>\n",
       "      <td>Veterinarians for Climate Action Ltd</td>\n",
       "      <td>100000.0</td>\n",
       "    </tr>\n",
       "    <tr>\n",
       "      <th>101</th>\n",
       "      <td>Voltin Operations Pty Ltd</td>\n",
       "      <td>100000.0</td>\n",
       "    </tr>\n",
       "    <tr>\n",
       "      <th>102</th>\n",
       "      <td>WeKo Pty Ltd</td>\n",
       "      <td>100000.0</td>\n",
       "    </tr>\n",
       "    <tr>\n",
       "      <th>103</th>\n",
       "      <td>Welio Pty Ltd</td>\n",
       "      <td>100000.0</td>\n",
       "    </tr>\n",
       "    <tr>\n",
       "      <th>104</th>\n",
       "      <td>WorkGuru Pty Ltd</td>\n",
       "      <td>100000.0</td>\n",
       "    </tr>\n",
       "    <tr>\n",
       "      <th>105</th>\n",
       "      <td>World's Biggest Garage Sale Pty Ltd</td>\n",
       "      <td>100000.0</td>\n",
       "    </tr>\n",
       "    <tr>\n",
       "      <th>106</th>\n",
       "      <td>Wrappt Pty Ltd</td>\n",
       "      <td>100000.0</td>\n",
       "    </tr>\n",
       "    <tr>\n",
       "      <th>107</th>\n",
       "      <td>Yodel Digital Pty Ltd</td>\n",
       "      <td>100000.0</td>\n",
       "    </tr>\n",
       "    <tr>\n",
       "      <th>108</th>\n",
       "      <td>TakeMeTour</td>\n",
       "      <td>100000.0</td>\n",
       "    </tr>\n",
       "    <tr>\n",
       "      <th>109</th>\n",
       "      <td>Studio Enterprises Pty Ltd ATF KMA Discretiona...</td>\n",
       "      <td>100000.0</td>\n",
       "    </tr>\n",
       "    <tr>\n",
       "      <th>110</th>\n",
       "      <td>Sportech Industries Pty Ltd</td>\n",
       "      <td>100000.0</td>\n",
       "    </tr>\n",
       "    <tr>\n",
       "      <th>111</th>\n",
       "      <td>S4S Trading Pty Ltd</td>\n",
       "      <td>100000.0</td>\n",
       "    </tr>\n",
       "    <tr>\n",
       "      <th>112</th>\n",
       "      <td>Physiotherapy Innovations Pty Ltd</td>\n",
       "      <td>100000.0</td>\n",
       "    </tr>\n",
       "    <tr>\n",
       "      <th>113</th>\n",
       "      <td>Plasvacc Pty Ltd</td>\n",
       "      <td>100000.0</td>\n",
       "    </tr>\n",
       "    <tr>\n",
       "      <th>114</th>\n",
       "      <td>Puctto Pty Ltd</td>\n",
       "      <td>100000.0</td>\n",
       "    </tr>\n",
       "    <tr>\n",
       "      <th>115</th>\n",
       "      <td>Pwron Pty Ltd</td>\n",
       "      <td>100000.0</td>\n",
       "    </tr>\n",
       "    <tr>\n",
       "      <th>116</th>\n",
       "      <td>RJC Community Pty Ltd</td>\n",
       "      <td>100000.0</td>\n",
       "    </tr>\n",
       "    <tr>\n",
       "      <th>117</th>\n",
       "      <td>RapidAIM Pty Ltd</td>\n",
       "      <td>100000.0</td>\n",
       "    </tr>\n",
       "    <tr>\n",
       "      <th>118</th>\n",
       "      <td>Reforest Australia Pty Ltd</td>\n",
       "      <td>100000.0</td>\n",
       "    </tr>\n",
       "    <tr>\n",
       "      <th>119</th>\n",
       "      <td>SNAPI Pty Ltd</td>\n",
       "      <td>100000.0</td>\n",
       "    </tr>\n",
       "    <tr>\n",
       "      <th>120</th>\n",
       "      <td>Solar Bins Australia Pty Ltd</td>\n",
       "      <td>100000.0</td>\n",
       "    </tr>\n",
       "    <tr>\n",
       "      <th>121</th>\n",
       "      <td>Scapequest Pty Ltd</td>\n",
       "      <td>100000.0</td>\n",
       "    </tr>\n",
       "    <tr>\n",
       "      <th>122</th>\n",
       "      <td>Scott Airway Management Pty Ltd</td>\n",
       "      <td>100000.0</td>\n",
       "    </tr>\n",
       "    <tr>\n",
       "      <th>123</th>\n",
       "      <td>Kitsunei Pty Ltd</td>\n",
       "      <td>100000.0</td>\n",
       "    </tr>\n",
       "    <tr>\n",
       "      <th>124</th>\n",
       "      <td>Simpori Pty Ltd</td>\n",
       "      <td>100000.0</td>\n",
       "    </tr>\n",
       "    <tr>\n",
       "      <th>125</th>\n",
       "      <td>Simulation Training Group Pty Ltd</td>\n",
       "      <td>100000.0</td>\n",
       "    </tr>\n",
       "    <tr>\n",
       "      <th>126</th>\n",
       "      <td>Smart AI Connect Pty Ltd</td>\n",
       "      <td>100000.0</td>\n",
       "    </tr>\n",
       "    <tr>\n",
       "      <th>127</th>\n",
       "      <td>Sobah Beverages Pty Ltd</td>\n",
       "      <td>100000.0</td>\n",
       "    </tr>\n",
       "    <tr>\n",
       "      <th>128</th>\n",
       "      <td>Kova Australia Pty Ltd</td>\n",
       "      <td>100000.0</td>\n",
       "    </tr>\n",
       "    <tr>\n",
       "      <th>129</th>\n",
       "      <td>(UI!) The Urban Institute Pty Ltd</td>\n",
       "      <td>100000.0</td>\n",
       "    </tr>\n",
       "    <tr>\n",
       "      <th>130</th>\n",
       "      <td>Jolita Pty Ltd</td>\n",
       "      <td>100000.0</td>\n",
       "    </tr>\n",
       "    <tr>\n",
       "      <th>131</th>\n",
       "      <td>Genics Pty Ltd</td>\n",
       "      <td>100000.0</td>\n",
       "    </tr>\n",
       "    <tr>\n",
       "      <th>132</th>\n",
       "      <td>Cogniom Pty Ltd</td>\n",
       "      <td>100000.0</td>\n",
       "    </tr>\n",
       "    <tr>\n",
       "      <th>133</th>\n",
       "      <td>Cubiko Pty Ltd</td>\n",
       "      <td>100000.0</td>\n",
       "    </tr>\n",
       "    <tr>\n",
       "      <th>134</th>\n",
       "      <td>CyberMetrix Pty Ltd</td>\n",
       "      <td>100000.0</td>\n",
       "    </tr>\n",
       "    <tr>\n",
       "      <th>135</th>\n",
       "      <td>Data Farming Pty Ltd</td>\n",
       "      <td>100000.0</td>\n",
       "    </tr>\n",
       "    <tr>\n",
       "      <th>136</th>\n",
       "      <td>Digital Technologies Institute Pty Ltd</td>\n",
       "      <td>100000.0</td>\n",
       "    </tr>\n",
       "    <tr>\n",
       "      <th>137</th>\n",
       "      <td>DocSols Pty Ltd</td>\n",
       "      <td>100000.0</td>\n",
       "    </tr>\n",
       "    <tr>\n",
       "      <th>138</th>\n",
       "      <td>Docketbook Pty Ltd</td>\n",
       "      <td>100000.0</td>\n",
       "    </tr>\n",
       "    <tr>\n",
       "      <th>139</th>\n",
       "      <td>DoseMe Pty Ltd</td>\n",
       "      <td>100000.0</td>\n",
       "    </tr>\n",
       "    <tr>\n",
       "      <th>140</th>\n",
       "      <td>Earthoffset Pty Ltd</td>\n",
       "      <td>100000.0</td>\n",
       "    </tr>\n",
       "    <tr>\n",
       "      <th>141</th>\n",
       "      <td>Emerging Healthcare Operations Pty Ltd</td>\n",
       "      <td>100000.0</td>\n",
       "    </tr>\n",
       "    <tr>\n",
       "      <th>142</th>\n",
       "      <td>Explorate Pty Ltd</td>\n",
       "      <td>100000.0</td>\n",
       "    </tr>\n",
       "    <tr>\n",
       "      <th>143</th>\n",
       "      <td>ExtrasJar Pty Ltd</td>\n",
       "      <td>100000.0</td>\n",
       "    </tr>\n",
       "    <tr>\n",
       "      <th>144</th>\n",
       "      <td>Fabrikcnc Pty Ltd</td>\n",
       "      <td>100000.0</td>\n",
       "    </tr>\n",
       "    <tr>\n",
       "      <th>145</th>\n",
       "      <td>Field QL Pty Ltd</td>\n",
       "      <td>100000.0</td>\n",
       "    </tr>\n",
       "    <tr>\n",
       "      <th>146</th>\n",
       "      <td>Fiffy Solutions Pty Ltd</td>\n",
       "      <td>100000.0</td>\n",
       "    </tr>\n",
       "    <tr>\n",
       "      <th>147</th>\n",
       "      <td>Flametree Technologies Pty Ltd</td>\n",
       "      <td>100000.0</td>\n",
       "    </tr>\n",
       "    <tr>\n",
       "      <th>148</th>\n",
       "      <td>Future Biosolutions Pty Ltd</td>\n",
       "      <td>100000.0</td>\n",
       "    </tr>\n",
       "    <tr>\n",
       "      <th>149</th>\n",
       "      <td>Codestream Solutions Pty Ltd</td>\n",
       "      <td>100000.0</td>\n",
       "    </tr>\n",
       "    <tr>\n",
       "      <th>150</th>\n",
       "      <td>Chromoxyion Pty Ltd</td>\n",
       "      <td>100000.0</td>\n",
       "    </tr>\n",
       "    <tr>\n",
       "      <th>151</th>\n",
       "      <td>Charlton Innovation Pty Ltd</td>\n",
       "      <td>100000.0</td>\n",
       "    </tr>\n",
       "    <tr>\n",
       "      <th>152</th>\n",
       "      <td>Australian Sports Technologies Network Ltd</td>\n",
       "      <td>100000.0</td>\n",
       "    </tr>\n",
       "    <tr>\n",
       "      <th>153</th>\n",
       "      <td>Advanced Robotics For Manufacturing Hub Ltd</td>\n",
       "      <td>100000.0</td>\n",
       "    </tr>\n",
       "    <tr>\n",
       "      <th>154</th>\n",
       "      <td>Advvy Pty Ltd</td>\n",
       "      <td>100000.0</td>\n",
       "    </tr>\n",
       "    <tr>\n",
       "      <th>155</th>\n",
       "      <td>Aeromech Pty Ltd</td>\n",
       "      <td>100000.0</td>\n",
       "    </tr>\n",
       "    <tr>\n",
       "      <th>156</th>\n",
       "      <td>Anti Ordinary Pty Ltd</td>\n",
       "      <td>100000.0</td>\n",
       "    </tr>\n",
       "    <tr>\n",
       "      <th>157</th>\n",
       "      <td>Askable Pty Ltd</td>\n",
       "      <td>100000.0</td>\n",
       "    </tr>\n",
       "    <tr>\n",
       "      <th>158</th>\n",
       "      <td>AssetAccountant Pty Ltd</td>\n",
       "      <td>100000.0</td>\n",
       "    </tr>\n",
       "    <tr>\n",
       "      <th>159</th>\n",
       "      <td>Australian Computer Society Incorporated</td>\n",
       "      <td>100000.0</td>\n",
       "    </tr>\n",
       "    <tr>\n",
       "      <th>160</th>\n",
       "      <td>BeneTerra Pty Ltd</td>\n",
       "      <td>100000.0</td>\n",
       "    </tr>\n",
       "    <tr>\n",
       "      <th>161</th>\n",
       "      <td>Cardly Pty Ltd</td>\n",
       "      <td>100000.0</td>\n",
       "    </tr>\n",
       "    <tr>\n",
       "      <th>162</th>\n",
       "      <td>BidCrete Pty Ltd</td>\n",
       "      <td>100000.0</td>\n",
       "    </tr>\n",
       "    <tr>\n",
       "      <th>163</th>\n",
       "      <td>BioHerbicides Australia Pty Ltd</td>\n",
       "      <td>100000.0</td>\n",
       "    </tr>\n",
       "    <tr>\n",
       "      <th>164</th>\n",
       "      <td>Brancher Pty Ltd</td>\n",
       "      <td>100000.0</td>\n",
       "    </tr>\n",
       "    <tr>\n",
       "      <th>165</th>\n",
       "      <td>Buderim Bucket Company Pty Ltd</td>\n",
       "      <td>100000.0</td>\n",
       "    </tr>\n",
       "    <tr>\n",
       "      <th>166</th>\n",
       "      <td>CHATSTAT Pty Ltd</td>\n",
       "      <td>100000.0</td>\n",
       "    </tr>\n",
       "    <tr>\n",
       "      <th>167</th>\n",
       "      <td>Cake Equity Pty Ltd</td>\n",
       "      <td>100000.0</td>\n",
       "    </tr>\n",
       "    <tr>\n",
       "      <th>168</th>\n",
       "      <td>Calvett Co Pty Ltd</td>\n",
       "      <td>100000.0</td>\n",
       "    </tr>\n",
       "    <tr>\n",
       "      <th>169</th>\n",
       "      <td>GB Operations Pty Ltd</td>\n",
       "      <td>100000.0</td>\n",
       "    </tr>\n",
       "    <tr>\n",
       "      <th>170</th>\n",
       "      <td>De Motu Cordis Pty Ltd</td>\n",
       "      <td>100000.0</td>\n",
       "    </tr>\n",
       "    <tr>\n",
       "      <th>171</th>\n",
       "      <td>Herobe IP Pty Ltd</td>\n",
       "      <td>100000.0</td>\n",
       "    </tr>\n",
       "    <tr>\n",
       "      <th>172</th>\n",
       "      <td>IISolutions Pty Ltd</td>\n",
       "      <td>100000.0</td>\n",
       "    </tr>\n",
       "    <tr>\n",
       "      <th>173</th>\n",
       "      <td>Hema Tilt Pty Ltd</td>\n",
       "      <td>100000.0</td>\n",
       "    </tr>\n",
       "    <tr>\n",
       "      <th>174</th>\n",
       "      <td>Helitak Fire Fighting Equipment Pty Ltd</td>\n",
       "      <td>100000.0</td>\n",
       "    </tr>\n",
       "    <tr>\n",
       "      <th>175</th>\n",
       "      <td>Inndox Pty Ltd</td>\n",
       "      <td>100000.0</td>\n",
       "    </tr>\n",
       "    <tr>\n",
       "      <th>176</th>\n",
       "      <td>Hero Software Pty Ltd</td>\n",
       "      <td>100000.0</td>\n",
       "    </tr>\n",
       "    <tr>\n",
       "      <th>177</th>\n",
       "      <td>Investment Markets Holdings Pty Ltd</td>\n",
       "      <td>100000.0</td>\n",
       "    </tr>\n",
       "    <tr>\n",
       "      <th>178</th>\n",
       "      <td>IDU Technologies Pty Ltd</td>\n",
       "      <td>100000.0</td>\n",
       "    </tr>\n",
       "    <tr>\n",
       "      <th>179</th>\n",
       "      <td>Haystack Australia Pty Ltd</td>\n",
       "      <td>100000.0</td>\n",
       "    </tr>\n",
       "    <tr>\n",
       "      <th>180</th>\n",
       "      <td>Handle My Complaint Pty Ltd</td>\n",
       "      <td>100000.0</td>\n",
       "    </tr>\n",
       "    <tr>\n",
       "      <th>181</th>\n",
       "      <td>Islex Australia Pty Ltd</td>\n",
       "      <td>100000.0</td>\n",
       "    </tr>\n",
       "    <tr>\n",
       "      <th>182</th>\n",
       "      <td>Huds and Toke Pty Ltd</td>\n",
       "      <td>100000.0</td>\n",
       "    </tr>\n",
       "    <tr>\n",
       "      <th>183</th>\n",
       "      <td>HotelFlex Pty Ltd</td>\n",
       "      <td>100000.0</td>\n",
       "    </tr>\n",
       "    <tr>\n",
       "      <th>184</th>\n",
       "      <td>Hoops Crm Pty Ltd</td>\n",
       "      <td>100000.0</td>\n",
       "    </tr>\n",
       "    <tr>\n",
       "      <th>185</th>\n",
       "      <td>Holospace Pty Ltd</td>\n",
       "      <td>100000.0</td>\n",
       "    </tr>\n",
       "    <tr>\n",
       "      <th>186</th>\n",
       "      <td>Jetson Industries Pty Ltd</td>\n",
       "      <td>100000.0</td>\n",
       "    </tr>\n",
       "    <tr>\n",
       "      <th>187</th>\n",
       "      <td>Global Road Technology Holdings Pty Ltd</td>\n",
       "      <td>100000.0</td>\n",
       "    </tr>\n",
       "    <tr>\n",
       "      <th>188</th>\n",
       "      <td>Ikara Group Pty Ltd</td>\n",
       "      <td>100000.0</td>\n",
       "    </tr>\n",
       "    <tr>\n",
       "      <th>189</th>\n",
       "      <td>Clover Hill Logistics Pty Ltd</td>\n",
       "      <td>99999.0</td>\n",
       "    </tr>\n",
       "    <tr>\n",
       "      <th>190</th>\n",
       "      <td>SendFX Limited</td>\n",
       "      <td>99999.0</td>\n",
       "    </tr>\n",
       "    <tr>\n",
       "      <th>191</th>\n",
       "      <td>Geobotica Pty Ltd</td>\n",
       "      <td>99996.0</td>\n",
       "    </tr>\n",
       "    <tr>\n",
       "      <th>192</th>\n",
       "      <td>Vygo Pty Ltd</td>\n",
       "      <td>99930.0</td>\n",
       "    </tr>\n",
       "    <tr>\n",
       "      <th>193</th>\n",
       "      <td>Australian Kunzea Pty Ltd</td>\n",
       "      <td>99928.0</td>\n",
       "    </tr>\n",
       "    <tr>\n",
       "      <th>194</th>\n",
       "      <td>Klik Sinkers Pty Ltd</td>\n",
       "      <td>99663.0</td>\n",
       "    </tr>\n",
       "    <tr>\n",
       "      <th>195</th>\n",
       "      <td>Amtac Professional Services Pty Ltd</td>\n",
       "      <td>99603.0</td>\n",
       "    </tr>\n",
       "    <tr>\n",
       "      <th>196</th>\n",
       "      <td>NetHealth Pty Ltd</td>\n",
       "      <td>99500.0</td>\n",
       "    </tr>\n",
       "    <tr>\n",
       "      <th>197</th>\n",
       "      <td>Synengco Pty Ltd</td>\n",
       "      <td>99485.0</td>\n",
       "    </tr>\n",
       "    <tr>\n",
       "      <th>198</th>\n",
       "      <td>The Trustee for Poynter Family Trust</td>\n",
       "      <td>98864.0</td>\n",
       "    </tr>\n",
       "    <tr>\n",
       "      <th>199</th>\n",
       "      <td>Gelomics Pty Ltd</td>\n",
       "      <td>98600.0</td>\n",
       "    </tr>\n",
       "    <tr>\n",
       "      <th>200</th>\n",
       "      <td>Mibowork Pty Ltd</td>\n",
       "      <td>98600.0</td>\n",
       "    </tr>\n",
       "    <tr>\n",
       "      <th>201</th>\n",
       "      <td>Stackle Pty Ltd</td>\n",
       "      <td>98500.0</td>\n",
       "    </tr>\n",
       "    <tr>\n",
       "      <th>202</th>\n",
       "      <td>Embrayse Pty Ltd</td>\n",
       "      <td>97000.0</td>\n",
       "    </tr>\n",
       "    <tr>\n",
       "      <th>203</th>\n",
       "      <td>Sensavation Pty Ltd</td>\n",
       "      <td>96700.0</td>\n",
       "    </tr>\n",
       "    <tr>\n",
       "      <th>204</th>\n",
       "      <td>Din Dins Club Australia Pty Ltd</td>\n",
       "      <td>96644.0</td>\n",
       "    </tr>\n",
       "    <tr>\n",
       "      <th>205</th>\n",
       "      <td>Fetched Trading Pty Ltd</td>\n",
       "      <td>96630.0</td>\n",
       "    </tr>\n",
       "    <tr>\n",
       "      <th>206</th>\n",
       "      <td>Startup Onramp Pty Ltd</td>\n",
       "      <td>96550.0</td>\n",
       "    </tr>\n",
       "    <tr>\n",
       "      <th>207</th>\n",
       "      <td>Scrunch Enterprises Pty Ltd</td>\n",
       "      <td>95409.0</td>\n",
       "    </tr>\n",
       "    <tr>\n",
       "      <th>208</th>\n",
       "      <td>RR Tek Pty Ltd</td>\n",
       "      <td>95000.0</td>\n",
       "    </tr>\n",
       "    <tr>\n",
       "      <th>209</th>\n",
       "      <td>Buildstack Pty Ltd</td>\n",
       "      <td>94000.0</td>\n",
       "    </tr>\n",
       "    <tr>\n",
       "      <th>210</th>\n",
       "      <td>WDU Enterprises Pty Ltd</td>\n",
       "      <td>92940.0</td>\n",
       "    </tr>\n",
       "    <tr>\n",
       "      <th>211</th>\n",
       "      <td>PEMDx Pty Ltd</td>\n",
       "      <td>92270.0</td>\n",
       "    </tr>\n",
       "    <tr>\n",
       "      <th>212</th>\n",
       "      <td>Cluster Biotechnology Pty Ltd</td>\n",
       "      <td>90878.0</td>\n",
       "    </tr>\n",
       "    <tr>\n",
       "      <th>213</th>\n",
       "      <td>Heartbeat Enterprises Pty Ltd</td>\n",
       "      <td>90000.0</td>\n",
       "    </tr>\n",
       "    <tr>\n",
       "      <th>214</th>\n",
       "      <td>Cyborg Dynamics Engineering Pty Ltd</td>\n",
       "      <td>90000.0</td>\n",
       "    </tr>\n",
       "    <tr>\n",
       "      <th>215</th>\n",
       "      <td>Yodal Pty Ltd</td>\n",
       "      <td>90000.0</td>\n",
       "    </tr>\n",
       "    <tr>\n",
       "      <th>216</th>\n",
       "      <td>Impact Boom Pty Ltd</td>\n",
       "      <td>87590.0</td>\n",
       "    </tr>\n",
       "    <tr>\n",
       "      <th>217</th>\n",
       "      <td>The University of Queensland - Rural Clinical ...</td>\n",
       "      <td>86952.0</td>\n",
       "    </tr>\n",
       "    <tr>\n",
       "      <th>218</th>\n",
       "      <td>Annuo Medical Technology Solutions Pty Ltd</td>\n",
       "      <td>86666.0</td>\n",
       "    </tr>\n",
       "    <tr>\n",
       "      <th>219</th>\n",
       "      <td>Visional Technologies Pty Ltd</td>\n",
       "      <td>85408.0</td>\n",
       "    </tr>\n",
       "    <tr>\n",
       "      <th>220</th>\n",
       "      <td>Aginic Business Intelligence Pty Ltd</td>\n",
       "      <td>81500.0</td>\n",
       "    </tr>\n",
       "    <tr>\n",
       "      <th>221</th>\n",
       "      <td>Bankedge Pty Ltd</td>\n",
       "      <td>80000.0</td>\n",
       "    </tr>\n",
       "    <tr>\n",
       "      <th>222</th>\n",
       "      <td>Spacecubed Ventures Pty Ltd</td>\n",
       "      <td>80000.0</td>\n",
       "    </tr>\n",
       "    <tr>\n",
       "      <th>223</th>\n",
       "      <td>CodeMakers Australia Pty Ltd</td>\n",
       "      <td>80000.0</td>\n",
       "    </tr>\n",
       "    <tr>\n",
       "      <th>224</th>\n",
       "      <td>Math Mate Pty Ltd</td>\n",
       "      <td>79313.0</td>\n",
       "    </tr>\n",
       "    <tr>\n",
       "      <th>225</th>\n",
       "      <td>InnovaReviews Pty Ltd</td>\n",
       "      <td>79070.0</td>\n",
       "    </tr>\n",
       "    <tr>\n",
       "      <th>226</th>\n",
       "      <td>Actualisation Group Pty Ltd</td>\n",
       "      <td>78870.0</td>\n",
       "    </tr>\n",
       "    <tr>\n",
       "      <th>227</th>\n",
       "      <td>Spatial Innovation Pty Ltd</td>\n",
       "      <td>78000.0</td>\n",
       "    </tr>\n",
       "    <tr>\n",
       "      <th>228</th>\n",
       "      <td>Advisory Board Centre Pty Ltd</td>\n",
       "      <td>76500.0</td>\n",
       "    </tr>\n",
       "    <tr>\n",
       "      <th>229</th>\n",
       "      <td>Canvas Coworking Inc</td>\n",
       "      <td>75000.0</td>\n",
       "    </tr>\n",
       "    <tr>\n",
       "      <th>230</th>\n",
       "      <td>RESILIENCE DESIGN &amp; BUILD PTY LTD</td>\n",
       "      <td>75000.0</td>\n",
       "    </tr>\n",
       "    <tr>\n",
       "      <th>231</th>\n",
       "      <td>Repurpose Recycling Pty Ltd</td>\n",
       "      <td>75000.0</td>\n",
       "    </tr>\n",
       "    <tr>\n",
       "      <th>232</th>\n",
       "      <td>Sunshine Coast Regional Council</td>\n",
       "      <td>75000.0</td>\n",
       "    </tr>\n",
       "    <tr>\n",
       "      <th>233</th>\n",
       "      <td>theSPACE Australasia Pty Ltd</td>\n",
       "      <td>75000.0</td>\n",
       "    </tr>\n",
       "    <tr>\n",
       "      <th>234</th>\n",
       "      <td>Ipswich City Council</td>\n",
       "      <td>75000.0</td>\n",
       "    </tr>\n",
       "    <tr>\n",
       "      <th>235</th>\n",
       "      <td>Valiant Space Pty Ltd</td>\n",
       "      <td>75000.0</td>\n",
       "    </tr>\n",
       "    <tr>\n",
       "      <th>236</th>\n",
       "      <td>Eco Wave Power Australia Pty Ltd</td>\n",
       "      <td>75000.0</td>\n",
       "    </tr>\n",
       "    <tr>\n",
       "      <th>237</th>\n",
       "      <td>Pathmaster Pty Ltd</td>\n",
       "      <td>75000.0</td>\n",
       "    </tr>\n",
       "    <tr>\n",
       "      <th>238</th>\n",
       "      <td>Kuaifit Pty Ltd</td>\n",
       "      <td>75000.0</td>\n",
       "    </tr>\n",
       "    <tr>\n",
       "      <th>239</th>\n",
       "      <td>D3 GENETICS PTY LTD</td>\n",
       "      <td>75000.0</td>\n",
       "    </tr>\n",
       "    <tr>\n",
       "      <th>240</th>\n",
       "      <td>integratedPRIVATE Pty Ltd</td>\n",
       "      <td>75000.0</td>\n",
       "    </tr>\n",
       "    <tr>\n",
       "      <th>241</th>\n",
       "      <td>Innovation Bay Pty Ltd</td>\n",
       "      <td>70000.0</td>\n",
       "    </tr>\n",
       "    <tr>\n",
       "      <th>242</th>\n",
       "      <td>MEMTECH Corporate Pty Ltd</td>\n",
       "      <td>62500.0</td>\n",
       "    </tr>\n",
       "    <tr>\n",
       "      <th>243</th>\n",
       "      <td>My Virtual Freight Forwarder Pty Ltd</td>\n",
       "      <td>57623.0</td>\n",
       "    </tr>\n",
       "    <tr>\n",
       "      <th>244</th>\n",
       "      <td>Toowoomba and Surat Basin Enterprise Pty Ltd</td>\n",
       "      <td>52668.0</td>\n",
       "    </tr>\n",
       "    <tr>\n",
       "      <th>245</th>\n",
       "      <td>Logan Startup Hub</td>\n",
       "      <td>51824.0</td>\n",
       "    </tr>\n",
       "    <tr>\n",
       "      <th>246</th>\n",
       "      <td>Nu Flow Technologies 2000 Pty Ltd</td>\n",
       "      <td>50000.0</td>\n",
       "    </tr>\n",
       "    <tr>\n",
       "      <th>247</th>\n",
       "      <td>Bloom Impact Investing Pty Ltd</td>\n",
       "      <td>50000.0</td>\n",
       "    </tr>\n",
       "    <tr>\n",
       "      <th>248</th>\n",
       "      <td>Serene Medical Research Pty Ltd</td>\n",
       "      <td>50000.0</td>\n",
       "    </tr>\n",
       "    <tr>\n",
       "      <th>249</th>\n",
       "      <td>Sonder Place Pty Ltd</td>\n",
       "      <td>50000.0</td>\n",
       "    </tr>\n",
       "    <tr>\n",
       "      <th>250</th>\n",
       "      <td>NoiseNet Operations Pty Ltd</td>\n",
       "      <td>50000.0</td>\n",
       "    </tr>\n",
       "    <tr>\n",
       "      <th>251</th>\n",
       "      <td>Ahangari Enterprises Pty Ltd</td>\n",
       "      <td>48550.0</td>\n",
       "    </tr>\n",
       "    <tr>\n",
       "      <th>252</th>\n",
       "      <td>Mediasphere Holdings Pty Ltd</td>\n",
       "      <td>45200.0</td>\n",
       "    </tr>\n",
       "    <tr>\n",
       "      <th>253</th>\n",
       "      <td>Elemental Instruments Pty Ltd</td>\n",
       "      <td>45000.0</td>\n",
       "    </tr>\n",
       "    <tr>\n",
       "      <th>254</th>\n",
       "      <td>The Powerhouse Hub Ltd</td>\n",
       "      <td>43750.0</td>\n",
       "    </tr>\n",
       "    <tr>\n",
       "      <th>255</th>\n",
       "      <td>Klyp Australia Pty Ltd</td>\n",
       "      <td>41250.0</td>\n",
       "    </tr>\n",
       "    <tr>\n",
       "      <th>256</th>\n",
       "      <td>Spark Bureau Limited</td>\n",
       "      <td>40290.0</td>\n",
       "    </tr>\n",
       "    <tr>\n",
       "      <th>257</th>\n",
       "      <td>Mater Education Ltd</td>\n",
       "      <td>40000.0</td>\n",
       "    </tr>\n",
       "    <tr>\n",
       "      <th>258</th>\n",
       "      <td>Boeing Defence Australia Ltd</td>\n",
       "      <td>39600.0</td>\n",
       "    </tr>\n",
       "    <tr>\n",
       "      <th>259</th>\n",
       "      <td>Gow Services Pty Ltd</td>\n",
       "      <td>30505.0</td>\n",
       "    </tr>\n",
       "    <tr>\n",
       "      <th>260</th>\n",
       "      <td>Napalao Pty Ltd ATF Moore Family Trust T/A Nec...</td>\n",
       "      <td>30000.0</td>\n",
       "    </tr>\n",
       "    <tr>\n",
       "      <th>261</th>\n",
       "      <td>Co Hort Space Pty Ltd</td>\n",
       "      <td>30000.0</td>\n",
       "    </tr>\n",
       "    <tr>\n",
       "      <th>262</th>\n",
       "      <td>Roma Commerce and Tourism Inc</td>\n",
       "      <td>30000.0</td>\n",
       "    </tr>\n",
       "    <tr>\n",
       "      <th>263</th>\n",
       "      <td>SBE Australia Limited</td>\n",
       "      <td>30000.0</td>\n",
       "    </tr>\n",
       "    <tr>\n",
       "      <th>264</th>\n",
       "      <td>Regional Development Australia Ipswich and Wes...</td>\n",
       "      <td>30000.0</td>\n",
       "    </tr>\n",
       "    <tr>\n",
       "      <th>265</th>\n",
       "      <td>Discover Farming Inc</td>\n",
       "      <td>30000.0</td>\n",
       "    </tr>\n",
       "    <tr>\n",
       "      <th>266</th>\n",
       "      <td>Logan City Council</td>\n",
       "      <td>30000.0</td>\n",
       "    </tr>\n",
       "    <tr>\n",
       "      <th>267</th>\n",
       "      <td>Brio Group Pty Ltd</td>\n",
       "      <td>23397.0</td>\n",
       "    </tr>\n",
       "    <tr>\n",
       "      <th>268</th>\n",
       "      <td>Silicon Coast Limited</td>\n",
       "      <td>22750.0</td>\n",
       "    </tr>\n",
       "    <tr>\n",
       "      <th>269</th>\n",
       "      <td>Fishburners Limited</td>\n",
       "      <td>22000.0</td>\n",
       "    </tr>\n",
       "    <tr>\n",
       "      <th>270</th>\n",
       "      <td>Innovation Centre Sunshine Coast Pty Ltd</td>\n",
       "      <td>21347.0</td>\n",
       "    </tr>\n",
       "    <tr>\n",
       "      <th>271</th>\n",
       "      <td>BMT WBM Pty Ltd</td>\n",
       "      <td>20833.0</td>\n",
       "    </tr>\n",
       "    <tr>\n",
       "      <th>272</th>\n",
       "      <td>Sandra Lorrel Bungaree King</td>\n",
       "      <td>20000.0</td>\n",
       "    </tr>\n",
       "    <tr>\n",
       "      <th>273</th>\n",
       "      <td>Wavebreak International Limited</td>\n",
       "      <td>20000.0</td>\n",
       "    </tr>\n",
       "    <tr>\n",
       "      <th>274</th>\n",
       "      <td>Suncoast Angels Pty Ltd</td>\n",
       "      <td>20000.0</td>\n",
       "    </tr>\n",
       "    <tr>\n",
       "      <th>275</th>\n",
       "      <td>Moreton Ventures Pty Ltd</td>\n",
       "      <td>19900.0</td>\n",
       "    </tr>\n",
       "    <tr>\n",
       "      <th>276</th>\n",
       "      <td>Startup Status Ltd</td>\n",
       "      <td>17399.0</td>\n",
       "    </tr>\n",
       "    <tr>\n",
       "      <th>277</th>\n",
       "      <td>River City Labs Pty Ltd</td>\n",
       "      <td>16000.0</td>\n",
       "    </tr>\n",
       "    <tr>\n",
       "      <th>278</th>\n",
       "      <td>Bright Humans Pty Ltd</td>\n",
       "      <td>15000.0</td>\n",
       "    </tr>\n",
       "    <tr>\n",
       "      <th>279</th>\n",
       "      <td>Gold Coast City Council</td>\n",
       "      <td>13370.0</td>\n",
       "    </tr>\n",
       "    <tr>\n",
       "      <th>280</th>\n",
       "      <td>Blockchain Australia Ltd</td>\n",
       "      <td>13364.0</td>\n",
       "    </tr>\n",
       "    <tr>\n",
       "      <th>281</th>\n",
       "      <td>She Flies Pty Ltd</td>\n",
       "      <td>12500.0</td>\n",
       "    </tr>\n",
       "    <tr>\n",
       "      <th>282</th>\n",
       "      <td>Defence CRC for Trusted Autonomous Systems</td>\n",
       "      <td>10976.0</td>\n",
       "    </tr>\n",
       "    <tr>\n",
       "      <th>283</th>\n",
       "      <td>BOP Industries Pty Ltd</td>\n",
       "      <td>10000.0</td>\n",
       "    </tr>\n",
       "    <tr>\n",
       "      <th>284</th>\n",
       "      <td>Creative Industries Precinct Pty Ltd T/A QUT C...</td>\n",
       "      <td>10000.0</td>\n",
       "    </tr>\n",
       "    <tr>\n",
       "      <th>285</th>\n",
       "      <td>Assa Abloy Australia Pty Limited</td>\n",
       "      <td>10000.0</td>\n",
       "    </tr>\n",
       "    <tr>\n",
       "      <th>286</th>\n",
       "      <td>ASE Group</td>\n",
       "      <td>10000.0</td>\n",
       "    </tr>\n",
       "  </tbody>\n",
       "</table>\n",
       "</div>"
      ],
      "text/plain": [
       "                                        Recipient Name  Funding Amount\n",
       "0                         The University of Queensland      17293862.0\n",
       "1                  Queensland University of Technology       4040237.0\n",
       "2                                  Griffith University       3269786.0\n",
       "3                    University of Southern Queensland       2779944.0\n",
       "4                      Impact Innovation Group Pty Ltd       1452855.0\n",
       "5                            Queensland XR Hub Pty Ltd        985000.0\n",
       "6    Queensland University of Technology - Translat...        879396.0\n",
       "7                     University of the Sunshine Coast        753135.0\n",
       "8         The University of Queensland - St Lucia, QLD        360000.0\n",
       "9        Queensland University of Technology - Herston        360000.0\n",
       "10   The University of Queensland - School of Publi...        300000.0\n",
       "11       The University of Queensland - RBWH - Herston        300000.0\n",
       "12   The Council of the Queensland Institute of Med...        300000.0\n",
       "13                                   GaardTech Pty ltd        300000.0\n",
       "14                                   Blenktech Pty Ltd        300000.0\n",
       "15                       Vostronet (Australia) Pty Ltd        300000.0\n",
       "16                         Social Impact Group Pty Ltd        298500.0\n",
       "17                        Canaria Technologies Pty Ltd        295140.0\n",
       "18               Food and Agribusiness Network Limited        289676.0\n",
       "19                                     Bidhive Pty Ltd        280000.0\n",
       "20                             Nightlife Music Pty Ltd        250000.0\n",
       "21                                  Pinch Labs Pty Ltd        250000.0\n",
       "22                  DEC-UAV Pty Ltd - Fortitude Valley        250000.0\n",
       "23                                         GO1 Pty Ltd        250000.0\n",
       "24                               MiCare Global Pty Ltd        250000.0\n",
       "25                                      Naturo Pty Ltd        250000.0\n",
       "26                                      Fish-E Pty Ltd        228200.0\n",
       "27                                     iLiquid Pty Ltd        204614.0\n",
       "28               Amaroo Environmental Education Centre        203750.0\n",
       "29                                   Spur Labs Pty Ltd        200000.0\n",
       "30                                      NeuTex Pty Ltd        200000.0\n",
       "31   The Trustee for the Ride Free Media Trust T/A ...        200000.0\n",
       "32                              Docto Holdings Pty Ltd        200000.0\n",
       "33                              Core Resources Pty Ltd        200000.0\n",
       "34                      Bioherbicide Australia Pty Ltd        200000.0\n",
       "35                                    M3dicine Pty Ltd        200000.0\n",
       "36                                        Kynd Pty Ltd        200000.0\n",
       "37             Future Maintenance Technologies Pty Ltd        200000.0\n",
       "38                             Wildfire Energy Pty Ltd        200000.0\n",
       "39                                  Layer Labs Pty Ltd        200000.0\n",
       "40                              Watergum Community Inc        200000.0\n",
       "41                                  Vorteil.io Pty Ltd        200000.0\n",
       "42                           Q L Spacer Blocks Pty Ltd        200000.0\n",
       "43                          AutoGuru Australia Pty Ltd        200000.0\n",
       "44                          Talkvia Enterprise Pty Ltd        199999.0\n",
       "45                          Immersive Robotics Pty Ltd        199739.0\n",
       "46                                      Aurtra Pty Ltd        199456.0\n",
       "47                               Access Intell Pty Ltd        199357.0\n",
       "48                                     Laronix Pty Ltd        197950.0\n",
       "49                                Quick Safety Pty Ltd        197000.0\n",
       "50                     Defendable Technologies Pty Ltd        194900.0\n",
       "51                      Bundle of Rays Academy Pty Ltd        192700.0\n",
       "52                                   Neo-Rehab Pty Ltd        191750.0\n",
       "53                                LincRobotics Pty Ltd        185449.0\n",
       "54                                 Noosa Shire Council        185000.0\n",
       "55                           Swift Performance Pty Ltd        180000.0\n",
       "56                            Predico Software Pty Ltd        177000.0\n",
       "57                                     SiteSee Pty Ltd        160000.0\n",
       "58                                   Co Spaces Pty Ltd        150000.0\n",
       "59                       The Queensland XR Hub Pty Ltd        150000.0\n",
       "60                       Arthritis Relief Plus Limited        150000.0\n",
       "61                               Sunbirds Aero Pty Ltd        150000.0\n",
       "62                              Urpla Software Pty Ltd        146250.0\n",
       "63                         Tandm International Pty Ltd        144500.0\n",
       "64                                  Goheadhunt Pty Ltd        140000.0\n",
       "65                   Gold Coast Innovation Hub Limited        135500.0\n",
       "66                             Stripped Supply Pty Ltd        116000.0\n",
       "67             Skynet Satellite Communications Pty Ltd        104000.0\n",
       "68                                Liquid State Pty Ltd        100000.0\n",
       "69                            Ordo Enterprises Pty Ltd        100000.0\n",
       "70                             Law On Earth Au Pty Ltd        100000.0\n",
       "71            Laird and Pascoe Trading Company Pty Ltd        100000.0\n",
       "72                         Leakster Operations Pty Ltd        100000.0\n",
       "73                               LYRO Robotics Pty Ltd        100000.0\n",
       "74                       Life Sorted Australia Pty Ltd        100000.0\n",
       "75                  ABM Technologies Australia Pty Ltd        100000.0\n",
       "76                          MotoDNA Technology Pty Ltd        100000.0\n",
       "77                           Literacy for Boys Pty Ltd        100000.0\n",
       "78                             MCT (Australia) Pty Ltd        100000.0\n",
       "79                                  Macrobotix Pty Ltd        100000.0\n",
       "80                             Norbit Software Pty Ltd        100000.0\n",
       "81                      Next World Enterprises Pty Ltd        100000.0\n",
       "82                           Marine Composites Pty Ltd        100000.0\n",
       "83   McGregor Diesel Pty Ltd ATF The S & A McGregor...        100000.0\n",
       "84                              Native Beeings Pty Ltd        100000.0\n",
       "85                                 Mineral Fox Pty Ltd        100000.0\n",
       "86                  National Plastics & Rubber Pty Ltd        100000.0\n",
       "87                                      OreFox Pty Ltd        100000.0\n",
       "88                                    SensaWeb Pty Ltd        100000.0\n",
       "89                                Padmore City Pty Ltd        100000.0\n",
       "90                                             Parasym        100000.0\n",
       "91                                    TeleMARS Pty Ltd        100000.0\n",
       "92                  The Smarter Towing Company Pty Ltd        100000.0\n",
       "93                         The Split Australia Pty Ltd        100000.0\n",
       "94                              Thermal Armour Pty Ltd        100000.0\n",
       "95                                 TravelbyBit Pty Ltd        100000.0\n",
       "96                                    Travello Pty Ltd        100000.0\n",
       "97                                Turntohealth Pty Ltd        100000.0\n",
       "98                           Unified Ar System Pty Ltd        100000.0\n",
       "99                            University of Queensland        100000.0\n",
       "100               Veterinarians for Climate Action Ltd        100000.0\n",
       "101                          Voltin Operations Pty Ltd        100000.0\n",
       "102                                       WeKo Pty Ltd        100000.0\n",
       "103                                      Welio Pty Ltd        100000.0\n",
       "104                                   WorkGuru Pty Ltd        100000.0\n",
       "105                World's Biggest Garage Sale Pty Ltd        100000.0\n",
       "106                                     Wrappt Pty Ltd        100000.0\n",
       "107                              Yodel Digital Pty Ltd        100000.0\n",
       "108                                         TakeMeTour        100000.0\n",
       "109  Studio Enterprises Pty Ltd ATF KMA Discretiona...        100000.0\n",
       "110                        Sportech Industries Pty Ltd        100000.0\n",
       "111                                S4S Trading Pty Ltd        100000.0\n",
       "112                  Physiotherapy Innovations Pty Ltd        100000.0\n",
       "113                                   Plasvacc Pty Ltd        100000.0\n",
       "114                                     Puctto Pty Ltd        100000.0\n",
       "115                                      Pwron Pty Ltd        100000.0\n",
       "116                              RJC Community Pty Ltd        100000.0\n",
       "117                                   RapidAIM Pty Ltd        100000.0\n",
       "118                         Reforest Australia Pty Ltd        100000.0\n",
       "119                                      SNAPI Pty Ltd        100000.0\n",
       "120                       Solar Bins Australia Pty Ltd        100000.0\n",
       "121                                 Scapequest Pty Ltd        100000.0\n",
       "122                    Scott Airway Management Pty Ltd        100000.0\n",
       "123                                   Kitsunei Pty Ltd        100000.0\n",
       "124                                    Simpori Pty Ltd        100000.0\n",
       "125                  Simulation Training Group Pty Ltd        100000.0\n",
       "126                           Smart AI Connect Pty Ltd        100000.0\n",
       "127                            Sobah Beverages Pty Ltd        100000.0\n",
       "128                             Kova Australia Pty Ltd        100000.0\n",
       "129                  (UI!) The Urban Institute Pty Ltd        100000.0\n",
       "130                                     Jolita Pty Ltd        100000.0\n",
       "131                                     Genics Pty Ltd        100000.0\n",
       "132                                    Cogniom Pty Ltd        100000.0\n",
       "133                                     Cubiko Pty Ltd        100000.0\n",
       "134                                CyberMetrix Pty Ltd        100000.0\n",
       "135                               Data Farming Pty Ltd        100000.0\n",
       "136             Digital Technologies Institute Pty Ltd        100000.0\n",
       "137                                    DocSols Pty Ltd        100000.0\n",
       "138                                 Docketbook Pty Ltd        100000.0\n",
       "139                                     DoseMe Pty Ltd        100000.0\n",
       "140                                Earthoffset Pty Ltd        100000.0\n",
       "141             Emerging Healthcare Operations Pty Ltd        100000.0\n",
       "142                                  Explorate Pty Ltd        100000.0\n",
       "143                                  ExtrasJar Pty Ltd        100000.0\n",
       "144                                  Fabrikcnc Pty Ltd        100000.0\n",
       "145                                   Field QL Pty Ltd        100000.0\n",
       "146                            Fiffy Solutions Pty Ltd        100000.0\n",
       "147                     Flametree Technologies Pty Ltd        100000.0\n",
       "148                        Future Biosolutions Pty Ltd        100000.0\n",
       "149                       Codestream Solutions Pty Ltd        100000.0\n",
       "150                                Chromoxyion Pty Ltd        100000.0\n",
       "151                        Charlton Innovation Pty Ltd        100000.0\n",
       "152         Australian Sports Technologies Network Ltd        100000.0\n",
       "153        Advanced Robotics For Manufacturing Hub Ltd        100000.0\n",
       "154                                      Advvy Pty Ltd        100000.0\n",
       "155                                   Aeromech Pty Ltd        100000.0\n",
       "156                              Anti Ordinary Pty Ltd        100000.0\n",
       "157                                    Askable Pty Ltd        100000.0\n",
       "158                            AssetAccountant Pty Ltd        100000.0\n",
       "159           Australian Computer Society Incorporated        100000.0\n",
       "160                                  BeneTerra Pty Ltd        100000.0\n",
       "161                                     Cardly Pty Ltd        100000.0\n",
       "162                                   BidCrete Pty Ltd        100000.0\n",
       "163                    BioHerbicides Australia Pty Ltd        100000.0\n",
       "164                                   Brancher Pty Ltd        100000.0\n",
       "165                     Buderim Bucket Company Pty Ltd        100000.0\n",
       "166                                   CHATSTAT Pty Ltd        100000.0\n",
       "167                                Cake Equity Pty Ltd        100000.0\n",
       "168                                 Calvett Co Pty Ltd        100000.0\n",
       "169                              GB Operations Pty Ltd        100000.0\n",
       "170                             De Motu Cordis Pty Ltd        100000.0\n",
       "171                                  Herobe IP Pty Ltd        100000.0\n",
       "172                                IISolutions Pty Ltd        100000.0\n",
       "173                                  Hema Tilt Pty Ltd        100000.0\n",
       "174            Helitak Fire Fighting Equipment Pty Ltd        100000.0\n",
       "175                                     Inndox Pty Ltd        100000.0\n",
       "176                              Hero Software Pty Ltd        100000.0\n",
       "177                Investment Markets Holdings Pty Ltd        100000.0\n",
       "178                           IDU Technologies Pty Ltd        100000.0\n",
       "179                         Haystack Australia Pty Ltd        100000.0\n",
       "180                        Handle My Complaint Pty Ltd        100000.0\n",
       "181                            Islex Australia Pty Ltd        100000.0\n",
       "182                              Huds and Toke Pty Ltd        100000.0\n",
       "183                                  HotelFlex Pty Ltd        100000.0\n",
       "184                                  Hoops Crm Pty Ltd        100000.0\n",
       "185                                  Holospace Pty Ltd        100000.0\n",
       "186                          Jetson Industries Pty Ltd        100000.0\n",
       "187            Global Road Technology Holdings Pty Ltd        100000.0\n",
       "188                                Ikara Group Pty Ltd        100000.0\n",
       "189                      Clover Hill Logistics Pty Ltd         99999.0\n",
       "190                                     SendFX Limited         99999.0\n",
       "191                                  Geobotica Pty Ltd         99996.0\n",
       "192                                       Vygo Pty Ltd         99930.0\n",
       "193                          Australian Kunzea Pty Ltd         99928.0\n",
       "194                               Klik Sinkers Pty Ltd         99663.0\n",
       "195                Amtac Professional Services Pty Ltd         99603.0\n",
       "196                                  NetHealth Pty Ltd         99500.0\n",
       "197                                   Synengco Pty Ltd         99485.0\n",
       "198               The Trustee for Poynter Family Trust         98864.0\n",
       "199                                   Gelomics Pty Ltd         98600.0\n",
       "200                                   Mibowork Pty Ltd         98600.0\n",
       "201                                    Stackle Pty Ltd         98500.0\n",
       "202                                   Embrayse Pty Ltd         97000.0\n",
       "203                                Sensavation Pty Ltd         96700.0\n",
       "204                    Din Dins Club Australia Pty Ltd         96644.0\n",
       "205                            Fetched Trading Pty Ltd         96630.0\n",
       "206                             Startup Onramp Pty Ltd         96550.0\n",
       "207                        Scrunch Enterprises Pty Ltd         95409.0\n",
       "208                                     RR Tek Pty Ltd         95000.0\n",
       "209                                 Buildstack Pty Ltd         94000.0\n",
       "210                            WDU Enterprises Pty Ltd         92940.0\n",
       "211                                      PEMDx Pty Ltd         92270.0\n",
       "212                      Cluster Biotechnology Pty Ltd         90878.0\n",
       "213                      Heartbeat Enterprises Pty Ltd         90000.0\n",
       "214                Cyborg Dynamics Engineering Pty Ltd         90000.0\n",
       "215                                      Yodal Pty Ltd         90000.0\n",
       "216                                Impact Boom Pty Ltd         87590.0\n",
       "217  The University of Queensland - Rural Clinical ...         86952.0\n",
       "218         Annuo Medical Technology Solutions Pty Ltd         86666.0\n",
       "219                      Visional Technologies Pty Ltd         85408.0\n",
       "220               Aginic Business Intelligence Pty Ltd         81500.0\n",
       "221                                   Bankedge Pty Ltd         80000.0\n",
       "222                        Spacecubed Ventures Pty Ltd         80000.0\n",
       "223                       CodeMakers Australia Pty Ltd         80000.0\n",
       "224                                  Math Mate Pty Ltd         79313.0\n",
       "225                              InnovaReviews Pty Ltd         79070.0\n",
       "226                        Actualisation Group Pty Ltd         78870.0\n",
       "227                         Spatial Innovation Pty Ltd         78000.0\n",
       "228                      Advisory Board Centre Pty Ltd         76500.0\n",
       "229                               Canvas Coworking Inc         75000.0\n",
       "230                  RESILIENCE DESIGN & BUILD PTY LTD         75000.0\n",
       "231                        Repurpose Recycling Pty Ltd         75000.0\n",
       "232                    Sunshine Coast Regional Council         75000.0\n",
       "233                       theSPACE Australasia Pty Ltd         75000.0\n",
       "234                               Ipswich City Council         75000.0\n",
       "235                              Valiant Space Pty Ltd         75000.0\n",
       "236                   Eco Wave Power Australia Pty Ltd         75000.0\n",
       "237                                 Pathmaster Pty Ltd         75000.0\n",
       "238                                    Kuaifit Pty Ltd         75000.0\n",
       "239                                D3 GENETICS PTY LTD         75000.0\n",
       "240                          integratedPRIVATE Pty Ltd         75000.0\n",
       "241                             Innovation Bay Pty Ltd         70000.0\n",
       "242                          MEMTECH Corporate Pty Ltd         62500.0\n",
       "243               My Virtual Freight Forwarder Pty Ltd         57623.0\n",
       "244       Toowoomba and Surat Basin Enterprise Pty Ltd         52668.0\n",
       "245                                  Logan Startup Hub         51824.0\n",
       "246                  Nu Flow Technologies 2000 Pty Ltd         50000.0\n",
       "247                     Bloom Impact Investing Pty Ltd         50000.0\n",
       "248                    Serene Medical Research Pty Ltd         50000.0\n",
       "249                               Sonder Place Pty Ltd         50000.0\n",
       "250                        NoiseNet Operations Pty Ltd         50000.0\n",
       "251                       Ahangari Enterprises Pty Ltd         48550.0\n",
       "252                       Mediasphere Holdings Pty Ltd         45200.0\n",
       "253                      Elemental Instruments Pty Ltd         45000.0\n",
       "254                             The Powerhouse Hub Ltd         43750.0\n",
       "255                             Klyp Australia Pty Ltd         41250.0\n",
       "256                               Spark Bureau Limited         40290.0\n",
       "257                                Mater Education Ltd         40000.0\n",
       "258                       Boeing Defence Australia Ltd         39600.0\n",
       "259                               Gow Services Pty Ltd         30505.0\n",
       "260  Napalao Pty Ltd ATF Moore Family Trust T/A Nec...         30000.0\n",
       "261                              Co Hort Space Pty Ltd         30000.0\n",
       "262                      Roma Commerce and Tourism Inc         30000.0\n",
       "263                              SBE Australia Limited         30000.0\n",
       "264  Regional Development Australia Ipswich and Wes...         30000.0\n",
       "265                               Discover Farming Inc         30000.0\n",
       "266                                 Logan City Council         30000.0\n",
       "267                                 Brio Group Pty Ltd         23397.0\n",
       "268                              Silicon Coast Limited         22750.0\n",
       "269                                Fishburners Limited         22000.0\n",
       "270           Innovation Centre Sunshine Coast Pty Ltd         21347.0\n",
       "271                                    BMT WBM Pty Ltd         20833.0\n",
       "272                        Sandra Lorrel Bungaree King         20000.0\n",
       "273                    Wavebreak International Limited         20000.0\n",
       "274                            Suncoast Angels Pty Ltd         20000.0\n",
       "275                           Moreton Ventures Pty Ltd         19900.0\n",
       "276                                 Startup Status Ltd         17399.0\n",
       "277                            River City Labs Pty Ltd         16000.0\n",
       "278                              Bright Humans Pty Ltd         15000.0\n",
       "279                            Gold Coast City Council         13370.0\n",
       "280                           Blockchain Australia Ltd         13364.0\n",
       "281                                  She Flies Pty Ltd         12500.0\n",
       "282         Defence CRC for Trusted Autonomous Systems         10976.0\n",
       "283                             BOP Industries Pty Ltd         10000.0\n",
       "284  Creative Industries Precinct Pty Ltd T/A QUT C...         10000.0\n",
       "285                   Assa Abloy Australia Pty Limited         10000.0\n",
       "286                                          ASE Group         10000.0"
      ]
     },
     "execution_count": 82,
     "metadata": {},
     "output_type": "execute_result"
    }
   ],
   "source": [
    "# grouping of funding recipients of programs which provide funds to SEQ\n",
    "se_grouped = se_qld_programs.groupby(['Recipient Name'])['Funding Amount'].sum()\n",
    "\n",
    "# sorting the rows to bring the highest funding recipients at the top of the lsit\n",
    "se_sorted = se_grouped.sort_values(ascending=False)\n",
    "\n",
    "# reset the index of the newly created data frame\n",
    "se_sorted_df = pd.DataFrame(se_sorted).reset_index()\n",
    "\n",
    "# to see all rows in the data frame\n",
    "pd.set_option('display.max_rows', None)\n",
    "\n",
    "se_sorted_df"
   ]
  },
  {
   "cell_type": "markdown",
   "id": "136cc16f-83b7-4344-9721-2192ab8eb14a",
   "metadata": {},
   "source": [
    "6. In this step, I aim to categorize recipients of funds based on keywords in their company names, which will provide insights into their respective industry types. Subsequently, I will calculate the total committed funding and count of funds for each identified industry type."
   ]
  },
  {
   "cell_type": "code",
   "execution_count": 87,
   "id": "6ced4508-f5eb-4ae5-b739-697d23cffbcd",
   "metadata": {},
   "outputs": [],
   "source": [
    "# filtering and grouping funding recipients based on their industries using string matching. Note code developed from the help of python exemplars.\n",
    "unis = se_sorted_df[se_sorted_df['Recipient Name'].str.contains('University') | se_sorted_df['Recipient Name'].str.contains('Institute')]\n",
    "\n",
    "tech_co = se_sorted_df[se_sorted_df['Recipient Name'].str.contains('Tech*') & se_sorted_df['Recipient Name'].str.contains('Ltd')  | se_sorted_df['Recipient Name'].str.contains('Inn*')  | se_sorted_df['Recipient Name'].str.contains('Soft*')  | se_sorted_df['Recipient Name'].str.contains('Robo*') | se_sorted_df['Recipient Name'].str.contains('AI*')]\n",
    "\n",
    "council = se_sorted_df[se_sorted_df['Recipient Name'].str.contains('Council')]\n",
    "\n",
    "# Concatenate the filtered DataFrames to get the rest of the rows\n",
    "others_df = pd.concat([se_sorted_df, unis, tech_co, council]).drop_duplicates(keep=False)"
   ]
  },
  {
   "cell_type": "code",
   "execution_count": 88,
   "id": "573eb7f0-4c42-4039-b28d-0daf2b519349",
   "metadata": {},
   "outputs": [
    {
     "data": {
      "text/html": [
       "<div>\n",
       "<style scoped>\n",
       "    .dataframe tbody tr th:only-of-type {\n",
       "        vertical-align: middle;\n",
       "    }\n",
       "\n",
       "    .dataframe tbody tr th {\n",
       "        vertical-align: top;\n",
       "    }\n",
       "\n",
       "    .dataframe thead th {\n",
       "        text-align: right;\n",
       "    }\n",
       "</style>\n",
       "<table border=\"1\" class=\"dataframe\">\n",
       "  <thead>\n",
       "    <tr style=\"text-align: right;\">\n",
       "      <th></th>\n",
       "      <th>Category</th>\n",
       "      <th>Total Funding</th>\n",
       "      <th>Number of Entries</th>\n",
       "    </tr>\n",
       "  </thead>\n",
       "  <tbody>\n",
       "    <tr>\n",
       "      <th>0</th>\n",
       "      <td>Universities &amp; Institutes</td>\n",
       "      <td>31023312.0</td>\n",
       "      <td>15</td>\n",
       "    </tr>\n",
       "    <tr>\n",
       "      <th>1</th>\n",
       "      <td>Technology Companies</td>\n",
       "      <td>13407944.0</td>\n",
       "      <td>106</td>\n",
       "    </tr>\n",
       "    <tr>\n",
       "      <th>2</th>\n",
       "      <td>Councils</td>\n",
       "      <td>678370.0</td>\n",
       "      <td>6</td>\n",
       "    </tr>\n",
       "    <tr>\n",
       "      <th>3</th>\n",
       "      <td>Others</td>\n",
       "      <td>19014568.0</td>\n",
       "      <td>165</td>\n",
       "    </tr>\n",
       "  </tbody>\n",
       "</table>\n",
       "</div>"
      ],
      "text/plain": [
       "                    Category  Total Funding  Number of Entries\n",
       "0  Universities & Institutes     31023312.0                 15\n",
       "1       Technology Companies     13407944.0                106\n",
       "2                   Councils       678370.0                  6\n",
       "3                     Others     19014568.0                165"
      ]
     },
     "execution_count": 88,
     "metadata": {},
     "output_type": "execute_result"
    }
   ],
   "source": [
    "# Calculate sums\n",
    "unis_sum = unis['Funding Amount'].sum()\n",
    "\n",
    "tech_co_sum = tech_co['Funding Amount'].sum()\n",
    "\n",
    "council_sum = council['Funding Amount'].sum()\n",
    "\n",
    "others_sum = others_df['Funding Amount'].sum()\n",
    "\n",
    "# Count the number of entries in each DataFrame\n",
    "num_entries_unis = len(unis)\n",
    "\n",
    "num_entries_tech_co = len(tech_co)\n",
    "\n",
    "num_entries_council = len(council)\n",
    "\n",
    "num_entries_others = len(others_df)\n",
    "\n",
    "# Create a DataFrame with sums and counts. Note this code I developed with the help of chat gpt\n",
    "data = {\n",
    "    'Category': ['Universities & Institutes', 'Technology Companies', 'Councils', 'Others'],\n",
    "    \n",
    "    'Total Funding': [unis_sum, tech_co_sum, council_sum, others_sum],\n",
    "    \n",
    "    'Number of Entries': [num_entries_unis, num_entries_tech_co, num_entries_council, num_entries_others]\n",
    "}\n",
    "\n",
    "summary_df = pd.DataFrame(data)\n",
    "\n",
    "summary_df"
   ]
  },
  {
   "cell_type": "markdown",
   "id": "34e3624a-ddad-42cd-ac06-4d03bd79b49c",
   "metadata": {},
   "source": [
    "7. In this step, I would like to visualize the above results to show industry wise concentration of committed funds. This visualization will strengthen my narrative about funds committments that advance queensland provide funds based on program policy not geographically or distribution of population. "
   ]
  },
  {
   "cell_type": "code",
   "execution_count": 89,
   "id": "36514a02-8cb7-4a17-af57-8543f823d1aa",
   "metadata": {},
   "outputs": [
    {
     "data": {
      "application/vnd.plotly.v1+json": {
       "config": {
        "plotlyServerURL": "https://plot.ly"
       },
       "data": [
        {
         "customdata": [
          [
           15
          ],
          [
           106
          ],
          [
           6
          ],
          [
           165
          ]
         ],
         "domain": {
          "x": [
           0,
           1
          ],
          "y": [
           0,
           1
          ]
         },
         "hovertemplate": "Category=%{label}<br>Total Funding=%{value}<br>Number of Entries=%{customdata[0]}<extra></extra>",
         "labels": [
          "Universities & Institutes",
          "Technology Companies",
          "Councils",
          "Others"
         ],
         "legendgroup": "",
         "name": "",
         "showlegend": true,
         "textinfo": "percent+label",
         "type": "pie",
         "values": [
          31023312,
          13407944,
          678370,
          19014568
         ]
        }
       ],
       "layout": {
        "height": 600,
        "legend": {
         "tracegroupgap": 0
        },
        "template": {
         "data": {
          "bar": [
           {
            "error_x": {
             "color": "#2a3f5f"
            },
            "error_y": {
             "color": "#2a3f5f"
            },
            "marker": {
             "line": {
              "color": "#E5ECF6",
              "width": 0.5
             },
             "pattern": {
              "fillmode": "overlay",
              "size": 10,
              "solidity": 0.2
             }
            },
            "type": "bar"
           }
          ],
          "barpolar": [
           {
            "marker": {
             "line": {
              "color": "#E5ECF6",
              "width": 0.5
             },
             "pattern": {
              "fillmode": "overlay",
              "size": 10,
              "solidity": 0.2
             }
            },
            "type": "barpolar"
           }
          ],
          "carpet": [
           {
            "aaxis": {
             "endlinecolor": "#2a3f5f",
             "gridcolor": "white",
             "linecolor": "white",
             "minorgridcolor": "white",
             "startlinecolor": "#2a3f5f"
            },
            "baxis": {
             "endlinecolor": "#2a3f5f",
             "gridcolor": "white",
             "linecolor": "white",
             "minorgridcolor": "white",
             "startlinecolor": "#2a3f5f"
            },
            "type": "carpet"
           }
          ],
          "choropleth": [
           {
            "colorbar": {
             "outlinewidth": 0,
             "ticks": ""
            },
            "type": "choropleth"
           }
          ],
          "contour": [
           {
            "colorbar": {
             "outlinewidth": 0,
             "ticks": ""
            },
            "colorscale": [
             [
              0,
              "#0d0887"
             ],
             [
              0.1111111111111111,
              "#46039f"
             ],
             [
              0.2222222222222222,
              "#7201a8"
             ],
             [
              0.3333333333333333,
              "#9c179e"
             ],
             [
              0.4444444444444444,
              "#bd3786"
             ],
             [
              0.5555555555555556,
              "#d8576b"
             ],
             [
              0.6666666666666666,
              "#ed7953"
             ],
             [
              0.7777777777777778,
              "#fb9f3a"
             ],
             [
              0.8888888888888888,
              "#fdca26"
             ],
             [
              1,
              "#f0f921"
             ]
            ],
            "type": "contour"
           }
          ],
          "contourcarpet": [
           {
            "colorbar": {
             "outlinewidth": 0,
             "ticks": ""
            },
            "type": "contourcarpet"
           }
          ],
          "heatmap": [
           {
            "colorbar": {
             "outlinewidth": 0,
             "ticks": ""
            },
            "colorscale": [
             [
              0,
              "#0d0887"
             ],
             [
              0.1111111111111111,
              "#46039f"
             ],
             [
              0.2222222222222222,
              "#7201a8"
             ],
             [
              0.3333333333333333,
              "#9c179e"
             ],
             [
              0.4444444444444444,
              "#bd3786"
             ],
             [
              0.5555555555555556,
              "#d8576b"
             ],
             [
              0.6666666666666666,
              "#ed7953"
             ],
             [
              0.7777777777777778,
              "#fb9f3a"
             ],
             [
              0.8888888888888888,
              "#fdca26"
             ],
             [
              1,
              "#f0f921"
             ]
            ],
            "type": "heatmap"
           }
          ],
          "heatmapgl": [
           {
            "colorbar": {
             "outlinewidth": 0,
             "ticks": ""
            },
            "colorscale": [
             [
              0,
              "#0d0887"
             ],
             [
              0.1111111111111111,
              "#46039f"
             ],
             [
              0.2222222222222222,
              "#7201a8"
             ],
             [
              0.3333333333333333,
              "#9c179e"
             ],
             [
              0.4444444444444444,
              "#bd3786"
             ],
             [
              0.5555555555555556,
              "#d8576b"
             ],
             [
              0.6666666666666666,
              "#ed7953"
             ],
             [
              0.7777777777777778,
              "#fb9f3a"
             ],
             [
              0.8888888888888888,
              "#fdca26"
             ],
             [
              1,
              "#f0f921"
             ]
            ],
            "type": "heatmapgl"
           }
          ],
          "histogram": [
           {
            "marker": {
             "pattern": {
              "fillmode": "overlay",
              "size": 10,
              "solidity": 0.2
             }
            },
            "type": "histogram"
           }
          ],
          "histogram2d": [
           {
            "colorbar": {
             "outlinewidth": 0,
             "ticks": ""
            },
            "colorscale": [
             [
              0,
              "#0d0887"
             ],
             [
              0.1111111111111111,
              "#46039f"
             ],
             [
              0.2222222222222222,
              "#7201a8"
             ],
             [
              0.3333333333333333,
              "#9c179e"
             ],
             [
              0.4444444444444444,
              "#bd3786"
             ],
             [
              0.5555555555555556,
              "#d8576b"
             ],
             [
              0.6666666666666666,
              "#ed7953"
             ],
             [
              0.7777777777777778,
              "#fb9f3a"
             ],
             [
              0.8888888888888888,
              "#fdca26"
             ],
             [
              1,
              "#f0f921"
             ]
            ],
            "type": "histogram2d"
           }
          ],
          "histogram2dcontour": [
           {
            "colorbar": {
             "outlinewidth": 0,
             "ticks": ""
            },
            "colorscale": [
             [
              0,
              "#0d0887"
             ],
             [
              0.1111111111111111,
              "#46039f"
             ],
             [
              0.2222222222222222,
              "#7201a8"
             ],
             [
              0.3333333333333333,
              "#9c179e"
             ],
             [
              0.4444444444444444,
              "#bd3786"
             ],
             [
              0.5555555555555556,
              "#d8576b"
             ],
             [
              0.6666666666666666,
              "#ed7953"
             ],
             [
              0.7777777777777778,
              "#fb9f3a"
             ],
             [
              0.8888888888888888,
              "#fdca26"
             ],
             [
              1,
              "#f0f921"
             ]
            ],
            "type": "histogram2dcontour"
           }
          ],
          "mesh3d": [
           {
            "colorbar": {
             "outlinewidth": 0,
             "ticks": ""
            },
            "type": "mesh3d"
           }
          ],
          "parcoords": [
           {
            "line": {
             "colorbar": {
              "outlinewidth": 0,
              "ticks": ""
             }
            },
            "type": "parcoords"
           }
          ],
          "pie": [
           {
            "automargin": true,
            "type": "pie"
           }
          ],
          "scatter": [
           {
            "fillpattern": {
             "fillmode": "overlay",
             "size": 10,
             "solidity": 0.2
            },
            "type": "scatter"
           }
          ],
          "scatter3d": [
           {
            "line": {
             "colorbar": {
              "outlinewidth": 0,
              "ticks": ""
             }
            },
            "marker": {
             "colorbar": {
              "outlinewidth": 0,
              "ticks": ""
             }
            },
            "type": "scatter3d"
           }
          ],
          "scattercarpet": [
           {
            "marker": {
             "colorbar": {
              "outlinewidth": 0,
              "ticks": ""
             }
            },
            "type": "scattercarpet"
           }
          ],
          "scattergeo": [
           {
            "marker": {
             "colorbar": {
              "outlinewidth": 0,
              "ticks": ""
             }
            },
            "type": "scattergeo"
           }
          ],
          "scattergl": [
           {
            "marker": {
             "colorbar": {
              "outlinewidth": 0,
              "ticks": ""
             }
            },
            "type": "scattergl"
           }
          ],
          "scattermapbox": [
           {
            "marker": {
             "colorbar": {
              "outlinewidth": 0,
              "ticks": ""
             }
            },
            "type": "scattermapbox"
           }
          ],
          "scatterpolar": [
           {
            "marker": {
             "colorbar": {
              "outlinewidth": 0,
              "ticks": ""
             }
            },
            "type": "scatterpolar"
           }
          ],
          "scatterpolargl": [
           {
            "marker": {
             "colorbar": {
              "outlinewidth": 0,
              "ticks": ""
             }
            },
            "type": "scatterpolargl"
           }
          ],
          "scatterternary": [
           {
            "marker": {
             "colorbar": {
              "outlinewidth": 0,
              "ticks": ""
             }
            },
            "type": "scatterternary"
           }
          ],
          "surface": [
           {
            "colorbar": {
             "outlinewidth": 0,
             "ticks": ""
            },
            "colorscale": [
             [
              0,
              "#0d0887"
             ],
             [
              0.1111111111111111,
              "#46039f"
             ],
             [
              0.2222222222222222,
              "#7201a8"
             ],
             [
              0.3333333333333333,
              "#9c179e"
             ],
             [
              0.4444444444444444,
              "#bd3786"
             ],
             [
              0.5555555555555556,
              "#d8576b"
             ],
             [
              0.6666666666666666,
              "#ed7953"
             ],
             [
              0.7777777777777778,
              "#fb9f3a"
             ],
             [
              0.8888888888888888,
              "#fdca26"
             ],
             [
              1,
              "#f0f921"
             ]
            ],
            "type": "surface"
           }
          ],
          "table": [
           {
            "cells": {
             "fill": {
              "color": "#EBF0F8"
             },
             "line": {
              "color": "white"
             }
            },
            "header": {
             "fill": {
              "color": "#C8D4E3"
             },
             "line": {
              "color": "white"
             }
            },
            "type": "table"
           }
          ]
         },
         "layout": {
          "annotationdefaults": {
           "arrowcolor": "#2a3f5f",
           "arrowhead": 0,
           "arrowwidth": 1
          },
          "autotypenumbers": "strict",
          "coloraxis": {
           "colorbar": {
            "outlinewidth": 0,
            "ticks": ""
           }
          },
          "colorscale": {
           "diverging": [
            [
             0,
             "#8e0152"
            ],
            [
             0.1,
             "#c51b7d"
            ],
            [
             0.2,
             "#de77ae"
            ],
            [
             0.3,
             "#f1b6da"
            ],
            [
             0.4,
             "#fde0ef"
            ],
            [
             0.5,
             "#f7f7f7"
            ],
            [
             0.6,
             "#e6f5d0"
            ],
            [
             0.7,
             "#b8e186"
            ],
            [
             0.8,
             "#7fbc41"
            ],
            [
             0.9,
             "#4d9221"
            ],
            [
             1,
             "#276419"
            ]
           ],
           "sequential": [
            [
             0,
             "#0d0887"
            ],
            [
             0.1111111111111111,
             "#46039f"
            ],
            [
             0.2222222222222222,
             "#7201a8"
            ],
            [
             0.3333333333333333,
             "#9c179e"
            ],
            [
             0.4444444444444444,
             "#bd3786"
            ],
            [
             0.5555555555555556,
             "#d8576b"
            ],
            [
             0.6666666666666666,
             "#ed7953"
            ],
            [
             0.7777777777777778,
             "#fb9f3a"
            ],
            [
             0.8888888888888888,
             "#fdca26"
            ],
            [
             1,
             "#f0f921"
            ]
           ],
           "sequentialminus": [
            [
             0,
             "#0d0887"
            ],
            [
             0.1111111111111111,
             "#46039f"
            ],
            [
             0.2222222222222222,
             "#7201a8"
            ],
            [
             0.3333333333333333,
             "#9c179e"
            ],
            [
             0.4444444444444444,
             "#bd3786"
            ],
            [
             0.5555555555555556,
             "#d8576b"
            ],
            [
             0.6666666666666666,
             "#ed7953"
            ],
            [
             0.7777777777777778,
             "#fb9f3a"
            ],
            [
             0.8888888888888888,
             "#fdca26"
            ],
            [
             1,
             "#f0f921"
            ]
           ]
          },
          "colorway": [
           "#636efa",
           "#EF553B",
           "#00cc96",
           "#ab63fa",
           "#FFA15A",
           "#19d3f3",
           "#FF6692",
           "#B6E880",
           "#FF97FF",
           "#FECB52"
          ],
          "font": {
           "color": "#2a3f5f"
          },
          "geo": {
           "bgcolor": "white",
           "lakecolor": "white",
           "landcolor": "#E5ECF6",
           "showlakes": true,
           "showland": true,
           "subunitcolor": "white"
          },
          "hoverlabel": {
           "align": "left"
          },
          "hovermode": "closest",
          "mapbox": {
           "style": "light"
          },
          "paper_bgcolor": "white",
          "plot_bgcolor": "#E5ECF6",
          "polar": {
           "angularaxis": {
            "gridcolor": "white",
            "linecolor": "white",
            "ticks": ""
           },
           "bgcolor": "#E5ECF6",
           "radialaxis": {
            "gridcolor": "white",
            "linecolor": "white",
            "ticks": ""
           }
          },
          "scene": {
           "xaxis": {
            "backgroundcolor": "#E5ECF6",
            "gridcolor": "white",
            "gridwidth": 2,
            "linecolor": "white",
            "showbackground": true,
            "ticks": "",
            "zerolinecolor": "white"
           },
           "yaxis": {
            "backgroundcolor": "#E5ECF6",
            "gridcolor": "white",
            "gridwidth": 2,
            "linecolor": "white",
            "showbackground": true,
            "ticks": "",
            "zerolinecolor": "white"
           },
           "zaxis": {
            "backgroundcolor": "#E5ECF6",
            "gridcolor": "white",
            "gridwidth": 2,
            "linecolor": "white",
            "showbackground": true,
            "ticks": "",
            "zerolinecolor": "white"
           }
          },
          "shapedefaults": {
           "line": {
            "color": "#2a3f5f"
           }
          },
          "ternary": {
           "aaxis": {
            "gridcolor": "white",
            "linecolor": "white",
            "ticks": ""
           },
           "baxis": {
            "gridcolor": "white",
            "linecolor": "white",
            "ticks": ""
           },
           "bgcolor": "#E5ECF6",
           "caxis": {
            "gridcolor": "white",
            "linecolor": "white",
            "ticks": ""
           }
          },
          "title": {
           "x": 0.05
          },
          "xaxis": {
           "automargin": true,
           "gridcolor": "white",
           "linecolor": "white",
           "ticks": "",
           "title": {
            "standoff": 15
           },
           "zerolinecolor": "white",
           "zerolinewidth": 2
          },
          "yaxis": {
           "automargin": true,
           "gridcolor": "white",
           "linecolor": "white",
           "ticks": "",
           "title": {
            "standoff": 15
           },
           "zerolinecolor": "white",
           "zerolinewidth": 2
          }
         }
        },
        "title": {
         "text": "Distribution of fund based on the type of recipients"
        },
        "width": 800
       }
      },
      "text/html": [
       "<div>                            <div id=\"ba0f6616-3a60-41a3-b0c6-71bf14b90a21\" class=\"plotly-graph-div\" style=\"height:600px; width:800px;\"></div>            <script type=\"text/javascript\">                require([\"plotly\"], function(Plotly) {                    window.PLOTLYENV=window.PLOTLYENV || {};                                    if (document.getElementById(\"ba0f6616-3a60-41a3-b0c6-71bf14b90a21\")) {                    Plotly.newPlot(                        \"ba0f6616-3a60-41a3-b0c6-71bf14b90a21\",                        [{\"customdata\":[[15],[106],[6],[165]],\"domain\":{\"x\":[0.0,1.0],\"y\":[0.0,1.0]},\"hovertemplate\":\"Category=%{label}<br>Total Funding=%{value}<br>Number of Entries=%{customdata[0]}<extra></extra>\",\"labels\":[\"Universities & Institutes\",\"Technology Companies\",\"Councils\",\"Others\"],\"legendgroup\":\"\",\"name\":\"\",\"showlegend\":true,\"values\":[31023312.0,13407944.0,678370.0,19014568.0],\"type\":\"pie\",\"textinfo\":\"percent+label\"}],                        {\"template\":{\"data\":{\"histogram2dcontour\":[{\"type\":\"histogram2dcontour\",\"colorbar\":{\"outlinewidth\":0,\"ticks\":\"\"},\"colorscale\":[[0.0,\"#0d0887\"],[0.1111111111111111,\"#46039f\"],[0.2222222222222222,\"#7201a8\"],[0.3333333333333333,\"#9c179e\"],[0.4444444444444444,\"#bd3786\"],[0.5555555555555556,\"#d8576b\"],[0.6666666666666666,\"#ed7953\"],[0.7777777777777778,\"#fb9f3a\"],[0.8888888888888888,\"#fdca26\"],[1.0,\"#f0f921\"]]}],\"choropleth\":[{\"type\":\"choropleth\",\"colorbar\":{\"outlinewidth\":0,\"ticks\":\"\"}}],\"histogram2d\":[{\"type\":\"histogram2d\",\"colorbar\":{\"outlinewidth\":0,\"ticks\":\"\"},\"colorscale\":[[0.0,\"#0d0887\"],[0.1111111111111111,\"#46039f\"],[0.2222222222222222,\"#7201a8\"],[0.3333333333333333,\"#9c179e\"],[0.4444444444444444,\"#bd3786\"],[0.5555555555555556,\"#d8576b\"],[0.6666666666666666,\"#ed7953\"],[0.7777777777777778,\"#fb9f3a\"],[0.8888888888888888,\"#fdca26\"],[1.0,\"#f0f921\"]]}],\"heatmap\":[{\"type\":\"heatmap\",\"colorbar\":{\"outlinewidth\":0,\"ticks\":\"\"},\"colorscale\":[[0.0,\"#0d0887\"],[0.1111111111111111,\"#46039f\"],[0.2222222222222222,\"#7201a8\"],[0.3333333333333333,\"#9c179e\"],[0.4444444444444444,\"#bd3786\"],[0.5555555555555556,\"#d8576b\"],[0.6666666666666666,\"#ed7953\"],[0.7777777777777778,\"#fb9f3a\"],[0.8888888888888888,\"#fdca26\"],[1.0,\"#f0f921\"]]}],\"heatmapgl\":[{\"type\":\"heatmapgl\",\"colorbar\":{\"outlinewidth\":0,\"ticks\":\"\"},\"colorscale\":[[0.0,\"#0d0887\"],[0.1111111111111111,\"#46039f\"],[0.2222222222222222,\"#7201a8\"],[0.3333333333333333,\"#9c179e\"],[0.4444444444444444,\"#bd3786\"],[0.5555555555555556,\"#d8576b\"],[0.6666666666666666,\"#ed7953\"],[0.7777777777777778,\"#fb9f3a\"],[0.8888888888888888,\"#fdca26\"],[1.0,\"#f0f921\"]]}],\"contourcarpet\":[{\"type\":\"contourcarpet\",\"colorbar\":{\"outlinewidth\":0,\"ticks\":\"\"}}],\"contour\":[{\"type\":\"contour\",\"colorbar\":{\"outlinewidth\":0,\"ticks\":\"\"},\"colorscale\":[[0.0,\"#0d0887\"],[0.1111111111111111,\"#46039f\"],[0.2222222222222222,\"#7201a8\"],[0.3333333333333333,\"#9c179e\"],[0.4444444444444444,\"#bd3786\"],[0.5555555555555556,\"#d8576b\"],[0.6666666666666666,\"#ed7953\"],[0.7777777777777778,\"#fb9f3a\"],[0.8888888888888888,\"#fdca26\"],[1.0,\"#f0f921\"]]}],\"surface\":[{\"type\":\"surface\",\"colorbar\":{\"outlinewidth\":0,\"ticks\":\"\"},\"colorscale\":[[0.0,\"#0d0887\"],[0.1111111111111111,\"#46039f\"],[0.2222222222222222,\"#7201a8\"],[0.3333333333333333,\"#9c179e\"],[0.4444444444444444,\"#bd3786\"],[0.5555555555555556,\"#d8576b\"],[0.6666666666666666,\"#ed7953\"],[0.7777777777777778,\"#fb9f3a\"],[0.8888888888888888,\"#fdca26\"],[1.0,\"#f0f921\"]]}],\"mesh3d\":[{\"type\":\"mesh3d\",\"colorbar\":{\"outlinewidth\":0,\"ticks\":\"\"}}],\"scatter\":[{\"fillpattern\":{\"fillmode\":\"overlay\",\"size\":10,\"solidity\":0.2},\"type\":\"scatter\"}],\"parcoords\":[{\"type\":\"parcoords\",\"line\":{\"colorbar\":{\"outlinewidth\":0,\"ticks\":\"\"}}}],\"scatterpolargl\":[{\"type\":\"scatterpolargl\",\"marker\":{\"colorbar\":{\"outlinewidth\":0,\"ticks\":\"\"}}}],\"bar\":[{\"error_x\":{\"color\":\"#2a3f5f\"},\"error_y\":{\"color\":\"#2a3f5f\"},\"marker\":{\"line\":{\"color\":\"#E5ECF6\",\"width\":0.5},\"pattern\":{\"fillmode\":\"overlay\",\"size\":10,\"solidity\":0.2}},\"type\":\"bar\"}],\"scattergeo\":[{\"type\":\"scattergeo\",\"marker\":{\"colorbar\":{\"outlinewidth\":0,\"ticks\":\"\"}}}],\"scatterpolar\":[{\"type\":\"scatterpolar\",\"marker\":{\"colorbar\":{\"outlinewidth\":0,\"ticks\":\"\"}}}],\"histogram\":[{\"marker\":{\"pattern\":{\"fillmode\":\"overlay\",\"size\":10,\"solidity\":0.2}},\"type\":\"histogram\"}],\"scattergl\":[{\"type\":\"scattergl\",\"marker\":{\"colorbar\":{\"outlinewidth\":0,\"ticks\":\"\"}}}],\"scatter3d\":[{\"type\":\"scatter3d\",\"line\":{\"colorbar\":{\"outlinewidth\":0,\"ticks\":\"\"}},\"marker\":{\"colorbar\":{\"outlinewidth\":0,\"ticks\":\"\"}}}],\"scattermapbox\":[{\"type\":\"scattermapbox\",\"marker\":{\"colorbar\":{\"outlinewidth\":0,\"ticks\":\"\"}}}],\"scatterternary\":[{\"type\":\"scatterternary\",\"marker\":{\"colorbar\":{\"outlinewidth\":0,\"ticks\":\"\"}}}],\"scattercarpet\":[{\"type\":\"scattercarpet\",\"marker\":{\"colorbar\":{\"outlinewidth\":0,\"ticks\":\"\"}}}],\"carpet\":[{\"aaxis\":{\"endlinecolor\":\"#2a3f5f\",\"gridcolor\":\"white\",\"linecolor\":\"white\",\"minorgridcolor\":\"white\",\"startlinecolor\":\"#2a3f5f\"},\"baxis\":{\"endlinecolor\":\"#2a3f5f\",\"gridcolor\":\"white\",\"linecolor\":\"white\",\"minorgridcolor\":\"white\",\"startlinecolor\":\"#2a3f5f\"},\"type\":\"carpet\"}],\"table\":[{\"cells\":{\"fill\":{\"color\":\"#EBF0F8\"},\"line\":{\"color\":\"white\"}},\"header\":{\"fill\":{\"color\":\"#C8D4E3\"},\"line\":{\"color\":\"white\"}},\"type\":\"table\"}],\"barpolar\":[{\"marker\":{\"line\":{\"color\":\"#E5ECF6\",\"width\":0.5},\"pattern\":{\"fillmode\":\"overlay\",\"size\":10,\"solidity\":0.2}},\"type\":\"barpolar\"}],\"pie\":[{\"automargin\":true,\"type\":\"pie\"}]},\"layout\":{\"autotypenumbers\":\"strict\",\"colorway\":[\"#636efa\",\"#EF553B\",\"#00cc96\",\"#ab63fa\",\"#FFA15A\",\"#19d3f3\",\"#FF6692\",\"#B6E880\",\"#FF97FF\",\"#FECB52\"],\"font\":{\"color\":\"#2a3f5f\"},\"hovermode\":\"closest\",\"hoverlabel\":{\"align\":\"left\"},\"paper_bgcolor\":\"white\",\"plot_bgcolor\":\"#E5ECF6\",\"polar\":{\"bgcolor\":\"#E5ECF6\",\"angularaxis\":{\"gridcolor\":\"white\",\"linecolor\":\"white\",\"ticks\":\"\"},\"radialaxis\":{\"gridcolor\":\"white\",\"linecolor\":\"white\",\"ticks\":\"\"}},\"ternary\":{\"bgcolor\":\"#E5ECF6\",\"aaxis\":{\"gridcolor\":\"white\",\"linecolor\":\"white\",\"ticks\":\"\"},\"baxis\":{\"gridcolor\":\"white\",\"linecolor\":\"white\",\"ticks\":\"\"},\"caxis\":{\"gridcolor\":\"white\",\"linecolor\":\"white\",\"ticks\":\"\"}},\"coloraxis\":{\"colorbar\":{\"outlinewidth\":0,\"ticks\":\"\"}},\"colorscale\":{\"sequential\":[[0.0,\"#0d0887\"],[0.1111111111111111,\"#46039f\"],[0.2222222222222222,\"#7201a8\"],[0.3333333333333333,\"#9c179e\"],[0.4444444444444444,\"#bd3786\"],[0.5555555555555556,\"#d8576b\"],[0.6666666666666666,\"#ed7953\"],[0.7777777777777778,\"#fb9f3a\"],[0.8888888888888888,\"#fdca26\"],[1.0,\"#f0f921\"]],\"sequentialminus\":[[0.0,\"#0d0887\"],[0.1111111111111111,\"#46039f\"],[0.2222222222222222,\"#7201a8\"],[0.3333333333333333,\"#9c179e\"],[0.4444444444444444,\"#bd3786\"],[0.5555555555555556,\"#d8576b\"],[0.6666666666666666,\"#ed7953\"],[0.7777777777777778,\"#fb9f3a\"],[0.8888888888888888,\"#fdca26\"],[1.0,\"#f0f921\"]],\"diverging\":[[0,\"#8e0152\"],[0.1,\"#c51b7d\"],[0.2,\"#de77ae\"],[0.3,\"#f1b6da\"],[0.4,\"#fde0ef\"],[0.5,\"#f7f7f7\"],[0.6,\"#e6f5d0\"],[0.7,\"#b8e186\"],[0.8,\"#7fbc41\"],[0.9,\"#4d9221\"],[1,\"#276419\"]]},\"xaxis\":{\"gridcolor\":\"white\",\"linecolor\":\"white\",\"ticks\":\"\",\"title\":{\"standoff\":15},\"zerolinecolor\":\"white\",\"automargin\":true,\"zerolinewidth\":2},\"yaxis\":{\"gridcolor\":\"white\",\"linecolor\":\"white\",\"ticks\":\"\",\"title\":{\"standoff\":15},\"zerolinecolor\":\"white\",\"automargin\":true,\"zerolinewidth\":2},\"scene\":{\"xaxis\":{\"backgroundcolor\":\"#E5ECF6\",\"gridcolor\":\"white\",\"linecolor\":\"white\",\"showbackground\":true,\"ticks\":\"\",\"zerolinecolor\":\"white\",\"gridwidth\":2},\"yaxis\":{\"backgroundcolor\":\"#E5ECF6\",\"gridcolor\":\"white\",\"linecolor\":\"white\",\"showbackground\":true,\"ticks\":\"\",\"zerolinecolor\":\"white\",\"gridwidth\":2},\"zaxis\":{\"backgroundcolor\":\"#E5ECF6\",\"gridcolor\":\"white\",\"linecolor\":\"white\",\"showbackground\":true,\"ticks\":\"\",\"zerolinecolor\":\"white\",\"gridwidth\":2}},\"shapedefaults\":{\"line\":{\"color\":\"#2a3f5f\"}},\"annotationdefaults\":{\"arrowcolor\":\"#2a3f5f\",\"arrowhead\":0,\"arrowwidth\":1},\"geo\":{\"bgcolor\":\"white\",\"landcolor\":\"#E5ECF6\",\"subunitcolor\":\"white\",\"showland\":true,\"showlakes\":true,\"lakecolor\":\"white\"},\"title\":{\"x\":0.05},\"mapbox\":{\"style\":\"light\"}}},\"legend\":{\"tracegroupgap\":0},\"title\":{\"text\":\"Distribution of fund based on the type of recipients\"},\"width\":800,\"height\":600},                        {\"responsive\": true}                    ).then(function(){\n",
       "                            \n",
       "var gd = document.getElementById('ba0f6616-3a60-41a3-b0c6-71bf14b90a21');\n",
       "var x = new MutationObserver(function (mutations, observer) {{\n",
       "        var display = window.getComputedStyle(gd).display;\n",
       "        if (!display || display === 'none') {{\n",
       "            console.log([gd, 'removed!']);\n",
       "            Plotly.purge(gd);\n",
       "            observer.disconnect();\n",
       "        }}\n",
       "}});\n",
       "\n",
       "// Listen for the removal of the full notebook cells\n",
       "var notebookContainer = gd.closest('#notebook-container');\n",
       "if (notebookContainer) {{\n",
       "    x.observe(notebookContainer, {childList: true});\n",
       "}}\n",
       "\n",
       "// Listen for the clearing of the current output cell\n",
       "var outputEl = gd.closest('.output');\n",
       "if (outputEl) {{\n",
       "    x.observe(outputEl, {childList: true});\n",
       "}}\n",
       "\n",
       "                        })                };                });            </script>        </div>"
      ]
     },
     "metadata": {},
     "output_type": "display_data"
    }
   ],
   "source": [
    "# Note: code help acquired from plotly express website\n",
    "\n",
    "fig = px.pie(summary_df, values='Total Funding', names='Category', hover_data=['Number of Entries'], title='Distribution of fund based on the type of recipients',)\n",
    "\n",
    "# Update layout to adjust the size of the chart\n",
    "fig.update_layout(width=800, height=600)\n",
    "\n",
    "# the text displayed on each chart element include both the percentage value and the label\n",
    "fig.update_traces(textinfo='percent+label')\n",
    "fig.show()"
   ]
  },
  {
   "cell_type": "markdown",
   "id": "d3ac2bd0-fcf8-489a-8683-ffd66b2f944a",
   "metadata": {},
   "source": [
    "Insight: Four slices of the pie chart reveal that over 70% of funds are allocated to universities and institutes, technology, AI and council projects, encompassing a total of 127 projects. In contrast, 165 funding commitments, constituting 29.7% of the total funding, are distributed among other sectors. It's worth noting that further analysis using text analytics could uncover additional recipients in the technology and innovation sectors, which may not have been extracted through string matching methods alone. However, such analysis is beyond the scope of this assignment."
   ]
  },
  {
   "cell_type": "markdown",
   "id": "16a0ae82-f69a-40c3-b9cc-75172df94113",
   "metadata": {},
   "source": [
    "Recommendation 1: It is advisable to implement more stringent project selection and monitoring criteria, along with thorough background checks on funding recipients, to ensure that the funding is allocated to the most suitable organizations for their respective projects. Failure to adhere to these rules could lead to the market being flooded with similar or less impactful science and technology projects. Consequently, this saturation may result in projects failing to meet their anticipated outcomes or demonstrate meaningful impact. The following visualization showing the graduale decline in funding commitments from 2018 to 2023, may have the same reason."
   ]
  },
  {
   "cell_type": "code",
   "execution_count": 91,
   "id": "f9f6e537-7285-4b9d-a6ad-fff7c89cbeeb",
   "metadata": {},
   "outputs": [
    {
     "data": {
      "application/vnd.plotly.v1+json": {
       "config": {
        "plotlyServerURL": "https://plot.ly"
       },
       "data": [
        {
         "hovertemplate": "Year=%{x}<br>Percentage Contribution (%)=%{y}<extra></extra>",
         "legendgroup": "",
         "line": {
          "color": "#636efa",
          "dash": "solid"
         },
         "marker": {
          "symbol": "circle"
         },
         "mode": "lines",
         "name": "",
         "orientation": "v",
         "showlegend": false,
         "type": "scatter",
         "x": [
          2018,
          2019,
          2020,
          2021,
          2022,
          2023,
          2024
         ],
         "xaxis": "x",
         "y": [
          21.156613292437545,
          23.80257882493526,
          16.599867659743968,
          11.19028843514804,
          12.748225698225454,
          10.917727211767577,
          3.584698877742153
         ],
         "yaxis": "y"
        }
       ],
       "layout": {
        "hovermode": "x unified",
        "legend": {
         "tracegroupgap": 0
        },
        "template": {
         "data": {
          "bar": [
           {
            "error_x": {
             "color": "#2a3f5f"
            },
            "error_y": {
             "color": "#2a3f5f"
            },
            "marker": {
             "line": {
              "color": "#E5ECF6",
              "width": 0.5
             },
             "pattern": {
              "fillmode": "overlay",
              "size": 10,
              "solidity": 0.2
             }
            },
            "type": "bar"
           }
          ],
          "barpolar": [
           {
            "marker": {
             "line": {
              "color": "#E5ECF6",
              "width": 0.5
             },
             "pattern": {
              "fillmode": "overlay",
              "size": 10,
              "solidity": 0.2
             }
            },
            "type": "barpolar"
           }
          ],
          "carpet": [
           {
            "aaxis": {
             "endlinecolor": "#2a3f5f",
             "gridcolor": "white",
             "linecolor": "white",
             "minorgridcolor": "white",
             "startlinecolor": "#2a3f5f"
            },
            "baxis": {
             "endlinecolor": "#2a3f5f",
             "gridcolor": "white",
             "linecolor": "white",
             "minorgridcolor": "white",
             "startlinecolor": "#2a3f5f"
            },
            "type": "carpet"
           }
          ],
          "choropleth": [
           {
            "colorbar": {
             "outlinewidth": 0,
             "ticks": ""
            },
            "type": "choropleth"
           }
          ],
          "contour": [
           {
            "colorbar": {
             "outlinewidth": 0,
             "ticks": ""
            },
            "colorscale": [
             [
              0,
              "#0d0887"
             ],
             [
              0.1111111111111111,
              "#46039f"
             ],
             [
              0.2222222222222222,
              "#7201a8"
             ],
             [
              0.3333333333333333,
              "#9c179e"
             ],
             [
              0.4444444444444444,
              "#bd3786"
             ],
             [
              0.5555555555555556,
              "#d8576b"
             ],
             [
              0.6666666666666666,
              "#ed7953"
             ],
             [
              0.7777777777777778,
              "#fb9f3a"
             ],
             [
              0.8888888888888888,
              "#fdca26"
             ],
             [
              1,
              "#f0f921"
             ]
            ],
            "type": "contour"
           }
          ],
          "contourcarpet": [
           {
            "colorbar": {
             "outlinewidth": 0,
             "ticks": ""
            },
            "type": "contourcarpet"
           }
          ],
          "heatmap": [
           {
            "colorbar": {
             "outlinewidth": 0,
             "ticks": ""
            },
            "colorscale": [
             [
              0,
              "#0d0887"
             ],
             [
              0.1111111111111111,
              "#46039f"
             ],
             [
              0.2222222222222222,
              "#7201a8"
             ],
             [
              0.3333333333333333,
              "#9c179e"
             ],
             [
              0.4444444444444444,
              "#bd3786"
             ],
             [
              0.5555555555555556,
              "#d8576b"
             ],
             [
              0.6666666666666666,
              "#ed7953"
             ],
             [
              0.7777777777777778,
              "#fb9f3a"
             ],
             [
              0.8888888888888888,
              "#fdca26"
             ],
             [
              1,
              "#f0f921"
             ]
            ],
            "type": "heatmap"
           }
          ],
          "heatmapgl": [
           {
            "colorbar": {
             "outlinewidth": 0,
             "ticks": ""
            },
            "colorscale": [
             [
              0,
              "#0d0887"
             ],
             [
              0.1111111111111111,
              "#46039f"
             ],
             [
              0.2222222222222222,
              "#7201a8"
             ],
             [
              0.3333333333333333,
              "#9c179e"
             ],
             [
              0.4444444444444444,
              "#bd3786"
             ],
             [
              0.5555555555555556,
              "#d8576b"
             ],
             [
              0.6666666666666666,
              "#ed7953"
             ],
             [
              0.7777777777777778,
              "#fb9f3a"
             ],
             [
              0.8888888888888888,
              "#fdca26"
             ],
             [
              1,
              "#f0f921"
             ]
            ],
            "type": "heatmapgl"
           }
          ],
          "histogram": [
           {
            "marker": {
             "pattern": {
              "fillmode": "overlay",
              "size": 10,
              "solidity": 0.2
             }
            },
            "type": "histogram"
           }
          ],
          "histogram2d": [
           {
            "colorbar": {
             "outlinewidth": 0,
             "ticks": ""
            },
            "colorscale": [
             [
              0,
              "#0d0887"
             ],
             [
              0.1111111111111111,
              "#46039f"
             ],
             [
              0.2222222222222222,
              "#7201a8"
             ],
             [
              0.3333333333333333,
              "#9c179e"
             ],
             [
              0.4444444444444444,
              "#bd3786"
             ],
             [
              0.5555555555555556,
              "#d8576b"
             ],
             [
              0.6666666666666666,
              "#ed7953"
             ],
             [
              0.7777777777777778,
              "#fb9f3a"
             ],
             [
              0.8888888888888888,
              "#fdca26"
             ],
             [
              1,
              "#f0f921"
             ]
            ],
            "type": "histogram2d"
           }
          ],
          "histogram2dcontour": [
           {
            "colorbar": {
             "outlinewidth": 0,
             "ticks": ""
            },
            "colorscale": [
             [
              0,
              "#0d0887"
             ],
             [
              0.1111111111111111,
              "#46039f"
             ],
             [
              0.2222222222222222,
              "#7201a8"
             ],
             [
              0.3333333333333333,
              "#9c179e"
             ],
             [
              0.4444444444444444,
              "#bd3786"
             ],
             [
              0.5555555555555556,
              "#d8576b"
             ],
             [
              0.6666666666666666,
              "#ed7953"
             ],
             [
              0.7777777777777778,
              "#fb9f3a"
             ],
             [
              0.8888888888888888,
              "#fdca26"
             ],
             [
              1,
              "#f0f921"
             ]
            ],
            "type": "histogram2dcontour"
           }
          ],
          "mesh3d": [
           {
            "colorbar": {
             "outlinewidth": 0,
             "ticks": ""
            },
            "type": "mesh3d"
           }
          ],
          "parcoords": [
           {
            "line": {
             "colorbar": {
              "outlinewidth": 0,
              "ticks": ""
             }
            },
            "type": "parcoords"
           }
          ],
          "pie": [
           {
            "automargin": true,
            "type": "pie"
           }
          ],
          "scatter": [
           {
            "fillpattern": {
             "fillmode": "overlay",
             "size": 10,
             "solidity": 0.2
            },
            "type": "scatter"
           }
          ],
          "scatter3d": [
           {
            "line": {
             "colorbar": {
              "outlinewidth": 0,
              "ticks": ""
             }
            },
            "marker": {
             "colorbar": {
              "outlinewidth": 0,
              "ticks": ""
             }
            },
            "type": "scatter3d"
           }
          ],
          "scattercarpet": [
           {
            "marker": {
             "colorbar": {
              "outlinewidth": 0,
              "ticks": ""
             }
            },
            "type": "scattercarpet"
           }
          ],
          "scattergeo": [
           {
            "marker": {
             "colorbar": {
              "outlinewidth": 0,
              "ticks": ""
             }
            },
            "type": "scattergeo"
           }
          ],
          "scattergl": [
           {
            "marker": {
             "colorbar": {
              "outlinewidth": 0,
              "ticks": ""
             }
            },
            "type": "scattergl"
           }
          ],
          "scattermapbox": [
           {
            "marker": {
             "colorbar": {
              "outlinewidth": 0,
              "ticks": ""
             }
            },
            "type": "scattermapbox"
           }
          ],
          "scatterpolar": [
           {
            "marker": {
             "colorbar": {
              "outlinewidth": 0,
              "ticks": ""
             }
            },
            "type": "scatterpolar"
           }
          ],
          "scatterpolargl": [
           {
            "marker": {
             "colorbar": {
              "outlinewidth": 0,
              "ticks": ""
             }
            },
            "type": "scatterpolargl"
           }
          ],
          "scatterternary": [
           {
            "marker": {
             "colorbar": {
              "outlinewidth": 0,
              "ticks": ""
             }
            },
            "type": "scatterternary"
           }
          ],
          "surface": [
           {
            "colorbar": {
             "outlinewidth": 0,
             "ticks": ""
            },
            "colorscale": [
             [
              0,
              "#0d0887"
             ],
             [
              0.1111111111111111,
              "#46039f"
             ],
             [
              0.2222222222222222,
              "#7201a8"
             ],
             [
              0.3333333333333333,
              "#9c179e"
             ],
             [
              0.4444444444444444,
              "#bd3786"
             ],
             [
              0.5555555555555556,
              "#d8576b"
             ],
             [
              0.6666666666666666,
              "#ed7953"
             ],
             [
              0.7777777777777778,
              "#fb9f3a"
             ],
             [
              0.8888888888888888,
              "#fdca26"
             ],
             [
              1,
              "#f0f921"
             ]
            ],
            "type": "surface"
           }
          ],
          "table": [
           {
            "cells": {
             "fill": {
              "color": "#EBF0F8"
             },
             "line": {
              "color": "white"
             }
            },
            "header": {
             "fill": {
              "color": "#C8D4E3"
             },
             "line": {
              "color": "white"
             }
            },
            "type": "table"
           }
          ]
         },
         "layout": {
          "annotationdefaults": {
           "arrowcolor": "#2a3f5f",
           "arrowhead": 0,
           "arrowwidth": 1
          },
          "autotypenumbers": "strict",
          "coloraxis": {
           "colorbar": {
            "outlinewidth": 0,
            "ticks": ""
           }
          },
          "colorscale": {
           "diverging": [
            [
             0,
             "#8e0152"
            ],
            [
             0.1,
             "#c51b7d"
            ],
            [
             0.2,
             "#de77ae"
            ],
            [
             0.3,
             "#f1b6da"
            ],
            [
             0.4,
             "#fde0ef"
            ],
            [
             0.5,
             "#f7f7f7"
            ],
            [
             0.6,
             "#e6f5d0"
            ],
            [
             0.7,
             "#b8e186"
            ],
            [
             0.8,
             "#7fbc41"
            ],
            [
             0.9,
             "#4d9221"
            ],
            [
             1,
             "#276419"
            ]
           ],
           "sequential": [
            [
             0,
             "#0d0887"
            ],
            [
             0.1111111111111111,
             "#46039f"
            ],
            [
             0.2222222222222222,
             "#7201a8"
            ],
            [
             0.3333333333333333,
             "#9c179e"
            ],
            [
             0.4444444444444444,
             "#bd3786"
            ],
            [
             0.5555555555555556,
             "#d8576b"
            ],
            [
             0.6666666666666666,
             "#ed7953"
            ],
            [
             0.7777777777777778,
             "#fb9f3a"
            ],
            [
             0.8888888888888888,
             "#fdca26"
            ],
            [
             1,
             "#f0f921"
            ]
           ],
           "sequentialminus": [
            [
             0,
             "#0d0887"
            ],
            [
             0.1111111111111111,
             "#46039f"
            ],
            [
             0.2222222222222222,
             "#7201a8"
            ],
            [
             0.3333333333333333,
             "#9c179e"
            ],
            [
             0.4444444444444444,
             "#bd3786"
            ],
            [
             0.5555555555555556,
             "#d8576b"
            ],
            [
             0.6666666666666666,
             "#ed7953"
            ],
            [
             0.7777777777777778,
             "#fb9f3a"
            ],
            [
             0.8888888888888888,
             "#fdca26"
            ],
            [
             1,
             "#f0f921"
            ]
           ]
          },
          "colorway": [
           "#636efa",
           "#EF553B",
           "#00cc96",
           "#ab63fa",
           "#FFA15A",
           "#19d3f3",
           "#FF6692",
           "#B6E880",
           "#FF97FF",
           "#FECB52"
          ],
          "font": {
           "color": "#2a3f5f"
          },
          "geo": {
           "bgcolor": "white",
           "lakecolor": "white",
           "landcolor": "#E5ECF6",
           "showlakes": true,
           "showland": true,
           "subunitcolor": "white"
          },
          "hoverlabel": {
           "align": "left"
          },
          "hovermode": "closest",
          "mapbox": {
           "style": "light"
          },
          "paper_bgcolor": "white",
          "plot_bgcolor": "#E5ECF6",
          "polar": {
           "angularaxis": {
            "gridcolor": "white",
            "linecolor": "white",
            "ticks": ""
           },
           "bgcolor": "#E5ECF6",
           "radialaxis": {
            "gridcolor": "white",
            "linecolor": "white",
            "ticks": ""
           }
          },
          "scene": {
           "xaxis": {
            "backgroundcolor": "#E5ECF6",
            "gridcolor": "white",
            "gridwidth": 2,
            "linecolor": "white",
            "showbackground": true,
            "ticks": "",
            "zerolinecolor": "white"
           },
           "yaxis": {
            "backgroundcolor": "#E5ECF6",
            "gridcolor": "white",
            "gridwidth": 2,
            "linecolor": "white",
            "showbackground": true,
            "ticks": "",
            "zerolinecolor": "white"
           },
           "zaxis": {
            "backgroundcolor": "#E5ECF6",
            "gridcolor": "white",
            "gridwidth": 2,
            "linecolor": "white",
            "showbackground": true,
            "ticks": "",
            "zerolinecolor": "white"
           }
          },
          "shapedefaults": {
           "line": {
            "color": "#2a3f5f"
           }
          },
          "ternary": {
           "aaxis": {
            "gridcolor": "white",
            "linecolor": "white",
            "ticks": ""
           },
           "baxis": {
            "gridcolor": "white",
            "linecolor": "white",
            "ticks": ""
           },
           "bgcolor": "#E5ECF6",
           "caxis": {
            "gridcolor": "white",
            "linecolor": "white",
            "ticks": ""
           }
          },
          "title": {
           "x": 0.05
          },
          "xaxis": {
           "automargin": true,
           "gridcolor": "white",
           "linecolor": "white",
           "ticks": "",
           "title": {
            "standoff": 15
           },
           "zerolinecolor": "white",
           "zerolinewidth": 2
          },
          "yaxis": {
           "automargin": true,
           "gridcolor": "white",
           "linecolor": "white",
           "ticks": "",
           "title": {
            "standoff": 15
           },
           "zerolinecolor": "white",
           "zerolinewidth": 2
          }
         }
        },
        "title": {
         "text": "Percentage Contribution of Funding Allocation by Year of SEQ and Regional QLD supported programs"
        },
        "xaxis": {
         "anchor": "y",
         "domain": [
          0,
          1
         ],
         "title": {
          "text": "Year"
         }
        },
        "yaxis": {
         "anchor": "x",
         "domain": [
          0,
          1
         ],
         "title": {
          "text": "Percentage Contribution (%)"
         }
        }
       }
      },
      "text/html": [
       "<div>                            <div id=\"c4eae72d-9054-4fb2-b42f-51a51bc2eda3\" class=\"plotly-graph-div\" style=\"height:525px; width:100%;\"></div>            <script type=\"text/javascript\">                require([\"plotly\"], function(Plotly) {                    window.PLOTLYENV=window.PLOTLYENV || {};                                    if (document.getElementById(\"c4eae72d-9054-4fb2-b42f-51a51bc2eda3\")) {                    Plotly.newPlot(                        \"c4eae72d-9054-4fb2-b42f-51a51bc2eda3\",                        [{\"hovertemplate\":\"Year=%{x}<br>Percentage Contribution (%)=%{y}<extra></extra>\",\"legendgroup\":\"\",\"line\":{\"color\":\"#636efa\",\"dash\":\"solid\"},\"marker\":{\"symbol\":\"circle\"},\"mode\":\"lines\",\"name\":\"\",\"orientation\":\"v\",\"showlegend\":false,\"x\":[2018,2019,2020,2021,2022,2023,2024],\"xaxis\":\"x\",\"y\":[21.156613292437545,23.80257882493526,16.599867659743968,11.19028843514804,12.748225698225454,10.917727211767577,3.584698877742153],\"yaxis\":\"y\",\"type\":\"scatter\"}],                        {\"template\":{\"data\":{\"histogram2dcontour\":[{\"type\":\"histogram2dcontour\",\"colorbar\":{\"outlinewidth\":0,\"ticks\":\"\"},\"colorscale\":[[0.0,\"#0d0887\"],[0.1111111111111111,\"#46039f\"],[0.2222222222222222,\"#7201a8\"],[0.3333333333333333,\"#9c179e\"],[0.4444444444444444,\"#bd3786\"],[0.5555555555555556,\"#d8576b\"],[0.6666666666666666,\"#ed7953\"],[0.7777777777777778,\"#fb9f3a\"],[0.8888888888888888,\"#fdca26\"],[1.0,\"#f0f921\"]]}],\"choropleth\":[{\"type\":\"choropleth\",\"colorbar\":{\"outlinewidth\":0,\"ticks\":\"\"}}],\"histogram2d\":[{\"type\":\"histogram2d\",\"colorbar\":{\"outlinewidth\":0,\"ticks\":\"\"},\"colorscale\":[[0.0,\"#0d0887\"],[0.1111111111111111,\"#46039f\"],[0.2222222222222222,\"#7201a8\"],[0.3333333333333333,\"#9c179e\"],[0.4444444444444444,\"#bd3786\"],[0.5555555555555556,\"#d8576b\"],[0.6666666666666666,\"#ed7953\"],[0.7777777777777778,\"#fb9f3a\"],[0.8888888888888888,\"#fdca26\"],[1.0,\"#f0f921\"]]}],\"heatmap\":[{\"type\":\"heatmap\",\"colorbar\":{\"outlinewidth\":0,\"ticks\":\"\"},\"colorscale\":[[0.0,\"#0d0887\"],[0.1111111111111111,\"#46039f\"],[0.2222222222222222,\"#7201a8\"],[0.3333333333333333,\"#9c179e\"],[0.4444444444444444,\"#bd3786\"],[0.5555555555555556,\"#d8576b\"],[0.6666666666666666,\"#ed7953\"],[0.7777777777777778,\"#fb9f3a\"],[0.8888888888888888,\"#fdca26\"],[1.0,\"#f0f921\"]]}],\"heatmapgl\":[{\"type\":\"heatmapgl\",\"colorbar\":{\"outlinewidth\":0,\"ticks\":\"\"},\"colorscale\":[[0.0,\"#0d0887\"],[0.1111111111111111,\"#46039f\"],[0.2222222222222222,\"#7201a8\"],[0.3333333333333333,\"#9c179e\"],[0.4444444444444444,\"#bd3786\"],[0.5555555555555556,\"#d8576b\"],[0.6666666666666666,\"#ed7953\"],[0.7777777777777778,\"#fb9f3a\"],[0.8888888888888888,\"#fdca26\"],[1.0,\"#f0f921\"]]}],\"contourcarpet\":[{\"type\":\"contourcarpet\",\"colorbar\":{\"outlinewidth\":0,\"ticks\":\"\"}}],\"contour\":[{\"type\":\"contour\",\"colorbar\":{\"outlinewidth\":0,\"ticks\":\"\"},\"colorscale\":[[0.0,\"#0d0887\"],[0.1111111111111111,\"#46039f\"],[0.2222222222222222,\"#7201a8\"],[0.3333333333333333,\"#9c179e\"],[0.4444444444444444,\"#bd3786\"],[0.5555555555555556,\"#d8576b\"],[0.6666666666666666,\"#ed7953\"],[0.7777777777777778,\"#fb9f3a\"],[0.8888888888888888,\"#fdca26\"],[1.0,\"#f0f921\"]]}],\"surface\":[{\"type\":\"surface\",\"colorbar\":{\"outlinewidth\":0,\"ticks\":\"\"},\"colorscale\":[[0.0,\"#0d0887\"],[0.1111111111111111,\"#46039f\"],[0.2222222222222222,\"#7201a8\"],[0.3333333333333333,\"#9c179e\"],[0.4444444444444444,\"#bd3786\"],[0.5555555555555556,\"#d8576b\"],[0.6666666666666666,\"#ed7953\"],[0.7777777777777778,\"#fb9f3a\"],[0.8888888888888888,\"#fdca26\"],[1.0,\"#f0f921\"]]}],\"mesh3d\":[{\"type\":\"mesh3d\",\"colorbar\":{\"outlinewidth\":0,\"ticks\":\"\"}}],\"scatter\":[{\"fillpattern\":{\"fillmode\":\"overlay\",\"size\":10,\"solidity\":0.2},\"type\":\"scatter\"}],\"parcoords\":[{\"type\":\"parcoords\",\"line\":{\"colorbar\":{\"outlinewidth\":0,\"ticks\":\"\"}}}],\"scatterpolargl\":[{\"type\":\"scatterpolargl\",\"marker\":{\"colorbar\":{\"outlinewidth\":0,\"ticks\":\"\"}}}],\"bar\":[{\"error_x\":{\"color\":\"#2a3f5f\"},\"error_y\":{\"color\":\"#2a3f5f\"},\"marker\":{\"line\":{\"color\":\"#E5ECF6\",\"width\":0.5},\"pattern\":{\"fillmode\":\"overlay\",\"size\":10,\"solidity\":0.2}},\"type\":\"bar\"}],\"scattergeo\":[{\"type\":\"scattergeo\",\"marker\":{\"colorbar\":{\"outlinewidth\":0,\"ticks\":\"\"}}}],\"scatterpolar\":[{\"type\":\"scatterpolar\",\"marker\":{\"colorbar\":{\"outlinewidth\":0,\"ticks\":\"\"}}}],\"histogram\":[{\"marker\":{\"pattern\":{\"fillmode\":\"overlay\",\"size\":10,\"solidity\":0.2}},\"type\":\"histogram\"}],\"scattergl\":[{\"type\":\"scattergl\",\"marker\":{\"colorbar\":{\"outlinewidth\":0,\"ticks\":\"\"}}}],\"scatter3d\":[{\"type\":\"scatter3d\",\"line\":{\"colorbar\":{\"outlinewidth\":0,\"ticks\":\"\"}},\"marker\":{\"colorbar\":{\"outlinewidth\":0,\"ticks\":\"\"}}}],\"scattermapbox\":[{\"type\":\"scattermapbox\",\"marker\":{\"colorbar\":{\"outlinewidth\":0,\"ticks\":\"\"}}}],\"scatterternary\":[{\"type\":\"scatterternary\",\"marker\":{\"colorbar\":{\"outlinewidth\":0,\"ticks\":\"\"}}}],\"scattercarpet\":[{\"type\":\"scattercarpet\",\"marker\":{\"colorbar\":{\"outlinewidth\":0,\"ticks\":\"\"}}}],\"carpet\":[{\"aaxis\":{\"endlinecolor\":\"#2a3f5f\",\"gridcolor\":\"white\",\"linecolor\":\"white\",\"minorgridcolor\":\"white\",\"startlinecolor\":\"#2a3f5f\"},\"baxis\":{\"endlinecolor\":\"#2a3f5f\",\"gridcolor\":\"white\",\"linecolor\":\"white\",\"minorgridcolor\":\"white\",\"startlinecolor\":\"#2a3f5f\"},\"type\":\"carpet\"}],\"table\":[{\"cells\":{\"fill\":{\"color\":\"#EBF0F8\"},\"line\":{\"color\":\"white\"}},\"header\":{\"fill\":{\"color\":\"#C8D4E3\"},\"line\":{\"color\":\"white\"}},\"type\":\"table\"}],\"barpolar\":[{\"marker\":{\"line\":{\"color\":\"#E5ECF6\",\"width\":0.5},\"pattern\":{\"fillmode\":\"overlay\",\"size\":10,\"solidity\":0.2}},\"type\":\"barpolar\"}],\"pie\":[{\"automargin\":true,\"type\":\"pie\"}]},\"layout\":{\"autotypenumbers\":\"strict\",\"colorway\":[\"#636efa\",\"#EF553B\",\"#00cc96\",\"#ab63fa\",\"#FFA15A\",\"#19d3f3\",\"#FF6692\",\"#B6E880\",\"#FF97FF\",\"#FECB52\"],\"font\":{\"color\":\"#2a3f5f\"},\"hovermode\":\"closest\",\"hoverlabel\":{\"align\":\"left\"},\"paper_bgcolor\":\"white\",\"plot_bgcolor\":\"#E5ECF6\",\"polar\":{\"bgcolor\":\"#E5ECF6\",\"angularaxis\":{\"gridcolor\":\"white\",\"linecolor\":\"white\",\"ticks\":\"\"},\"radialaxis\":{\"gridcolor\":\"white\",\"linecolor\":\"white\",\"ticks\":\"\"}},\"ternary\":{\"bgcolor\":\"#E5ECF6\",\"aaxis\":{\"gridcolor\":\"white\",\"linecolor\":\"white\",\"ticks\":\"\"},\"baxis\":{\"gridcolor\":\"white\",\"linecolor\":\"white\",\"ticks\":\"\"},\"caxis\":{\"gridcolor\":\"white\",\"linecolor\":\"white\",\"ticks\":\"\"}},\"coloraxis\":{\"colorbar\":{\"outlinewidth\":0,\"ticks\":\"\"}},\"colorscale\":{\"sequential\":[[0.0,\"#0d0887\"],[0.1111111111111111,\"#46039f\"],[0.2222222222222222,\"#7201a8\"],[0.3333333333333333,\"#9c179e\"],[0.4444444444444444,\"#bd3786\"],[0.5555555555555556,\"#d8576b\"],[0.6666666666666666,\"#ed7953\"],[0.7777777777777778,\"#fb9f3a\"],[0.8888888888888888,\"#fdca26\"],[1.0,\"#f0f921\"]],\"sequentialminus\":[[0.0,\"#0d0887\"],[0.1111111111111111,\"#46039f\"],[0.2222222222222222,\"#7201a8\"],[0.3333333333333333,\"#9c179e\"],[0.4444444444444444,\"#bd3786\"],[0.5555555555555556,\"#d8576b\"],[0.6666666666666666,\"#ed7953\"],[0.7777777777777778,\"#fb9f3a\"],[0.8888888888888888,\"#fdca26\"],[1.0,\"#f0f921\"]],\"diverging\":[[0,\"#8e0152\"],[0.1,\"#c51b7d\"],[0.2,\"#de77ae\"],[0.3,\"#f1b6da\"],[0.4,\"#fde0ef\"],[0.5,\"#f7f7f7\"],[0.6,\"#e6f5d0\"],[0.7,\"#b8e186\"],[0.8,\"#7fbc41\"],[0.9,\"#4d9221\"],[1,\"#276419\"]]},\"xaxis\":{\"gridcolor\":\"white\",\"linecolor\":\"white\",\"ticks\":\"\",\"title\":{\"standoff\":15},\"zerolinecolor\":\"white\",\"automargin\":true,\"zerolinewidth\":2},\"yaxis\":{\"gridcolor\":\"white\",\"linecolor\":\"white\",\"ticks\":\"\",\"title\":{\"standoff\":15},\"zerolinecolor\":\"white\",\"automargin\":true,\"zerolinewidth\":2},\"scene\":{\"xaxis\":{\"backgroundcolor\":\"#E5ECF6\",\"gridcolor\":\"white\",\"linecolor\":\"white\",\"showbackground\":true,\"ticks\":\"\",\"zerolinecolor\":\"white\",\"gridwidth\":2},\"yaxis\":{\"backgroundcolor\":\"#E5ECF6\",\"gridcolor\":\"white\",\"linecolor\":\"white\",\"showbackground\":true,\"ticks\":\"\",\"zerolinecolor\":\"white\",\"gridwidth\":2},\"zaxis\":{\"backgroundcolor\":\"#E5ECF6\",\"gridcolor\":\"white\",\"linecolor\":\"white\",\"showbackground\":true,\"ticks\":\"\",\"zerolinecolor\":\"white\",\"gridwidth\":2}},\"shapedefaults\":{\"line\":{\"color\":\"#2a3f5f\"}},\"annotationdefaults\":{\"arrowcolor\":\"#2a3f5f\",\"arrowhead\":0,\"arrowwidth\":1},\"geo\":{\"bgcolor\":\"white\",\"landcolor\":\"#E5ECF6\",\"subunitcolor\":\"white\",\"showland\":true,\"showlakes\":true,\"lakecolor\":\"white\"},\"title\":{\"x\":0.05},\"mapbox\":{\"style\":\"light\"}}},\"xaxis\":{\"anchor\":\"y\",\"domain\":[0.0,1.0],\"title\":{\"text\":\"Year\"}},\"yaxis\":{\"anchor\":\"x\",\"domain\":[0.0,1.0],\"title\":{\"text\":\"Percentage Contribution (%)\"}},\"legend\":{\"tracegroupgap\":0},\"title\":{\"text\":\"Percentage Contribution of Funding Allocation by Year of SEQ and Regional QLD supported programs\"},\"hovermode\":\"x unified\"},                        {\"responsive\": true}                    ).then(function(){\n",
       "                            \n",
       "var gd = document.getElementById('c4eae72d-9054-4fb2-b42f-51a51bc2eda3');\n",
       "var x = new MutationObserver(function (mutations, observer) {{\n",
       "        var display = window.getComputedStyle(gd).display;\n",
       "        if (!display || display === 'none') {{\n",
       "            console.log([gd, 'removed!']);\n",
       "            Plotly.purge(gd);\n",
       "            observer.disconnect();\n",
       "        }}\n",
       "}});\n",
       "\n",
       "// Listen for the removal of the full notebook cells\n",
       "var notebookContainer = gd.closest('#notebook-container');\n",
       "if (notebookContainer) {{\n",
       "    x.observe(notebookContainer, {childList: true});\n",
       "}}\n",
       "\n",
       "// Listen for the clearing of the current output cell\n",
       "var outputEl = gd.closest('.output');\n",
       "if (outputEl) {{\n",
       "    x.observe(outputEl, {childList: true});\n",
       "}}\n",
       "\n",
       "                        })                };                });            </script>        </div>"
      ]
     },
     "metadata": {},
     "output_type": "display_data"
    }
   ],
   "source": [
    "# Note: code help acquired from chat gpt\n",
    "\n",
    "# after adding all the contractual commitments, calculated the percentages to total contributions based on time period\n",
    "total_funding = se_regional_qld_programs['Funding Amount'].sum()\n",
    "percentage_contribution = se_regional_qld_programs.groupby('Year')['Funding Amount'].sum() / total_funding * 100\n",
    "percentage_contribution\n",
    "\n",
    "\n",
    "# Create a DataFrame with the percentage contribution data\n",
    "percentage_contribution_data = {\n",
    "    'Year': percentage_contribution.index,\n",
    "    'Percentage Contribution (%)': percentage_contribution.values\n",
    "}\n",
    "\n",
    "# Create a line chart using Plotly Express\n",
    "fig = px.line(percentage_contribution_data, x='Year', y='Percentage Contribution (%)', \n",
    "             title='Percentage Contribution of Funding Allocation by Year of SEQ and Regional QLD supported programs')\n",
    "\n",
    "# Update the layout for better visualization\n",
    "fig.update_layout(\n",
    "    xaxis_title='Year',\n",
    "    yaxis_title='Percentage Contribution (%)',\n",
    "    hovermode='x unified' \n",
    ")\n",
    "\n",
    "# Show the plot\n",
    "fig.show()\n"
   ]
  },
  {
   "cell_type": "markdown",
   "id": "5bf0099c-74ae-4b78-b656-b74d6b058c77",
   "metadata": {},
   "source": [
    "Recommendations 2: Encourage project initiatives in regional Queensland by requiring companies to allocate a portion of their funding towards projects in the region. This approach aims to enhance the distribution of economic benefits to the local population, ultimately contributing to a more balanced distribution of population over the long term."
   ]
  },
  {
   "cell_type": "code",
   "execution_count": null,
   "id": "ebb0067a",
   "metadata": {},
   "outputs": [],
   "source": []
  }
 ],
 "metadata": {
  "creation_period": "",
  "kernelspec": {
   "display_name": "Python 3 (ipykernel)",
   "language": "python",
   "name": "python3"
  },
  "language_info": {
   "codemirror_mode": {
    "name": "ipython",
    "version": 3
   },
   "file_extension": ".py",
   "mimetype": "text/x-python",
   "name": "python",
   "nbconvert_exporter": "python",
   "pygments_lexer": "ipython3",
   "version": "3.9.7"
  },
  "nb_name": "template",
  "qut": {
   "creation_period": "2023_sem1",
   "nb_name": "template-assignment1",
   "unit_code": "IFN619"
  },
  "unit_code": "",
  "vscode": {
   "interpreter": {
    "hash": "d4d1e4263499bec80672ea0156c357c1ee493ec2b1c70f0acce89fc37c4a6abe"
   }
  }
 },
 "nbformat": 4,
 "nbformat_minor": 5
}
