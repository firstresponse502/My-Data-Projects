{
 "cells": [
  {
   "cell_type": "code",
   "execution_count": 1,
   "id": "dd62846c",
   "metadata": {},
   "outputs": [],
   "source": [
    "import pandas as pd"
   ]
  },
  {
   "cell_type": "code",
   "execution_count": 2,
   "id": "bd979316",
   "metadata": {},
   "outputs": [],
   "source": [
    "Census_df = pd.read_csv(\"ChicagoCensusData.csv\")\n",
    "Crime_df = pd.read_csv(\"ChicagoCrimeData.csv\")\n",
    "School_df = pd.read_csv(\"ChicagoPublicSchools.csv\")"
   ]
  },
  {
   "cell_type": "code",
   "execution_count": null,
   "id": "8e99beca",
   "metadata": {},
   "outputs": [],
   "source": []
  }
 ],
 "metadata": {
  "kernelspec": {
   "display_name": "Python 3 (ipykernel)",
   "language": "python",
   "name": "python3"
  },
  "language_info": {
   "codemirror_mode": {
    "name": "ipython",
    "version": 3
   },
   "file_extension": ".py",
   "mimetype": "text/x-python",
   "name": "python",
   "nbconvert_exporter": "python",
   "pygments_lexer": "ipython3",
   "version": "3.9.7"
  }
 },
 "nbformat": 4,
 "nbformat_minor": 5
}
